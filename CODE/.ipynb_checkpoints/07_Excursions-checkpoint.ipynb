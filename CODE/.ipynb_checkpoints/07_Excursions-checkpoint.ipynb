{
 "cells": [
  {
   "cell_type": "markdown",
   "metadata": {},
   "source": [
    "Zach Tretter\n",
    "\n",
    "June 2020\n",
    "\n",
    "---------"
   ]
  },
  {
   "cell_type": "markdown",
   "metadata": {
    "ExecuteTime": {
     "end_time": "2020-06-03T15:24:57.463663Z",
     "start_time": "2020-06-03T15:24:57.459673Z"
    }
   },
   "source": [
    "# Step 6 - Modeling\n",
    "\n",
    "### [Data Dictionary](#Feature-Dictionary)\n",
    "\n",
    "-----------\n",
    "\n",
    "### [Classification](#Classification-Models) \n",
    "Predict if a GNP Campground fills up on a given day via\n",
    "\n",
    "* Logistic Regression\n",
    "* ADA Boost\n",
    "* Support Vector\n",
    "* Random Forest\n",
    "* Neural Network\n",
    "* [Model Comparision](#Classification-Model-Comparison)\n",
    "    \n",
    "-----------\n",
    "    \n",
    "### [Regression](#Regression-Models)\n",
    "Predict at what time of a day a GNP Campground fills up via\n",
    "* Neural Network\n",
    "* Ordinary Least Squares\n",
    "* Ridge\n",
    "* Gamma GLM\n",
    "* [Model Comparison](#Regression-Model-Comparison)\n",
    "    \n",
    "-------------\n",
    "\n",
    "### [Graphics used in Presentation](#Graphics)"
   ]
  },
  {
   "cell_type": "markdown",
   "metadata": {},
   "source": [
    "## Imports"
   ]
  },
  {
   "cell_type": "code",
   "execution_count": 1,
   "metadata": {
    "ExecuteTime": {
     "end_time": "2020-07-13T00:46:22.053654Z",
     "start_time": "2020-07-13T00:46:19.072434Z"
    }
   },
   "outputs": [],
   "source": [
    "import os\n",
    "import pandas as pd\n",
    "import numpy as np\n",
    "import matplotlib.pyplot as plt\n",
    "import matplotlib.dates as mdates\n",
    "import seaborn as sns\n",
    "import collections\n",
    "from scipy import stats\n",
    "import datetime\n",
    "\n",
    "# General\n",
    "from sklearn.model_selection import train_test_split, GridSearchCV\n",
    "from sklearn.preprocessing import StandardScaler\n",
    "from sklearn.pipeline import Pipeline\n",
    "\n",
    "# Classification\n",
    "from sklearn.metrics import f1_score, classification_report, confusion_matrix, roc_curve\n",
    "import sklearn.metrics as metric\n",
    "from sklearn.linear_model import LogisticRegression\n",
    "from sklearn.ensemble import AdaBoostClassifier, RandomForestClassifier\n",
    "from sklearn.svm import SVC\n",
    "from sklearn.naive_bayes import BernoulliNB\n",
    "\n",
    "# Regression\n",
    "from sklearn.linear_model import LinearRegression, Ridge, Lasso\n",
    "import statsmodels.api as sm\n",
    "from sklearn.svm import SVR\n",
    "from sklearn.ensemble import AdaBoostRegressor\n",
    "from sklearn.neighbors import KNeighborsRegressor\n",
    "\n",
    "\n",
    "# Neural Networks\n",
    "from tensorflow.keras.models import Sequential\n",
    "from tensorflow.keras.layers import Dense"
   ]
  },
  {
   "cell_type": "markdown",
   "metadata": {},
   "source": [
    "#### Read in the Source Data"
   ]
  },
  {
   "cell_type": "code",
   "execution_count": 2,
   "metadata": {
    "ExecuteTime": {
     "end_time": "2020-07-13T00:46:25.654756Z",
     "start_time": "2020-07-13T00:46:25.517302Z"
    }
   },
   "outputs": [],
   "source": [
    "df = pd.read_csv('../data/04_Full_DataFrame.csv',\n",
    "                index_col = 'key_name_date')"
   ]
  },
  {
   "cell_type": "markdown",
   "metadata": {},
   "source": [
    "#### Limit to Only Valid Data Points\n",
    "* 'Available' denotes if a campground was open a given date\n",
    "* All of 2003 is excluded due to the Roberts Fire that significantly impacted the park for most of the summer"
   ]
  },
  {
   "cell_type": "code",
   "execution_count": 3,
   "metadata": {
    "ExecuteTime": {
     "end_time": "2020-07-13T00:46:26.457860Z",
     "start_time": "2020-07-13T00:46:26.442897Z"
    }
   },
   "outputs": [
    {
     "data": {
      "text/plain": [
       "(29046, 37)"
      ]
     },
     "execution_count": 3,
     "metadata": {},
     "output_type": "execute_result"
    }
   ],
   "source": [
    "df = df[(df['available']==1)\n",
    "       & (df['year']!=2003)]\n",
    "df.shape"
   ]
  },
  {
   "cell_type": "code",
   "execution_count": 4,
   "metadata": {
    "ExecuteTime": {
     "end_time": "2020-07-13T00:46:27.253331Z",
     "start_time": "2020-07-13T00:46:27.229358Z"
    }
   },
   "outputs": [
    {
     "name": "stdout",
     "output_type": "stream",
     "text": [
      "<class 'pandas.core.frame.DataFrame'>\n",
      "Index: 29046 entries, 2000-05-01_Apga to 2019-09-30_StMa\n",
      "Data columns (total 37 columns):\n",
      " #   Column                Non-Null Count  Dtype  \n",
      "---  ------                --------------  -----  \n",
      " 0   cg_name               29046 non-null  object \n",
      " 1   date_x                29046 non-null  object \n",
      " 2   did_fill              29046 non-null  int64  \n",
      " 3   available             29046 non-null  int64  \n",
      " 4   time_24               29046 non-null  object \n",
      " 5   hours_after_midnight  29046 non-null  float64\n",
      " 6   year                  29046 non-null  int64  \n",
      " 7   month_num             29046 non-null  int64  \n",
      " 8   month_text            29046 non-null  object \n",
      " 9   day_of_year           29046 non-null  int64  \n",
      " 10  day_of_month          29046 non-null  int64  \n",
      " 11  weekday               29046 non-null  object \n",
      " 12  high_season           29046 non-null  int64  \n",
      " 13  weekend               29046 non-null  int64  \n",
      " 14  holiday               29046 non-null  int64  \n",
      " 15  logan_pass            29046 non-null  int64  \n",
      " 16  aqi                   29046 non-null  int64  \n",
      " 17  ozone                 29046 non-null  int64  \n",
      " 18  PM10                  29046 non-null  int64  \n",
      " 19  PM25                  29046 non-null  int64  \n",
      " 20  visits                29046 non-null  int64  \n",
      " 21  fee                   29046 non-null  int64  \n",
      " 22  sites                 29046 non-null  int64  \n",
      " 23  flush_toilets         29046 non-null  int64  \n",
      " 24  showers               29046 non-null  int64  \n",
      " 25  disposal_station      29046 non-null  int64  \n",
      " 26  reservations          29046 non-null  int64  \n",
      " 27  rv                    29046 non-null  int64  \n",
      " 28  primitive             29046 non-null  int64  \n",
      " 29  isolated              29046 non-null  int64  \n",
      " 30  cg_supply_y           29046 non-null  int64  \n",
      " 31  PRCP                  29046 non-null  float64\n",
      " 32  SNOW                  29046 non-null  float64\n",
      " 33  TMAX                  29046 non-null  float64\n",
      " 34  TMIN                  29046 non-null  float64\n",
      " 35  did_PRCP              29046 non-null  int64  \n",
      " 36  did_SNOW              29046 non-null  int64  \n",
      "dtypes: float64(5), int64(27), object(5)\n",
      "memory usage: 8.4+ MB\n"
     ]
    }
   ],
   "source": [
    "df.info()"
   ]
  },
  {
   "cell_type": "markdown",
   "metadata": {},
   "source": [
    "---------\n",
    "\n",
    "\n",
    "# Feature Dictionary\n",
    "\n",
    "--------\n",
    "|     Features     |       Grouping       | Data Type |                           Description                          | Variation Across Time | Variation across Campground |\n",
    "|:----------------:|:--------------------:|:---------:|:--------------------------------------------------------------:|:---------------------:|:---------------------------:|\n",
    "|    high_season   |         Date         |  Boolean  |                   1 if July or August, else 0                  |        Monthly        |             None            |\n",
    "|      weekend     |         Date         |  Boolean  |                     1 if Fri or Sat, else 0                    |         Weekly        |             None            |\n",
    "|      holiday     |         Date         |  Boolean  |                      1 if holiday, else 0                      |         Daily         |             None            |\n",
    "|    logan_pass    |         Date         |  Boolean  |                 1 if Logan's pass open, else 0                 |         Daily         |             None            |\n",
    "|        aqi       |      Air Quality     |    Int    |                    Air Quality Index by date                   |         Daily         |             None            |\n",
    "|       ozone      |      Air Quality     |    Int    |                 daily avg concetration of ozone                |         Daily         |             None            |\n",
    "|       PM10       |      Air Quality     |    Int    |  daily avg concentration particulate matter smaller than 10 mm |         Daily         |             None            |\n",
    "|       PM25       |      Air Quality     |    Int    | daily avg concentration particulate matter smaller than 2.5 mm |         Daily         |             None            |\n",
    "|      visits      |        Unique        |    Int    |                 Monthly visitors to GNP by year                |        Monthly        |             None            |\n",
    "|        fee       | Campground Attribute |    Int    |             Total supply of other campground sites             |          None         |             Yes             |\n",
    "|       sites      | Campground Attribute |    Int    |                  Number of sites at campground                 |          None         |             Yes             |\n",
    "|   flush_toilets  | Campground Attribute |  Boolean  |                1 if campground has flush toilets               |          None         |             Yes             |\n",
    "|      showers     | Campground Attribute |  Boolean  |                   1 if campground has showers                  |          None         |             Yes             |\n",
    "| disposal_station | Campground Attribute |  Boolean  |              1 if campground has disposal stations             |          None         |             Yes             |\n",
    "|   reservations   | Campground Attribute |  Boolean  |               1 if campground takes reservations               |          None         |             Yes             |\n",
    "|        rv        | Campground Attribute |  Boolean  |                   1 if campground allows RVs                   |          None         |             Yes             |\n",
    "|     primitive    | Campground Attribute |  Boolean  |                  1 if campground is primitive                  |          None         |             Yes             |\n",
    "|     isolated     | Campground Attribute |  Boolean  |       1 if campground is isolated (none others close by)       |          None         |             Yes             |\n",
    "|     cg_supply    |        Unique        |    Int    |             Total supply of other campground sites             |         Daily         |             None            |\n",
    "|       PRCP       |        Weather       |   Float   |                  Daily precipitation (inches)                  |         Daily         |           Partial           |\n",
    "|       SNOW       |        Weather       |   Float   |                     Daily snowfall (inches)                    |         Daily         |           Partial           |\n",
    "|       TMAX       |        Weather       |    Int    |                      Daily temperature max                     |         Daily         |           Partial           |\n",
    "|       TMIN       |        Weather       |    Int    |                      Daily temperature min                     |         Daily         |           Partial           |\n",
    "|     did_PRCP     |        Weather       |  Boolean  |                       1 if rained on date                      |         Daily         |           Partial           |\n",
    "|     did_Snow     |        Weather       |  Boolean  |                       1 if snowed on date                      |         Daily         |           Partial           |\n"
   ]
  },
  {
   "cell_type": "markdown",
   "metadata": {},
   "source": [
    "### Review Features"
   ]
  },
  {
   "cell_type": "markdown",
   "metadata": {},
   "source": [
    "#### Date Features"
   ]
  },
  {
   "cell_type": "code",
   "execution_count": 5,
   "metadata": {
    "ExecuteTime": {
     "end_time": "2020-07-13T00:46:29.903530Z",
     "start_time": "2020-07-13T00:46:29.899547Z"
    }
   },
   "outputs": [],
   "source": [
    "date_features = ['high_season',\n",
    "                 'weekend',\n",
    "                 'holiday',\n",
    "                 'logan_pass']"
   ]
  },
  {
   "cell_type": "markdown",
   "metadata": {},
   "source": [
    "#### Air Quality Features"
   ]
  },
  {
   "cell_type": "code",
   "execution_count": 6,
   "metadata": {
    "ExecuteTime": {
     "end_time": "2020-07-13T00:46:30.582238Z",
     "start_time": "2020-07-13T00:46:30.579279Z"
    }
   },
   "outputs": [],
   "source": [
    "air_features = ['aqi',\n",
    "                'ozone',\n",
    "                'PM10',\n",
    "                'PM25']"
   ]
  },
  {
   "cell_type": "markdown",
   "metadata": {},
   "source": [
    "#### Campground Features"
   ]
  },
  {
   "cell_type": "code",
   "execution_count": 7,
   "metadata": {
    "ExecuteTime": {
     "end_time": "2020-07-13T00:46:32.016806Z",
     "start_time": "2020-07-13T00:46:32.011820Z"
    }
   },
   "outputs": [],
   "source": [
    "cg_features = ['fee',\n",
    "               'sites',\n",
    "               'flush_toilets',\n",
    "               'showers',\n",
    "               'disposal_station',\n",
    "               'reservations',\n",
    "               'rv','primitive',\n",
    "               'isolated']\n",
    "\n",
    "cg_features_keep = ['sites',\n",
    "                    'primitive',\n",
    "                    'showers']\n",
    "\n",
    "cg_features_exclude = [i for i in cg_features if i not in cg_features_keep]"
   ]
  },
  {
   "cell_type": "code",
   "execution_count": 8,
   "metadata": {
    "ExecuteTime": {
     "end_time": "2020-07-13T00:46:32.300185Z",
     "start_time": "2020-07-13T00:46:32.289183Z"
    }
   },
   "outputs": [
    {
     "data": {
      "text/html": [
       "<div>\n",
       "<style scoped>\n",
       "    .dataframe tbody tr th:only-of-type {\n",
       "        vertical-align: middle;\n",
       "    }\n",
       "\n",
       "    .dataframe tbody tr th {\n",
       "        vertical-align: top;\n",
       "    }\n",
       "\n",
       "    .dataframe thead th {\n",
       "        text-align: right;\n",
       "    }\n",
       "</style>\n",
       "<table border=\"1\" class=\"dataframe\">\n",
       "  <thead>\n",
       "    <tr style=\"text-align: right;\">\n",
       "      <th></th>\n",
       "      <th>sites</th>\n",
       "      <th>primitive</th>\n",
       "      <th>showers</th>\n",
       "    </tr>\n",
       "  </thead>\n",
       "  <tbody>\n",
       "    <tr>\n",
       "      <th>sites</th>\n",
       "      <td>1.000000</td>\n",
       "      <td>-0.559400</td>\n",
       "      <td>0.472593</td>\n",
       "    </tr>\n",
       "    <tr>\n",
       "      <th>primitive</th>\n",
       "      <td>-0.559400</td>\n",
       "      <td>1.000000</td>\n",
       "      <td>-0.271204</td>\n",
       "    </tr>\n",
       "    <tr>\n",
       "      <th>showers</th>\n",
       "      <td>0.472593</td>\n",
       "      <td>-0.271204</td>\n",
       "      <td>1.000000</td>\n",
       "    </tr>\n",
       "  </tbody>\n",
       "</table>\n",
       "</div>"
      ],
      "text/plain": [
       "              sites  primitive   showers\n",
       "sites      1.000000  -0.559400  0.472593\n",
       "primitive -0.559400   1.000000 -0.271204\n",
       "showers    0.472593  -0.271204  1.000000"
      ]
     },
     "execution_count": 8,
     "metadata": {},
     "output_type": "execute_result"
    }
   ],
   "source": [
    "df[cg_features_keep].corr()"
   ]
  },
  {
   "cell_type": "markdown",
   "metadata": {},
   "source": [
    "#### Weather Features"
   ]
  },
  {
   "cell_type": "code",
   "execution_count": 9,
   "metadata": {
    "ExecuteTime": {
     "end_time": "2020-07-13T00:46:32.799863Z",
     "start_time": "2020-07-13T00:46:32.795878Z"
    }
   },
   "outputs": [],
   "source": [
    "wx_features = ['PRCP',\n",
    "               'SNOW',\n",
    "               'TMAX',\n",
    "               'TMIN',\n",
    "               'did_PRCP',\n",
    "               'did_SNOW']"
   ]
  },
  {
   "cell_type": "markdown",
   "metadata": {},
   "source": [
    "#### Final Feature Set"
   ]
  },
  {
   "cell_type": "code",
   "execution_count": 10,
   "metadata": {
    "ExecuteTime": {
     "end_time": "2020-07-13T00:46:33.450523Z",
     "start_time": "2020-07-13T00:46:33.444539Z"
    }
   },
   "outputs": [
    {
     "data": {
      "text/plain": [
       "['high_season',\n",
       " 'weekend',\n",
       " 'holiday',\n",
       " 'logan_pass',\n",
       " 'aqi',\n",
       " 'ozone',\n",
       " 'PM10',\n",
       " 'PM25',\n",
       " 'visits',\n",
       " 'sites',\n",
       " 'showers',\n",
       " 'primitive',\n",
       " 'cg_supply_y',\n",
       " 'PRCP',\n",
       " 'SNOW',\n",
       " 'TMAX',\n",
       " 'TMIN',\n",
       " 'did_PRCP',\n",
       " 'did_SNOW']"
      ]
     },
     "execution_count": 10,
     "metadata": {},
     "output_type": "execute_result"
    }
   ],
   "source": [
    "features = df.columns[12:]\n",
    "features = [i for i in features if i not in cg_features_exclude]\n",
    "features"
   ]
  },
  {
   "cell_type": "code",
   "execution_count": 11,
   "metadata": {
    "ExecuteTime": {
     "end_time": "2020-07-13T00:46:34.667632Z",
     "start_time": "2020-07-13T00:46:33.802519Z"
    }
   },
   "outputs": [
    {
     "data": {
      "image/png": "[encoded data removed]",
      "text/plain": [
       "<Figure size 1728x1728 with 2 Axes>"
      ]
     },
     "metadata": {
      "needs_background": "light"
     },
     "output_type": "display_data"
    }
   ],
   "source": [
    "plt.figure(figsize=(24,24))\n",
    "\n",
    "corr_cont = df[['did_fill'] + features].corr()\n",
    "\n",
    "plt.title('Correlation of Features');\n",
    "\n",
    "sns.heatmap(corr_cont,\n",
    "            annot = True,\n",
    "            cmap = 'coolwarm', \n",
    "            vmin = -1,\n",
    "            vmax = 1,\n",
    "            mask=np.triu(corr_cont));"
   ]
  },
  {
   "cell_type": "markdown",
   "metadata": {
    "ExecuteTime": {
     "end_time": "2020-06-04T01:28:29.578185Z",
     "start_time": "2020-06-04T01:28:29.573199Z"
    }
   },
   "source": [
    "---------\n",
    "\n",
    "\n",
    "\n",
    "---------\n",
    "\n",
    "\n",
    "\n",
    "----------\n"
   ]
  },
  {
   "cell_type": "markdown",
   "metadata": {},
   "source": [
    "# Classification Models\n",
    "\n",
    "#### Predict if a campground fills up on a given day"
   ]
  },
  {
   "cell_type": "markdown",
   "metadata": {},
   "source": [
    "#### Function to Report Results by Category and Model for Classification Models"
   ]
  },
  {
   "cell_type": "code",
   "execution_count": null,
   "metadata": {
    "ExecuteTime": {
     "end_time": "2020-07-12T14:40:00.631267Z",
     "start_time": "2020-07-12T14:40:00.620298Z"
    }
   },
   "outputs": [],
   "source": [
    "def Results_by_Category_Class(MODEL,\n",
    "                              dataframe,\n",
    "                              feature_list,\n",
    "                              label_name,\n",
    "                              group_on = None,\n",
    "                              sort_by='Test Acc Over Baseline'):\n",
    "    \n",
    "    X = dataframe[feature_list]\n",
    "    y = dataframe[label_name]\n",
    "    \n",
    "    model_name = str(MODEL).split('(')[0]\n",
    "    \n",
    "    # Create Empty Dictionary to record scores for each category\n",
    "    grouping_scores = {}\n",
    "\n",
    "    # Add an 'All' to reflect all data points\n",
    "    if group_on != None:\n",
    "        categories = [model_name] + list(dataframe[group_on].unique())\n",
    "    else:\n",
    "        categories = [model_name]\n",
    "    \n",
    "    for category in categories:\n",
    "        \n",
    "        # Don't know a better way to do this\n",
    "        if category == model_name:\n",
    "            subset_X, subset_y = X, y\n",
    "        else:\n",
    "            subset_X_indices = dataframe.loc[dataframe[group_on]==category].index\n",
    "            subset_X = X.loc[subset_X_indices]\n",
    "            subset_y_indices = dataframe.loc[dataframe[group_on]==category].index\n",
    "            subset_y = y.loc[subset_y_indices]\n",
    "        \n",
    "        # Train Test Split specific to this group\n",
    "        subset_X_train, subset_X_test, subset_y_train, subset_y_test = train_test_split(subset_X, subset_y,\n",
    "                                                                            random_state = 111,\n",
    "                                                                            stratify = subset_y)\n",
    "        # Standard Scale\n",
    "        sc = StandardScaler()\n",
    "        subset_X_train = sc.fit_transform(subset_X_train)\n",
    "        subset_X_test = sc.transform(subset_X_test)\n",
    "\n",
    "        # Instantiate and Fit Model\n",
    "        subset_model = MODEL\n",
    "        subset_model.fit(subset_X_train, subset_y_train)\n",
    "        \n",
    "        # Generate Predictions\n",
    "        subset_predictions_train = subset_model.predict(subset_X_train)\n",
    "        subset_predictions_test = subset_model.predict(subset_X_test)\n",
    "\n",
    "        # Confusion Matrix for Classification Metrics\n",
    "        tn, fp, fn, tp = confusion_matrix(subset_y_test, subset_predictions_test).ravel()\n",
    "\n",
    "        grouping_scores[category]={\n",
    "            \"Observations\":subset_y.shape[0],\n",
    "            \"Incidence\":subset_y.sum(),\n",
    "            \"Prevalence\":subset_y.mean(),\n",
    "            \"Majority\":max(subset_y.mean(),1-subset_y.mean()),\n",
    "            \"Train Acc\":subset_model.score(subset_X_train,subset_y_train),\n",
    "            \"Test Acc\":subset_model.score(subset_X_test,subset_y_test),\n",
    "            \"Test Acc Over Baseline\":subset_model.score(subset_X_test,subset_y_test) - max(subset_y.mean(),1-subset_y.mean()),\n",
    "#             \"Train F1\" :f1_score(subset_y_train, subset_predictions_train),\n",
    "            \"Test F1\" :f1_score(subset_y_test, subset_predictions_test),\n",
    "            \"Sensitivity\" : tp / (tp + fn),\n",
    "            \"Specificity\" : tn / (tn + fp),\n",
    "            \"PPV\" : tp / (tp + fp),\n",
    "            \"NPV\" : tn / (tn + fn)\n",
    "        }\n",
    "           \n",
    "    return np.round(pd.DataFrame(grouping_scores).T,2).sort_values([sort_by],ascending=False)"
   ]
  },
  {
   "cell_type": "markdown",
   "metadata": {},
   "source": [
    "#### Specify the Dataframe for Classification"
   ]
  },
  {
   "cell_type": "code",
   "execution_count": null,
   "metadata": {
    "ExecuteTime": {
     "end_time": "2020-07-12T14:40:02.927830Z",
     "start_time": "2020-07-12T14:40:02.924838Z"
    }
   },
   "outputs": [],
   "source": [
    "# To reset and undo any filters\n",
    "df_class = df \n",
    "\n",
    "# class_filters = (df['month_num']!=5)\n",
    "# df_class = df_class[class_filters]"
   ]
  },
  {
   "cell_type": "markdown",
   "metadata": {
    "ExecuteTime": {
     "end_time": "2020-06-08T14:14:31.458954Z",
     "start_time": "2020-06-08T14:14:31.455005Z"
    }
   },
   "source": [
    "#### Identify X and y"
   ]
  },
  {
   "cell_type": "code",
   "execution_count": null,
   "metadata": {
    "ExecuteTime": {
     "end_time": "2020-07-12T14:40:03.475826Z",
     "start_time": "2020-07-12T14:40:03.468829Z"
    }
   },
   "outputs": [],
   "source": [
    "X = df_class[features]\n",
    "y = df_class['did_fill']"
   ]
  },
  {
   "cell_type": "markdown",
   "metadata": {},
   "source": [
    "#### Train Test Split with Stratify"
   ]
  },
  {
   "cell_type": "code",
   "execution_count": null,
   "metadata": {
    "ExecuteTime": {
     "end_time": "2020-07-12T14:40:04.222975Z",
     "start_time": "2020-07-12T14:40:04.195052Z"
    }
   },
   "outputs": [],
   "source": [
    "X_train, X_test, y_train, y_test = train_test_split(X, y,\n",
    "                                                   random_state = 111,\n",
    "                                                   stratify = y)"
   ]
  },
  {
   "cell_type": "markdown",
   "metadata": {},
   "source": [
    "#### Standard Scaler for Non Pipeline Models"
   ]
  },
  {
   "cell_type": "code",
   "execution_count": null,
   "metadata": {
    "ExecuteTime": {
     "end_time": "2020-07-12T14:40:05.095742Z",
     "start_time": "2020-07-12T14:40:05.075794Z"
    }
   },
   "outputs": [],
   "source": [
    "sc = StandardScaler()\n",
    "X_train_sc = sc.fit_transform(X_train)\n",
    "X_test_sc = sc.transform(X_test)"
   ]
  },
  {
   "cell_type": "markdown",
   "metadata": {},
   "source": [
    "### Logistic Regression Classifier"
   ]
  },
  {
   "cell_type": "code",
   "execution_count": null,
   "metadata": {
    "ExecuteTime": {
     "end_time": "2020-07-10T16:42:52.274510Z",
     "start_time": "2020-07-10T16:42:52.166749Z"
    }
   },
   "outputs": [],
   "source": [
    "logistic_c_model = LogisticRegression(\n",
    "    penalty = 'l1',\n",
    "    solver = 'liblinear')\n",
    "\n",
    "logistic_c_model.fit(X_train_sc,y_train)\n",
    "\n",
    "logistic_c_model.score(X_test_sc,y_test)"
   ]
  },
  {
   "cell_type": "markdown",
   "metadata": {},
   "source": [
    "#### View Logistic Coefficients"
   ]
  },
  {
   "cell_type": "code",
   "execution_count": null,
   "metadata": {
    "ExecuteTime": {
     "end_time": "2020-07-10T16:42:53.538256Z",
     "start_time": "2020-07-10T16:42:53.535264Z"
    }
   },
   "outputs": [],
   "source": [
    "# pd.DataFrame(data=np.exp(logistic_c_model.coef_[0]),\n",
    "#             columns = ['Logistic Regression Coefficient'],\n",
    "#             index = features).sort_values('Logistic Regression Coefficient',\n",
    "#                                           ascending=False)"
   ]
  },
  {
   "cell_type": "markdown",
   "metadata": {},
   "source": [
    "### ADA Boost Classifier"
   ]
  },
  {
   "cell_type": "code",
   "execution_count": null,
   "metadata": {
    "ExecuteTime": {
     "end_time": "2020-07-10T16:42:56.588930Z",
     "start_time": "2020-07-10T16:42:54.406933Z"
    }
   },
   "outputs": [],
   "source": [
    "ada_c_model = AdaBoostClassifier(n_estimators = 150)\n",
    "\n",
    "ada_c_model.fit(X_train_sc, y_train)\n",
    "\n",
    "ada_c_model.score(X_test_sc,y_test)"
   ]
  },
  {
   "cell_type": "markdown",
   "metadata": {},
   "source": [
    "### Support Vector Classifier"
   ]
  },
  {
   "cell_type": "code",
   "execution_count": null,
   "metadata": {
    "ExecuteTime": {
     "end_time": "2020-07-10T16:43:07.274437Z",
     "start_time": "2020-07-10T16:42:57.813851Z"
    }
   },
   "outputs": [],
   "source": [
    "svc_c_model = SVC(C = 1.0)\n",
    "\n",
    "svc_c_model.fit(X_train_sc, y_train)\n",
    "\n",
    "svc_c_model.score(X_test_sc,y_test)"
   ]
  },
  {
   "cell_type": "markdown",
   "metadata": {},
   "source": [
    "### Random Forest Classifier"
   ]
  },
  {
   "cell_type": "code",
   "execution_count": null,
   "metadata": {
    "ExecuteTime": {
     "end_time": "2020-07-10T16:43:33.386289Z",
     "start_time": "2020-07-10T16:43:07.275468Z"
    },
    "scrolled": true
   },
   "outputs": [],
   "source": [
    "pipe = Pipeline([\n",
    "    ('ss', StandardScaler()),\n",
    "    ('rf',RandomForestClassifier())\n",
    "])\n",
    "\n",
    "params = {\n",
    "    'rf__n_estimators' : [50, 100, 150],\n",
    "    'rf__max_features': ['auto', 'log2'],\n",
    "    'rf__max_depth': [5,10,15],\n",
    "}\n",
    "\n",
    "gs_rf_c = GridSearchCV(pipe, params,\n",
    "                       cv = 5, n_jobs = 8,\n",
    "                       verbose = 1)\n",
    "\n",
    "gs_rf_c.fit(X_train, y_train)\n",
    "\n",
    "gs_rf_c.best_params_"
   ]
  },
  {
   "cell_type": "code",
   "execution_count": null,
   "metadata": {
    "ExecuteTime": {
     "end_time": "2020-07-10T16:43:33.465161Z",
     "start_time": "2020-07-10T16:43:33.387280Z"
    }
   },
   "outputs": [],
   "source": [
    "gs_rf_c.score(X_test_sc,y_test)"
   ]
  },
  {
   "cell_type": "markdown",
   "metadata": {},
   "source": [
    "## Bernoulli Naive Bayes"
   ]
  },
  {
   "cell_type": "code",
   "execution_count": null,
   "metadata": {
    "ExecuteTime": {
     "end_time": "2020-07-10T16:44:09.255197Z",
     "start_time": "2020-07-10T16:44:09.231218Z"
    }
   },
   "outputs": [],
   "source": [
    "bnb_c_model = BernoulliNB()\n",
    "\n",
    "bnb_c_model.fit(X_train_sc, y_train)\n",
    "\n",
    "bnb_c_model.score(X_test_sc,y_test)"
   ]
  },
  {
   "cell_type": "markdown",
   "metadata": {},
   "source": [
    "### Neural Network Classifier"
   ]
  },
  {
   "cell_type": "code",
   "execution_count": null,
   "metadata": {
    "ExecuteTime": {
     "end_time": "2020-07-10T16:44:14.691601Z",
     "start_time": "2020-07-10T16:44:10.660874Z"
    },
    "scrolled": false
   },
   "outputs": [],
   "source": [
    "model_NNClass = Sequential()\n",
    "\n",
    "model_NNClass.add(Dense(32, activation = 'relu',\n",
    "                        input_shape = X_train_sc[0].shape))\n",
    "\n",
    "model_NNClass.add(Dense(8, activation = 'relu'))\n",
    "\n",
    "model_NNClass.add(Dense(1, activation = 'sigmoid'))\n",
    "\n",
    "model_NNClass.compile(optimizer='adam',\n",
    "                      loss='binary_crossentropy',\n",
    "                      metrics = ['accuracy'])\n",
    "\n",
    "hist = model_NNClass.fit(X_train_sc, y_train,\n",
    "                         epochs = 50,\n",
    "                         batch_size= 512,\n",
    "                         validation_data = (X_test_sc, y_test),\n",
    "                         verbose = 0)"
   ]
  },
  {
   "cell_type": "markdown",
   "metadata": {},
   "source": [
    "#### View Neural Net Loss by Epoch"
   ]
  },
  {
   "cell_type": "code",
   "execution_count": null,
   "metadata": {
    "ExecuteTime": {
     "end_time": "2020-07-10T16:44:16.223078Z",
     "start_time": "2020-07-10T16:44:16.103428Z"
    }
   },
   "outputs": [],
   "source": [
    "plt.plot(hist.history['loss'], label = 'Train loss')\n",
    "plt.plot(hist.history['val_loss'], label = 'Test loss')\n",
    "plt.legend()"
   ]
  },
  {
   "cell_type": "markdown",
   "metadata": {},
   "source": [
    "## Classification Results by Subgroup - Campground"
   ]
  },
  {
   "cell_type": "code",
   "execution_count": null,
   "metadata": {
    "ExecuteTime": {
     "end_time": "2020-07-10T16:44:28.647358Z",
     "start_time": "2020-07-10T16:44:19.790316Z"
    }
   },
   "outputs": [],
   "source": [
    "classification_by_campground = Results_by_Category_Class(MODEL = AdaBoostClassifier(n_estimators = 150),\n",
    "                                                         dataframe = df_class,\n",
    "                                                         feature_list = features,\n",
    "                                                         label_name = 'did_fill',\n",
    "                                                         group_on = 'cg_name',\n",
    "                                                         sort_by = 'Test Acc Over Baseline')"
   ]
  },
  {
   "cell_type": "code",
   "execution_count": null,
   "metadata": {
    "ExecuteTime": {
     "end_time": "2020-07-10T16:44:30.126793Z",
     "start_time": "2020-07-10T16:44:30.110835Z"
    }
   },
   "outputs": [],
   "source": [
    "classification_by_campground"
   ]
  },
  {
   "cell_type": "markdown",
   "metadata": {},
   "source": [
    "## Classification Model Comparison"
   ]
  },
  {
   "cell_type": "markdown",
   "metadata": {},
   "source": [
    "#### Non Neural Network Models"
   ]
  },
  {
   "cell_type": "code",
   "execution_count": null,
   "metadata": {
    "ExecuteTime": {
     "end_time": "2020-07-10T16:45:12.335799Z",
     "start_time": "2020-07-10T16:44:43.343326Z"
    }
   },
   "outputs": [],
   "source": [
    "# List out the classification models\n",
    "classification_model_set = [logistic_c_model,\n",
    "                           ada_c_model,\n",
    "                           svc_c_model,\n",
    "                           gs_rf_c.best_estimator_,\n",
    "                           bnb_c_model]\n",
    "\n",
    "# Create an emtpy dataframe\n",
    "model_class_summary = pd.DataFrame()\n",
    "\n",
    "# For each model in our list record its performance and add it to the dataframe\n",
    "for i in classification_model_set:\n",
    "    model_class_summary = pd.concat([model_class_summary\n",
    "                                     ,Results_by_Category_Class(MODEL = i,\n",
    "                                                                dataframe = df_class,\n",
    "                                                                feature_list = features,\n",
    "                                                                label_name = 'did_fill',\n",
    "                                                                group_on = None,\n",
    "                                                                sort_by = 'Test Acc Over Baseline') ]) \n",
    "# Return the dataframe\n",
    "model_class_summary"
   ]
  },
  {
   "cell_type": "markdown",
   "metadata": {},
   "source": [
    "#### Clean up Resultant Dataframe"
   ]
  },
  {
   "cell_type": "code",
   "execution_count": null,
   "metadata": {
    "ExecuteTime": {
     "end_time": "2020-07-10T16:45:18.699101Z",
     "start_time": "2020-07-10T16:45:18.694114Z"
    }
   },
   "outputs": [],
   "source": [
    "classification_summary = model_class_summary[\n",
    "    ['Observations','Prevalence','Majority','Train Acc','Test Acc','Test Acc Over Baseline','Test F1']\n",
    "].rename(index={'Pipeline':'RandomForest'})"
   ]
  },
  {
   "cell_type": "markdown",
   "metadata": {},
   "source": [
    "#### Create Results for Neural Net Model (.predict vs .predict_classes)"
   ]
  },
  {
   "cell_type": "code",
   "execution_count": null,
   "metadata": {
    "ExecuteTime": {
     "end_time": "2020-07-10T16:45:21.429623Z",
     "start_time": "2020-07-10T16:45:20.926909Z"
    }
   },
   "outputs": [],
   "source": [
    "NNClass_Results = {\n",
    "    \"Observations\":y.shape[0],\n",
    "    \"Prevalence\":y.mean(),\n",
    "    \"Majority\":max(y.mean(),1-y.mean()),\n",
    "    'Train Acc':metric.accuracy_score(y_train,model_NNClass.predict_classes(X_train_sc)),\n",
    "    'Test Acc':metric.accuracy_score(y_test,model_NNClass.predict_classes(X_test_sc)),\n",
    "    'Test Acc Over Baseline':metric.accuracy_score(y_test,model_NNClass.predict_classes(X_test_sc)) - max(y.mean(),1-y.mean()),\n",
    "    'Test F1':f1_score(y_test,model_NNClass.predict_classes(X_test_sc)),  \n",
    "}\n",
    "\n",
    "nnc_dict = pd.DataFrame(NNClass_Results,index=['Neural Net Classifer'])"
   ]
  },
  {
   "cell_type": "markdown",
   "metadata": {},
   "source": [
    "#### Add Neural Networks to Dataframe"
   ]
  },
  {
   "cell_type": "code",
   "execution_count": null,
   "metadata": {
    "ExecuteTime": {
     "end_time": "2020-07-10T16:45:25.318973Z",
     "start_time": "2020-07-10T16:45:25.310995Z"
    }
   },
   "outputs": [],
   "source": [
    "results_df_classification = np.round(classification_summary.append(nnc_dict),2).sort_values('Test Acc Over Baseline',ascending=False)"
   ]
  },
  {
   "cell_type": "code",
   "execution_count": null,
   "metadata": {
    "ExecuteTime": {
     "end_time": "2020-07-10T16:45:26.657500Z",
     "start_time": "2020-07-10T16:45:26.646529Z"
    }
   },
   "outputs": [],
   "source": [
    "results_df_classification"
   ]
  },
  {
   "cell_type": "markdown",
   "metadata": {},
   "source": [
    "## Export Tables to CSV to Format"
   ]
  },
  {
   "cell_type": "code",
   "execution_count": null,
   "metadata": {
    "ExecuteTime": {
     "end_time": "2020-06-10T19:58:38.819404Z",
     "start_time": "2020-06-10T19:58:38.809431Z"
    }
   },
   "outputs": [],
   "source": [
    "results_df_classification.to_csv(\"../presentation_graphics/classification_table.csv\")\n",
    "\n",
    "classification_by_campground.to_csv(\"../presentation_graphics/classification_table_campgroundnames.csv\")"
   ]
  },
  {
   "cell_type": "markdown",
   "metadata": {},
   "source": [
    "---------\n",
    "\n",
    "---------\n",
    "\n",
    "----------\n"
   ]
  },
  {
   "cell_type": "markdown",
   "metadata": {},
   "source": [
    "# Regression Models\n",
    "\n",
    "#### Predict at what time of day a campground fills up"
   ]
  },
  {
   "cell_type": "markdown",
   "metadata": {},
   "source": [
    "#### Function to Report Results by Category and Model for Regression Models"
   ]
  },
  {
   "cell_type": "code",
   "execution_count": 149,
   "metadata": {
    "ExecuteTime": {
     "end_time": "2020-07-13T01:29:23.806888Z",
     "start_time": "2020-07-13T01:29:23.795876Z"
    }
   },
   "outputs": [],
   "source": [
    "def Results_by_Category_Reg(MODEL, dataframe, feature_list, label_name, group_on,sort_by):\n",
    "    \n",
    "    X = dataframe[feature_list]\n",
    "    y = dataframe[label_name]\n",
    "    \n",
    "    model_name = str(MODEL).split('(')[0]\n",
    "    \n",
    "    # Create Empty Dictionary to record scores for each category\n",
    "    grouping_scores = {}\n",
    "\n",
    "    # Add an 'All' to reflect all data points\n",
    "    if group_on != None:\n",
    "        categories = [model_name] + list(dataframe[group_on].unique())\n",
    "    else:\n",
    "        categories = [model_name]\n",
    "    \n",
    "    for category in categories:\n",
    "        \n",
    "        # Don't know a better way to do this\n",
    "        if category == model_name:\n",
    "            subset_X, subset_y = X, y\n",
    "        else:\n",
    "            subset_X_indices = dataframe.loc[dataframe[group_on]==category].index\n",
    "            subset_X = X.loc[subset_X_indices]\n",
    "            subset_y_indices = dataframe.loc[dataframe[group_on]==category].index\n",
    "            subset_y = y.loc[subset_y_indices]\n",
    "        \n",
    "        # Train Test Split specific to this group\n",
    "        subset_X_train, subset_X_test, subset_y_train, subset_y_test = train_test_split(subset_X, subset_y,\n",
    "                                                                            random_state = 111)\n",
    "        # Standard Scale\n",
    "        sc = StandardScaler()\n",
    "        subset_X_train = sc.fit_transform(subset_X_train)\n",
    "        subset_X_test = sc.transform(subset_X_test)\n",
    "\n",
    "        # Instantiate and Fit Model\n",
    "        subset_model = MODEL\n",
    "        subset_model.fit(subset_X_train, subset_y_train)\n",
    "        \n",
    "        # Generate Predictions\n",
    "        subset_predictions_train = subset_model.predict(subset_X_train)\n",
    "        subset_predictions_test = subset_model.predict(subset_X_test)\n",
    "\n",
    "        grouping_scores[category]={\n",
    "            \"Observations\":subset_y.shape[0],\n",
    "            \"Y_Bar\":subset_y.mean(),\n",
    "            \"StdDev\":subset_y.std(),\n",
    "            \"Train R2\":metric.r2_score(subset_y_train,subset_predictions_train),\n",
    "            \"Test R2\":metric.r2_score(subset_y_test,subset_predictions_test),\n",
    "            \"Train RMSE\":metric.mean_squared_error(subset_y_train,subset_predictions_train,squared=False),\n",
    "            \"Test RMSE\":metric.mean_squared_error(subset_y_test,subset_predictions_test,squared=False),\n",
    "            \"Train MAE\":metric.mean_absolute_error(subset_y_train,subset_predictions_train),\n",
    "            \"Test MAE\":metric.mean_absolute_error(subset_y_test,subset_predictions_test)\n",
    "        }\n",
    "         \n",
    "    return np.round(pd.DataFrame(grouping_scores).T,2).sort_values([sort_by],ascending=False)"
   ]
  },
  {
   "cell_type": "markdown",
   "metadata": {},
   "source": [
    "### Function to Plot Residuals"
   ]
  },
  {
   "cell_type": "code",
   "execution_count": 150,
   "metadata": {
    "ExecuteTime": {
     "end_time": "2020-07-13T01:29:25.247304Z",
     "start_time": "2020-07-13T01:29:25.242297Z"
    }
   },
   "outputs": [],
   "source": [
    "def plot_residuals(true_values, predicted_values, model_text = 'model'):\n",
    "    if true_values.shape != predicted_values.shape:\n",
    "        predicted_values = predicted_values.reshape(true_values.shape)\n",
    "    errors = np.array(true_values) - np.array(predicted_values)\n",
    "    plt.figure(figsize=(9,9))    \n",
    "    plt.scatter(predicted_values, errors, s = 5)\n",
    "    plt.axhline(0, color = 'red')\n",
    "    plt.xlabel(\"Predictions\", fontsize = 20)\n",
    "    plt.ylabel(\"Residuals (Actual - Predicted)\", fontsize = 20)\n",
    "    plt.title(f'Residual Plot for {model_text}', fontsize = 24);\n",
    "    "
   ]
  },
  {
   "cell_type": "markdown",
   "metadata": {},
   "source": [
    "#### Define the dataframe of interest for Regression"
   ]
  },
  {
   "cell_type": "code",
   "execution_count": 151,
   "metadata": {
    "ExecuteTime": {
     "end_time": "2020-07-13T01:29:25.993730Z",
     "start_time": "2020-07-13T01:29:25.986716Z"
    }
   },
   "outputs": [],
   "source": [
    "# To reset and undo any filters\n",
    "df_regress = df[df['did_fill']==1]\n",
    "\n",
    "# regress_filters = (df_regress['month_num']!=5)\n",
    "\n",
    "# df_regress = df_regress[regress_filters]"
   ]
  },
  {
   "cell_type": "markdown",
   "metadata": {},
   "source": [
    "#### Define X and Y for Regression with suffix 'r' to denote Regression"
   ]
  },
  {
   "cell_type": "code",
   "execution_count": 152,
   "metadata": {
    "ExecuteTime": {
     "end_time": "2020-07-13T01:29:26.640416Z",
     "start_time": "2020-07-13T01:29:26.635429Z"
    }
   },
   "outputs": [],
   "source": [
    "Xr = df_regress[features]\n",
    "yr = df_regress['hours_after_midnight']"
   ]
  },
  {
   "cell_type": "markdown",
   "metadata": {},
   "source": [
    "#### Train Test Split of same"
   ]
  },
  {
   "cell_type": "code",
   "execution_count": 153,
   "metadata": {
    "ExecuteTime": {
     "end_time": "2020-07-13T01:29:27.387576Z",
     "start_time": "2020-07-13T01:29:27.379599Z"
    }
   },
   "outputs": [],
   "source": [
    "Xr_train, Xr_test, yr_train, yr_test = train_test_split(Xr, yr,\n",
    "                                                   random_state = 111)"
   ]
  },
  {
   "cell_type": "markdown",
   "metadata": {},
   "source": [
    "#### Standard Scaler"
   ]
  },
  {
   "cell_type": "code",
   "execution_count": 154,
   "metadata": {
    "ExecuteTime": {
     "end_time": "2020-07-13T01:29:28.233015Z",
     "start_time": "2020-07-13T01:29:28.226047Z"
    }
   },
   "outputs": [],
   "source": [
    "sc_reg = StandardScaler()\n",
    "Xr_train_sc = sc_reg.fit_transform(Xr_train)\n",
    "Xr_test_sc = sc_reg.transform(Xr_test)"
   ]
  },
  {
   "cell_type": "markdown",
   "metadata": {},
   "source": [
    "### Neural Network Regression"
   ]
  },
  {
   "cell_type": "code",
   "execution_count": 155,
   "metadata": {
    "ExecuteTime": {
     "end_time": "2020-07-13T01:29:30.867142Z",
     "start_time": "2020-07-13T01:29:29.010927Z"
    }
   },
   "outputs": [
    {
     "name": "stdout",
     "output_type": "stream",
     "text": [
      "train score 0.2654764666744983, \n",
      "test score 0.2915351472312496\n"
     ]
    }
   ],
   "source": [
    "model_NNReg = Sequential()\n",
    "\n",
    "model_NNReg.add(Dense(32, activation = 'relu',\n",
    "                      input_shape = Xr_train_sc[0].shape))\n",
    "\n",
    "model_NNReg.add(Dense(8, activation = 'relu'))\n",
    "\n",
    "model_NNReg.add(Dense(1, activation = None))\n",
    "\n",
    "model_NNReg.compile(loss = 'mean_squared_error',\n",
    "                    optimizer = 'adam')\n",
    "\n",
    "hist = model_NNReg.fit(Xr_train_sc, yr_train,\n",
    "                       epochs = 50,\n",
    "                       batch_size= 512,\n",
    "                       validation_data = (Xr_test_sc, yr_test),\n",
    "                       verbose = 0)\n",
    "\n",
    "print(f'train score {metric.r2_score(yr_train,model_NNReg.predict(Xr_train_sc))}, \\ntest score {metric.r2_score(yr_test,model_NNReg.predict(Xr_test_sc))}')"
   ]
  },
  {
   "cell_type": "markdown",
   "metadata": {
    "ExecuteTime": {
     "end_time": "2020-06-07T16:46:35.620426Z",
     "start_time": "2020-06-07T16:46:35.617434Z"
    }
   },
   "source": [
    "### Linear Regression via Sklearn"
   ]
  },
  {
   "cell_type": "code",
   "execution_count": 156,
   "metadata": {
    "ExecuteTime": {
     "end_time": "2020-07-13T01:29:32.133581Z",
     "start_time": "2020-07-13T01:29:32.122611Z"
    }
   },
   "outputs": [
    {
     "name": "stdout",
     "output_type": "stream",
     "text": [
      "train score 0.28308039445089017\n",
      "test score 0.3098799384138248\n"
     ]
    }
   ],
   "source": [
    "linear = LinearRegression()\n",
    "linear.fit(Xr_train_sc,yr_train)\n",
    "print(f'train score {linear.score(Xr_train_sc,yr_train)}')\n",
    "print(f'test score {linear.score(Xr_test_sc,yr_test)}')"
   ]
  },
  {
   "cell_type": "markdown",
   "metadata": {},
   "source": [
    "### Ridge Regression via Sklearn"
   ]
  },
  {
   "cell_type": "code",
   "execution_count": 157,
   "metadata": {
    "ExecuteTime": {
     "end_time": "2020-07-13T01:29:33.682845Z",
     "start_time": "2020-07-13T01:29:33.673878Z"
    }
   },
   "outputs": [
    {
     "name": "stdout",
     "output_type": "stream",
     "text": [
      "train score 0.2830803755446353\n",
      "test score 0.3098772554593541\n"
     ]
    }
   ],
   "source": [
    "ridge_model = Ridge()\n",
    "ridge_model.fit(Xr_train_sc,yr_train)\n",
    "print(f'train score {ridge_model.score(Xr_train_sc,yr_train)}')\n",
    "print(f'test score {ridge_model.score(Xr_test_sc,yr_test)}')"
   ]
  },
  {
   "cell_type": "markdown",
   "metadata": {},
   "source": [
    "### Statsmodel - Ordinary Least Squares"
   ]
  },
  {
   "cell_type": "code",
   "execution_count": 158,
   "metadata": {
    "ExecuteTime": {
     "end_time": "2020-07-13T01:29:35.349870Z",
     "start_time": "2020-07-13T01:29:35.168384Z"
    },
    "scrolled": false
   },
   "outputs": [
    {
     "name": "stderr",
     "output_type": "stream",
     "text": [
      "C:\\Users\\zacha\\anaconda3\\lib\\site-packages\\statsmodels\\regression\\linear_model.py:1827: RuntimeWarning: divide by zero encountered in double_scalars\n",
      "  return np.sqrt(eigvals[0]/eigvals[-1])\n",
      "C:\\Users\\zacha\\anaconda3\\lib\\site-packages\\statsmodels\\base\\model.py:1362: RuntimeWarning: invalid value encountered in true_divide\n",
      "  return self.params / self.bse\n",
      "C:\\Users\\zacha\\anaconda3\\lib\\site-packages\\scipy\\stats\\_distn_infrastructure.py:903: RuntimeWarning: invalid value encountered in greater\n",
      "  return (a < x) & (x < b)\n",
      "C:\\Users\\zacha\\anaconda3\\lib\\site-packages\\scipy\\stats\\_distn_infrastructure.py:903: RuntimeWarning: invalid value encountered in less\n",
      "  return (a < x) & (x < b)\n",
      "C:\\Users\\zacha\\anaconda3\\lib\\site-packages\\scipy\\stats\\_distn_infrastructure.py:1912: RuntimeWarning: invalid value encountered in less_equal\n",
      "  cond2 = cond0 & (x <= _a)\n"
     ]
    },
    {
     "data": {
      "text/html": [
       "<table class=\"simpletable\">\n",
       "<caption>OLS Regression Results</caption>\n",
       "<tr>\n",
       "  <th>Dep. Variable:</th>    <td>hours_after_midnight</td> <th>  R-squared:         </th> <td>   0.283</td> \n",
       "</tr>\n",
       "<tr>\n",
       "  <th>Model:</th>                     <td>OLS</td>         <th>  Adj. R-squared:    </th> <td>   0.281</td> \n",
       "</tr>\n",
       "<tr>\n",
       "  <th>Method:</th>               <td>Least Squares</td>    <th>  F-statistic:       </th> <td>   146.7</td> \n",
       "</tr>\n",
       "<tr>\n",
       "  <th>Date:</th>               <td>Sun, 12 Jul 2020</td>   <th>  Prob (F-statistic):</th>  <td>  0.00</td>  \n",
       "</tr>\n",
       "<tr>\n",
       "  <th>Time:</th>                   <td>21:29:35</td>       <th>  Log-Likelihood:    </th> <td> -16433.</td> \n",
       "</tr>\n",
       "<tr>\n",
       "  <th>No. Observations:</th>        <td>  6333</td>        <th>  AIC:               </th> <td>3.290e+04</td>\n",
       "</tr>\n",
       "<tr>\n",
       "  <th>Df Residuals:</th>            <td>  6315</td>        <th>  BIC:               </th> <td>3.302e+04</td>\n",
       "</tr>\n",
       "<tr>\n",
       "  <th>Df Model:</th>                <td>    17</td>        <th>                     </th>     <td> </td>    \n",
       "</tr>\n",
       "<tr>\n",
       "  <th>Covariance Type:</th>        <td>nonrobust</td>      <th>                     </th>     <td> </td>    \n",
       "</tr>\n",
       "</table>\n",
       "<table class=\"simpletable\">\n",
       "<tr>\n",
       "       <td></td>          <th>coef</th>     <th>std err</th>      <th>t</th>      <th>P>|t|</th>  <th>[0.025</th>    <th>0.975]</th>  \n",
       "</tr>\n",
       "<tr>\n",
       "  <th>const</th>       <td>   19.6171</td> <td>    0.684</td> <td>   28.697</td> <td> 0.000</td> <td>   18.277</td> <td>   20.957</td>\n",
       "</tr>\n",
       "<tr>\n",
       "  <th>high_season</th> <td>    1.3695</td> <td>    0.162</td> <td>    8.440</td> <td> 0.000</td> <td>    1.051</td> <td>    1.688</td>\n",
       "</tr>\n",
       "<tr>\n",
       "  <th>weekend</th>     <td>   -0.3142</td> <td>    0.087</td> <td>   -3.594</td> <td> 0.000</td> <td>   -0.486</td> <td>   -0.143</td>\n",
       "</tr>\n",
       "<tr>\n",
       "  <th>holiday</th>     <td>    1.2110</td> <td>    0.225</td> <td>    5.390</td> <td> 0.000</td> <td>    0.771</td> <td>    1.652</td>\n",
       "</tr>\n",
       "<tr>\n",
       "  <th>logan_pass</th>  <td>   -0.5468</td> <td>    0.206</td> <td>   -2.654</td> <td> 0.008</td> <td>   -0.951</td> <td>   -0.143</td>\n",
       "</tr>\n",
       "<tr>\n",
       "  <th>aqi</th>         <td>   -0.0073</td> <td>    0.006</td> <td>   -1.181</td> <td> 0.238</td> <td>   -0.019</td> <td>    0.005</td>\n",
       "</tr>\n",
       "<tr>\n",
       "  <th>ozone</th>       <td>   -0.0143</td> <td>    0.008</td> <td>   -1.898</td> <td> 0.058</td> <td>   -0.029</td> <td>    0.000</td>\n",
       "</tr>\n",
       "<tr>\n",
       "  <th>PM10</th>        <td>   -0.0230</td> <td>    0.006</td> <td>   -3.896</td> <td> 0.000</td> <td>   -0.035</td> <td>   -0.011</td>\n",
       "</tr>\n",
       "<tr>\n",
       "  <th>PM25</th>        <td>    0.0121</td> <td>    0.005</td> <td>    2.636</td> <td> 0.008</td> <td>    0.003</td> <td>    0.021</td>\n",
       "</tr>\n",
       "<tr>\n",
       "  <th>visits</th>      <td> -1.22e-05</td> <td> 3.13e-07</td> <td>  -38.993</td> <td> 0.000</td> <td>-1.28e-05</td> <td>-1.16e-05</td>\n",
       "</tr>\n",
       "<tr>\n",
       "  <th>sites</th>       <td>    0.0002</td> <td>    0.001</td> <td>    0.178</td> <td> 0.859</td> <td>   -0.002</td> <td>    0.002</td>\n",
       "</tr>\n",
       "<tr>\n",
       "  <th>showers</th>     <td>   -0.8441</td> <td>    0.103</td> <td>   -8.208</td> <td> 0.000</td> <td>   -1.046</td> <td>   -0.643</td>\n",
       "</tr>\n",
       "<tr>\n",
       "  <th>primitive</th>   <td>    3.3173</td> <td>    0.193</td> <td>   17.159</td> <td> 0.000</td> <td>    2.938</td> <td>    3.696</td>\n",
       "</tr>\n",
       "<tr>\n",
       "  <th>cg_supply_y</th> <td>    0.0023</td> <td>    0.001</td> <td>    3.986</td> <td> 0.000</td> <td>    0.001</td> <td>    0.003</td>\n",
       "</tr>\n",
       "<tr>\n",
       "  <th>PRCP</th>        <td>    0.3062</td> <td>    0.409</td> <td>    0.748</td> <td> 0.454</td> <td>   -0.496</td> <td>    1.108</td>\n",
       "</tr>\n",
       "<tr>\n",
       "  <th>SNOW</th>        <td>-1.207e-14</td> <td> 1.16e-15</td> <td>  -10.434</td> <td> 0.000</td> <td>-1.43e-14</td> <td> -9.8e-15</td>\n",
       "</tr>\n",
       "<tr>\n",
       "  <th>TMAX</th>        <td>    0.0200</td> <td>    0.007</td> <td>    3.034</td> <td> 0.002</td> <td>    0.007</td> <td>    0.033</td>\n",
       "</tr>\n",
       "<tr>\n",
       "  <th>TMIN</th>        <td>   -0.0215</td> <td>    0.008</td> <td>   -2.849</td> <td> 0.004</td> <td>   -0.036</td> <td>   -0.007</td>\n",
       "</tr>\n",
       "<tr>\n",
       "  <th>did_PRCP</th>    <td>    0.3351</td> <td>    0.132</td> <td>    2.544</td> <td> 0.011</td> <td>    0.077</td> <td>    0.593</td>\n",
       "</tr>\n",
       "<tr>\n",
       "  <th>did_SNOW</th>    <td>         0</td> <td>        0</td> <td>      nan</td> <td>   nan</td> <td>        0</td> <td>        0</td>\n",
       "</tr>\n",
       "</table>\n",
       "<table class=\"simpletable\">\n",
       "<tr>\n",
       "  <th>Omnibus:</th>       <td>174.214</td> <th>  Durbin-Watson:     </th> <td>   1.991</td>\n",
       "</tr>\n",
       "<tr>\n",
       "  <th>Prob(Omnibus):</th> <td> 0.000</td>  <th>  Jarque-Bera (JB):  </th> <td>  95.801</td>\n",
       "</tr>\n",
       "<tr>\n",
       "  <th>Skew:</th>          <td> 0.122</td>  <th>  Prob(JB):          </th> <td>1.57e-21</td>\n",
       "</tr>\n",
       "<tr>\n",
       "  <th>Kurtosis:</th>      <td> 2.449</td>  <th>  Cond. No.          </th> <td>     inf</td>\n",
       "</tr>\n",
       "</table><br/><br/>Warnings:<br/>[1] Standard Errors assume that the covariance matrix of the errors is correctly specified.<br/>[2] The smallest eigenvalue is      0. This might indicate that there are<br/>strong multicollinearity problems or that the design matrix is singular."
      ],
      "text/plain": [
       "<class 'statsmodels.iolib.summary.Summary'>\n",
       "\"\"\"\n",
       "                             OLS Regression Results                             \n",
       "================================================================================\n",
       "Dep. Variable:     hours_after_midnight   R-squared:                       0.283\n",
       "Model:                              OLS   Adj. R-squared:                  0.281\n",
       "Method:                   Least Squares   F-statistic:                     146.7\n",
       "Date:                  Sun, 12 Jul 2020   Prob (F-statistic):               0.00\n",
       "Time:                          21:29:35   Log-Likelihood:                -16433.\n",
       "No. Observations:                  6333   AIC:                         3.290e+04\n",
       "Df Residuals:                      6315   BIC:                         3.302e+04\n",
       "Df Model:                            17                                         \n",
       "Covariance Type:              nonrobust                                         \n",
       "===============================================================================\n",
       "                  coef    std err          t      P>|t|      [0.025      0.975]\n",
       "-------------------------------------------------------------------------------\n",
       "const          19.6171      0.684     28.697      0.000      18.277      20.957\n",
       "high_season     1.3695      0.162      8.440      0.000       1.051       1.688\n",
       "weekend        -0.3142      0.087     -3.594      0.000      -0.486      -0.143\n",
       "holiday         1.2110      0.225      5.390      0.000       0.771       1.652\n",
       "logan_pass     -0.5468      0.206     -2.654      0.008      -0.951      -0.143\n",
       "aqi            -0.0073      0.006     -1.181      0.238      -0.019       0.005\n",
       "ozone          -0.0143      0.008     -1.898      0.058      -0.029       0.000\n",
       "PM10           -0.0230      0.006     -3.896      0.000      -0.035      -0.011\n",
       "PM25            0.0121      0.005      2.636      0.008       0.003       0.021\n",
       "visits       -1.22e-05   3.13e-07    -38.993      0.000   -1.28e-05   -1.16e-05\n",
       "sites           0.0002      0.001      0.178      0.859      -0.002       0.002\n",
       "showers        -0.8441      0.103     -8.208      0.000      -1.046      -0.643\n",
       "primitive       3.3173      0.193     17.159      0.000       2.938       3.696\n",
       "cg_supply_y     0.0023      0.001      3.986      0.000       0.001       0.003\n",
       "PRCP            0.3062      0.409      0.748      0.454      -0.496       1.108\n",
       "SNOW        -1.207e-14   1.16e-15    -10.434      0.000   -1.43e-14    -9.8e-15\n",
       "TMAX            0.0200      0.007      3.034      0.002       0.007       0.033\n",
       "TMIN           -0.0215      0.008     -2.849      0.004      -0.036      -0.007\n",
       "did_PRCP        0.3351      0.132      2.544      0.011       0.077       0.593\n",
       "did_SNOW             0          0        nan        nan           0           0\n",
       "==============================================================================\n",
       "Omnibus:                      174.214   Durbin-Watson:                   1.991\n",
       "Prob(Omnibus):                  0.000   Jarque-Bera (JB):               95.801\n",
       "Skew:                           0.122   Prob(JB):                     1.57e-21\n",
       "Kurtosis:                       2.449   Cond. No.                          inf\n",
       "==============================================================================\n",
       "\n",
       "Warnings:\n",
       "[1] Standard Errors assume that the covariance matrix of the errors is correctly specified.\n",
       "[2] The smallest eigenvalue is      0. This might indicate that there are\n",
       "strong multicollinearity problems or that the design matrix is singular.\n",
       "\"\"\""
      ]
     },
     "execution_count": 158,
     "metadata": {},
     "output_type": "execute_result"
    },
    {
     "data": {
      "image/png": "[encoded data removed]",
      "text/plain": [
       "<Figure size 648x648 with 1 Axes>"
      ]
     },
     "metadata": {
      "needs_background": "light"
     },
     "output_type": "display_data"
    }
   ],
   "source": [
    "model_X = Xr_train\n",
    "model_X = sm.add_constant(model_X)\n",
    "model_y = yr_train\n",
    "model_OLS = sm.OLS(model_y, model_X).fit()\n",
    "\n",
    "\n",
    "plot_residuals(yr_test,\n",
    "               model_OLS.predict(sm.add_constant(Xr_test)),\n",
    "              'Stats Model OLS')\n",
    "\n",
    "model_OLS.summary()"
   ]
  },
  {
   "cell_type": "markdown",
   "metadata": {},
   "source": [
    "## Statsmodels - Gamma Regression"
   ]
  },
  {
   "cell_type": "code",
   "execution_count": 159,
   "metadata": {
    "ExecuteTime": {
     "end_time": "2020-07-13T01:29:37.101050Z",
     "start_time": "2020-07-13T01:29:36.834805Z"
    },
    "scrolled": false
   },
   "outputs": [
    {
     "name": "stderr",
     "output_type": "stream",
     "text": [
      "C:\\Users\\zacha\\anaconda3\\lib\\site-packages\\ipykernel_launcher.py:4: DeprecationWarning: Calling Family(..) with a link class as argument is deprecated.\n",
      "Use an instance of a link class instead.\n",
      "  after removing the cwd from sys.path.\n"
     ]
    },
    {
     "data": {
      "text/html": [
       "<table class=\"simpletable\">\n",
       "<caption>Generalized Linear Model Regression Results</caption>\n",
       "<tr>\n",
       "  <th>Dep. Variable:</th>   <td>hours_after_midnight</td> <th>  No. Observations:  </th>  <td>  6333</td> \n",
       "</tr>\n",
       "<tr>\n",
       "  <th>Model:</th>                    <td>GLM</td>         <th>  Df Residuals:      </th>  <td>  6315</td> \n",
       "</tr>\n",
       "<tr>\n",
       "  <th>Model Family:</th>            <td>Gamma</td>        <th>  Df Model:          </th>  <td>    17</td> \n",
       "</tr>\n",
       "<tr>\n",
       "  <th>Link Function:</th>            <td>log</td>         <th>  Scale:             </th> <td>0.057223</td>\n",
       "</tr>\n",
       "<tr>\n",
       "  <th>Method:</th>                  <td>IRLS</td>         <th>  Log-Likelihood:    </th> <td> -16549.</td>\n",
       "</tr>\n",
       "<tr>\n",
       "  <th>Date:</th>              <td>Sun, 12 Jul 2020</td>   <th>  Deviance:          </th> <td>  371.06</td>\n",
       "</tr>\n",
       "<tr>\n",
       "  <th>Time:</th>                  <td>21:29:36</td>       <th>  Pearson chi2:      </th>  <td>  361.</td> \n",
       "</tr>\n",
       "<tr>\n",
       "  <th>No. Iterations:</th>           <td>14</td>          <th>                     </th>     <td> </td>   \n",
       "</tr>\n",
       "<tr>\n",
       "  <th>Covariance Type:</th>       <td>nonrobust</td>      <th>                     </th>     <td> </td>   \n",
       "</tr>\n",
       "</table>\n",
       "<table class=\"simpletable\">\n",
       "<tr>\n",
       "       <td></td>          <th>coef</th>     <th>std err</th>      <th>z</th>      <th>P>|z|</th>  <th>[0.025</th>    <th>0.975]</th>  \n",
       "</tr>\n",
       "<tr>\n",
       "  <th>const</th>       <td>    3.0544</td> <td>    0.050</td> <td>   60.624</td> <td> 0.000</td> <td>    2.956</td> <td>    3.153</td>\n",
       "</tr>\n",
       "<tr>\n",
       "  <th>high_season</th> <td>    0.1076</td> <td>    0.012</td> <td>    8.998</td> <td> 0.000</td> <td>    0.084</td> <td>    0.131</td>\n",
       "</tr>\n",
       "<tr>\n",
       "  <th>weekend</th>     <td>   -0.0246</td> <td>    0.006</td> <td>   -3.823</td> <td> 0.000</td> <td>   -0.037</td> <td>   -0.012</td>\n",
       "</tr>\n",
       "<tr>\n",
       "  <th>holiday</th>     <td>    0.0915</td> <td>    0.017</td> <td>    5.522</td> <td> 0.000</td> <td>    0.059</td> <td>    0.124</td>\n",
       "</tr>\n",
       "<tr>\n",
       "  <th>logan_pass</th>  <td>   -0.0386</td> <td>    0.015</td> <td>   -2.545</td> <td> 0.011</td> <td>   -0.068</td> <td>   -0.009</td>\n",
       "</tr>\n",
       "<tr>\n",
       "  <th>aqi</th>         <td>   -0.0003</td> <td>    0.000</td> <td>   -0.741</td> <td> 0.459</td> <td>   -0.001</td> <td>    0.001</td>\n",
       "</tr>\n",
       "<tr>\n",
       "  <th>ozone</th>       <td>   -0.0011</td> <td>    0.001</td> <td>   -2.017</td> <td> 0.044</td> <td>   -0.002</td> <td>-3.17e-05</td>\n",
       "</tr>\n",
       "<tr>\n",
       "  <th>PM10</th>        <td>   -0.0019</td> <td>    0.000</td> <td>   -4.364</td> <td> 0.000</td> <td>   -0.003</td> <td>   -0.001</td>\n",
       "</tr>\n",
       "<tr>\n",
       "  <th>PM25</th>        <td>    0.0009</td> <td>    0.000</td> <td>    2.541</td> <td> 0.011</td> <td>    0.000</td> <td>    0.002</td>\n",
       "</tr>\n",
       "<tr>\n",
       "  <th>visits</th>      <td>-9.167e-07</td> <td> 2.31e-08</td> <td>  -39.743</td> <td> 0.000</td> <td>-9.62e-07</td> <td>-8.72e-07</td>\n",
       "</tr>\n",
       "<tr>\n",
       "  <th>sites</th>       <td>-5.569e-06</td> <td> 7.58e-05</td> <td>   -0.073</td> <td> 0.941</td> <td>   -0.000</td> <td>    0.000</td>\n",
       "</tr>\n",
       "<tr>\n",
       "  <th>showers</th>     <td>   -0.0760</td> <td>    0.008</td> <td>  -10.021</td> <td> 0.000</td> <td>   -0.091</td> <td>   -0.061</td>\n",
       "</tr>\n",
       "<tr>\n",
       "  <th>primitive</th>   <td>    0.2284</td> <td>    0.014</td> <td>   16.030</td> <td> 0.000</td> <td>    0.200</td> <td>    0.256</td>\n",
       "</tr>\n",
       "<tr>\n",
       "  <th>cg_supply_y</th> <td>    0.0002</td> <td>  4.3e-05</td> <td>    3.885</td> <td> 0.000</td> <td> 8.29e-05</td> <td>    0.000</td>\n",
       "</tr>\n",
       "<tr>\n",
       "  <th>PRCP</th>        <td>    0.0297</td> <td>    0.030</td> <td>    0.986</td> <td> 0.324</td> <td>   -0.029</td> <td>    0.089</td>\n",
       "</tr>\n",
       "<tr>\n",
       "  <th>SNOW</th>        <td>-1.009e-16</td> <td> 9.59e-18</td> <td>  -10.523</td> <td> 0.000</td> <td> -1.2e-16</td> <td>-8.21e-17</td>\n",
       "</tr>\n",
       "<tr>\n",
       "  <th>TMAX</th>        <td>    0.0015</td> <td>    0.000</td> <td>    3.062</td> <td> 0.002</td> <td>    0.001</td> <td>    0.002</td>\n",
       "</tr>\n",
       "<tr>\n",
       "  <th>TMIN</th>        <td>   -0.0016</td> <td>    0.001</td> <td>   -2.825</td> <td> 0.005</td> <td>   -0.003</td> <td>   -0.000</td>\n",
       "</tr>\n",
       "<tr>\n",
       "  <th>did_PRCP</th>    <td>    0.0249</td> <td>    0.010</td> <td>    2.568</td> <td> 0.010</td> <td>    0.006</td> <td>    0.044</td>\n",
       "</tr>\n",
       "<tr>\n",
       "  <th>did_SNOW</th>    <td>         0</td> <td>        0</td> <td>      nan</td> <td>   nan</td> <td>        0</td> <td>        0</td>\n",
       "</tr>\n",
       "</table>"
      ],
      "text/plain": [
       "<class 'statsmodels.iolib.summary.Summary'>\n",
       "\"\"\"\n",
       "                  Generalized Linear Model Regression Results                   \n",
       "================================================================================\n",
       "Dep. Variable:     hours_after_midnight   No. Observations:                 6333\n",
       "Model:                              GLM   Df Residuals:                     6315\n",
       "Model Family:                     Gamma   Df Model:                           17\n",
       "Link Function:                      log   Scale:                        0.057223\n",
       "Method:                            IRLS   Log-Likelihood:                -16549.\n",
       "Date:                  Sun, 12 Jul 2020   Deviance:                       371.06\n",
       "Time:                          21:29:36   Pearson chi2:                     361.\n",
       "No. Iterations:                      14                                         \n",
       "Covariance Type:              nonrobust                                         \n",
       "===============================================================================\n",
       "                  coef    std err          z      P>|z|      [0.025      0.975]\n",
       "-------------------------------------------------------------------------------\n",
       "const           3.0544      0.050     60.624      0.000       2.956       3.153\n",
       "high_season     0.1076      0.012      8.998      0.000       0.084       0.131\n",
       "weekend        -0.0246      0.006     -3.823      0.000      -0.037      -0.012\n",
       "holiday         0.0915      0.017      5.522      0.000       0.059       0.124\n",
       "logan_pass     -0.0386      0.015     -2.545      0.011      -0.068      -0.009\n",
       "aqi            -0.0003      0.000     -0.741      0.459      -0.001       0.001\n",
       "ozone          -0.0011      0.001     -2.017      0.044      -0.002   -3.17e-05\n",
       "PM10           -0.0019      0.000     -4.364      0.000      -0.003      -0.001\n",
       "PM25            0.0009      0.000      2.541      0.011       0.000       0.002\n",
       "visits      -9.167e-07   2.31e-08    -39.743      0.000   -9.62e-07   -8.72e-07\n",
       "sites       -5.569e-06   7.58e-05     -0.073      0.941      -0.000       0.000\n",
       "showers        -0.0760      0.008    -10.021      0.000      -0.091      -0.061\n",
       "primitive       0.2284      0.014     16.030      0.000       0.200       0.256\n",
       "cg_supply_y     0.0002    4.3e-05      3.885      0.000    8.29e-05       0.000\n",
       "PRCP            0.0297      0.030      0.986      0.324      -0.029       0.089\n",
       "SNOW        -1.009e-16   9.59e-18    -10.523      0.000    -1.2e-16   -8.21e-17\n",
       "TMAX            0.0015      0.000      3.062      0.002       0.001       0.002\n",
       "TMIN           -0.0016      0.001     -2.825      0.005      -0.003      -0.000\n",
       "did_PRCP        0.0249      0.010      2.568      0.010       0.006       0.044\n",
       "did_SNOW             0          0        nan        nan           0           0\n",
       "===============================================================================\n",
       "\"\"\""
      ]
     },
     "execution_count": 159,
     "metadata": {},
     "output_type": "execute_result"
    },
    {
     "data": {
      "image/png": "[encoded data removed]",
      "text/plain": [
       "<Figure size 648x648 with 1 Axes>"
      ]
     },
     "metadata": {
      "needs_background": "light"
     },
     "output_type": "display_data"
    }
   ],
   "source": [
    "sm_X = Xr_train\n",
    "sm_X = sm.add_constant(sm_X)\n",
    "sm_y = yr_train\n",
    "gamma_model = sm.GLM(sm_y, sm_X, family = sm.families.Gamma(link = sm.families.links.log)).fit()\n",
    "\n",
    "gamma_train_preds = gamma_model.predict(sm.add_constant(Xr_train))\n",
    "gamma_test_preds = gamma_model.predict(sm.add_constant(Xr_test))\n",
    "\n",
    "plot_residuals(yr_test,\n",
    "               gamma_test_preds,\n",
    "              'Gamma Regression')\n",
    "\n",
    "gamma_model.summary()"
   ]
  },
  {
   "cell_type": "markdown",
   "metadata": {},
   "source": [
    "## Regression Results by Subgroup - Campground Name"
   ]
  },
  {
   "cell_type": "code",
   "execution_count": 160,
   "metadata": {
    "ExecuteTime": {
     "end_time": "2020-07-13T01:29:41.492109Z",
     "start_time": "2020-07-13T01:29:38.306125Z"
    }
   },
   "outputs": [
    {
     "data": {
      "text/html": [
       "<div>\n",
       "<style scoped>\n",
       "    .dataframe tbody tr th:only-of-type {\n",
       "        vertical-align: middle;\n",
       "    }\n",
       "\n",
       "    .dataframe tbody tr th {\n",
       "        vertical-align: top;\n",
       "    }\n",
       "\n",
       "    .dataframe thead th {\n",
       "        text-align: right;\n",
       "    }\n",
       "</style>\n",
       "<table border=\"1\" class=\"dataframe\">\n",
       "  <thead>\n",
       "    <tr style=\"text-align: right;\">\n",
       "      <th></th>\n",
       "      <th>Observations</th>\n",
       "      <th>Y_Bar</th>\n",
       "      <th>StdDev</th>\n",
       "      <th>Train R2</th>\n",
       "      <th>Test R2</th>\n",
       "      <th>Train RMSE</th>\n",
       "      <th>Test RMSE</th>\n",
       "      <th>Train MAE</th>\n",
       "      <th>Test MAE</th>\n",
       "    </tr>\n",
       "  </thead>\n",
       "  <tbody>\n",
       "    <tr>\n",
       "      <th>Rising Sun</th>\n",
       "      <td>889.0</td>\n",
       "      <td>14.88</td>\n",
       "      <td>3.75</td>\n",
       "      <td>0.58</td>\n",
       "      <td>0.52</td>\n",
       "      <td>2.45</td>\n",
       "      <td>2.57</td>\n",
       "      <td>1.87</td>\n",
       "      <td>2.04</td>\n",
       "    </tr>\n",
       "    <tr>\n",
       "      <th>Sprague Creek</th>\n",
       "      <td>1463.0</td>\n",
       "      <td>14.27</td>\n",
       "      <td>3.39</td>\n",
       "      <td>0.53</td>\n",
       "      <td>0.50</td>\n",
       "      <td>2.32</td>\n",
       "      <td>2.38</td>\n",
       "      <td>1.76</td>\n",
       "      <td>1.88</td>\n",
       "    </tr>\n",
       "    <tr>\n",
       "      <th>Avalanche</th>\n",
       "      <td>757.0</td>\n",
       "      <td>15.46</td>\n",
       "      <td>3.37</td>\n",
       "      <td>0.49</td>\n",
       "      <td>0.42</td>\n",
       "      <td>2.43</td>\n",
       "      <td>2.50</td>\n",
       "      <td>1.86</td>\n",
       "      <td>2.01</td>\n",
       "    </tr>\n",
       "    <tr>\n",
       "      <th>SVR</th>\n",
       "      <td>8444.0</td>\n",
       "      <td>14.12</td>\n",
       "      <td>3.84</td>\n",
       "      <td>0.41</td>\n",
       "      <td>0.41</td>\n",
       "      <td>2.94</td>\n",
       "      <td>2.98</td>\n",
       "      <td>2.34</td>\n",
       "      <td>2.41</td>\n",
       "    </tr>\n",
       "    <tr>\n",
       "      <th>Many Glacier</th>\n",
       "      <td>1293.0</td>\n",
       "      <td>12.40</td>\n",
       "      <td>3.37</td>\n",
       "      <td>0.40</td>\n",
       "      <td>0.39</td>\n",
       "      <td>2.61</td>\n",
       "      <td>2.66</td>\n",
       "      <td>1.96</td>\n",
       "      <td>2.12</td>\n",
       "    </tr>\n",
       "    <tr>\n",
       "      <th>St. Mary</th>\n",
       "      <td>743.0</td>\n",
       "      <td>12.06</td>\n",
       "      <td>4.56</td>\n",
       "      <td>0.49</td>\n",
       "      <td>0.37</td>\n",
       "      <td>3.30</td>\n",
       "      <td>3.50</td>\n",
       "      <td>2.59</td>\n",
       "      <td>2.84</td>\n",
       "    </tr>\n",
       "    <tr>\n",
       "      <th>Cut Bank</th>\n",
       "      <td>298.0</td>\n",
       "      <td>16.45</td>\n",
       "      <td>2.85</td>\n",
       "      <td>0.35</td>\n",
       "      <td>0.36</td>\n",
       "      <td>2.33</td>\n",
       "      <td>2.18</td>\n",
       "      <td>1.71</td>\n",
       "      <td>1.77</td>\n",
       "    </tr>\n",
       "    <tr>\n",
       "      <th>Fish Creek</th>\n",
       "      <td>693.0</td>\n",
       "      <td>11.87</td>\n",
       "      <td>4.47</td>\n",
       "      <td>0.41</td>\n",
       "      <td>0.31</td>\n",
       "      <td>3.45</td>\n",
       "      <td>3.62</td>\n",
       "      <td>2.65</td>\n",
       "      <td>2.91</td>\n",
       "    </tr>\n",
       "    <tr>\n",
       "      <th>Apgar</th>\n",
       "      <td>644.0</td>\n",
       "      <td>15.12</td>\n",
       "      <td>3.53</td>\n",
       "      <td>0.44</td>\n",
       "      <td>0.27</td>\n",
       "      <td>2.61</td>\n",
       "      <td>3.07</td>\n",
       "      <td>2.05</td>\n",
       "      <td>2.56</td>\n",
       "    </tr>\n",
       "    <tr>\n",
       "      <th>Quartz Creek</th>\n",
       "      <td>92.0</td>\n",
       "      <td>17.03</td>\n",
       "      <td>2.10</td>\n",
       "      <td>0.39</td>\n",
       "      <td>0.25</td>\n",
       "      <td>1.60</td>\n",
       "      <td>1.87</td>\n",
       "      <td>1.12</td>\n",
       "      <td>1.61</td>\n",
       "    </tr>\n",
       "    <tr>\n",
       "      <th>Two Medicine</th>\n",
       "      <td>690.0</td>\n",
       "      <td>15.01</td>\n",
       "      <td>3.31</td>\n",
       "      <td>0.41</td>\n",
       "      <td>0.23</td>\n",
       "      <td>2.58</td>\n",
       "      <td>2.70</td>\n",
       "      <td>2.06</td>\n",
       "      <td>2.12</td>\n",
       "    </tr>\n",
       "    <tr>\n",
       "      <th>Kintla Lake</th>\n",
       "      <td>540.0</td>\n",
       "      <td>14.79</td>\n",
       "      <td>2.73</td>\n",
       "      <td>0.31</td>\n",
       "      <td>0.09</td>\n",
       "      <td>2.30</td>\n",
       "      <td>2.47</td>\n",
       "      <td>1.79</td>\n",
       "      <td>2.06</td>\n",
       "    </tr>\n",
       "    <tr>\n",
       "      <th>Bowman Lake</th>\n",
       "      <td>260.0</td>\n",
       "      <td>16.45</td>\n",
       "      <td>2.41</td>\n",
       "      <td>0.40</td>\n",
       "      <td>0.06</td>\n",
       "      <td>1.90</td>\n",
       "      <td>2.18</td>\n",
       "      <td>1.45</td>\n",
       "      <td>1.59</td>\n",
       "    </tr>\n",
       "    <tr>\n",
       "      <th>Logging Creek</th>\n",
       "      <td>82.0</td>\n",
       "      <td>17.01</td>\n",
       "      <td>2.22</td>\n",
       "      <td>0.53</td>\n",
       "      <td>-0.02</td>\n",
       "      <td>1.47</td>\n",
       "      <td>2.37</td>\n",
       "      <td>1.04</td>\n",
       "      <td>1.50</td>\n",
       "    </tr>\n",
       "  </tbody>\n",
       "</table>\n",
       "</div>"
      ],
      "text/plain": [
       "               Observations  Y_Bar  StdDev  Train R2  Test R2  Train RMSE  \\\n",
       "Rising Sun            889.0  14.88    3.75      0.58     0.52        2.45   \n",
       "Sprague Creek        1463.0  14.27    3.39      0.53     0.50        2.32   \n",
       "Avalanche             757.0  15.46    3.37      0.49     0.42        2.43   \n",
       "SVR                  8444.0  14.12    3.84      0.41     0.41        2.94   \n",
       "Many Glacier         1293.0  12.40    3.37      0.40     0.39        2.61   \n",
       "St. Mary              743.0  12.06    4.56      0.49     0.37        3.30   \n",
       "Cut Bank              298.0  16.45    2.85      0.35     0.36        2.33   \n",
       "Fish Creek            693.0  11.87    4.47      0.41     0.31        3.45   \n",
       "Apgar                 644.0  15.12    3.53      0.44     0.27        2.61   \n",
       "Quartz Creek           92.0  17.03    2.10      0.39     0.25        1.60   \n",
       "Two Medicine          690.0  15.01    3.31      0.41     0.23        2.58   \n",
       "Kintla Lake           540.0  14.79    2.73      0.31     0.09        2.30   \n",
       "Bowman Lake           260.0  16.45    2.41      0.40     0.06        1.90   \n",
       "Logging Creek          82.0  17.01    2.22      0.53    -0.02        1.47   \n",
       "\n",
       "               Test RMSE  Train MAE  Test MAE  \n",
       "Rising Sun          2.57       1.87      2.04  \n",
       "Sprague Creek       2.38       1.76      1.88  \n",
       "Avalanche           2.50       1.86      2.01  \n",
       "SVR                 2.98       2.34      2.41  \n",
       "Many Glacier        2.66       1.96      2.12  \n",
       "St. Mary            3.50       2.59      2.84  \n",
       "Cut Bank            2.18       1.71      1.77  \n",
       "Fish Creek          3.62       2.65      2.91  \n",
       "Apgar               3.07       2.05      2.56  \n",
       "Quartz Creek        1.87       1.12      1.61  \n",
       "Two Medicine        2.70       2.06      2.12  \n",
       "Kintla Lake         2.47       1.79      2.06  \n",
       "Bowman Lake         2.18       1.45      1.59  \n",
       "Logging Creek       2.37       1.04      1.50  "
      ]
     },
     "execution_count": 160,
     "metadata": {},
     "output_type": "execute_result"
    }
   ],
   "source": [
    "regression_by_campground = Results_by_Category_Reg(MODEL = SVR(),\n",
    "                                                    dataframe = df_regress,\n",
    "                                                    feature_list = features,\n",
    "                                                    label_name = 'hours_after_midnight',\n",
    "                                                    group_on = 'cg_name',\n",
    "                                                    sort_by = 'Test R2')\n",
    "\n",
    "regression_by_campground"
   ]
  },
  {
   "cell_type": "markdown",
   "metadata": {},
   "source": [
    "## Regression Model Comparison"
   ]
  },
  {
   "cell_type": "code",
   "execution_count": 161,
   "metadata": {
    "ExecuteTime": {
     "end_time": "2020-07-13T01:29:55.859294Z",
     "start_time": "2020-07-13T01:29:51.690937Z"
    }
   },
   "outputs": [
    {
     "name": "stdout",
     "output_type": "stream",
     "text": [
      "198/198 [==============================] - 0s 845us/step - loss: 10.6407\n"
     ]
    }
   ],
   "source": [
    "regression_model_set = [LinearRegression(),\n",
    "                        Ridge(alpha = 1.0),\n",
    "                        SVR(),\n",
    "                        AdaBoostRegressor(n_estimators = 100),\n",
    "                        KNeighborsRegressor(),\n",
    "                        model_NNReg]\n",
    "\n",
    "model_comparison = pd.DataFrame()\n",
    "\n",
    "for i in regression_model_set:\n",
    "    model_comparison = pd.concat([model_comparison,\n",
    "                              Results_by_Category_Reg(MODEL = i,\n",
    "                                dataframe = df_regress,\n",
    "                                feature_list = features,\n",
    "                                label_name = 'hours_after_midnight',\n",
    "                                group_on = None,\n",
    "                                sort_by = 'Test R2') ])\n"
   ]
  },
  {
   "cell_type": "markdown",
   "metadata": {},
   "source": [
    "#### Create same Metrics for Gamma GLM (Statsmodel instead of Sklearn)"
   ]
  },
  {
   "cell_type": "code",
   "execution_count": 162,
   "metadata": {
    "ExecuteTime": {
     "end_time": "2020-07-13T01:29:58.471899Z",
     "start_time": "2020-07-13T01:29:58.459885Z"
    }
   },
   "outputs": [],
   "source": [
    "gamma_report = {\n",
    "    \"Observations\":yr.shape[0],\n",
    "    \"Y_Bar\":yr.mean(),\n",
    "    \"StdDev\":yr.std(),\n",
    "    \"Train R2\":metric.r2_score(yr_train,gamma_train_preds),\n",
    "    \"Test R2\":metric.r2_score(yr_test,gamma_test_preds),\n",
    "    \"Train RMSE\":metric.mean_squared_error(yr_train,gamma_train_preds,squared=False),\n",
    "    \"Test RMSE\":metric.mean_squared_error(yr_test,gamma_test_preds,squared=False),\n",
    "    \"Train MAE\":metric.mean_absolute_error(yr_train,gamma_train_preds),\n",
    "    \"Test MAE\":metric.mean_absolute_error(yr_test,gamma_test_preds)\n",
    "}\n",
    "\n",
    "gamma_report_df = np.round(pd.DataFrame(gamma_report,index=['Gamma GLM']),2)"
   ]
  },
  {
   "cell_type": "markdown",
   "metadata": {
    "ExecuteTime": {
     "end_time": "2020-06-08T14:00:03.513022Z",
     "start_time": "2020-06-08T14:00:03.510047Z"
    }
   },
   "source": [
    "#### Add Gamma to Summary Report"
   ]
  },
  {
   "cell_type": "code",
   "execution_count": 163,
   "metadata": {
    "ExecuteTime": {
     "end_time": "2020-07-13T01:30:00.905334Z",
     "start_time": "2020-07-13T01:30:00.898843Z"
    }
   },
   "outputs": [],
   "source": [
    "regression_summary = model_comparison.append(\n",
    "    gamma_report_df).sort_values(\n",
    "    'Test R2',ascending=False)"
   ]
  },
  {
   "cell_type": "code",
   "execution_count": 164,
   "metadata": {
    "ExecuteTime": {
     "end_time": "2020-07-13T01:30:03.354646Z",
     "start_time": "2020-07-13T01:30:03.347652Z"
    }
   },
   "outputs": [],
   "source": [
    "regression_summary = regression_summary.rename(\n",
    "    index={[i for i in list(regression_summary.index) if 'tensor' in i][0]:\"Neural Net Regressor\"}\n",
    ")[list(gamma_report.keys())]"
   ]
  },
  {
   "cell_type": "code",
   "execution_count": 165,
   "metadata": {
    "ExecuteTime": {
     "end_time": "2020-07-13T01:30:05.657879Z",
     "start_time": "2020-07-13T01:30:05.644917Z"
    }
   },
   "outputs": [
    {
     "data": {
      "text/html": [
       "<div>\n",
       "<style scoped>\n",
       "    .dataframe tbody tr th:only-of-type {\n",
       "        vertical-align: middle;\n",
       "    }\n",
       "\n",
       "    .dataframe tbody tr th {\n",
       "        vertical-align: top;\n",
       "    }\n",
       "\n",
       "    .dataframe thead th {\n",
       "        text-align: right;\n",
       "    }\n",
       "</style>\n",
       "<table border=\"1\" class=\"dataframe\">\n",
       "  <thead>\n",
       "    <tr style=\"text-align: right;\">\n",
       "      <th></th>\n",
       "      <th>Observations</th>\n",
       "      <th>Y_Bar</th>\n",
       "      <th>StdDev</th>\n",
       "      <th>Train R2</th>\n",
       "      <th>Test R2</th>\n",
       "      <th>Train RMSE</th>\n",
       "      <th>Test RMSE</th>\n",
       "      <th>Train MAE</th>\n",
       "      <th>Test MAE</th>\n",
       "    </tr>\n",
       "  </thead>\n",
       "  <tbody>\n",
       "    <tr>\n",
       "      <th>SVR</th>\n",
       "      <td>8444.0</td>\n",
       "      <td>14.12</td>\n",
       "      <td>3.84</td>\n",
       "      <td>0.41</td>\n",
       "      <td>0.41</td>\n",
       "      <td>2.94</td>\n",
       "      <td>2.98</td>\n",
       "      <td>2.34</td>\n",
       "      <td>2.41</td>\n",
       "    </tr>\n",
       "    <tr>\n",
       "      <th>AdaBoostRegressor</th>\n",
       "      <td>8444.0</td>\n",
       "      <td>14.12</td>\n",
       "      <td>3.84</td>\n",
       "      <td>0.33</td>\n",
       "      <td>0.36</td>\n",
       "      <td>3.13</td>\n",
       "      <td>3.09</td>\n",
       "      <td>2.64</td>\n",
       "      <td>2.61</td>\n",
       "    </tr>\n",
       "    <tr>\n",
       "      <th>LinearRegression</th>\n",
       "      <td>8444.0</td>\n",
       "      <td>14.12</td>\n",
       "      <td>3.84</td>\n",
       "      <td>0.28</td>\n",
       "      <td>0.31</td>\n",
       "      <td>3.24</td>\n",
       "      <td>3.22</td>\n",
       "      <td>2.68</td>\n",
       "      <td>2.65</td>\n",
       "    </tr>\n",
       "    <tr>\n",
       "      <th>Ridge</th>\n",
       "      <td>8444.0</td>\n",
       "      <td>14.12</td>\n",
       "      <td>3.84</td>\n",
       "      <td>0.28</td>\n",
       "      <td>0.31</td>\n",
       "      <td>3.24</td>\n",
       "      <td>3.22</td>\n",
       "      <td>2.68</td>\n",
       "      <td>2.65</td>\n",
       "    </tr>\n",
       "    <tr>\n",
       "      <th>KNeighborsRegressor</th>\n",
       "      <td>8444.0</td>\n",
       "      <td>14.12</td>\n",
       "      <td>3.84</td>\n",
       "      <td>0.51</td>\n",
       "      <td>0.31</td>\n",
       "      <td>2.67</td>\n",
       "      <td>3.21</td>\n",
       "      <td>2.13</td>\n",
       "      <td>2.56</td>\n",
       "    </tr>\n",
       "    <tr>\n",
       "      <th>Neural Net Regressor</th>\n",
       "      <td>8444.0</td>\n",
       "      <td>14.12</td>\n",
       "      <td>3.84</td>\n",
       "      <td>0.29</td>\n",
       "      <td>0.31</td>\n",
       "      <td>3.22</td>\n",
       "      <td>3.21</td>\n",
       "      <td>2.63</td>\n",
       "      <td>2.62</td>\n",
       "    </tr>\n",
       "    <tr>\n",
       "      <th>Gamma GLM</th>\n",
       "      <td>8444.0</td>\n",
       "      <td>14.12</td>\n",
       "      <td>3.84</td>\n",
       "      <td>0.27</td>\n",
       "      <td>0.30</td>\n",
       "      <td>3.26</td>\n",
       "      <td>3.25</td>\n",
       "      <td>2.70</td>\n",
       "      <td>2.69</td>\n",
       "    </tr>\n",
       "  </tbody>\n",
       "</table>\n",
       "</div>"
      ],
      "text/plain": [
       "                      Observations  Y_Bar  StdDev  Train R2  Test R2  \\\n",
       "SVR                         8444.0  14.12    3.84      0.41     0.41   \n",
       "AdaBoostRegressor           8444.0  14.12    3.84      0.33     0.36   \n",
       "LinearRegression            8444.0  14.12    3.84      0.28     0.31   \n",
       "Ridge                       8444.0  14.12    3.84      0.28     0.31   \n",
       "KNeighborsRegressor         8444.0  14.12    3.84      0.51     0.31   \n",
       "Neural Net Regressor        8444.0  14.12    3.84      0.29     0.31   \n",
       "Gamma GLM                   8444.0  14.12    3.84      0.27     0.30   \n",
       "\n",
       "                      Train RMSE  Test RMSE  Train MAE  Test MAE  \n",
       "SVR                         2.94       2.98       2.34      2.41  \n",
       "AdaBoostRegressor           3.13       3.09       2.64      2.61  \n",
       "LinearRegression            3.24       3.22       2.68      2.65  \n",
       "Ridge                       3.24       3.22       2.68      2.65  \n",
       "KNeighborsRegressor         2.67       3.21       2.13      2.56  \n",
       "Neural Net Regressor        3.22       3.21       2.63      2.62  \n",
       "Gamma GLM                   3.26       3.25       2.70      2.69  "
      ]
     },
     "execution_count": 165,
     "metadata": {},
     "output_type": "execute_result"
    }
   ],
   "source": [
    "regression_summary"
   ]
  },
  {
   "cell_type": "markdown",
   "metadata": {},
   "source": [
    "## Export Tables to CSV to Format"
   ]
  },
  {
   "cell_type": "code",
   "execution_count": 128,
   "metadata": {
    "ExecuteTime": {
     "end_time": "2020-07-13T01:21:51.549858Z",
     "start_time": "2020-07-13T01:21:51.546899Z"
    }
   },
   "outputs": [],
   "source": [
    "# regression_summary.to_csv(\"../presentation_graphics/regression_table.csv\")\n",
    "\n",
    "# regression_by_campground.to_csv(\"../presentation_graphics/regression_table_campgroundnames.csv\")"
   ]
  },
  {
   "cell_type": "markdown",
   "metadata": {},
   "source": [
    "------------\n",
    "\n",
    "-----------\n",
    "\n",
    "----------"
   ]
  },
  {
   "cell_type": "markdown",
   "metadata": {},
   "source": [
    "-------------\n",
    "\n",
    "# Graphics\n",
    "\n",
    "--------"
   ]
  },
  {
   "cell_type": "markdown",
   "metadata": {},
   "source": [
    "#### Identify the subgroup of interest"
   ]
  },
  {
   "cell_type": "code",
   "execution_count": 166,
   "metadata": {
    "ExecuteTime": {
     "end_time": "2020-07-13T01:30:25.227514Z",
     "start_time": "2020-07-13T01:30:25.209574Z"
    }
   },
   "outputs": [],
   "source": [
    "subgroup = (df_regress['cg_name'] == 'Rising Sun') #& (df_regress['year']==2016)\n",
    "\n",
    "# Create X and Y specific to that subgroupd and train-test-split\n",
    "X = df_regress.loc[subgroup, features]\n",
    "y = df_regress.loc[subgroup, 'hours_after_midnight']\n",
    "X_train, X_test, y_train, y_test = train_test_split(X,y,random_state=111)\n",
    "\n",
    "# Standard Scaler\n",
    "sc = StandardScaler()\n",
    "X_train_sc = sc.fit_transform(X_train)\n",
    "X_test_sc = sc.transform(X_test)\n",
    "X_sc = sc.transform(X)"
   ]
  },
  {
   "cell_type": "markdown",
   "metadata": {},
   "source": [
    "#### Support Vector Regression"
   ]
  },
  {
   "cell_type": "code",
   "execution_count": 167,
   "metadata": {
    "ExecuteTime": {
     "end_time": "2020-07-13T01:30:25.838214Z",
     "start_time": "2020-07-13T01:30:25.777327Z"
    }
   },
   "outputs": [
    {
     "name": "stdout",
     "output_type": "stream",
     "text": [
      "train score 0.5768296483593452\n",
      "test score 0.5181463046532087\n"
     ]
    }
   ],
   "source": [
    "svr = SVR()\n",
    "svr.fit(X_train_sc, y_train)\n",
    "preds_svr = svr.predict(X_sc)\n",
    "\n",
    "print(f'train score {svr.score(X_train_sc,y_train)}')\n",
    "print(f'test score {svr.score(X_test_sc,y_test)}')"
   ]
  },
  {
   "cell_type": "markdown",
   "metadata": {},
   "source": [
    "#### Gamma Regression"
   ]
  },
  {
   "cell_type": "code",
   "execution_count": 168,
   "metadata": {
    "ExecuteTime": {
     "end_time": "2020-07-13T01:30:26.682414Z",
     "start_time": "2020-07-13T01:30:26.642618Z"
    }
   },
   "outputs": [
    {
     "name": "stdout",
     "output_type": "stream",
     "text": [
      "train score 0.5410476897541794\n",
      "test score 0.5010531201881003\n"
     ]
    },
    {
     "name": "stderr",
     "output_type": "stream",
     "text": [
      "C:\\Users\\zacha\\anaconda3\\lib\\site-packages\\ipykernel_launcher.py:4: DeprecationWarning: Calling Family(..) with a link class as argument is deprecated.\n",
      "Use an instance of a link class instead.\n",
      "  after removing the cwd from sys.path.\n"
     ]
    }
   ],
   "source": [
    "sm_X = X_train\n",
    "sm_X = sm.add_constant(sm_X)\n",
    "sm_y = y_train\n",
    "gamma_model = sm.GLM(sm_y, sm_X, family = sm.families.Gamma(link = sm.families.links.log)).fit()\n",
    "\n",
    "gamma_train_preds = gamma_model.predict(sm.add_constant(X_train))\n",
    "gamma_test_preds = gamma_model.predict(sm.add_constant(X_test))\n",
    "preds_gamma = gamma_model.predict(sm.add_constant(X))\n",
    "\n",
    "print(f'train score {metric.r2_score(y_train,gamma_train_preds)}')\n",
    "print(f'test score {metric.r2_score(y_test,gamma_test_preds)}')"
   ]
  },
  {
   "cell_type": "markdown",
   "metadata": {},
   "source": [
    "#### Create Dataframe to view these Predictions"
   ]
  },
  {
   "cell_type": "code",
   "execution_count": 169,
   "metadata": {
    "ExecuteTime": {
     "end_time": "2020-07-13T01:30:27.053482Z",
     "start_time": "2020-07-13T01:30:27.040748Z"
    }
   },
   "outputs": [],
   "source": [
    "df_subgroup = df_regress.loc[subgroup,:].copy()\n",
    "df_subgroup['svr_predictions'] = preds_svr\n",
    "df_subgroup['gamma_predictions'] = preds_gamma\n",
    "df_subgroup['actual_fill_time'] = df_subgroup['hours_after_midnight']\n",
    "\n",
    "df_subgroup['date_x'] = pd.to_datetime(df_subgroup['date_x'])\n",
    "df_subgroup.set_index('date_x', inplace=True)"
   ]
  },
  {
   "cell_type": "markdown",
   "metadata": {
    "ExecuteTime": {
     "end_time": "2020-07-12T15:26:37.318514Z",
     "start_time": "2020-07-12T15:26:37.316520Z"
    }
   },
   "source": [
    "#### The Plot"
   ]
  },
  {
   "cell_type": "code",
   "execution_count": 170,
   "metadata": {
    "ExecuteTime": {
     "end_time": "2020-07-13T01:30:27.932477Z",
     "start_time": "2020-07-13T01:30:27.668193Z"
    },
    "scrolled": false
   },
   "outputs": [
    {
     "data": {
      "image/png": "[encoded data removed]",
      "text/plain": [
       "<Figure size 1080x648 with 1 Axes>"
      ]
     },
     "metadata": {
      "needs_background": "light"
     },
     "output_type": "display_data"
    }
   ],
   "source": [
    "year_filter = 2016\n",
    "\n",
    "df_to_plot = df_subgroup.loc[\n",
    "    (df_subgroup['year']==year_filter)\n",
    "    & (df_subgroup['high_season']==1)\n",
    "    ,['actual_fill_time','svr_predictions','gamma_predictions']]\n",
    "\n",
    "plt.figure(figsize=(15,9))\n",
    "\n",
    "plt.title(f'Rising Sun Campground: July & August {year_filter} \\nActual and Predicted Fill Times',\n",
    "          fontsize = 16)\n",
    "\n",
    "plt.yticks(range(6,19))\n",
    "plt.ylim(6,18)\n",
    "plt.ylabel('Time of Day (Hours after Midnight)',\n",
    "           fontsize = 14)\n",
    "\n",
    "plt.bar(x = df_to_plot.index, height = df_to_plot['actual_fill_time'],\n",
    "       label = 'Actual Fill Time',\n",
    "       color = 'skyblue')\n",
    "\n",
    "plt.plot(df_to_plot['svr_predictions'],\n",
    "         label = 'Support Vector Regression',\n",
    "         color = 'black')\n",
    "\n",
    "plt.plot(df_to_plot['gamma_predictions'],\n",
    "        label = 'Gamma General Linear Model',\n",
    "        color = 'orange')\n",
    "\n",
    "plt.axhline(df_to_plot['actual_fill_time'].mean(), ls='--',\n",
    "           label = 'Average Fill Time across Dates Shown',\n",
    "           color = 'deepskyblue')\n",
    "plt.legend(fontsize = 12);\n",
    "\n",
    "# plt.plot(df_to_plot['actual_fill_time'],\n",
    "#          label = 'Actual Fill Time',\n",
    "#          color = 'skyblue')"
   ]
  },
  {
   "cell_type": "code",
   "execution_count": null,
   "metadata": {
    "ExecuteTime": {
     "end_time": "2020-07-12T14:51:07.828311Z",
     "start_time": "2020-07-12T14:51:07.798392Z"
    }
   },
   "outputs": [],
   "source": [
    "df_subgroup"
   ]
  },
  {
   "cell_type": "markdown",
   "metadata": {},
   "source": [
    "### Graphic for AQI at Many Glacier September 2017"
   ]
  },
  {
   "cell_type": "code",
   "execution_count": null,
   "metadata": {
    "ExecuteTime": {
     "end_time": "2020-07-10T17:48:22.205852Z",
     "start_time": "2020-07-10T17:48:22.071179Z"
    }
   },
   "outputs": [],
   "source": [
    "extract_to_plot = df.loc[(df['cg_name']=='Many Glacier')\n",
    "                         & (df['month_num']==9)\n",
    "                         & (df['year']==2017)\n",
    "                         & (df['day_of_month']<15)].set_index('day_of_month')['aqi']\n",
    "plt.figure(figsize=(12,8))\n",
    "\n",
    "\n",
    "plt.plot(extract_to_plot,\n",
    "        color = 'black',\n",
    "        lw = 4)\n",
    "\n",
    "plt.xlabel('Day of Month in September 2017',fontsize=16)\n",
    "plt.ylabel('Daily Air Quality Level',fontsize=16)\n",
    "plt.title('Air Quality Index Levels in Flathead County',fontsize=20)\n",
    "\n",
    "plt.axhspan(0,50,color='green',)\n",
    "plt.axhspan(50,100,color='yellow')\n",
    "plt.axhspan(100,150,color='orange')\n",
    "plt.axhspan(150,200,color='red')\n",
    "plt.axhspan(200,300,color='purple')\n",
    "\n",
    "plt.xticks(np.arange(1,15,1))\n",
    "plt.yticks(np.arange(0,325,25));\n"
   ]
  },
  {
   "cell_type": "markdown",
   "metadata": {},
   "source": [
    "### Graphic for Annual Visitors vs Fill Days"
   ]
  },
  {
   "cell_type": "code",
   "execution_count": null,
   "metadata": {
    "ExecuteTime": {
     "end_time": "2020-07-10T17:48:24.566187Z",
     "start_time": "2020-07-10T17:48:24.349768Z"
    }
   },
   "outputs": [],
   "source": [
    "yearly_visits = df.loc[(df['cg_name']=='Apgar') & (df['day_of_month']==1)].groupby('year')['visits'].sum()\n",
    "yearly_fills = df.groupby('year')['did_fill'].mean()\n",
    "the_corr = np.round(np.corrcoef(yearly_visits,yearly_fills)[0][1],2)\n",
    "\n",
    "fig_dims = (15,9)\n",
    "fig, ax1 = plt.subplots(figsize = fig_dims)\n",
    "\n",
    "ax2 = ax1.twinx()\n",
    "ax2.plot(yearly_visits,color = 'red')\n",
    "ax1.plot(yearly_fills)\n",
    "\n",
    "ax2.set_yticks(range(0,3_000_001,300_000))\n",
    "ax1.set_yticks(np.round([0.1*i for i in range(0,11)],2))\n",
    "\n",
    "ax2.set_ylabel('Total GNP Annual Visitors (Millions)',fontsize = 14,color = 'red')\n",
    "ax1.set_ylabel('Total GNP Campground Fills / Total GNP Available Campground Days',fontsize = 14,color='blue')\n",
    "ax1.set_xticks(range(2000,2020))\n",
    "\n",
    "plt.grid()\n",
    "ax1.set_facecolor(color = 'whitesmoke')\n",
    "\n",
    "plt.title(f'Campground Demand vs Visitors in Glacier National Park \\n Correlation of {the_corr} from 2000 to 2019',fontsize = 24);\n"
   ]
  },
  {
   "cell_type": "markdown",
   "metadata": {
    "ExecuteTime": {
     "end_time": "2020-06-07T15:55:07.554004Z",
     "start_time": "2020-06-07T15:55:07.551043Z"
    }
   },
   "source": [
    "### Graphic for Fill Time Distribution"
   ]
  },
  {
   "cell_type": "code",
   "execution_count": null,
   "metadata": {
    "ExecuteTime": {
     "end_time": "2020-07-10T17:48:25.684887Z",
     "start_time": "2020-07-10T17:48:25.400041Z"
    }
   },
   "outputs": [],
   "source": [
    "series_to_plot = df_regress['hours_after_midnight']\n",
    "\n",
    "fig_dims = (15,9)\n",
    "\n",
    "fig,ax = plt.subplots(1,2,\n",
    "                     figsize = fig_dims)\n",
    "\n",
    "sns.distplot(series_to_plot, ax = ax[0])\n",
    "sns.distplot(np.log(series_to_plot), ax = ax[1])\n",
    "\n",
    "ax[0].set_ylabel('Unit Space',fontsize = 16)\n",
    "ax[1].set_ylabel('Log Space',fontsize = 16)\n",
    "ax[0].set_xlabel('Hours after Midnight')\n",
    "ax[1].set_xlabel('Log of Hours after Midnight');"
   ]
  },
  {
   "cell_type": "markdown",
   "metadata": {},
   "source": [
    "### Air Quality Plot to Identify Prominent Fires"
   ]
  },
  {
   "cell_type": "code",
   "execution_count": null,
   "metadata": {
    "ExecuteTime": {
     "end_time": "2020-07-10T17:48:31.329911Z",
     "start_time": "2020-07-10T17:48:31.181762Z"
    }
   },
   "outputs": [],
   "source": [
    "daily_air_quality = df.loc[df['cg_name']=='Apgar',['date_x','aqi']]\n",
    "\n",
    "daily_air_quality['date_x']=pd.to_datetime(daily_air_quality['date_x'])\n",
    "\n",
    "daily_air_quality.set_index('date_x',inplace=True)\n",
    "\n",
    "plt.figure(figsize=(16,12))\n",
    "\n",
    "plt.plot(daily_air_quality.resample('M').mean());"
   ]
  },
  {
   "cell_type": "code",
   "execution_count": null,
   "metadata": {},
   "outputs": [],
   "source": []
  }
 ],
 "metadata": {
  "kernelspec": {
   "display_name": "Python 3",
   "language": "python",
   "name": "python3"
  },
  "language_info": {
   "codemirror_mode": {
    "name": "ipython",
    "version": 3
   },
   "file_extension": ".py",
   "mimetype": "text/x-python",
   "name": "python",
   "nbconvert_exporter": "python",
   "pygments_lexer": "ipython3",
   "version": "3.7.6"
  }
 },
 "nbformat": 4,
 "nbformat_minor": 4
}
