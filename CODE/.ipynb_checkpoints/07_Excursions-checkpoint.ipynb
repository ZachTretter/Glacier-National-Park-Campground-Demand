{
 "cells": [
  {
   "cell_type": "markdown",
   "metadata": {},
   "source": [
    "Zach Tretter\n",
    "\n",
    "June 2020\n",
    "\n",
    "---------"
   ]
  },
  {
   "cell_type": "markdown",
   "metadata": {
    "ExecuteTime": {
     "end_time": "2020-06-03T15:24:57.463663Z",
     "start_time": "2020-06-03T15:24:57.459673Z"
    }
   },
   "source": [
    "# Step 6 - Modeling\n",
    "\n",
    "### [Data Dictionary](#Feature-Dictionary)\n",
    "\n",
    "-----------\n",
    "\n",
    "### [Classification](#Classification-Models) \n",
    "Predict if a GNP Campground fills up on a given day via\n",
    "\n",
    "* Logistic Regression\n",
    "* ADA Boost\n",
    "* Support Vector\n",
    "* Random Forest\n",
    "* Neural Network\n",
    "* [Model Comparision](#Classification-Model-Comparison)\n",
    "    \n",
    "-----------\n",
    "    \n",
    "### [Regression](#Regression-Models)\n",
    "Predict at what time of a day a GNP Campground fills up via\n",
    "* Neural Network\n",
    "* Ordinary Least Squares\n",
    "* Ridge\n",
    "* Gamma GLM\n",
    "* [Model Comparison](#Regression-Model-Comparison)\n",
    "    \n",
    "-------------\n",
    "\n",
    "\n",
    "### [Time Series](#Time-Series-Models)\n",
    "\n",
    "* AR\n",
    "* ARMA\n",
    "* SARIMAX\n",
    "* Recurrent Neural Network\n",
    "\n",
    "---------------\n",
    "\n",
    "[Graphics used in Presentation](#GRAPHICS)"
   ]
  },
  {
   "cell_type": "markdown",
   "metadata": {},
   "source": [
    "## Imports"
   ]
  },
  {
   "cell_type": "code",
   "execution_count": 220,
   "metadata": {
    "ExecuteTime": {
     "end_time": "2020-07-12T15:42:49.549038Z",
     "start_time": "2020-07-12T15:42:49.542056Z"
    }
   },
   "outputs": [],
   "source": [
    "import os\n",
    "import pandas as pd\n",
    "import numpy as np\n",
    "import matplotlib.pyplot as plt\n",
    "import matplotlib.dates as mdates\n",
    "import seaborn as sns\n",
    "import collections\n",
    "from scipy import stats\n",
    "import datetime\n",
    "\n",
    "# General\n",
    "from sklearn.model_selection import train_test_split, GridSearchCV\n",
    "from sklearn.preprocessing import StandardScaler\n",
    "from sklearn.pipeline import Pipeline\n",
    "\n",
    "# Classification\n",
    "from sklearn.metrics import f1_score, classification_report, confusion_matrix, roc_curve\n",
    "import sklearn.metrics as metric\n",
    "from sklearn.linear_model import LogisticRegression\n",
    "from sklearn.ensemble import AdaBoostClassifier, RandomForestClassifier\n",
    "from sklearn.svm import SVC\n",
    "from sklearn.naive_bayes import BernoulliNB\n",
    "\n",
    "# Regression\n",
    "from sklearn.linear_model import LinearRegression, Ridge, Lasso\n",
    "import statsmodels.api as sm\n",
    "from sklearn.svm import SVR\n",
    "from sklearn.ensemble import AdaBoostRegressor\n",
    "from sklearn.neighbors import KNeighborsRegressor\n",
    "\n",
    "\n",
    "# Neural Networks\n",
    "from tensorflow.keras.models import Sequential\n",
    "from tensorflow.keras.layers import Dense"
   ]
  },
  {
   "cell_type": "markdown",
   "metadata": {},
   "source": [
    "#### Read in the Source Data"
   ]
  },
  {
   "cell_type": "code",
   "execution_count": 2,
   "metadata": {
    "ExecuteTime": {
     "end_time": "2020-07-12T14:39:51.734522Z",
     "start_time": "2020-07-12T14:39:51.597725Z"
    }
   },
   "outputs": [],
   "source": [
    "df = pd.read_csv('../data/04_Full_DataFrame.csv',\n",
    "                index_col = 'key_name_date')"
   ]
  },
  {
   "cell_type": "markdown",
   "metadata": {},
   "source": [
    "#### Limit to Only Valid Data Points\n",
    "* 'Available' denotes if a campground was open a given date\n",
    "* All of 2003 is excluded due to the Roberts Fire that significantly impacted the park for most of the summer"
   ]
  },
  {
   "cell_type": "code",
   "execution_count": 3,
   "metadata": {
    "ExecuteTime": {
     "end_time": "2020-07-12T14:39:51.751432Z",
     "start_time": "2020-07-12T14:39:51.735475Z"
    }
   },
   "outputs": [
    {
     "data": {
      "text/plain": [
       "(29046, 37)"
      ]
     },
     "execution_count": 3,
     "metadata": {},
     "output_type": "execute_result"
    }
   ],
   "source": [
    "df = df[(df['available']==1)\n",
    "       & (df['year']!=2003)]\n",
    "df.shape"
   ]
  },
  {
   "cell_type": "code",
   "execution_count": 4,
   "metadata": {
    "ExecuteTime": {
     "end_time": "2020-07-12T14:39:51.781351Z",
     "start_time": "2020-07-12T14:39:51.752430Z"
    }
   },
   "outputs": [
    {
     "name": "stdout",
     "output_type": "stream",
     "text": [
      "<class 'pandas.core.frame.DataFrame'>\n",
      "Index: 29046 entries, 2000-05-01_Apga to 2019-09-30_StMa\n",
      "Data columns (total 37 columns):\n",
      " #   Column                Non-Null Count  Dtype  \n",
      "---  ------                --------------  -----  \n",
      " 0   cg_name               29046 non-null  object \n",
      " 1   date_x                29046 non-null  object \n",
      " 2   did_fill              29046 non-null  int64  \n",
      " 3   available             29046 non-null  int64  \n",
      " 4   time_24               29046 non-null  object \n",
      " 5   hours_after_midnight  29046 non-null  float64\n",
      " 6   year                  29046 non-null  int64  \n",
      " 7   month_num             29046 non-null  int64  \n",
      " 8   month_text            29046 non-null  object \n",
      " 9   day_of_year           29046 non-null  int64  \n",
      " 10  day_of_month          29046 non-null  int64  \n",
      " 11  weekday               29046 non-null  object \n",
      " 12  high_season           29046 non-null  int64  \n",
      " 13  weekend               29046 non-null  int64  \n",
      " 14  holiday               29046 non-null  int64  \n",
      " 15  logan_pass            29046 non-null  int64  \n",
      " 16  aqi                   29046 non-null  int64  \n",
      " 17  ozone                 29046 non-null  int64  \n",
      " 18  PM10                  29046 non-null  int64  \n",
      " 19  PM25                  29046 non-null  int64  \n",
      " 20  visits                29046 non-null  int64  \n",
      " 21  fee                   29046 non-null  int64  \n",
      " 22  sites                 29046 non-null  int64  \n",
      " 23  flush_toilets         29046 non-null  int64  \n",
      " 24  showers               29046 non-null  int64  \n",
      " 25  disposal_station      29046 non-null  int64  \n",
      " 26  reservations          29046 non-null  int64  \n",
      " 27  rv                    29046 non-null  int64  \n",
      " 28  primitive             29046 non-null  int64  \n",
      " 29  isolated              29046 non-null  int64  \n",
      " 30  cg_supply_y           29046 non-null  int64  \n",
      " 31  PRCP                  29046 non-null  float64\n",
      " 32  SNOW                  29046 non-null  float64\n",
      " 33  TMAX                  29046 non-null  float64\n",
      " 34  TMIN                  29046 non-null  float64\n",
      " 35  did_PRCP              29046 non-null  int64  \n",
      " 36  did_SNOW              29046 non-null  int64  \n",
      "dtypes: float64(5), int64(27), object(5)\n",
      "memory usage: 8.4+ MB\n"
     ]
    }
   ],
   "source": [
    "df.info()"
   ]
  },
  {
   "cell_type": "markdown",
   "metadata": {},
   "source": [
    "---------\n",
    "\n",
    "\n",
    "# Feature Dictionary\n",
    "\n",
    "--------\n",
    "|     Features     |       Grouping       | Data Type |                           Description                          | Variation Across Time | Variation across Campground |\n",
    "|:----------------:|:--------------------:|:---------:|:--------------------------------------------------------------:|:---------------------:|:---------------------------:|\n",
    "|    high_season   |         Date         |  Boolean  |                   1 if July or August, else 0                  |        Monthly        |             None            |\n",
    "|      weekend     |         Date         |  Boolean  |                     1 if Fri or Sat, else 0                    |         Weekly        |             None            |\n",
    "|      holiday     |         Date         |  Boolean  |                      1 if holiday, else 0                      |         Daily         |             None            |\n",
    "|    logan_pass    |         Date         |  Boolean  |                 1 if Logan's pass open, else 0                 |         Daily         |             None            |\n",
    "|        aqi       |      Air Quality     |    Int    |                    Air Quality Index by date                   |         Daily         |             None            |\n",
    "|       ozone      |      Air Quality     |    Int    |                 daily avg concetration of ozone                |         Daily         |             None            |\n",
    "|       PM10       |      Air Quality     |    Int    |  daily avg concentration particulate matter smaller than 10 mm |         Daily         |             None            |\n",
    "|       PM25       |      Air Quality     |    Int    | daily avg concentration particulate matter smaller than 2.5 mm |         Daily         |             None            |\n",
    "|      visits      |        Unique        |    Int    |                 Monthly visitors to GNP by year                |        Monthly        |             None            |\n",
    "|        fee       | Campground Attribute |    Int    |             Total supply of other campground sites             |          None         |             Yes             |\n",
    "|       sites      | Campground Attribute |    Int    |                  Number of sites at campground                 |          None         |             Yes             |\n",
    "|   flush_toilets  | Campground Attribute |  Boolean  |                1 if campground has flush toilets               |          None         |             Yes             |\n",
    "|      showers     | Campground Attribute |  Boolean  |                   1 if campground has showers                  |          None         |             Yes             |\n",
    "| disposal_station | Campground Attribute |  Boolean  |              1 if campground has disposal stations             |          None         |             Yes             |\n",
    "|   reservations   | Campground Attribute |  Boolean  |               1 if campground takes reservations               |          None         |             Yes             |\n",
    "|        rv        | Campground Attribute |  Boolean  |                   1 if campground allows RVs                   |          None         |             Yes             |\n",
    "|     primitive    | Campground Attribute |  Boolean  |                  1 if campground is primitive                  |          None         |             Yes             |\n",
    "|     isolated     | Campground Attribute |  Boolean  |       1 if campground is isolated (none others close by)       |          None         |             Yes             |\n",
    "|     cg_supply    |        Unique        |    Int    |             Total supply of other campground sites             |         Daily         |             None            |\n",
    "|       PRCP       |        Weather       |   Float   |                  Daily precipitation (inches)                  |         Daily         |           Partial           |\n",
    "|       SNOW       |        Weather       |   Float   |                     Daily snowfall (inches)                    |         Daily         |           Partial           |\n",
    "|       TMAX       |        Weather       |    Int    |                      Daily temperature max                     |         Daily         |           Partial           |\n",
    "|       TMIN       |        Weather       |    Int    |                      Daily temperature min                     |         Daily         |           Partial           |\n",
    "|     did_PRCP     |        Weather       |  Boolean  |                       1 if rained on date                      |         Daily         |           Partial           |\n",
    "|     did_Snow     |        Weather       |  Boolean  |                       1 if snowed on date                      |         Daily         |           Partial           |\n"
   ]
  },
  {
   "cell_type": "markdown",
   "metadata": {},
   "source": [
    "### Review Features"
   ]
  },
  {
   "cell_type": "markdown",
   "metadata": {},
   "source": [
    "#### Date Features"
   ]
  },
  {
   "cell_type": "code",
   "execution_count": 5,
   "metadata": {
    "ExecuteTime": {
     "end_time": "2020-07-12T14:39:51.786369Z",
     "start_time": "2020-07-12T14:39:51.782385Z"
    }
   },
   "outputs": [],
   "source": [
    "date_features = ['high_season',\n",
    "                 'weekend',\n",
    "                 'holiday',\n",
    "                 'logan_pass']"
   ]
  },
  {
   "cell_type": "markdown",
   "metadata": {},
   "source": [
    "#### Air Quality Features"
   ]
  },
  {
   "cell_type": "code",
   "execution_count": 6,
   "metadata": {
    "ExecuteTime": {
     "end_time": "2020-07-12T14:39:51.795350Z",
     "start_time": "2020-07-12T14:39:51.787336Z"
    }
   },
   "outputs": [],
   "source": [
    "air_features = ['aqi',\n",
    "                'ozone',\n",
    "                'PM10',\n",
    "                'PM25']"
   ]
  },
  {
   "cell_type": "markdown",
   "metadata": {},
   "source": [
    "#### Campground Features"
   ]
  },
  {
   "cell_type": "code",
   "execution_count": 7,
   "metadata": {
    "ExecuteTime": {
     "end_time": "2020-07-12T14:39:51.804340Z",
     "start_time": "2020-07-12T14:39:51.796311Z"
    }
   },
   "outputs": [],
   "source": [
    "cg_features = ['fee',\n",
    "               'sites',\n",
    "               'flush_toilets',\n",
    "               'showers',\n",
    "               'disposal_station',\n",
    "               'reservations',\n",
    "               'rv','primitive',\n",
    "               'isolated']\n",
    "\n",
    "cg_features_keep = ['sites',\n",
    "                    'primitive',\n",
    "                    'showers']\n",
    "\n",
    "cg_features_exclude = [i for i in cg_features if i not in cg_features_keep]"
   ]
  },
  {
   "cell_type": "code",
   "execution_count": 8,
   "metadata": {
    "ExecuteTime": {
     "end_time": "2020-07-12T14:39:51.824284Z",
     "start_time": "2020-07-12T14:39:51.805288Z"
    }
   },
   "outputs": [
    {
     "data": {
      "text/html": [
       "<div>\n",
       "<style scoped>\n",
       "    .dataframe tbody tr th:only-of-type {\n",
       "        vertical-align: middle;\n",
       "    }\n",
       "\n",
       "    .dataframe tbody tr th {\n",
       "        vertical-align: top;\n",
       "    }\n",
       "\n",
       "    .dataframe thead th {\n",
       "        text-align: right;\n",
       "    }\n",
       "</style>\n",
       "<table border=\"1\" class=\"dataframe\">\n",
       "  <thead>\n",
       "    <tr style=\"text-align: right;\">\n",
       "      <th></th>\n",
       "      <th>sites</th>\n",
       "      <th>primitive</th>\n",
       "      <th>showers</th>\n",
       "    </tr>\n",
       "  </thead>\n",
       "  <tbody>\n",
       "    <tr>\n",
       "      <th>sites</th>\n",
       "      <td>1.000000</td>\n",
       "      <td>-0.559400</td>\n",
       "      <td>0.472593</td>\n",
       "    </tr>\n",
       "    <tr>\n",
       "      <th>primitive</th>\n",
       "      <td>-0.559400</td>\n",
       "      <td>1.000000</td>\n",
       "      <td>-0.271204</td>\n",
       "    </tr>\n",
       "    <tr>\n",
       "      <th>showers</th>\n",
       "      <td>0.472593</td>\n",
       "      <td>-0.271204</td>\n",
       "      <td>1.000000</td>\n",
       "    </tr>\n",
       "  </tbody>\n",
       "</table>\n",
       "</div>"
      ],
      "text/plain": [
       "              sites  primitive   showers\n",
       "sites      1.000000  -0.559400  0.472593\n",
       "primitive -0.559400   1.000000 -0.271204\n",
       "showers    0.472593  -0.271204  1.000000"
      ]
     },
     "execution_count": 8,
     "metadata": {},
     "output_type": "execute_result"
    }
   ],
   "source": [
    "df[cg_features_keep].corr()"
   ]
  },
  {
   "cell_type": "markdown",
   "metadata": {},
   "source": [
    "#### Weather Features"
   ]
  },
  {
   "cell_type": "code",
   "execution_count": 9,
   "metadata": {
    "ExecuteTime": {
     "end_time": "2020-07-12T14:39:51.952893Z",
     "start_time": "2020-07-12T14:39:51.949937Z"
    }
   },
   "outputs": [],
   "source": [
    "wx_features = ['PRCP',\n",
    "               'SNOW',\n",
    "               'TMAX',\n",
    "               'TMIN',\n",
    "               'did_PRCP',\n",
    "               'did_SNOW']"
   ]
  },
  {
   "cell_type": "markdown",
   "metadata": {},
   "source": [
    "#### Final Feature Set"
   ]
  },
  {
   "cell_type": "code",
   "execution_count": 10,
   "metadata": {
    "ExecuteTime": {
     "end_time": "2020-07-12T14:39:53.450485Z",
     "start_time": "2020-07-12T14:39:53.444498Z"
    }
   },
   "outputs": [
    {
     "data": {
      "text/plain": [
       "['high_season',\n",
       " 'weekend',\n",
       " 'holiday',\n",
       " 'logan_pass',\n",
       " 'aqi',\n",
       " 'ozone',\n",
       " 'PM10',\n",
       " 'PM25',\n",
       " 'visits',\n",
       " 'sites',\n",
       " 'showers',\n",
       " 'primitive',\n",
       " 'cg_supply_y',\n",
       " 'PRCP',\n",
       " 'SNOW',\n",
       " 'TMAX',\n",
       " 'TMIN',\n",
       " 'did_PRCP',\n",
       " 'did_SNOW']"
      ]
     },
     "execution_count": 10,
     "metadata": {},
     "output_type": "execute_result"
    }
   ],
   "source": [
    "features = df.columns[12:]\n",
    "features = [i for i in features if i not in cg_features_exclude]\n",
    "features"
   ]
  },
  {
   "cell_type": "code",
   "execution_count": 11,
   "metadata": {
    "ExecuteTime": {
     "end_time": "2020-07-12T14:39:55.780552Z",
     "start_time": "2020-07-12T14:39:54.908023Z"
    }
   },
   "outputs": [
    {
     "data": {
      "image/png": "[encoded data removed]",
      "text/plain": [
       "<Figure size 1728x1728 with 2 Axes>"
      ]
     },
     "metadata": {
      "needs_background": "light"
     },
     "output_type": "display_data"
    }
   ],
   "source": [
    "plt.figure(figsize=(24,24))\n",
    "\n",
    "corr_cont = df[['did_fill'] + features].corr()\n",
    "\n",
    "plt.title('Correlation of Features');\n",
    "\n",
    "sns.heatmap(corr_cont,\n",
    "            annot = True,\n",
    "            cmap = 'coolwarm', \n",
    "            vmin = -1,\n",
    "            vmax = 1,\n",
    "            mask=np.triu(corr_cont));"
   ]
  },
  {
   "cell_type": "markdown",
   "metadata": {
    "ExecuteTime": {
     "end_time": "2020-06-04T01:28:29.578185Z",
     "start_time": "2020-06-04T01:28:29.573199Z"
    }
   },
   "source": [
    "---------\n",
    "\n",
    "\n",
    "\n",
    "---------\n",
    "\n",
    "\n",
    "\n",
    "----------\n"
   ]
  },
  {
   "cell_type": "markdown",
   "metadata": {},
   "source": [
    "# Classification Models\n",
    "\n",
    "#### Predict if a campground fills up on a given day"
   ]
  },
  {
   "cell_type": "markdown",
   "metadata": {},
   "source": [
    "#### Function to Report Results by Category and Model for Classification Models"
   ]
  },
  {
   "cell_type": "code",
   "execution_count": 12,
   "metadata": {
    "ExecuteTime": {
     "end_time": "2020-07-12T14:40:00.631267Z",
     "start_time": "2020-07-12T14:40:00.620298Z"
    }
   },
   "outputs": [],
   "source": [
    "def Results_by_Category_Class(MODEL,\n",
    "                              dataframe,\n",
    "                              feature_list,\n",
    "                              label_name,\n",
    "                              group_on = None,\n",
    "                              sort_by='Test Acc Over Baseline'):\n",
    "    \n",
    "    X = dataframe[feature_list]\n",
    "    y = dataframe[label_name]\n",
    "    \n",
    "    model_name = str(MODEL).split('(')[0]\n",
    "    \n",
    "    # Create Empty Dictionary to record scores for each category\n",
    "    grouping_scores = {}\n",
    "\n",
    "    # Add an 'All' to reflect all data points\n",
    "    if group_on != None:\n",
    "        categories = [model_name] + list(dataframe[group_on].unique())\n",
    "    else:\n",
    "        categories = [model_name]\n",
    "    \n",
    "    for category in categories:\n",
    "        \n",
    "        # Don't know a better way to do this\n",
    "        if category == model_name:\n",
    "            subset_X, subset_y = X, y\n",
    "        else:\n",
    "            subset_X_indices = dataframe.loc[dataframe[group_on]==category].index\n",
    "            subset_X = X.loc[subset_X_indices]\n",
    "            subset_y_indices = dataframe.loc[dataframe[group_on]==category].index\n",
    "            subset_y = y.loc[subset_y_indices]\n",
    "        \n",
    "        # Train Test Split specific to this group\n",
    "        subset_X_train, subset_X_test, subset_y_train, subset_y_test = train_test_split(subset_X, subset_y,\n",
    "                                                                            random_state = 111,\n",
    "                                                                            stratify = subset_y)\n",
    "        # Standard Scale\n",
    "        sc = StandardScaler()\n",
    "        subset_X_train = sc.fit_transform(subset_X_train)\n",
    "        subset_X_test = sc.transform(subset_X_test)\n",
    "\n",
    "        # Instantiate and Fit Model\n",
    "        subset_model = MODEL\n",
    "        subset_model.fit(subset_X_train, subset_y_train)\n",
    "        \n",
    "        # Generate Predictions\n",
    "        subset_predictions_train = subset_model.predict(subset_X_train)\n",
    "        subset_predictions_test = subset_model.predict(subset_X_test)\n",
    "\n",
    "        # Confusion Matrix for Classification Metrics\n",
    "        tn, fp, fn, tp = confusion_matrix(subset_y_test, subset_predictions_test).ravel()\n",
    "\n",
    "        grouping_scores[category]={\n",
    "            \"Observations\":subset_y.shape[0],\n",
    "            \"Incidence\":subset_y.sum(),\n",
    "            \"Prevalence\":subset_y.mean(),\n",
    "            \"Majority\":max(subset_y.mean(),1-subset_y.mean()),\n",
    "            \"Train Acc\":subset_model.score(subset_X_train,subset_y_train),\n",
    "            \"Test Acc\":subset_model.score(subset_X_test,subset_y_test),\n",
    "            \"Test Acc Over Baseline\":subset_model.score(subset_X_test,subset_y_test) - max(subset_y.mean(),1-subset_y.mean()),\n",
    "#             \"Train F1\" :f1_score(subset_y_train, subset_predictions_train),\n",
    "            \"Test F1\" :f1_score(subset_y_test, subset_predictions_test),\n",
    "            \"Sensitivity\" : tp / (tp + fn),\n",
    "            \"Specificity\" : tn / (tn + fp),\n",
    "            \"PPV\" : tp / (tp + fp),\n",
    "            \"NPV\" : tn / (tn + fn)\n",
    "        }\n",
    "           \n",
    "    return np.round(pd.DataFrame(grouping_scores).T,2).sort_values([sort_by],ascending=False)"
   ]
  },
  {
   "cell_type": "markdown",
   "metadata": {},
   "source": [
    "#### Specify the Dataframe for Classification"
   ]
  },
  {
   "cell_type": "code",
   "execution_count": 13,
   "metadata": {
    "ExecuteTime": {
     "end_time": "2020-07-12T14:40:02.927830Z",
     "start_time": "2020-07-12T14:40:02.924838Z"
    }
   },
   "outputs": [],
   "source": [
    "# To reset and undo any filters\n",
    "df_class = df \n",
    "\n",
    "# class_filters = (df['month_num']!=5)\n",
    "# df_class = df_class[class_filters]"
   ]
  },
  {
   "cell_type": "markdown",
   "metadata": {
    "ExecuteTime": {
     "end_time": "2020-06-08T14:14:31.458954Z",
     "start_time": "2020-06-08T14:14:31.455005Z"
    }
   },
   "source": [
    "#### Identify X and y"
   ]
  },
  {
   "cell_type": "code",
   "execution_count": 14,
   "metadata": {
    "ExecuteTime": {
     "end_time": "2020-07-12T14:40:03.475826Z",
     "start_time": "2020-07-12T14:40:03.468829Z"
    }
   },
   "outputs": [],
   "source": [
    "X = df_class[features]\n",
    "y = df_class['did_fill']"
   ]
  },
  {
   "cell_type": "markdown",
   "metadata": {},
   "source": [
    "#### Train Test Split with Stratify"
   ]
  },
  {
   "cell_type": "code",
   "execution_count": 15,
   "metadata": {
    "ExecuteTime": {
     "end_time": "2020-07-12T14:40:04.222975Z",
     "start_time": "2020-07-12T14:40:04.195052Z"
    }
   },
   "outputs": [],
   "source": [
    "X_train, X_test, y_train, y_test = train_test_split(X, y,\n",
    "                                                   random_state = 111,\n",
    "                                                   stratify = y)"
   ]
  },
  {
   "cell_type": "markdown",
   "metadata": {},
   "source": [
    "#### Standard Scaler for Non Pipeline Models"
   ]
  },
  {
   "cell_type": "code",
   "execution_count": 16,
   "metadata": {
    "ExecuteTime": {
     "end_time": "2020-07-12T14:40:05.095742Z",
     "start_time": "2020-07-12T14:40:05.075794Z"
    }
   },
   "outputs": [],
   "source": [
    "sc = StandardScaler()\n",
    "X_train_sc = sc.fit_transform(X_train)\n",
    "X_test_sc = sc.transform(X_test)"
   ]
  },
  {
   "cell_type": "markdown",
   "metadata": {},
   "source": [
    "### Logistic Regression Classifier"
   ]
  },
  {
   "cell_type": "code",
   "execution_count": null,
   "metadata": {
    "ExecuteTime": {
     "end_time": "2020-07-10T16:42:52.274510Z",
     "start_time": "2020-07-10T16:42:52.166749Z"
    }
   },
   "outputs": [],
   "source": [
    "logistic_c_model = LogisticRegression(\n",
    "    penalty = 'l1',\n",
    "    solver = 'liblinear')\n",
    "\n",
    "logistic_c_model.fit(X_train_sc,y_train)\n",
    "\n",
    "logistic_c_model.score(X_test_sc,y_test)"
   ]
  },
  {
   "cell_type": "markdown",
   "metadata": {},
   "source": [
    "#### View Logistic Coefficients"
   ]
  },
  {
   "cell_type": "code",
   "execution_count": null,
   "metadata": {
    "ExecuteTime": {
     "end_time": "2020-07-10T16:42:53.538256Z",
     "start_time": "2020-07-10T16:42:53.535264Z"
    }
   },
   "outputs": [],
   "source": [
    "# pd.DataFrame(data=np.exp(logistic_c_model.coef_[0]),\n",
    "#             columns = ['Logistic Regression Coefficient'],\n",
    "#             index = features).sort_values('Logistic Regression Coefficient',\n",
    "#                                           ascending=False)"
   ]
  },
  {
   "cell_type": "markdown",
   "metadata": {},
   "source": [
    "### ADA Boost Classifier"
   ]
  },
  {
   "cell_type": "code",
   "execution_count": null,
   "metadata": {
    "ExecuteTime": {
     "end_time": "2020-07-10T16:42:56.588930Z",
     "start_time": "2020-07-10T16:42:54.406933Z"
    }
   },
   "outputs": [],
   "source": [
    "ada_c_model = AdaBoostClassifier(n_estimators = 150)\n",
    "\n",
    "ada_c_model.fit(X_train_sc, y_train)\n",
    "\n",
    "ada_c_model.score(X_test_sc,y_test)"
   ]
  },
  {
   "cell_type": "markdown",
   "metadata": {},
   "source": [
    "### Support Vector Classifier"
   ]
  },
  {
   "cell_type": "code",
   "execution_count": null,
   "metadata": {
    "ExecuteTime": {
     "end_time": "2020-07-10T16:43:07.274437Z",
     "start_time": "2020-07-10T16:42:57.813851Z"
    }
   },
   "outputs": [],
   "source": [
    "svc_c_model = SVC(C = 1.0)\n",
    "\n",
    "svc_c_model.fit(X_train_sc, y_train)\n",
    "\n",
    "svc_c_model.score(X_test_sc,y_test)"
   ]
  },
  {
   "cell_type": "markdown",
   "metadata": {},
   "source": [
    "### Random Forest Classifier"
   ]
  },
  {
   "cell_type": "code",
   "execution_count": null,
   "metadata": {
    "ExecuteTime": {
     "end_time": "2020-07-10T16:43:33.386289Z",
     "start_time": "2020-07-10T16:43:07.275468Z"
    },
    "scrolled": true
   },
   "outputs": [],
   "source": [
    "pipe = Pipeline([\n",
    "    ('ss', StandardScaler()),\n",
    "    ('rf',RandomForestClassifier())\n",
    "])\n",
    "\n",
    "params = {\n",
    "    'rf__n_estimators' : [50, 100, 150],\n",
    "    'rf__max_features': ['auto', 'log2'],\n",
    "    'rf__max_depth': [5,10,15],\n",
    "}\n",
    "\n",
    "gs_rf_c = GridSearchCV(pipe, params,\n",
    "                       cv = 5, n_jobs = 8,\n",
    "                       verbose = 1)\n",
    "\n",
    "gs_rf_c.fit(X_train, y_train)\n",
    "\n",
    "gs_rf_c.best_params_"
   ]
  },
  {
   "cell_type": "code",
   "execution_count": null,
   "metadata": {
    "ExecuteTime": {
     "end_time": "2020-07-10T16:43:33.465161Z",
     "start_time": "2020-07-10T16:43:33.387280Z"
    }
   },
   "outputs": [],
   "source": [
    "gs_rf_c.score(X_test_sc,y_test)"
   ]
  },
  {
   "cell_type": "markdown",
   "metadata": {},
   "source": [
    "## Bernoulli Naive Bayes"
   ]
  },
  {
   "cell_type": "code",
   "execution_count": null,
   "metadata": {
    "ExecuteTime": {
     "end_time": "2020-07-10T16:44:09.255197Z",
     "start_time": "2020-07-10T16:44:09.231218Z"
    }
   },
   "outputs": [],
   "source": [
    "bnb_c_model = BernoulliNB()\n",
    "\n",
    "bnb_c_model.fit(X_train_sc, y_train)\n",
    "\n",
    "bnb_c_model.score(X_test_sc,y_test)"
   ]
  },
  {
   "cell_type": "markdown",
   "metadata": {},
   "source": [
    "### Neural Network Classifier"
   ]
  },
  {
   "cell_type": "code",
   "execution_count": null,
   "metadata": {
    "ExecuteTime": {
     "end_time": "2020-07-10T16:44:14.691601Z",
     "start_time": "2020-07-10T16:44:10.660874Z"
    },
    "scrolled": false
   },
   "outputs": [],
   "source": [
    "model_NNClass = Sequential()\n",
    "\n",
    "model_NNClass.add(Dense(32, activation = 'relu',\n",
    "                        input_shape = X_train_sc[0].shape))\n",
    "\n",
    "model_NNClass.add(Dense(8, activation = 'relu'))\n",
    "\n",
    "model_NNClass.add(Dense(1, activation = 'sigmoid'))\n",
    "\n",
    "model_NNClass.compile(optimizer='adam',\n",
    "                      loss='binary_crossentropy',\n",
    "                      metrics = ['accuracy'])\n",
    "\n",
    "hist = model_NNClass.fit(X_train_sc, y_train,\n",
    "                         epochs = 50,\n",
    "                         batch_size= 512,\n",
    "                         validation_data = (X_test_sc, y_test),\n",
    "                         verbose = 0)"
   ]
  },
  {
   "cell_type": "markdown",
   "metadata": {},
   "source": [
    "#### View Neural Net Loss by Epoch"
   ]
  },
  {
   "cell_type": "code",
   "execution_count": null,
   "metadata": {
    "ExecuteTime": {
     "end_time": "2020-07-10T16:44:16.223078Z",
     "start_time": "2020-07-10T16:44:16.103428Z"
    }
   },
   "outputs": [],
   "source": [
    "plt.plot(hist.history['loss'], label = 'Train loss')\n",
    "plt.plot(hist.history['val_loss'], label = 'Test loss')\n",
    "plt.legend()"
   ]
  },
  {
   "cell_type": "markdown",
   "metadata": {},
   "source": [
    "## Classification Results by Subgroup - Campground"
   ]
  },
  {
   "cell_type": "code",
   "execution_count": null,
   "metadata": {
    "ExecuteTime": {
     "end_time": "2020-07-10T16:44:28.647358Z",
     "start_time": "2020-07-10T16:44:19.790316Z"
    }
   },
   "outputs": [],
   "source": [
    "classification_by_campground = Results_by_Category_Class(MODEL = AdaBoostClassifier(n_estimators = 150),\n",
    "                                                         dataframe = df_class,\n",
    "                                                         feature_list = features,\n",
    "                                                         label_name = 'did_fill',\n",
    "                                                         group_on = 'cg_name',\n",
    "                                                         sort_by = 'Test Acc Over Baseline')"
   ]
  },
  {
   "cell_type": "code",
   "execution_count": null,
   "metadata": {
    "ExecuteTime": {
     "end_time": "2020-07-10T16:44:30.126793Z",
     "start_time": "2020-07-10T16:44:30.110835Z"
    }
   },
   "outputs": [],
   "source": [
    "classification_by_campground"
   ]
  },
  {
   "cell_type": "markdown",
   "metadata": {},
   "source": [
    "## Classification Model Comparison"
   ]
  },
  {
   "cell_type": "markdown",
   "metadata": {},
   "source": [
    "#### Non Neural Network Models"
   ]
  },
  {
   "cell_type": "code",
   "execution_count": null,
   "metadata": {
    "ExecuteTime": {
     "end_time": "2020-07-10T16:45:12.335799Z",
     "start_time": "2020-07-10T16:44:43.343326Z"
    }
   },
   "outputs": [],
   "source": [
    "# List out the classification models\n",
    "classification_model_set = [logistic_c_model,\n",
    "                           ada_c_model,\n",
    "                           svc_c_model,\n",
    "                           gs_rf_c.best_estimator_,\n",
    "                           bnb_c_model]\n",
    "\n",
    "# Create an emtpy dataframe\n",
    "model_class_summary = pd.DataFrame()\n",
    "\n",
    "# For each model in our list record its performance and add it to the dataframe\n",
    "for i in classification_model_set:\n",
    "    model_class_summary = pd.concat([model_class_summary\n",
    "                                     ,Results_by_Category_Class(MODEL = i,\n",
    "                                                                dataframe = df_class,\n",
    "                                                                feature_list = features,\n",
    "                                                                label_name = 'did_fill',\n",
    "                                                                group_on = None,\n",
    "                                                                sort_by = 'Test Acc Over Baseline') ]) \n",
    "# Return the dataframe\n",
    "model_class_summary"
   ]
  },
  {
   "cell_type": "markdown",
   "metadata": {},
   "source": [
    "#### Clean up Resultant Dataframe"
   ]
  },
  {
   "cell_type": "code",
   "execution_count": null,
   "metadata": {
    "ExecuteTime": {
     "end_time": "2020-07-10T16:45:18.699101Z",
     "start_time": "2020-07-10T16:45:18.694114Z"
    }
   },
   "outputs": [],
   "source": [
    "classification_summary = model_class_summary[\n",
    "    ['Observations','Prevalence','Majority','Train Acc','Test Acc','Test Acc Over Baseline','Test F1']\n",
    "].rename(index={'Pipeline':'RandomForest'})"
   ]
  },
  {
   "cell_type": "markdown",
   "metadata": {},
   "source": [
    "#### Create Results for Neural Net Model (.predict vs .predict_classes)"
   ]
  },
  {
   "cell_type": "code",
   "execution_count": null,
   "metadata": {
    "ExecuteTime": {
     "end_time": "2020-07-10T16:45:21.429623Z",
     "start_time": "2020-07-10T16:45:20.926909Z"
    }
   },
   "outputs": [],
   "source": [
    "NNClass_Results = {\n",
    "    \"Observations\":y.shape[0],\n",
    "    \"Prevalence\":y.mean(),\n",
    "    \"Majority\":max(y.mean(),1-y.mean()),\n",
    "    'Train Acc':metric.accuracy_score(y_train,model_NNClass.predict_classes(X_train_sc)),\n",
    "    'Test Acc':metric.accuracy_score(y_test,model_NNClass.predict_classes(X_test_sc)),\n",
    "    'Test Acc Over Baseline':metric.accuracy_score(y_test,model_NNClass.predict_classes(X_test_sc)) - max(y.mean(),1-y.mean()),\n",
    "    'Test F1':f1_score(y_test,model_NNClass.predict_classes(X_test_sc)),  \n",
    "}\n",
    "\n",
    "nnc_dict = pd.DataFrame(NNClass_Results,index=['Neural Net Classifer'])"
   ]
  },
  {
   "cell_type": "markdown",
   "metadata": {},
   "source": [
    "#### Add Neural Networks to Dataframe"
   ]
  },
  {
   "cell_type": "code",
   "execution_count": null,
   "metadata": {
    "ExecuteTime": {
     "end_time": "2020-07-10T16:45:25.318973Z",
     "start_time": "2020-07-10T16:45:25.310995Z"
    }
   },
   "outputs": [],
   "source": [
    "results_df_classification = np.round(classification_summary.append(nnc_dict),2).sort_values('Test Acc Over Baseline',ascending=False)"
   ]
  },
  {
   "cell_type": "code",
   "execution_count": null,
   "metadata": {
    "ExecuteTime": {
     "end_time": "2020-07-10T16:45:26.657500Z",
     "start_time": "2020-07-10T16:45:26.646529Z"
    }
   },
   "outputs": [],
   "source": [
    "results_df_classification"
   ]
  },
  {
   "cell_type": "markdown",
   "metadata": {},
   "source": [
    "## Export Tables to CSV to Format"
   ]
  },
  {
   "cell_type": "code",
   "execution_count": null,
   "metadata": {
    "ExecuteTime": {
     "end_time": "2020-06-10T19:58:38.819404Z",
     "start_time": "2020-06-10T19:58:38.809431Z"
    }
   },
   "outputs": [],
   "source": [
    "results_df_classification.to_csv(\"../presentation_graphics/classification_table.csv\")\n",
    "\n",
    "classification_by_campground.to_csv(\"../presentation_graphics/classification_table_campgroundnames.csv\")"
   ]
  },
  {
   "cell_type": "markdown",
   "metadata": {},
   "source": [
    "---------\n",
    "\n",
    "---------\n",
    "\n",
    "----------\n"
   ]
  },
  {
   "cell_type": "markdown",
   "metadata": {},
   "source": [
    "# Regression Models\n",
    "\n",
    "#### Predict at what time of day a campground fills up"
   ]
  },
  {
   "cell_type": "markdown",
   "metadata": {},
   "source": [
    "#### Function to Report Results by Category and Model for Regression Models"
   ]
  },
  {
   "cell_type": "code",
   "execution_count": 17,
   "metadata": {
    "ExecuteTime": {
     "end_time": "2020-07-12T14:40:08.922755Z",
     "start_time": "2020-07-12T14:40:08.914767Z"
    }
   },
   "outputs": [],
   "source": [
    "def Results_by_Category_Reg(MODEL, dataframe, feature_list, label_name, group_on,sort_by):\n",
    "    \n",
    "    X = dataframe[feature_list]\n",
    "    y = dataframe[label_name]\n",
    "    \n",
    "    model_name = str(MODEL).split('(')[0]\n",
    "    \n",
    "    # Create Empty Dictionary to record scores for each category\n",
    "    grouping_scores = {}\n",
    "\n",
    "    # Add an 'All' to reflect all data points\n",
    "    if group_on != None:\n",
    "        categories = [model_name] + list(dataframe[group_on].unique())\n",
    "    else:\n",
    "        categories = [model_name]\n",
    "    \n",
    "    for category in categories:\n",
    "        \n",
    "        # Don't know a better way to do this\n",
    "        if category == model_name:\n",
    "            subset_X, subset_y = X, y\n",
    "        else:\n",
    "            subset_X_indices = dataframe.loc[dataframe[group_on]==category].index\n",
    "            subset_X = X.loc[subset_X_indices]\n",
    "            subset_y_indices = dataframe.loc[dataframe[group_on]==category].index\n",
    "            subset_y = y.loc[subset_y_indices]\n",
    "        \n",
    "        # Train Test Split specific to this group\n",
    "        subset_X_train, subset_X_test, subset_y_train, subset_y_test = train_test_split(subset_X, subset_y,\n",
    "                                                                            random_state = 111)\n",
    "        # Standard Scale\n",
    "        sc = StandardScaler()\n",
    "        subset_X_train = sc.fit_transform(subset_X_train)\n",
    "        subset_X_test = sc.transform(subset_X_test)\n",
    "\n",
    "        # Instantiate and Fit Model\n",
    "        subset_model = MODEL\n",
    "        subset_model.fit(subset_X_train, subset_y_train)\n",
    "        \n",
    "        # Generate Predictions\n",
    "        subset_predictions_train = subset_model.predict(subset_X_train)\n",
    "        subset_predictions_test = subset_model.predict(subset_X_test)\n",
    "\n",
    "        grouping_scores[category]={\n",
    "            \"Observations\":subset_y.shape[0],\n",
    "            \"Y_Bar\":subset_y.mean(),\n",
    "            \"StdDev\":subset_y.std(),\n",
    "            \"Train R2\":metric.r2_score(subset_y_train,subset_predictions_train),\n",
    "            \"Test R2\":metric.r2_score(subset_y_test,subset_predictions_test),\n",
    "            \"Train MSE\":metric.mean_squared_error(subset_y_train,subset_predictions_train),\n",
    "            \"Test MSE\":metric.mean_squared_error(subset_y_test,subset_predictions_test),\n",
    "            \"Train MAE\":metric.mean_absolute_error(subset_y_train,subset_predictions_train),\n",
    "            \"Test MAE\":metric.mean_absolute_error(subset_y_test,subset_predictions_test)\n",
    "        }\n",
    "         \n",
    "    return np.round(pd.DataFrame(grouping_scores).T,2).sort_values([sort_by],ascending=False)"
   ]
  },
  {
   "cell_type": "markdown",
   "metadata": {},
   "source": [
    "### Function to Plot Residuals"
   ]
  },
  {
   "cell_type": "code",
   "execution_count": 18,
   "metadata": {
    "ExecuteTime": {
     "end_time": "2020-07-12T14:40:09.304723Z",
     "start_time": "2020-07-12T14:40:09.298739Z"
    }
   },
   "outputs": [],
   "source": [
    "def plot_residuals(true_values, predicted_values, model_text = 'model'):\n",
    "    if true_values.shape != predicted_values.shape:\n",
    "        predicted_values = predicted_values.reshape(true_values.shape)\n",
    "    errors = np.array(true_values) - np.array(predicted_values)\n",
    "    plt.figure(figsize=(9,9))    \n",
    "    plt.scatter(predicted_values, errors, s = 5)\n",
    "    plt.axhline(0, color = 'red')\n",
    "    plt.xlabel(\"Predictions\", fontsize = 20)\n",
    "    plt.ylabel(\"Residuals (Actual - Predicted)\", fontsize = 20)\n",
    "    plt.title(f'Residual Plot for {model_text}', fontsize = 24);\n",
    "    "
   ]
  },
  {
   "cell_type": "markdown",
   "metadata": {},
   "source": [
    "#### Define the dataframe of interest for Regression"
   ]
  },
  {
   "cell_type": "code",
   "execution_count": 19,
   "metadata": {
    "ExecuteTime": {
     "end_time": "2020-07-12T14:40:11.145800Z",
     "start_time": "2020-07-12T14:40:11.137825Z"
    }
   },
   "outputs": [],
   "source": [
    "# To reset and undo any filters\n",
    "df_regress = df[df['did_fill']==1]\n",
    "\n",
    "# regress_filters = (df_regress['month_num']!=5)\n",
    "\n",
    "# df_regress = df_regress[regress_filters]"
   ]
  },
  {
   "cell_type": "markdown",
   "metadata": {},
   "source": [
    "#### Define X and Y for Regression with suffix 'r' to denote Regression"
   ]
  },
  {
   "cell_type": "code",
   "execution_count": 20,
   "metadata": {
    "ExecuteTime": {
     "end_time": "2020-07-12T14:40:11.703311Z",
     "start_time": "2020-07-12T14:40:11.698322Z"
    }
   },
   "outputs": [],
   "source": [
    "Xr = df_regress[features]\n",
    "yr = df_regress['hours_after_midnight']"
   ]
  },
  {
   "cell_type": "markdown",
   "metadata": {},
   "source": [
    "#### Train Test Split of same"
   ]
  },
  {
   "cell_type": "code",
   "execution_count": 21,
   "metadata": {
    "ExecuteTime": {
     "end_time": "2020-07-12T14:40:12.472285Z",
     "start_time": "2020-07-12T14:40:12.465271Z"
    }
   },
   "outputs": [],
   "source": [
    "Xr_train, Xr_test, yr_train, yr_test = train_test_split(Xr, yr,\n",
    "                                                   random_state = 111)"
   ]
  },
  {
   "cell_type": "markdown",
   "metadata": {},
   "source": [
    "#### Standard Scaler"
   ]
  },
  {
   "cell_type": "code",
   "execution_count": 22,
   "metadata": {
    "ExecuteTime": {
     "end_time": "2020-07-12T14:40:13.242194Z",
     "start_time": "2020-07-12T14:40:13.233219Z"
    }
   },
   "outputs": [],
   "source": [
    "sc_reg = StandardScaler()\n",
    "Xr_train_sc = sc_reg.fit_transform(Xr_train)\n",
    "Xr_test_sc = sc_reg.transform(Xr_test)"
   ]
  },
  {
   "cell_type": "markdown",
   "metadata": {},
   "source": [
    "### Neural Network Regression"
   ]
  },
  {
   "cell_type": "code",
   "execution_count": null,
   "metadata": {
    "ExecuteTime": {
     "end_time": "2020-07-10T16:45:50.443414Z",
     "start_time": "2020-07-10T16:45:48.614717Z"
    }
   },
   "outputs": [],
   "source": [
    "model_NNReg = Sequential()\n",
    "\n",
    "model_NNReg.add(Dense(32, activation = 'relu',\n",
    "                      input_shape = Xr_train_sc[0].shape))\n",
    "\n",
    "model_NNReg.add(Dense(8, activation = 'relu'))\n",
    "\n",
    "model_NNReg.add(Dense(1, activation = None))\n",
    "\n",
    "model_NNReg.compile(loss = 'mean_squared_error',\n",
    "                    optimizer = 'adam')\n",
    "\n",
    "hist = model_NNReg.fit(Xr_train_sc, yr_train,\n",
    "                       epochs = 50,\n",
    "                       batch_size= 512,\n",
    "                       validation_data = (Xr_test_sc, yr_test),\n",
    "                       verbose = 0)\n",
    "\n",
    "print(f'train score {metric.r2_score(yr_train,model_NNReg.predict(Xr_train_sc))}, \\ntest score {metric.r2_score(yr_test,model_NNReg.predict(Xr_test_sc))}')"
   ]
  },
  {
   "cell_type": "markdown",
   "metadata": {
    "ExecuteTime": {
     "end_time": "2020-06-07T16:46:35.620426Z",
     "start_time": "2020-06-07T16:46:35.617434Z"
    }
   },
   "source": [
    "### Linear Regression via Sklearn"
   ]
  },
  {
   "cell_type": "code",
   "execution_count": null,
   "metadata": {
    "ExecuteTime": {
     "end_time": "2020-07-10T16:46:03.485736Z",
     "start_time": "2020-07-10T16:46:03.474764Z"
    }
   },
   "outputs": [],
   "source": [
    "linear = LinearRegression()\n",
    "linear.fit(Xr_train_sc,yr_train)\n",
    "print(f'train score {linear.score(Xr_train_sc,yr_train)}')\n",
    "print(f'test score {linear.score(Xr_test_sc,yr_test)}')"
   ]
  },
  {
   "cell_type": "markdown",
   "metadata": {},
   "source": [
    "### Ridge Regression via Sklearn"
   ]
  },
  {
   "cell_type": "code",
   "execution_count": null,
   "metadata": {
    "ExecuteTime": {
     "end_time": "2020-07-10T16:46:04.565440Z",
     "start_time": "2020-07-10T16:46:04.556468Z"
    }
   },
   "outputs": [],
   "source": [
    "ridge_model = Ridge()\n",
    "ridge_model.fit(Xr_train_sc,yr_train)\n",
    "print(f'train score {ridge_model.score(Xr_train_sc,yr_train)}')\n",
    "print(f'test score {ridge_model.score(Xr_test_sc,yr_test)}')"
   ]
  },
  {
   "cell_type": "markdown",
   "metadata": {},
   "source": [
    "### Statsmodel - Ordinary Least Squares"
   ]
  },
  {
   "cell_type": "code",
   "execution_count": null,
   "metadata": {
    "ExecuteTime": {
     "end_time": "2020-07-10T16:46:05.886712Z",
     "start_time": "2020-07-10T16:46:05.685249Z"
    },
    "scrolled": false
   },
   "outputs": [],
   "source": [
    "model_X = Xr_train\n",
    "model_X = sm.add_constant(model_X)\n",
    "model_y = yr_train\n",
    "model_OLS = sm.OLS(model_y, model_X).fit()\n",
    "\n",
    "\n",
    "plot_residuals(yr_test,\n",
    "               model_OLS.predict(sm.add_constant(Xr_test)),\n",
    "              'Stats Model OLS')\n",
    "\n",
    "model_OLS.summary()"
   ]
  },
  {
   "cell_type": "markdown",
   "metadata": {},
   "source": [
    "## Statsmodels - Gamma Regression"
   ]
  },
  {
   "cell_type": "code",
   "execution_count": null,
   "metadata": {
    "ExecuteTime": {
     "end_time": "2020-07-10T16:46:12.306507Z",
     "start_time": "2020-07-10T16:46:12.047444Z"
    },
    "scrolled": false
   },
   "outputs": [],
   "source": [
    "sm_X = Xr_train\n",
    "sm_X = sm.add_constant(sm_X)\n",
    "sm_y = yr_train\n",
    "gamma_model = sm.GLM(sm_y, sm_X, family = sm.families.Gamma(link = sm.families.links.log)).fit()\n",
    "\n",
    "gamma_train_preds = gamma_model.predict(sm.add_constant(Xr_train))\n",
    "gamma_test_preds = gamma_model.predict(sm.add_constant(Xr_test))\n",
    "\n",
    "plot_residuals(yr_test,\n",
    "               gamma_test_preds,\n",
    "              'Gamma Regression')\n",
    "\n",
    "gamma_model.summary()"
   ]
  },
  {
   "cell_type": "markdown",
   "metadata": {},
   "source": [
    "## Regression Results by Subgroup - Campground Name"
   ]
  },
  {
   "cell_type": "code",
   "execution_count": null,
   "metadata": {
    "ExecuteTime": {
     "end_time": "2020-07-10T16:46:20.403768Z",
     "start_time": "2020-07-10T16:46:17.238516Z"
    }
   },
   "outputs": [],
   "source": [
    "regression_by_campground = Results_by_Category_Reg(MODEL = SVR(),\n",
    "                                                    dataframe = df_regress,\n",
    "                                                    feature_list = features,\n",
    "                                                    label_name = 'hours_after_midnight',\n",
    "                                                    group_on = 'cg_name',\n",
    "                                                    sort_by = 'Test R2')\n",
    "\n",
    "regression_by_campground"
   ]
  },
  {
   "cell_type": "markdown",
   "metadata": {},
   "source": [
    "## Regression Model Comparison"
   ]
  },
  {
   "cell_type": "code",
   "execution_count": null,
   "metadata": {
    "ExecuteTime": {
     "end_time": "2020-07-10T16:46:35.246711Z",
     "start_time": "2020-07-10T16:46:31.078967Z"
    }
   },
   "outputs": [],
   "source": [
    "regression_model_set = [LinearRegression(),\n",
    "                        Ridge(alpha = 1.0),\n",
    "                        SVR(),\n",
    "                        AdaBoostRegressor(n_estimators = 100),\n",
    "                        KNeighborsRegressor(),\n",
    "                        model_NNReg]\n",
    "\n",
    "model_comparison = pd.DataFrame()\n",
    "\n",
    "for i in regression_model_set:\n",
    "    model_comparison = pd.concat([model_comparison,\n",
    "                              Results_by_Category_Reg(MODEL = i,\n",
    "                                dataframe = df_regress,\n",
    "                                feature_list = features,\n",
    "                                label_name = 'hours_after_midnight',\n",
    "                                group_on = None,\n",
    "                                sort_by = 'Test R2') ])\n"
   ]
  },
  {
   "cell_type": "markdown",
   "metadata": {},
   "source": [
    "#### Create same Metrics for Gamma GLM (Statsmodel instead of Sklearn)"
   ]
  },
  {
   "cell_type": "code",
   "execution_count": null,
   "metadata": {
    "ExecuteTime": {
     "end_time": "2020-07-10T16:46:37.825826Z",
     "start_time": "2020-07-10T16:46:37.814856Z"
    }
   },
   "outputs": [],
   "source": [
    "gamma_report = {\n",
    "    \"Observations\":yr.shape[0],\n",
    "    \"Y_Bar\":yr.mean(),\n",
    "    \"StdDev\":yr.std(),\n",
    "    \"Train R2\":metric.r2_score(yr_train,gamma_train_preds),\n",
    "    \"Test R2\":metric.r2_score(yr_test,gamma_test_preds),\n",
    "    \"Train MSE\":metric.mean_squared_error(yr_train,gamma_train_preds),\n",
    "    \"Test MSE\":metric.mean_squared_error(yr_test,gamma_test_preds),\n",
    "    \"Train MAE\":metric.mean_absolute_error(yr_train,gamma_train_preds),\n",
    "    \"Test MAE\":metric.mean_absolute_error(yr_test,gamma_test_preds)\n",
    "}\n",
    "\n",
    "gamma_report_df = np.round(pd.DataFrame(gamma_report,index=['Gamma GLM']),2)"
   ]
  },
  {
   "cell_type": "markdown",
   "metadata": {
    "ExecuteTime": {
     "end_time": "2020-06-08T14:00:03.513022Z",
     "start_time": "2020-06-08T14:00:03.510047Z"
    }
   },
   "source": [
    "#### Add Gamma to Summary Report"
   ]
  },
  {
   "cell_type": "code",
   "execution_count": null,
   "metadata": {
    "ExecuteTime": {
     "end_time": "2020-07-10T16:46:39.052360Z",
     "start_time": "2020-07-10T16:46:39.046343Z"
    }
   },
   "outputs": [],
   "source": [
    "regression_summary = model_comparison.append(\n",
    "    gamma_report_df).sort_values(\n",
    "    'Test R2',ascending=False)"
   ]
  },
  {
   "cell_type": "code",
   "execution_count": null,
   "metadata": {
    "ExecuteTime": {
     "end_time": "2020-07-10T16:46:40.140341Z",
     "start_time": "2020-07-10T16:46:40.135354Z"
    }
   },
   "outputs": [],
   "source": [
    "regression_summary = regression_summary.rename(\n",
    "    index={[i for i in list(regression_summary.index) if 'tensor' in i][0]:\"Neural Net Regressor\"}\n",
    ")[list(gamma_report.keys())]"
   ]
  },
  {
   "cell_type": "code",
   "execution_count": null,
   "metadata": {
    "ExecuteTime": {
     "end_time": "2020-07-10T16:46:40.787509Z",
     "start_time": "2020-07-10T16:46:40.774585Z"
    }
   },
   "outputs": [],
   "source": [
    "regression_summary"
   ]
  },
  {
   "cell_type": "markdown",
   "metadata": {},
   "source": [
    "## Export Tables to CSV to Format"
   ]
  },
  {
   "cell_type": "code",
   "execution_count": null,
   "metadata": {
    "ExecuteTime": {
     "end_time": "2020-06-10T20:03:38.563781Z",
     "start_time": "2020-06-10T20:03:38.554805Z"
    }
   },
   "outputs": [],
   "source": [
    "regression_summary.to_csv(\"../presentation_graphics/regression_table.csv\")\n",
    "\n",
    "regression_by_campground.to_csv(\"../presentation_graphics/regression_table_campgroundnames.csv\")"
   ]
  },
  {
   "cell_type": "markdown",
   "metadata": {},
   "source": [
    "------------\n",
    "\n",
    "-----------\n",
    "\n",
    "----------"
   ]
  },
  {
   "cell_type": "markdown",
   "metadata": {},
   "source": [
    "# Visualize Results at a Single Campground"
   ]
  },
  {
   "cell_type": "markdown",
   "metadata": {},
   "source": [
    "#### Identify the subgroup of interest"
   ]
  },
  {
   "cell_type": "code",
   "execution_count": 95,
   "metadata": {
    "ExecuteTime": {
     "end_time": "2020-07-12T15:01:44.096738Z",
     "start_time": "2020-07-12T15:01:44.082745Z"
    }
   },
   "outputs": [],
   "source": [
    "subgroup = (df_regress['cg_name'] == 'Rising Sun') # & (df_regress['year']==2016)\n",
    "\n",
    "# Create X and Y specific to that subgroupd and train-test-split\n",
    "X = df_regress.loc[subgroup, features]\n",
    "y = df_regress.loc[subgroup, 'hours_after_midnight']\n",
    "X_train, X_test, y_train, y_test = train_test_split(X,y,random_state=111)\n",
    "\n",
    "# Standard Scaler\n",
    "sc = StandardScaler()\n",
    "X_train_sc = sc.fit_transform(X_train)\n",
    "X_test_sc = sc.transform(X_test)\n",
    "X_sc = sc.transform(X)"
   ]
  },
  {
   "cell_type": "markdown",
   "metadata": {},
   "source": [
    "#### Support Vector Regression"
   ]
  },
  {
   "cell_type": "code",
   "execution_count": 96,
   "metadata": {
    "ExecuteTime": {
     "end_time": "2020-07-12T15:01:44.688543Z",
     "start_time": "2020-07-12T15:01:44.628690Z"
    }
   },
   "outputs": [
    {
     "name": "stdout",
     "output_type": "stream",
     "text": [
      "train score 0.5768296483593452\n",
      "test score 0.5181463046532087\n"
     ]
    }
   ],
   "source": [
    "svr = SVR()\n",
    "svr.fit(X_train_sc, y_train)\n",
    "preds_svr = svr.predict(X_sc)\n",
    "\n",
    "print(f'train score {svr.score(X_train_sc,y_train)}')\n",
    "print(f'test score {svr.score(X_test_sc,y_test)}')"
   ]
  },
  {
   "cell_type": "markdown",
   "metadata": {},
   "source": [
    "#### Gamma Regression"
   ]
  },
  {
   "cell_type": "code",
   "execution_count": 97,
   "metadata": {
    "ExecuteTime": {
     "end_time": "2020-07-12T15:01:45.592856Z",
     "start_time": "2020-07-12T15:01:45.555940Z"
    }
   },
   "outputs": [
    {
     "name": "stdout",
     "output_type": "stream",
     "text": [
      "train score 0.5410476897541794\n",
      "test score 0.5010531201881003\n"
     ]
    },
    {
     "name": "stderr",
     "output_type": "stream",
     "text": [
      "C:\\Users\\zacha\\anaconda3\\lib\\site-packages\\ipykernel_launcher.py:4: DeprecationWarning: Calling Family(..) with a link class as argument is deprecated.\n",
      "Use an instance of a link class instead.\n",
      "  after removing the cwd from sys.path.\n"
     ]
    }
   ],
   "source": [
    "sm_X = X_train\n",
    "sm_X = sm.add_constant(sm_X)\n",
    "sm_y = y_train\n",
    "gamma_model = sm.GLM(sm_y, sm_X, family = sm.families.Gamma(link = sm.families.links.log)).fit()\n",
    "\n",
    "gamma_train_preds = gamma_model.predict(sm.add_constant(X_train))\n",
    "gamma_test_preds = gamma_model.predict(sm.add_constant(X_test))\n",
    "preds_gamma = gamma_model.predict(sm.add_constant(X))\n",
    "\n",
    "print(f'train score {metric.r2_score(y_train,gamma_train_preds)}')\n",
    "print(f'test score {metric.r2_score(y_test,gamma_test_preds)}')"
   ]
  },
  {
   "cell_type": "markdown",
   "metadata": {},
   "source": [
    "#### Create Dataframe to view these Predictions"
   ]
  },
  {
   "cell_type": "code",
   "execution_count": 213,
   "metadata": {
    "ExecuteTime": {
     "end_time": "2020-07-12T15:38:36.311443Z",
     "start_time": "2020-07-12T15:38:36.302449Z"
    }
   },
   "outputs": [],
   "source": [
    "df_subgroup = df_regress.loc[subgroup,:].copy()\n",
    "df_subgroup['svr_predictions'] = preds_svr\n",
    "df_subgroup['gamma_predictions'] = preds_gamma\n",
    "df_subgroup['actual_fill_time'] = df_subgroup['hours_after_midnight']\n",
    "\n",
    "df_subgroup['date_x'] = pd.to_datetime(df_subgroup['date_x'])\n",
    "df_subgroup.set_index('date_x',inplace=True)"
   ]
  },
  {
   "cell_type": "markdown",
   "metadata": {
    "ExecuteTime": {
     "end_time": "2020-07-12T15:26:37.318514Z",
     "start_time": "2020-07-12T15:26:37.316520Z"
    }
   },
   "source": [
    "#### The Plot"
   ]
  },
  {
   "cell_type": "code",
   "execution_count": 224,
   "metadata": {
    "ExecuteTime": {
     "end_time": "2020-07-12T15:45:06.798102Z",
     "start_time": "2020-07-12T15:45:06.531847Z"
    },
    "scrolled": false
   },
   "outputs": [
    {
     "data": {
      "text/plain": [
       "<matplotlib.legend.Legend at 0x28f04a0af48>"
      ]
     },
     "execution_count": 224,
     "metadata": {},
     "output_type": "execute_result"
    },
    {
     "data": {
      "image/png": "[encoded data removed]",
      "text/plain": [
       "<Figure size 1080x648 with 1 Axes>"
      ]
     },
     "metadata": {
      "needs_background": "light"
     },
     "output_type": "display_data"
    }
   ],
   "source": [
    "year_filter = 2016\n",
    "\n",
    "df_to_plot = df_subgroup.loc[\n",
    "    (df_subgroup['year']==year_filter)\n",
    "    & (df_subgroup['high_season']==1),\n",
    "    ['actual_fill_time','svr_predictions','gamma_predictions']]\n",
    "\n",
    "plt.figure(figsize=(15,9))\n",
    "plt.title(f'Rising Sun Campground: July & August {year_filter} \\nActual and Prediction Fill Times',fontsize = 16)\n",
    "plt.ylabel('Time of Day (Hours after Midnight)',fontsize = 14)\n",
    "\n",
    "plt.bar(x = df_to_plot.index, height = df_to_plot['actual_fill_time'],\n",
    "       label = 'Actual Fill Time',\n",
    "       color = 'skyblue')\n",
    "\n",
    "# plt.plot(df_to_plot['actual_fill_time'],\n",
    "#          label = 'Actual Fill Time',\n",
    "#          color = 'skyblue')\n",
    "\n",
    "plt.axhline(df_to_plot['actual_fill_time'].mean(), ls='--',\n",
    "           label = 'Average Fill Time across Dates Shown',\n",
    "           color = 'deepskyblue')\n",
    "\n",
    "plt.plot(df_to_plot['svr_predictions'],\n",
    "         label = 'Support Vector Regression',\n",
    "         color = 'black')\n",
    "\n",
    "plt.plot(df_to_plot['gamma_predictions'],\n",
    "        label = 'Gamma General Linear Model',\n",
    "        color = 'orange')\n",
    "\n",
    "plt.yticks(range(6,19))\n",
    "plt.ylim(6,18)\n",
    "\n",
    "plt.xticks()\n",
    "\n",
    "\n",
    "\n",
    "\n",
    "\n",
    "plt.legend(fontsize = 12)\n"
   ]
  },
  {
   "cell_type": "code",
   "execution_count": 47,
   "metadata": {
    "ExecuteTime": {
     "end_time": "2020-07-12T14:51:07.828311Z",
     "start_time": "2020-07-12T14:51:07.798392Z"
    }
   },
   "outputs": [
    {
     "data": {
      "text/html": [
       "<div>\n",
       "<style scoped>\n",
       "    .dataframe tbody tr th:only-of-type {\n",
       "        vertical-align: middle;\n",
       "    }\n",
       "\n",
       "    .dataframe tbody tr th {\n",
       "        vertical-align: top;\n",
       "    }\n",
       "\n",
       "    .dataframe thead th {\n",
       "        text-align: right;\n",
       "    }\n",
       "</style>\n",
       "<table border=\"1\" class=\"dataframe\">\n",
       "  <thead>\n",
       "    <tr style=\"text-align: right;\">\n",
       "      <th></th>\n",
       "      <th>cg_name</th>\n",
       "      <th>did_fill</th>\n",
       "      <th>available</th>\n",
       "      <th>time_24</th>\n",
       "      <th>hours_after_midnight</th>\n",
       "      <th>year</th>\n",
       "      <th>month_num</th>\n",
       "      <th>month_text</th>\n",
       "      <th>day_of_year</th>\n",
       "      <th>day_of_month</th>\n",
       "      <th>...</th>\n",
       "      <th>cg_supply_y</th>\n",
       "      <th>PRCP</th>\n",
       "      <th>SNOW</th>\n",
       "      <th>TMAX</th>\n",
       "      <th>TMIN</th>\n",
       "      <th>did_PRCP</th>\n",
       "      <th>did_SNOW</th>\n",
       "      <th>Support Vector Regression</th>\n",
       "      <th>Gamma Regression</th>\n",
       "      <th>actual_fill_time</th>\n",
       "    </tr>\n",
       "    <tr>\n",
       "      <th>date_x</th>\n",
       "      <th></th>\n",
       "      <th></th>\n",
       "      <th></th>\n",
       "      <th></th>\n",
       "      <th></th>\n",
       "      <th></th>\n",
       "      <th></th>\n",
       "      <th></th>\n",
       "      <th></th>\n",
       "      <th></th>\n",
       "      <th></th>\n",
       "      <th></th>\n",
       "      <th></th>\n",
       "      <th></th>\n",
       "      <th></th>\n",
       "      <th></th>\n",
       "      <th></th>\n",
       "      <th></th>\n",
       "      <th></th>\n",
       "      <th></th>\n",
       "      <th></th>\n",
       "    </tr>\n",
       "  </thead>\n",
       "  <tbody>\n",
       "    <tr>\n",
       "      <th>2000-07-01</th>\n",
       "      <td>Rising Sun</td>\n",
       "      <td>1</td>\n",
       "      <td>1</td>\n",
       "      <td>16:21</td>\n",
       "      <td>16.35</td>\n",
       "      <td>2000</td>\n",
       "      <td>7</td>\n",
       "      <td>Jul</td>\n",
       "      <td>183</td>\n",
       "      <td>1</td>\n",
       "      <td>...</td>\n",
       "      <td>928</td>\n",
       "      <td>0.0</td>\n",
       "      <td>0.0</td>\n",
       "      <td>76.0</td>\n",
       "      <td>43.0</td>\n",
       "      <td>0</td>\n",
       "      <td>0</td>\n",
       "      <td>17.889762</td>\n",
       "      <td>17.702813</td>\n",
       "      <td>16.35</td>\n",
       "    </tr>\n",
       "    <tr>\n",
       "      <th>2000-07-02</th>\n",
       "      <td>Rising Sun</td>\n",
       "      <td>1</td>\n",
       "      <td>1</td>\n",
       "      <td>17:45</td>\n",
       "      <td>17.75</td>\n",
       "      <td>2000</td>\n",
       "      <td>7</td>\n",
       "      <td>Jul</td>\n",
       "      <td>184</td>\n",
       "      <td>2</td>\n",
       "      <td>...</td>\n",
       "      <td>928</td>\n",
       "      <td>0.0</td>\n",
       "      <td>0.0</td>\n",
       "      <td>69.0</td>\n",
       "      <td>42.0</td>\n",
       "      <td>0</td>\n",
       "      <td>0</td>\n",
       "      <td>17.986262</td>\n",
       "      <td>17.655392</td>\n",
       "      <td>17.75</td>\n",
       "    </tr>\n",
       "    <tr>\n",
       "      <th>2000-07-08</th>\n",
       "      <td>Rising Sun</td>\n",
       "      <td>1</td>\n",
       "      <td>1</td>\n",
       "      <td>19:45</td>\n",
       "      <td>19.75</td>\n",
       "      <td>2000</td>\n",
       "      <td>7</td>\n",
       "      <td>Jul</td>\n",
       "      <td>190</td>\n",
       "      <td>8</td>\n",
       "      <td>...</td>\n",
       "      <td>928</td>\n",
       "      <td>0.0</td>\n",
       "      <td>0.0</td>\n",
       "      <td>75.0</td>\n",
       "      <td>38.0</td>\n",
       "      <td>0</td>\n",
       "      <td>0</td>\n",
       "      <td>16.940440</td>\n",
       "      <td>17.560893</td>\n",
       "      <td>19.75</td>\n",
       "    </tr>\n",
       "    <tr>\n",
       "      <th>2000-07-09</th>\n",
       "      <td>Rising Sun</td>\n",
       "      <td>1</td>\n",
       "      <td>1</td>\n",
       "      <td>17:40</td>\n",
       "      <td>17.67</td>\n",
       "      <td>2000</td>\n",
       "      <td>7</td>\n",
       "      <td>Jul</td>\n",
       "      <td>191</td>\n",
       "      <td>9</td>\n",
       "      <td>...</td>\n",
       "      <td>928</td>\n",
       "      <td>0.0</td>\n",
       "      <td>0.0</td>\n",
       "      <td>72.0</td>\n",
       "      <td>42.0</td>\n",
       "      <td>0</td>\n",
       "      <td>0</td>\n",
       "      <td>17.289738</td>\n",
       "      <td>17.585789</td>\n",
       "      <td>17.67</td>\n",
       "    </tr>\n",
       "    <tr>\n",
       "      <th>2000-07-10</th>\n",
       "      <td>Rising Sun</td>\n",
       "      <td>1</td>\n",
       "      <td>1</td>\n",
       "      <td>17:45</td>\n",
       "      <td>17.75</td>\n",
       "      <td>2000</td>\n",
       "      <td>7</td>\n",
       "      <td>Jul</td>\n",
       "      <td>192</td>\n",
       "      <td>10</td>\n",
       "      <td>...</td>\n",
       "      <td>928</td>\n",
       "      <td>0.0</td>\n",
       "      <td>0.0</td>\n",
       "      <td>70.0</td>\n",
       "      <td>40.0</td>\n",
       "      <td>0</td>\n",
       "      <td>0</td>\n",
       "      <td>17.861106</td>\n",
       "      <td>17.725103</td>\n",
       "      <td>17.75</td>\n",
       "    </tr>\n",
       "    <tr>\n",
       "      <th>...</th>\n",
       "      <td>...</td>\n",
       "      <td>...</td>\n",
       "      <td>...</td>\n",
       "      <td>...</td>\n",
       "      <td>...</td>\n",
       "      <td>...</td>\n",
       "      <td>...</td>\n",
       "      <td>...</td>\n",
       "      <td>...</td>\n",
       "      <td>...</td>\n",
       "      <td>...</td>\n",
       "      <td>...</td>\n",
       "      <td>...</td>\n",
       "      <td>...</td>\n",
       "      <td>...</td>\n",
       "      <td>...</td>\n",
       "      <td>...</td>\n",
       "      <td>...</td>\n",
       "      <td>...</td>\n",
       "      <td>...</td>\n",
       "      <td>...</td>\n",
       "    </tr>\n",
       "    <tr>\n",
       "      <th>2019-08-17</th>\n",
       "      <td>Rising Sun</td>\n",
       "      <td>1</td>\n",
       "      <td>1</td>\n",
       "      <td>11:32</td>\n",
       "      <td>11.53</td>\n",
       "      <td>2019</td>\n",
       "      <td>8</td>\n",
       "      <td>Aug</td>\n",
       "      <td>229</td>\n",
       "      <td>17</td>\n",
       "      <td>...</td>\n",
       "      <td>928</td>\n",
       "      <td>0.3</td>\n",
       "      <td>0.0</td>\n",
       "      <td>62.0</td>\n",
       "      <td>40.0</td>\n",
       "      <td>1</td>\n",
       "      <td>0</td>\n",
       "      <td>13.723955</td>\n",
       "      <td>12.398720</td>\n",
       "      <td>11.53</td>\n",
       "    </tr>\n",
       "    <tr>\n",
       "      <th>2019-08-18</th>\n",
       "      <td>Rising Sun</td>\n",
       "      <td>1</td>\n",
       "      <td>1</td>\n",
       "      <td>11:08</td>\n",
       "      <td>11.13</td>\n",
       "      <td>2019</td>\n",
       "      <td>8</td>\n",
       "      <td>Aug</td>\n",
       "      <td>230</td>\n",
       "      <td>18</td>\n",
       "      <td>...</td>\n",
       "      <td>928</td>\n",
       "      <td>0.1</td>\n",
       "      <td>0.0</td>\n",
       "      <td>74.0</td>\n",
       "      <td>50.0</td>\n",
       "      <td>1</td>\n",
       "      <td>0</td>\n",
       "      <td>10.952041</td>\n",
       "      <td>12.148403</td>\n",
       "      <td>11.13</td>\n",
       "    </tr>\n",
       "    <tr>\n",
       "      <th>2019-08-19</th>\n",
       "      <td>Rising Sun</td>\n",
       "      <td>1</td>\n",
       "      <td>1</td>\n",
       "      <td>09:56</td>\n",
       "      <td>9.93</td>\n",
       "      <td>2019</td>\n",
       "      <td>8</td>\n",
       "      <td>Aug</td>\n",
       "      <td>231</td>\n",
       "      <td>19</td>\n",
       "      <td>...</td>\n",
       "      <td>928</td>\n",
       "      <td>0.0</td>\n",
       "      <td>0.0</td>\n",
       "      <td>78.0</td>\n",
       "      <td>47.0</td>\n",
       "      <td>0</td>\n",
       "      <td>0</td>\n",
       "      <td>10.607372</td>\n",
       "      <td>12.037251</td>\n",
       "      <td>9.93</td>\n",
       "    </tr>\n",
       "    <tr>\n",
       "      <th>2019-08-20</th>\n",
       "      <td>Rising Sun</td>\n",
       "      <td>1</td>\n",
       "      <td>1</td>\n",
       "      <td>10:27</td>\n",
       "      <td>10.45</td>\n",
       "      <td>2019</td>\n",
       "      <td>8</td>\n",
       "      <td>Aug</td>\n",
       "      <td>232</td>\n",
       "      <td>20</td>\n",
       "      <td>...</td>\n",
       "      <td>928</td>\n",
       "      <td>0.0</td>\n",
       "      <td>0.0</td>\n",
       "      <td>81.0</td>\n",
       "      <td>40.0</td>\n",
       "      <td>0</td>\n",
       "      <td>0</td>\n",
       "      <td>10.917957</td>\n",
       "      <td>12.030571</td>\n",
       "      <td>10.45</td>\n",
       "    </tr>\n",
       "    <tr>\n",
       "      <th>2019-08-31</th>\n",
       "      <td>Rising Sun</td>\n",
       "      <td>1</td>\n",
       "      <td>1</td>\n",
       "      <td>16:58</td>\n",
       "      <td>16.97</td>\n",
       "      <td>2019</td>\n",
       "      <td>8</td>\n",
       "      <td>Aug</td>\n",
       "      <td>243</td>\n",
       "      <td>31</td>\n",
       "      <td>...</td>\n",
       "      <td>928</td>\n",
       "      <td>0.0</td>\n",
       "      <td>0.0</td>\n",
       "      <td>75.0</td>\n",
       "      <td>42.0</td>\n",
       "      <td>0</td>\n",
       "      <td>0</td>\n",
       "      <td>11.818017</td>\n",
       "      <td>12.161997</td>\n",
       "      <td>16.97</td>\n",
       "    </tr>\n",
       "  </tbody>\n",
       "</table>\n",
       "<p>889 rows × 39 columns</p>\n",
       "</div>"
      ],
      "text/plain": [
       "               cg_name  did_fill  available time_24  hours_after_midnight  \\\n",
       "date_x                                                                      \n",
       "2000-07-01  Rising Sun         1          1   16:21                 16.35   \n",
       "2000-07-02  Rising Sun         1          1   17:45                 17.75   \n",
       "2000-07-08  Rising Sun         1          1   19:45                 19.75   \n",
       "2000-07-09  Rising Sun         1          1   17:40                 17.67   \n",
       "2000-07-10  Rising Sun         1          1   17:45                 17.75   \n",
       "...                ...       ...        ...     ...                   ...   \n",
       "2019-08-17  Rising Sun         1          1   11:32                 11.53   \n",
       "2019-08-18  Rising Sun         1          1   11:08                 11.13   \n",
       "2019-08-19  Rising Sun         1          1   09:56                  9.93   \n",
       "2019-08-20  Rising Sun         1          1   10:27                 10.45   \n",
       "2019-08-31  Rising Sun         1          1   16:58                 16.97   \n",
       "\n",
       "            year  month_num month_text  day_of_year  day_of_month  ...  \\\n",
       "date_x                                                             ...   \n",
       "2000-07-01  2000          7        Jul          183             1  ...   \n",
       "2000-07-02  2000          7        Jul          184             2  ...   \n",
       "2000-07-08  2000          7        Jul          190             8  ...   \n",
       "2000-07-09  2000          7        Jul          191             9  ...   \n",
       "2000-07-10  2000          7        Jul          192            10  ...   \n",
       "...          ...        ...        ...          ...           ...  ...   \n",
       "2019-08-17  2019          8        Aug          229            17  ...   \n",
       "2019-08-18  2019          8        Aug          230            18  ...   \n",
       "2019-08-19  2019          8        Aug          231            19  ...   \n",
       "2019-08-20  2019          8        Aug          232            20  ...   \n",
       "2019-08-31  2019          8        Aug          243            31  ...   \n",
       "\n",
       "           cg_supply_y  PRCP  SNOW  TMAX  TMIN  did_PRCP  did_SNOW  \\\n",
       "date_x                                                               \n",
       "2000-07-01         928   0.0   0.0  76.0  43.0         0         0   \n",
       "2000-07-02         928   0.0   0.0  69.0  42.0         0         0   \n",
       "2000-07-08         928   0.0   0.0  75.0  38.0         0         0   \n",
       "2000-07-09         928   0.0   0.0  72.0  42.0         0         0   \n",
       "2000-07-10         928   0.0   0.0  70.0  40.0         0         0   \n",
       "...                ...   ...   ...   ...   ...       ...       ...   \n",
       "2019-08-17         928   0.3   0.0  62.0  40.0         1         0   \n",
       "2019-08-18         928   0.1   0.0  74.0  50.0         1         0   \n",
       "2019-08-19         928   0.0   0.0  78.0  47.0         0         0   \n",
       "2019-08-20         928   0.0   0.0  81.0  40.0         0         0   \n",
       "2019-08-31         928   0.0   0.0  75.0  42.0         0         0   \n",
       "\n",
       "            Support Vector Regression  Gamma Regression  actual_fill_time  \n",
       "date_x                                                                     \n",
       "2000-07-01                  17.889762         17.702813             16.35  \n",
       "2000-07-02                  17.986262         17.655392             17.75  \n",
       "2000-07-08                  16.940440         17.560893             19.75  \n",
       "2000-07-09                  17.289738         17.585789             17.67  \n",
       "2000-07-10                  17.861106         17.725103             17.75  \n",
       "...                               ...               ...               ...  \n",
       "2019-08-17                  13.723955         12.398720             11.53  \n",
       "2019-08-18                  10.952041         12.148403             11.13  \n",
       "2019-08-19                  10.607372         12.037251              9.93  \n",
       "2019-08-20                  10.917957         12.030571             10.45  \n",
       "2019-08-31                  11.818017         12.161997             16.97  \n",
       "\n",
       "[889 rows x 39 columns]"
      ]
     },
     "execution_count": 47,
     "metadata": {},
     "output_type": "execute_result"
    }
   ],
   "source": [
    "df_subgroup"
   ]
  },
  {
   "cell_type": "code",
   "execution_count": 24,
   "metadata": {
    "ExecuteTime": {
     "end_time": "2020-07-12T14:40:18.832248Z",
     "start_time": "2020-07-12T14:40:18.826262Z"
    }
   },
   "outputs": [],
   "source": []
  },
  {
   "cell_type": "code",
   "execution_count": 26,
   "metadata": {
    "ExecuteTime": {
     "end_time": "2020-07-12T14:40:35.737743Z",
     "start_time": "2020-07-12T14:40:35.574147Z"
    },
    "scrolled": false
   },
   "outputs": [
    {
     "data": {
      "image/png": "[encoded data removed]",
      "text/plain": [
       "<Figure size 1080x648 with 1 Axes>"
      ]
     },
     "metadata": {
      "needs_background": "light"
     },
     "output_type": "display_data"
    }
   ],
   "source": []
  },
  {
   "cell_type": "markdown",
   "metadata": {},
   "source": [
    "# Time Series Models (TBD)"
   ]
  },
  {
   "cell_type": "code",
   "execution_count": null,
   "metadata": {},
   "outputs": [],
   "source": []
  },
  {
   "cell_type": "markdown",
   "metadata": {},
   "source": [
    "-------------\n",
    "\n",
    "# Graphics\n",
    "\n",
    "--------"
   ]
  },
  {
   "cell_type": "markdown",
   "metadata": {},
   "source": [
    "### Graphic for AQI at Many Glacier September 2017"
   ]
  },
  {
   "cell_type": "code",
   "execution_count": null,
   "metadata": {
    "ExecuteTime": {
     "end_time": "2020-07-10T17:48:22.205852Z",
     "start_time": "2020-07-10T17:48:22.071179Z"
    }
   },
   "outputs": [],
   "source": [
    "extract_to_plot = df.loc[(df['cg_name']=='Many Glacier')\n",
    "                         & (df['month_num']==9)\n",
    "                         & (df['year']==2017)\n",
    "                         & (df['day_of_month']<15)].set_index('day_of_month')['aqi']\n",
    "plt.figure(figsize=(12,8))\n",
    "\n",
    "\n",
    "plt.plot(extract_to_plot,\n",
    "        color = 'black',\n",
    "        lw = 4)\n",
    "\n",
    "plt.xlabel('Day of Month in September 2017',fontsize=16)\n",
    "plt.ylabel('Daily Air Quality Level',fontsize=16)\n",
    "plt.title('Air Quality Index Levels in Flathead County',fontsize=20)\n",
    "\n",
    "plt.axhspan(0,50,color='green',)\n",
    "plt.axhspan(50,100,color='yellow')\n",
    "plt.axhspan(100,150,color='orange')\n",
    "plt.axhspan(150,200,color='red')\n",
    "plt.axhspan(200,300,color='purple')\n",
    "\n",
    "plt.xticks(np.arange(1,15,1))\n",
    "plt.yticks(np.arange(0,325,25));\n"
   ]
  },
  {
   "cell_type": "markdown",
   "metadata": {},
   "source": [
    "### Graphic for Annual Visitors vs Fill Days"
   ]
  },
  {
   "cell_type": "code",
   "execution_count": null,
   "metadata": {
    "ExecuteTime": {
     "end_time": "2020-07-10T17:48:24.566187Z",
     "start_time": "2020-07-10T17:48:24.349768Z"
    }
   },
   "outputs": [],
   "source": [
    "yearly_visits = df.loc[(df['cg_name']=='Apgar') & (df['day_of_month']==1)].groupby('year')['visits'].sum()\n",
    "yearly_fills = df.groupby('year')['did_fill'].mean()\n",
    "the_corr = np.round(np.corrcoef(yearly_visits,yearly_fills)[0][1],2)\n",
    "\n",
    "fig_dims = (15,9)\n",
    "fig, ax1 = plt.subplots(figsize = fig_dims)\n",
    "\n",
    "ax2 = ax1.twinx()\n",
    "ax2.plot(yearly_visits,color = 'red')\n",
    "ax1.plot(yearly_fills)\n",
    "\n",
    "ax2.set_yticks(range(0,3_000_001,300_000))\n",
    "ax1.set_yticks(np.round([0.1*i for i in range(0,11)],2))\n",
    "\n",
    "ax2.set_ylabel('Total GNP Annual Visitors (Millions)',fontsize = 14,color = 'red')\n",
    "ax1.set_ylabel('Total GNP Campground Fills / Total GNP Available Campground Days',fontsize = 14,color='blue')\n",
    "ax1.set_xticks(range(2000,2020))\n",
    "\n",
    "plt.grid()\n",
    "ax1.set_facecolor(color = 'whitesmoke')\n",
    "\n",
    "plt.title(f'Campground Demand vs Visitors in Glacier National Park \\n Correlation of {the_corr} from 2000 to 2019',fontsize = 24);\n"
   ]
  },
  {
   "cell_type": "markdown",
   "metadata": {
    "ExecuteTime": {
     "end_time": "2020-06-07T15:55:07.554004Z",
     "start_time": "2020-06-07T15:55:07.551043Z"
    }
   },
   "source": [
    "### Graphic for Fill Time Distribution"
   ]
  },
  {
   "cell_type": "code",
   "execution_count": null,
   "metadata": {
    "ExecuteTime": {
     "end_time": "2020-07-10T17:48:25.684887Z",
     "start_time": "2020-07-10T17:48:25.400041Z"
    }
   },
   "outputs": [],
   "source": [
    "series_to_plot = df_regress['hours_after_midnight']\n",
    "\n",
    "fig_dims = (15,9)\n",
    "\n",
    "fig,ax = plt.subplots(1,2,\n",
    "                     figsize = fig_dims)\n",
    "\n",
    "sns.distplot(series_to_plot, ax = ax[0])\n",
    "sns.distplot(np.log(series_to_plot), ax = ax[1])\n",
    "\n",
    "ax[0].set_ylabel('Unit Space',fontsize = 16)\n",
    "ax[1].set_ylabel('Log Space',fontsize = 16)\n",
    "ax[0].set_xlabel('Hours after Midnight')\n",
    "ax[1].set_xlabel('Log of Hours after Midnight');"
   ]
  },
  {
   "cell_type": "markdown",
   "metadata": {},
   "source": [
    "### Air Quality Plot to Identify Prominent Fires"
   ]
  },
  {
   "cell_type": "code",
   "execution_count": null,
   "metadata": {
    "ExecuteTime": {
     "end_time": "2020-07-10T17:48:31.329911Z",
     "start_time": "2020-07-10T17:48:31.181762Z"
    }
   },
   "outputs": [],
   "source": [
    "daily_air_quality = df.loc[df['cg_name']=='Apgar',['date_x','aqi']]\n",
    "\n",
    "daily_air_quality['date_x']=pd.to_datetime(daily_air_quality['date_x'])\n",
    "\n",
    "daily_air_quality.set_index('date_x',inplace=True)\n",
    "\n",
    "plt.figure(figsize=(16,12))\n",
    "\n",
    "plt.plot(daily_air_quality.resample('M').mean());"
   ]
  },
  {
   "cell_type": "code",
   "execution_count": null,
   "metadata": {},
   "outputs": [],
   "source": []
  }
 ],
 "metadata": {
  "kernelspec": {
   "display_name": "Python 3",
   "language": "python",
   "name": "python3"
  },
  "language_info": {
   "codemirror_mode": {
    "name": "ipython",
    "version": 3
   },
   "file_extension": ".py",
   "mimetype": "text/x-python",
   "name": "python",
   "nbconvert_exporter": "python",
   "pygments_lexer": "ipython3",
   "version": "3.7.6"
  }
 },
 "nbformat": 4,
 "nbformat_minor": 4
}
