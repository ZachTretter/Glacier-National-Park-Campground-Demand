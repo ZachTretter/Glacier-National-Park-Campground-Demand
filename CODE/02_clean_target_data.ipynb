{
 "cells": [
  {
   "cell_type": "markdown",
   "metadata": {},
   "source": [
    "Zach Tretter\n",
    "\n",
    "June 2020\n",
    "\n",
    "--------\n"
   ]
  },
  {
   "cell_type": "markdown",
   "metadata": {},
   "source": [
    "# Step 2 - Target Data Clean Up\n",
    "\n",
    "Workbook Scope : Process the CSV that has the historic fill time data.  Specifically add additional informative date columns (e.g. year, month, day of the year, etc) and also identify invalid dates (false negatives).\n",
    "\n",
    "----------\n",
    "\n",
    "#### Contents\n",
    "* [Make Campground Nicknames](#Campground-Nicknames)\n",
    "* [Clean up Fill Time Column](#Clean-up-Fill-Time-Column)\n",
    "* [Create Additional Date Columns](#Create-Additional-Date-Columns)\n",
    "* [Identify Logan Pass Open/Close Dates](#Logan-Pass-Dates)\n",
    "* [Identify Invalid Dates](#Identify-Invalid-Dates)\n",
    "* [Identify Wildfire Closures](#Wildfire-Dates)\n",
    "* [Look for Anomalies](#Look-for-Anomalies)\n",
    "* [Export to CSV](#Export-to-CSV)"
   ]
  },
  {
   "cell_type": "code",
   "execution_count": 1,
   "metadata": {
    "ExecuteTime": {
     "end_time": "2020-06-08T17:32:10.547180Z",
     "start_time": "2020-06-08T17:32:09.848644Z"
    }
   },
   "outputs": [],
   "source": [
    "import requests\n",
    "from bs4 import BeautifulSoup\n",
    "\n",
    "import time\n",
    "from datetime import datetime as dt\n",
    "from datetime import timedelta\n",
    "import calendar\n",
    "\n",
    "import matplotlib.pyplot as plt\n",
    "\n",
    "import os\n",
    "import pandas as pd\n",
    "import numpy as np"
   ]
  },
  {
   "cell_type": "markdown",
   "metadata": {},
   "source": [
    "#### Import the raw csv"
   ]
  },
  {
   "cell_type": "code",
   "execution_count": 2,
   "metadata": {
    "ExecuteTime": {
     "end_time": "2020-06-08T17:32:11.023349Z",
     "start_time": "2020-06-08T17:32:10.986481Z"
    }
   },
   "outputs": [],
   "source": [
    "df = pd.read_csv('../data/01_filltimes_raw.csv')\n",
    "df = df.drop(columns='Unnamed: 0')"
   ]
  },
  {
   "cell_type": "code",
   "execution_count": 3,
   "metadata": {
    "ExecuteTime": {
     "end_time": "2020-06-08T17:32:11.301348Z",
     "start_time": "2020-06-08T17:32:11.285361Z"
    }
   },
   "outputs": [
    {
     "name": "stdout",
     "output_type": "stream",
     "text": [
      "<class 'pandas.core.frame.DataFrame'>\n",
      "RangeIndex: 39780 entries, 0 to 39779\n",
      "Data columns (total 4 columns):\n",
      " #   Column     Non-Null Count  Dtype \n",
      "---  ------     --------------  ----- \n",
      " 0   cg_name    39780 non-null  object\n",
      " 1   date       39780 non-null  object\n",
      " 2   did_fill   39780 non-null  int64 \n",
      " 3   fill_time  8595 non-null   object\n",
      "dtypes: int64(1), object(3)\n",
      "memory usage: 1.2+ MB\n"
     ]
    }
   ],
   "source": [
    "# View the dataframe\n",
    "df.info()"
   ]
  },
  {
   "cell_type": "code",
   "execution_count": 4,
   "metadata": {
    "ExecuteTime": {
     "end_time": "2020-06-08T17:32:11.628023Z",
     "start_time": "2020-06-08T17:32:11.623052Z"
    }
   },
   "outputs": [],
   "source": [
    "df['available']=1"
   ]
  },
  {
   "cell_type": "markdown",
   "metadata": {},
   "source": [
    "## Campground Nicknames"
   ]
  },
  {
   "cell_type": "markdown",
   "metadata": {},
   "source": [
    "#### Shorter Names for Campgrounds"
   ]
  },
  {
   "cell_type": "code",
   "execution_count": 5,
   "metadata": {
    "ExecuteTime": {
     "end_time": "2020-06-08T17:32:12.506808Z",
     "start_time": "2020-06-08T17:32:12.494847Z"
    }
   },
   "outputs": [],
   "source": [
    "# Shorter single-word names for each campground\n",
    "\n",
    "nicknames = {\n",
    "    'Apgar': 'Apga',\n",
    "    'Avalanche': 'Aval',\n",
    "    'Bowman Lake': 'BoLa',\n",
    "    'Cut Bank': 'CuBa',\n",
    "    'Fish Creek': 'FiCr',\n",
    "    'Kintla Lake': 'KiLa',\n",
    "    'Logging Creek': 'LoCr',\n",
    "    'Many Glacier': 'MaGl',\n",
    "    'Quartz Creek': 'QuCr',\n",
    "    'Rising Sun': 'RiSu',\n",
    "    'Sprague Creek': 'SpCr',\n",
    "    'St. Mary': 'StMa',\n",
    "    'Two Medicine': 'TwoM'\n",
    "}\n",
    "\n",
    "df['nickname'] = df['cg_name'].map(nicknames)"
   ]
  },
  {
   "cell_type": "code",
   "execution_count": 6,
   "metadata": {
    "ExecuteTime": {
     "end_time": "2020-06-08T17:32:12.843016Z",
     "start_time": "2020-06-08T17:32:12.816044Z"
    }
   },
   "outputs": [],
   "source": [
    "df['key_name_date'] = df['date']+ '_' + df['nickname']"
   ]
  },
  {
   "cell_type": "markdown",
   "metadata": {},
   "source": [
    "## Clean up Fill Time Column"
   ]
  },
  {
   "cell_type": "markdown",
   "metadata": {},
   "source": [
    "#### Create a column for time as in 24 hour format"
   ]
  },
  {
   "cell_type": "code",
   "execution_count": 7,
   "metadata": {
    "ExecuteTime": {
     "end_time": "2020-06-08T17:32:13.761927Z",
     "start_time": "2020-06-08T17:32:13.758963Z"
    }
   },
   "outputs": [],
   "source": [
    "# The function to do it\n",
    "\n",
    "def time_as_24hr_string(fill_time):\n",
    "    if type(fill_time) == str:\n",
    "        return dt.strftime(dt.strptime(fill_time, '%I:%M%p'), \"%H:%M\")\n",
    "    else:\n",
    "        return 0"
   ]
  },
  {
   "cell_type": "code",
   "execution_count": 8,
   "metadata": {
    "ExecuteTime": {
     "end_time": "2020-06-08T17:32:14.186669Z",
     "start_time": "2020-06-08T17:32:14.063646Z"
    }
   },
   "outputs": [],
   "source": [
    "# Create this column in the dataframe\n",
    "\n",
    "df['time_24'] = df['fill_time'].apply(time_as_24hr_string)"
   ]
  },
  {
   "cell_type": "markdown",
   "metadata": {},
   "source": [
    "#### Create a column for time as numerical hours since midnight"
   ]
  },
  {
   "cell_type": "code",
   "execution_count": 9,
   "metadata": {
    "ExecuteTime": {
     "end_time": "2020-06-08T17:32:14.612424Z",
     "start_time": "2020-06-08T17:32:14.606446Z"
    }
   },
   "outputs": [],
   "source": [
    "# The function to do it\n",
    "\n",
    "def time_as_hours_from_midnight(fill_time):\n",
    "    time_24 = time_as_24hr_string(fill_time)\n",
    "    \n",
    "    if time_24 != 0:\n",
    "        hour_val, minute_val = time_24.split(\":\")\n",
    "        secs_elapsed = timedelta(hours = int(hour_val), minutes = int(minute_val)).seconds\n",
    "        return round(secs_elapsed / 3600,2)\n",
    "    \n",
    "    else:\n",
    "        return int(0)"
   ]
  },
  {
   "cell_type": "code",
   "execution_count": 10,
   "metadata": {
    "ExecuteTime": {
     "end_time": "2020-06-08T17:32:15.049744Z",
     "start_time": "2020-06-08T17:32:14.888181Z"
    }
   },
   "outputs": [],
   "source": [
    "# Create this column in the dataframe\n",
    "\n",
    "df['hours_after_midnight'] = df['fill_time'].apply(time_as_hours_from_midnight)"
   ]
  },
  {
   "cell_type": "markdown",
   "metadata": {
    "ExecuteTime": {
     "end_time": "2020-05-26T19:51:42.023321Z",
     "start_time": "2020-05-26T19:51:42.019312Z"
    }
   },
   "source": [
    "## Create Additional Date Columns"
   ]
  },
  {
   "cell_type": "markdown",
   "metadata": {},
   "source": [
    "#### Make the 'date' column of type date"
   ]
  },
  {
   "cell_type": "code",
   "execution_count": 11,
   "metadata": {
    "ExecuteTime": {
     "end_time": "2020-06-08T17:32:15.783304Z",
     "start_time": "2020-06-08T17:32:15.761351Z"
    }
   },
   "outputs": [],
   "source": [
    "df['date'] = pd.to_datetime(df['date'])"
   ]
  },
  {
   "cell_type": "markdown",
   "metadata": {},
   "source": [
    "#### Isolate specific date attributes to include\n",
    "\n",
    "https://strftime.org/\n",
    "\n",
    "* Year (e.g. '2017')\n",
    "* Month as Number (e.g. '09')\n",
    "* Month as Text (e.g. 'Sep')\n",
    "* Day of Year (e.g. '173')\n",
    "* Day of Month (e.g. '4')\n",
    "* Weekday (e.g. 'Sat')"
   ]
  },
  {
   "cell_type": "code",
   "execution_count": 12,
   "metadata": {
    "ExecuteTime": {
     "end_time": "2020-06-08T17:32:17.691849Z",
     "start_time": "2020-06-08T17:32:16.398494Z"
    }
   },
   "outputs": [],
   "source": [
    "# Isolate Year\n",
    "df['year'] = df['date'].apply(\n",
    "    lambda x: dt.strftime(x, \"%Y\")).astype(int)\n",
    "\n",
    "# Isolate Month as Number\n",
    "df['month_num'] = df['date'].apply(\n",
    "    lambda x: dt.strftime(x, \"%m\")).astype(int)\n",
    "\n",
    "# Isolate Month as Text\n",
    "df['month_text'] = df['date'].apply(\n",
    "    lambda x: dt.strftime(x, \"%b\"))\n",
    "\n",
    "# Isolate Day of Year\n",
    "df['day_of_year'] = df['date'].apply(\n",
    "    lambda x: dt.strftime(x, \"%j\")).astype(int)\n",
    "\n",
    "# Isolate Day of Month\n",
    "df['day_of_month'] = df['date'].apply(\n",
    "    lambda x: dt.strftime(x, \"%d\")).astype(int)\n",
    "\n",
    "# Isolate Day of Week as Text\n",
    "df['weekday'] = df['date'].apply(\n",
    "    lambda x: dt.strftime(x, \"%a\"))\n",
    "\n",
    "# Key for Year_Month combo\n",
    "df['key_year_month'] = df['year'].astype(str) + \"_\" + df['month_text']"
   ]
  },
  {
   "cell_type": "markdown",
   "metadata": {},
   "source": [
    "#### Identify if High Season (July and August)"
   ]
  },
  {
   "cell_type": "code",
   "execution_count": 13,
   "metadata": {
    "ExecuteTime": {
     "end_time": "2020-06-08T17:32:17.698649Z",
     "start_time": "2020-06-08T17:32:17.692665Z"
    }
   },
   "outputs": [],
   "source": [
    "df['high_season']=((df['month_num']==7) | (df['month_num']==8)).astype(int)"
   ]
  },
  {
   "cell_type": "markdown",
   "metadata": {},
   "source": [
    "#### Identify if Fri/Sat Night"
   ]
  },
  {
   "cell_type": "code",
   "execution_count": 14,
   "metadata": {
    "ExecuteTime": {
     "end_time": "2020-06-08T17:32:17.709653Z",
     "start_time": "2020-06-08T17:32:17.700671Z"
    }
   },
   "outputs": [],
   "source": [
    "df['weekend'] = ((df['weekday']=='Fri') | (df['weekday']=='Sat')).astype(int)"
   ]
  },
  {
   "cell_type": "markdown",
   "metadata": {},
   "source": [
    "#### Identify if Date is day before, after, or of a Holiday"
   ]
  },
  {
   "cell_type": "code",
   "execution_count": 15,
   "metadata": {
    "ExecuteTime": {
     "end_time": "2020-06-08T17:32:18.194819Z",
     "start_time": "2020-06-08T17:32:18.189868Z"
    }
   },
   "outputs": [],
   "source": [
    "df['holiday']=0"
   ]
  },
  {
   "cell_type": "code",
   "execution_count": 16,
   "metadata": {
    "ExecuteTime": {
     "end_time": "2020-06-08T17:32:18.513629Z",
     "start_time": "2020-06-08T17:32:18.495648Z"
    }
   },
   "outputs": [],
   "source": [
    "# Independence Day\n",
    "df.loc[(df['month_num']==7) & (\n",
    "    (df['day_of_month']==3) |\n",
    "    (df['day_of_month']==4) |\n",
    "    (df['day_of_month']==5)),\n",
    "      'holiday'] = 1"
   ]
  },
  {
   "cell_type": "code",
   "execution_count": 17,
   "metadata": {
    "ExecuteTime": {
     "end_time": "2020-06-08T17:32:18.834673Z",
     "start_time": "2020-06-08T17:32:18.815757Z"
    }
   },
   "outputs": [],
   "source": [
    "# Labor day is the first monday in September\n",
    "labor_days = df.loc[(df['month_num']==9) \n",
    "                    & (df['day_of_month']<8) \n",
    "                    & (df['weekday']=='Mon')\n",
    "                   ]['date'].unique()\n",
    "\n",
    "# Memorial day is the last monday in May\n",
    "memorial_days = df.loc[(df['month_num']==5) \n",
    "                       & (df['day_of_month'] > 24) \n",
    "                       & (df['weekday']=='Mon')\n",
    "                      ]['date'].unique()\n",
    "\n",
    "holiday_dates = []\n",
    "\n",
    "for i in memorial_days:\n",
    "    holiday_dates.append(i)\n",
    "    holiday_dates.append(i - np.timedelta64(1,'D'))\n",
    "    holiday_dates.append(i + np.timedelta64(1,'D'))\n",
    "    \n",
    "for i in labor_days:\n",
    "    holiday_dates.append(i)\n",
    "    holiday_dates.append(i - np.timedelta64(1,'D'))\n",
    "    holiday_dates.append(i + np.timedelta64(1,'D'))"
   ]
  },
  {
   "cell_type": "code",
   "execution_count": 18,
   "metadata": {
    "ExecuteTime": {
     "end_time": "2020-06-08T17:32:19.274620Z",
     "start_time": "2020-06-08T17:32:19.222606Z"
    }
   },
   "outputs": [],
   "source": [
    "# Convert holiday to 1 for these dates\n",
    "for day in holiday_dates:\n",
    "    df.loc[df['date']==day,'holiday']==1"
   ]
  },
  {
   "cell_type": "markdown",
   "metadata": {},
   "source": [
    "## Logan Pass Dates"
   ]
  },
  {
   "cell_type": "markdown",
   "metadata": {},
   "source": [
    "#### Identify when Going to the Sun Road is Open"
   ]
  },
  {
   "cell_type": "code",
   "execution_count": 19,
   "metadata": {
    "ExecuteTime": {
     "end_time": "2020-06-08T17:32:21.018640Z",
     "start_time": "2020-06-08T17:32:20.974794Z"
    }
   },
   "outputs": [],
   "source": [
    "# Set every row as zero\n",
    "df['logan_pass'] = 0\n",
    "\n",
    "# Built in excel because its only 20 dates\n",
    "# For that year, logan pass is open between these dates, as represent by a day of the year\n",
    "logan_pass_dates = {\n",
    "    2000:[148,290],\n",
    "    2001:[158,295],\n",
    "    2002:[179,301],\n",
    "    2003:[150,301],\n",
    "    2004:[151,292],\n",
    "    2005:[142,304],\n",
    "    2006:[174,296],\n",
    "    2007:[182,259],\n",
    "    2008:[184,294],\n",
    "    2009:[177,291],\n",
    "    2010:[175,291],\n",
    "    2011:[194,261],\n",
    "    2012:[171,289],\n",
    "    2013:[172,266],\n",
    "    2014:[183,265],\n",
    "    2015:[170,291],\n",
    "    2016:[168,286],\n",
    "    2017:[179,274],\n",
    "    2018:[174,274],\n",
    "    2019:[174,274]\n",
    "}\n",
    "\n",
    "for YEAR in logan_pass_dates.keys():\n",
    "    OPENDATE = logan_pass_dates[YEAR][0]\n",
    "    CLOSEDATE = logan_pass_dates[YEAR][1]\n",
    "\n",
    "    df.loc[(df['year'] == YEAR) & \n",
    "           ( (df['day_of_year'] >= OPENDATE)\n",
    "            & (df['day_of_year'] <= CLOSEDATE) )\n",
    "           , 'logan_pass'] = 1"
   ]
  },
  {
   "cell_type": "markdown",
   "metadata": {},
   "source": [
    "## Identify Invalid Dates"
   ]
  },
  {
   "cell_type": "code",
   "execution_count": 20,
   "metadata": {
    "ExecuteTime": {
     "end_time": "2020-06-08T17:32:21.889545Z",
     "start_time": "2020-06-08T17:32:21.886588Z"
    }
   },
   "outputs": [],
   "source": [
    "# Examine a specific campground in detail\n",
    "\n",
    "# specific_campground = 'Two Medicine'\n",
    "# df.loc[(df['did_fill']==1) & \n",
    "#        (df['cg_name']==specific_campground)].sort_values('day_of_year')[['date','day_of_month']]"
   ]
  },
  {
   "cell_type": "markdown",
   "metadata": {},
   "source": [
    "#### Earliest and Latest Date a Campground Ever Filled"
   ]
  },
  {
   "cell_type": "code",
   "execution_count": 21,
   "metadata": {
    "ExecuteTime": {
     "end_time": "2020-06-08T17:32:22.649951Z",
     "start_time": "2020-06-08T17:32:22.551216Z"
    }
   },
   "outputs": [
    {
     "data": {
      "text/html": [
       "<div>\n",
       "<style scoped>\n",
       "    .dataframe tbody tr th:only-of-type {\n",
       "        vertical-align: middle;\n",
       "    }\n",
       "\n",
       "    .dataframe tbody tr th {\n",
       "        vertical-align: top;\n",
       "    }\n",
       "\n",
       "    .dataframe thead th {\n",
       "        text-align: right;\n",
       "    }\n",
       "</style>\n",
       "<table border=\"1\" class=\"dataframe\">\n",
       "  <thead>\n",
       "    <tr style=\"text-align: right;\">\n",
       "      <th></th>\n",
       "      <th>cg_name</th>\n",
       "      <th>date</th>\n",
       "      <th>day_of_year</th>\n",
       "      <th>did_fill</th>\n",
       "      <th>fill_time</th>\n",
       "      <th>month_text</th>\n",
       "      <th>day_of_month</th>\n",
       "    </tr>\n",
       "  </thead>\n",
       "  <tbody>\n",
       "    <tr>\n",
       "      <th>4</th>\n",
       "      <td>Apgar</td>\n",
       "      <td>2000-05-05</td>\n",
       "      <td>126</td>\n",
       "      <td>1</td>\n",
       "      <td>9:25am</td>\n",
       "      <td>May</td>\n",
       "      <td>5</td>\n",
       "    </tr>\n",
       "    <tr>\n",
       "      <th>2586</th>\n",
       "      <td>Apgar</td>\n",
       "      <td>2016-09-16</td>\n",
       "      <td>260</td>\n",
       "      <td>1</td>\n",
       "      <td>7:06pm</td>\n",
       "      <td>Sep</td>\n",
       "      <td>16</td>\n",
       "    </tr>\n",
       "    <tr>\n",
       "      <th>5708</th>\n",
       "      <td>Avalanche</td>\n",
       "      <td>2017-06-17</td>\n",
       "      <td>168</td>\n",
       "      <td>1</td>\n",
       "      <td>12:44pm</td>\n",
       "      <td>Jun</td>\n",
       "      <td>17</td>\n",
       "    </tr>\n",
       "    <tr>\n",
       "      <th>5646</th>\n",
       "      <td>Avalanche</td>\n",
       "      <td>2016-09-16</td>\n",
       "      <td>260</td>\n",
       "      <td>1</td>\n",
       "      <td>6:17pm</td>\n",
       "      <td>Sep</td>\n",
       "      <td>16</td>\n",
       "    </tr>\n",
       "    <tr>\n",
       "      <th>8437</th>\n",
       "      <td>Bowman Lake</td>\n",
       "      <td>2015-05-23</td>\n",
       "      <td>143</td>\n",
       "      <td>1</td>\n",
       "      <td>5:27pm</td>\n",
       "      <td>May</td>\n",
       "      <td>23</td>\n",
       "    </tr>\n",
       "    <tr>\n",
       "      <th>8245</th>\n",
       "      <td>Bowman Lake</td>\n",
       "      <td>2013-09-14</td>\n",
       "      <td>257</td>\n",
       "      <td>1</td>\n",
       "      <td>4:42pm</td>\n",
       "      <td>Sep</td>\n",
       "      <td>14</td>\n",
       "    </tr>\n",
       "    <tr>\n",
       "      <th>10737</th>\n",
       "      <td>Cut Bank</td>\n",
       "      <td>2010-05-28</td>\n",
       "      <td>148</td>\n",
       "      <td>1</td>\n",
       "      <td>9:31am</td>\n",
       "      <td>May</td>\n",
       "      <td>28</td>\n",
       "    </tr>\n",
       "    <tr>\n",
       "      <th>12070</th>\n",
       "      <td>Cut Bank</td>\n",
       "      <td>2018-09-14</td>\n",
       "      <td>257</td>\n",
       "      <td>1</td>\n",
       "      <td>8:07pm</td>\n",
       "      <td>Sep</td>\n",
       "      <td>14</td>\n",
       "    </tr>\n",
       "    <tr>\n",
       "      <th>15178</th>\n",
       "      <td>Fish Creek</td>\n",
       "      <td>2019-06-01</td>\n",
       "      <td>152</td>\n",
       "      <td>1</td>\n",
       "      <td>5:47pm</td>\n",
       "      <td>Jun</td>\n",
       "      <td>1</td>\n",
       "    </tr>\n",
       "    <tr>\n",
       "      <th>14813</th>\n",
       "      <td>Fish Creek</td>\n",
       "      <td>2016-09-03</td>\n",
       "      <td>247</td>\n",
       "      <td>1</td>\n",
       "      <td>12:17pm</td>\n",
       "      <td>Sep</td>\n",
       "      <td>3</td>\n",
       "    </tr>\n",
       "    <tr>\n",
       "      <th>16092</th>\n",
       "      <td>Kintla Lake</td>\n",
       "      <td>2005-05-28</td>\n",
       "      <td>148</td>\n",
       "      <td>1</td>\n",
       "      <td>2:58pm</td>\n",
       "      <td>May</td>\n",
       "      <td>28</td>\n",
       "    </tr>\n",
       "    <tr>\n",
       "      <th>17894</th>\n",
       "      <td>Kintla Lake</td>\n",
       "      <td>2016-09-24</td>\n",
       "      <td>268</td>\n",
       "      <td>1</td>\n",
       "      <td>5:16pm</td>\n",
       "      <td>Sep</td>\n",
       "      <td>24</td>\n",
       "    </tr>\n",
       "    <tr>\n",
       "      <th>21022</th>\n",
       "      <td>Logging Creek</td>\n",
       "      <td>2017-07-01</td>\n",
       "      <td>182</td>\n",
       "      <td>1</td>\n",
       "      <td>3:02pm</td>\n",
       "      <td>Jul</td>\n",
       "      <td>1</td>\n",
       "    </tr>\n",
       "    <tr>\n",
       "      <th>20782</th>\n",
       "      <td>Logging Creek</td>\n",
       "      <td>2015-09-05</td>\n",
       "      <td>248</td>\n",
       "      <td>1</td>\n",
       "      <td>7:42pm</td>\n",
       "      <td>Sep</td>\n",
       "      <td>5</td>\n",
       "    </tr>\n",
       "    <tr>\n",
       "      <th>24209</th>\n",
       "      <td>Many Glacier</td>\n",
       "      <td>2018-06-05</td>\n",
       "      <td>156</td>\n",
       "      <td>1</td>\n",
       "      <td>7:14pm</td>\n",
       "      <td>Jun</td>\n",
       "      <td>5</td>\n",
       "    </tr>\n",
       "    <tr>\n",
       "      <th>23860</th>\n",
       "      <td>Many Glacier</td>\n",
       "      <td>2015-09-23</td>\n",
       "      <td>266</td>\n",
       "      <td>1</td>\n",
       "      <td>9:37pm</td>\n",
       "      <td>Sep</td>\n",
       "      <td>23</td>\n",
       "    </tr>\n",
       "    <tr>\n",
       "      <th>27142</th>\n",
       "      <td>Quartz Creek</td>\n",
       "      <td>2017-07-01</td>\n",
       "      <td>182</td>\n",
       "      <td>1</td>\n",
       "      <td>3:01pm</td>\n",
       "      <td>Jul</td>\n",
       "      <td>1</td>\n",
       "    </tr>\n",
       "    <tr>\n",
       "      <th>26439</th>\n",
       "      <td>Quartz Creek</td>\n",
       "      <td>2012-09-01</td>\n",
       "      <td>245</td>\n",
       "      <td>1</td>\n",
       "      <td>4:10pm</td>\n",
       "      <td>Sep</td>\n",
       "      <td>1</td>\n",
       "    </tr>\n",
       "    <tr>\n",
       "      <th>30327</th>\n",
       "      <td>Rising Sun</td>\n",
       "      <td>2018-06-03</td>\n",
       "      <td>154</td>\n",
       "      <td>1</td>\n",
       "      <td>3:31pm</td>\n",
       "      <td>Jun</td>\n",
       "      <td>3</td>\n",
       "    </tr>\n",
       "    <tr>\n",
       "      <th>29051</th>\n",
       "      <td>Rising Sun</td>\n",
       "      <td>2009-09-12</td>\n",
       "      <td>255</td>\n",
       "      <td>1</td>\n",
       "      <td>5:06pm</td>\n",
       "      <td>Sep</td>\n",
       "      <td>12</td>\n",
       "    </tr>\n",
       "    <tr>\n",
       "      <th>33517</th>\n",
       "      <td>Sprague Creek</td>\n",
       "      <td>2019-05-11</td>\n",
       "      <td>131</td>\n",
       "      <td>1</td>\n",
       "      <td>5:02pm</td>\n",
       "      <td>May</td>\n",
       "      <td>11</td>\n",
       "    </tr>\n",
       "    <tr>\n",
       "      <th>31050</th>\n",
       "      <td>Sprague Creek</td>\n",
       "      <td>2002-09-22</td>\n",
       "      <td>265</td>\n",
       "      <td>1</td>\n",
       "      <td>6:31pm</td>\n",
       "      <td>Sep</td>\n",
       "      <td>22</td>\n",
       "    </tr>\n",
       "    <tr>\n",
       "      <th>36447</th>\n",
       "      <td>St. Mary</td>\n",
       "      <td>2018-06-03</td>\n",
       "      <td>154</td>\n",
       "      <td>1</td>\n",
       "      <td>3:31pm</td>\n",
       "      <td>Jun</td>\n",
       "      <td>3</td>\n",
       "    </tr>\n",
       "    <tr>\n",
       "      <th>36246</th>\n",
       "      <td>St. Mary</td>\n",
       "      <td>2016-09-16</td>\n",
       "      <td>260</td>\n",
       "      <td>1</td>\n",
       "      <td>8:07pm</td>\n",
       "      <td>Sep</td>\n",
       "      <td>16</td>\n",
       "    </tr>\n",
       "    <tr>\n",
       "      <th>36898</th>\n",
       "      <td>Two Medicine</td>\n",
       "      <td>2001-05-26</td>\n",
       "      <td>146</td>\n",
       "      <td>1</td>\n",
       "      <td>6:00pm</td>\n",
       "      <td>May</td>\n",
       "      <td>26</td>\n",
       "    </tr>\n",
       "    <tr>\n",
       "      <th>38091</th>\n",
       "      <td>Two Medicine</td>\n",
       "      <td>2008-09-25</td>\n",
       "      <td>269</td>\n",
       "      <td>1</td>\n",
       "      <td>9:28am</td>\n",
       "      <td>Sep</td>\n",
       "      <td>25</td>\n",
       "    </tr>\n",
       "  </tbody>\n",
       "</table>\n",
       "</div>"
      ],
      "text/plain": [
       "             cg_name       date  day_of_year  did_fill fill_time month_text  \\\n",
       "4              Apgar 2000-05-05          126         1    9:25am        May   \n",
       "2586           Apgar 2016-09-16          260         1    7:06pm        Sep   \n",
       "5708       Avalanche 2017-06-17          168         1   12:44pm        Jun   \n",
       "5646       Avalanche 2016-09-16          260         1    6:17pm        Sep   \n",
       "8437     Bowman Lake 2015-05-23          143         1    5:27pm        May   \n",
       "8245     Bowman Lake 2013-09-14          257         1    4:42pm        Sep   \n",
       "10737       Cut Bank 2010-05-28          148         1    9:31am        May   \n",
       "12070       Cut Bank 2018-09-14          257         1    8:07pm        Sep   \n",
       "15178     Fish Creek 2019-06-01          152         1    5:47pm        Jun   \n",
       "14813     Fish Creek 2016-09-03          247         1   12:17pm        Sep   \n",
       "16092    Kintla Lake 2005-05-28          148         1    2:58pm        May   \n",
       "17894    Kintla Lake 2016-09-24          268         1    5:16pm        Sep   \n",
       "21022  Logging Creek 2017-07-01          182         1    3:02pm        Jul   \n",
       "20782  Logging Creek 2015-09-05          248         1    7:42pm        Sep   \n",
       "24209   Many Glacier 2018-06-05          156         1    7:14pm        Jun   \n",
       "23860   Many Glacier 2015-09-23          266         1    9:37pm        Sep   \n",
       "27142   Quartz Creek 2017-07-01          182         1    3:01pm        Jul   \n",
       "26439   Quartz Creek 2012-09-01          245         1    4:10pm        Sep   \n",
       "30327     Rising Sun 2018-06-03          154         1    3:31pm        Jun   \n",
       "29051     Rising Sun 2009-09-12          255         1    5:06pm        Sep   \n",
       "33517  Sprague Creek 2019-05-11          131         1    5:02pm        May   \n",
       "31050  Sprague Creek 2002-09-22          265         1    6:31pm        Sep   \n",
       "36447       St. Mary 2018-06-03          154         1    3:31pm        Jun   \n",
       "36246       St. Mary 2016-09-16          260         1    8:07pm        Sep   \n",
       "36898   Two Medicine 2001-05-26          146         1    6:00pm        May   \n",
       "38091   Two Medicine 2008-09-25          269         1    9:28am        Sep   \n",
       "\n",
       "       day_of_month  \n",
       "4                 5  \n",
       "2586             16  \n",
       "5708             17  \n",
       "5646             16  \n",
       "8437             23  \n",
       "8245             14  \n",
       "10737            28  \n",
       "12070            14  \n",
       "15178             1  \n",
       "14813             3  \n",
       "16092            28  \n",
       "17894            24  \n",
       "21022             1  \n",
       "20782             5  \n",
       "24209             5  \n",
       "23860            23  \n",
       "27142             1  \n",
       "26439             1  \n",
       "30327             3  \n",
       "29051            12  \n",
       "33517            11  \n",
       "31050            22  \n",
       "36447             3  \n",
       "36246            16  \n",
       "36898            26  \n",
       "38091            25  "
      ]
     },
     "execution_count": 21,
     "metadata": {},
     "output_type": "execute_result"
    }
   ],
   "source": [
    "max_min_fill = pd.DataFrame()\n",
    "\n",
    "for campground in df['cg_name'].unique():\n",
    "    max_min_fill = max_min_fill.append(\n",
    "        df.loc[\n",
    "            # Look at dates when the campground filled\n",
    "            (df['did_fill']==1) & \n",
    "            \n",
    "            # Look at a specific campground\n",
    "            (df['cg_name']==campground),\n",
    "            \n",
    "            # Return these columns\n",
    "            ['cg_name','date','day_of_year','did_fill','fill_time','month_text','day_of_month']\n",
    "            \n",
    "            # Sort by the the day of the year to get the earliest first and the latest last\n",
    "            # .iloc returns the first and last element\n",
    "        ].sort_values('day_of_year').iloc[[0,-1]]\n",
    "    )\n",
    "\n",
    "max_min_fill"
   ]
  },
  {
   "cell_type": "markdown",
   "metadata": {},
   "source": [
    "#### Built list of Open/Close Dates within Excel"
   ]
  },
  {
   "cell_type": "code",
   "execution_count": 22,
   "metadata": {
    "ExecuteTime": {
     "end_time": "2020-06-08T17:32:23.243506Z",
     "start_time": "2020-06-08T17:32:23.238487Z"
    }
   },
   "outputs": [],
   "source": [
    "cg_open_close = [\n",
    "    ['Apgar',1,366],\n",
    "    ['Avalanche',168,262],\n",
    "    ['Bowman Lake',138,258],\n",
    "    ['Cut Bank',148,269],\n",
    "    ['Fish Creek',152,248],\n",
    "    ['Kintla Lake',148,268],\n",
    "    ['Logging Creek',180,268],\n",
    "    ['Many Glacier',139,269],\n",
    "    ['Quartz Creek',180,366],\n",
    "    ['Rising Sun',154,256],\n",
    "    ['Sprague Creek',126,266],\n",
    "    ['St. Mary',1,366],\n",
    "    ['Two Medicine',146,269]\n",
    "]\n",
    "\n",
    "# Set to 1\n",
    "df['available'] = 1"
   ]
  },
  {
   "cell_type": "markdown",
   "metadata": {},
   "source": [
    "#### Update the Dataframe"
   ]
  },
  {
   "cell_type": "code",
   "execution_count": 23,
   "metadata": {
    "ExecuteTime": {
     "end_time": "2020-06-08T17:32:24.935898Z",
     "start_time": "2020-06-08T17:32:24.886880Z"
    }
   },
   "outputs": [],
   "source": [
    "for entry in cg_open_close:\n",
    "    \n",
    "    CAMPGROUND = entry[0]\n",
    "    OPENDATE = entry[1]\n",
    "    CLOSEDATE = entry[2]\n",
    "\n",
    "    df.loc[\n",
    "        (df['cg_name'] == CAMPGROUND) &\n",
    "        ( (df['day_of_year'] < OPENDATE) \n",
    "         | (df['day_of_year'] > CLOSEDATE) ),\n",
    "         'available'] = 0"
   ]
  },
  {
   "cell_type": "markdown",
   "metadata": {},
   "source": [
    "#### Verify no Fill Dates are Classified as Unvailable"
   ]
  },
  {
   "cell_type": "code",
   "execution_count": 24,
   "metadata": {
    "ExecuteTime": {
     "end_time": "2020-06-08T17:32:25.980130Z",
     "start_time": "2020-06-08T17:32:25.959186Z"
    }
   },
   "outputs": [
    {
     "data": {
      "text/html": [
       "<div>\n",
       "<style scoped>\n",
       "    .dataframe tbody tr th:only-of-type {\n",
       "        vertical-align: middle;\n",
       "    }\n",
       "\n",
       "    .dataframe tbody tr th {\n",
       "        vertical-align: top;\n",
       "    }\n",
       "\n",
       "    .dataframe thead th {\n",
       "        text-align: right;\n",
       "    }\n",
       "</style>\n",
       "<table border=\"1\" class=\"dataframe\">\n",
       "  <thead>\n",
       "    <tr style=\"text-align: right;\">\n",
       "      <th>did_fill</th>\n",
       "      <th>0</th>\n",
       "      <th>1</th>\n",
       "    </tr>\n",
       "    <tr>\n",
       "      <th>available</th>\n",
       "      <th></th>\n",
       "      <th></th>\n",
       "    </tr>\n",
       "  </thead>\n",
       "  <tbody>\n",
       "    <tr>\n",
       "      <th>0</th>\n",
       "      <td>8895</td>\n",
       "      <td>0</td>\n",
       "    </tr>\n",
       "    <tr>\n",
       "      <th>1</th>\n",
       "      <td>22290</td>\n",
       "      <td>8595</td>\n",
       "    </tr>\n",
       "  </tbody>\n",
       "</table>\n",
       "</div>"
      ],
      "text/plain": [
       "did_fill       0     1\n",
       "available             \n",
       "0           8895     0\n",
       "1          22290  8595"
      ]
     },
     "execution_count": 24,
     "metadata": {},
     "output_type": "execute_result"
    }
   ],
   "source": [
    "pd.crosstab(df['available'],\n",
    "            df['did_fill'])"
   ]
  },
  {
   "cell_type": "markdown",
   "metadata": {},
   "source": [
    "## Wildfire Dates\n"
   ]
  },
  {
   "cell_type": "markdown",
   "metadata": {},
   "source": [
    "#### Create Column where are all dates are zero"
   ]
  },
  {
   "cell_type": "code",
   "execution_count": 51,
   "metadata": {
    "ExecuteTime": {
     "end_time": "2020-06-08T18:06:13.365006Z",
     "start_time": "2020-06-08T18:06:13.360016Z"
    }
   },
   "outputs": [],
   "source": [
    "df['fire_closure'] = 0"
   ]
  },
  {
   "cell_type": "markdown",
   "metadata": {},
   "source": [
    "#### 2018 Howe Ridge Fire"
   ]
  },
  {
   "cell_type": "code",
   "execution_count": 52,
   "metadata": {
    "ExecuteTime": {
     "end_time": "2020-06-08T18:06:14.356358Z",
     "start_time": "2020-06-08T18:06:14.296333Z"
    }
   },
   "outputs": [],
   "source": [
    "howe_ridge_fire =[\n",
    "['Apgar',226,365],\n",
    "['Avalanche',225,365],\n",
    "['Bowman Lake',0,0],\n",
    "['Cut Bank',0,0],\n",
    "['Fish Creek',225,365],\n",
    "['Kintla Lake',0,0],\n",
    "['Logging Creek',0,0],\n",
    "['Many Glacier',0,0],\n",
    "['Quartz Creek',0,0],\n",
    "['Rising Sun',0,0],\n",
    "['Sprague Creek',225,365],\n",
    "['St. Mary',0,0],\n",
    "['Two Medicine',0,0],\n",
    "]\n",
    "\n",
    "for entry in howe_ridge_fire:\n",
    "    \n",
    "    CAMPGROUND = entry[0]\n",
    "    START = entry[1]\n",
    "    FINISH = entry[2]\n",
    "\n",
    "    df.loc[\n",
    "        ( (df['cg_name'] == CAMPGROUND) & (df['year']==2018) ) &\n",
    "        ( (df['day_of_year'] >= START) \n",
    "         & (df['day_of_year'] <= FINISH) ),\n",
    "         'fire_closure'] = 1"
   ]
  },
  {
   "cell_type": "markdown",
   "metadata": {},
   "source": [
    "#### 2017 Sprague Fire"
   ]
  },
  {
   "cell_type": "code",
   "execution_count": 53,
   "metadata": {
    "ExecuteTime": {
     "end_time": "2020-06-08T18:06:16.188827Z",
     "start_time": "2020-06-08T18:06:16.126860Z"
    }
   },
   "outputs": [],
   "source": [
    "sprague_fire =[\n",
    "['Apgar',246,365],\n",
    "['Avalanche',246,365],\n",
    "['Bowman Lake',0,0],\n",
    "['Cut Bank',0,0],\n",
    "['Fish Creek',246,365],\n",
    "['Kintla Lake',0,0],\n",
    "['Logging Creek',0,0],\n",
    "['Many Glacier',0,0],\n",
    "['Quartz Creek',0,0],\n",
    "['Rising Sun',0,0],\n",
    "['Sprague Creek',246,365],\n",
    "['St. Mary',0,0],\n",
    "['Two Medicine',0,0]\n",
    "\n",
    "]\n",
    "\n",
    "for entry in sprague_fire:\n",
    "    \n",
    "    CAMPGROUND = entry[0]\n",
    "    START = entry[1]\n",
    "    FINISH = entry[2]\n",
    "\n",
    "    df.loc[\n",
    "        ( (df['cg_name'] == CAMPGROUND) & (df['year']==201) ) &\n",
    "        ( (df['day_of_year'] >= START) \n",
    "         | (df['day_of_year'] <= FINISH) ),\n",
    "         'fire_closure'] = 1"
   ]
  },
  {
   "cell_type": "markdown",
   "metadata": {},
   "source": [
    "#### 2015 Reynolds Fire"
   ]
  },
  {
   "cell_type": "code",
   "execution_count": 54,
   "metadata": {
    "ExecuteTime": {
     "end_time": "2020-06-08T18:06:17.498526Z",
     "start_time": "2020-06-08T18:06:17.439953Z"
    }
   },
   "outputs": [],
   "source": [
    "reynolds_fire=[\n",
    "['Apgar',0,0],\n",
    "['Avalanche',0,0],\n",
    "['Bowman Lake',0,0],\n",
    "['Cut Bank',0,0],\n",
    "['Fish Creek',0,0],\n",
    "['Kintla Lake',0,0],\n",
    "['Logging Creek',0,0],\n",
    "['Many Glacier',0,0],\n",
    "['Quartz Creek',0,0],\n",
    "['Rising Sun',203,365],\n",
    "['Sprague Creek',0,0],\n",
    "['St. Mary',203,211],\n",
    "['Two Medicine',0,0],\n",
    "]\n",
    "\n",
    "for entry in reynolds_fire:\n",
    "    \n",
    "    CAMPGROUND = entry[0]\n",
    "    START = entry[1]\n",
    "    FINISH = entry[2]\n",
    "\n",
    "    df.loc[\n",
    "        ( (df['cg_name'] == CAMPGROUND) & (df['year']==2015) ) &\n",
    "        ( (df['day_of_year'] >= START) \n",
    "         & (df['day_of_year'] < FINISH) ),\n",
    "         'fire_closure'] = 1"
   ]
  },
  {
   "cell_type": "markdown",
   "metadata": {},
   "source": [
    "### Reset Available to zero on these fire closure dates"
   ]
  },
  {
   "cell_type": "code",
   "execution_count": 55,
   "metadata": {
    "ExecuteTime": {
     "end_time": "2020-06-08T18:06:18.532810Z",
     "start_time": "2020-06-08T18:06:18.526833Z"
    }
   },
   "outputs": [],
   "source": [
    "df.loc[df['fire_closure']==1,'available'] = 0"
   ]
  },
  {
   "cell_type": "markdown",
   "metadata": {},
   "source": [
    "#### Verify by Crosstab"
   ]
  },
  {
   "cell_type": "code",
   "execution_count": 58,
   "metadata": {
    "ExecuteTime": {
     "end_time": "2020-06-08T18:06:35.005748Z",
     "start_time": "2020-06-08T18:06:34.983807Z"
    }
   },
   "outputs": [
    {
     "data": {
      "text/html": [
       "<div>\n",
       "<style scoped>\n",
       "    .dataframe tbody tr th:only-of-type {\n",
       "        vertical-align: middle;\n",
       "    }\n",
       "\n",
       "    .dataframe tbody tr th {\n",
       "        vertical-align: top;\n",
       "    }\n",
       "\n",
       "    .dataframe thead th {\n",
       "        text-align: right;\n",
       "    }\n",
       "</style>\n",
       "<table border=\"1\" class=\"dataframe\">\n",
       "  <thead>\n",
       "    <tr style=\"text-align: right;\">\n",
       "      <th>did_fill</th>\n",
       "      <th>0</th>\n",
       "      <th>1</th>\n",
       "    </tr>\n",
       "    <tr>\n",
       "      <th>fire_closure</th>\n",
       "      <th></th>\n",
       "      <th></th>\n",
       "    </tr>\n",
       "  </thead>\n",
       "  <tbody>\n",
       "    <tr>\n",
       "      <th>0</th>\n",
       "      <td>30911</td>\n",
       "      <td>8595</td>\n",
       "    </tr>\n",
       "    <tr>\n",
       "      <th>1</th>\n",
       "      <td>274</td>\n",
       "      <td>0</td>\n",
       "    </tr>\n",
       "  </tbody>\n",
       "</table>\n",
       "</div>"
      ],
      "text/plain": [
       "did_fill          0     1\n",
       "fire_closure             \n",
       "0             30911  8595\n",
       "1               274     0"
      ]
     },
     "execution_count": 58,
     "metadata": {},
     "output_type": "execute_result"
    }
   ],
   "source": [
    "pd.crosstab(df['fire_closure'],\n",
    "            df['did_fill'])"
   ]
  },
  {
   "cell_type": "markdown",
   "metadata": {},
   "source": [
    "## Look for Anomalies"
   ]
  },
  {
   "cell_type": "code",
   "execution_count": 59,
   "metadata": {
    "ExecuteTime": {
     "end_time": "2020-06-08T18:06:36.079833Z",
     "start_time": "2020-06-08T18:06:36.031929Z"
    }
   },
   "outputs": [
    {
     "data": {
      "text/html": [
       "<div>\n",
       "<style scoped>\n",
       "    .dataframe tbody tr th:only-of-type {\n",
       "        vertical-align: middle;\n",
       "    }\n",
       "\n",
       "    .dataframe tbody tr th {\n",
       "        vertical-align: top;\n",
       "    }\n",
       "\n",
       "    .dataframe thead th {\n",
       "        text-align: right;\n",
       "    }\n",
       "</style>\n",
       "<table border=\"1\" class=\"dataframe\">\n",
       "  <thead>\n",
       "    <tr style=\"text-align: right;\">\n",
       "      <th></th>\n",
       "      <th>cg_name</th>\n",
       "      <th>date</th>\n",
       "      <th>did_fill</th>\n",
       "      <th>fill_time</th>\n",
       "      <th>available</th>\n",
       "      <th>nickname</th>\n",
       "      <th>key_name_date</th>\n",
       "      <th>time_24</th>\n",
       "      <th>hours_after_midnight</th>\n",
       "      <th>year</th>\n",
       "      <th>...</th>\n",
       "      <th>month_text</th>\n",
       "      <th>day_of_year</th>\n",
       "      <th>day_of_month</th>\n",
       "      <th>weekday</th>\n",
       "      <th>key_year_month</th>\n",
       "      <th>high_season</th>\n",
       "      <th>weekend</th>\n",
       "      <th>holiday</th>\n",
       "      <th>logan_pass</th>\n",
       "      <th>fire_closure</th>\n",
       "    </tr>\n",
       "  </thead>\n",
       "  <tbody>\n",
       "    <tr>\n",
       "      <th>27322</th>\n",
       "      <td>Quartz Creek</td>\n",
       "      <td>2018-07-28</td>\n",
       "      <td>1</td>\n",
       "      <td>12:49am</td>\n",
       "      <td>1</td>\n",
       "      <td>QuCr</td>\n",
       "      <td>2018-07-28_QuCr</td>\n",
       "      <td>00:49</td>\n",
       "      <td>0.82</td>\n",
       "      <td>2018</td>\n",
       "      <td>...</td>\n",
       "      <td>Jul</td>\n",
       "      <td>209</td>\n",
       "      <td>28</td>\n",
       "      <td>Sat</td>\n",
       "      <td>2018_Jul</td>\n",
       "      <td>1</td>\n",
       "      <td>1</td>\n",
       "      <td>0</td>\n",
       "      <td>1</td>\n",
       "      <td>0</td>\n",
       "    </tr>\n",
       "    <tr>\n",
       "      <th>13851</th>\n",
       "      <td>Fish Creek</td>\n",
       "      <td>2010-07-21</td>\n",
       "      <td>1</td>\n",
       "      <td>5:26am</td>\n",
       "      <td>1</td>\n",
       "      <td>FiCr</td>\n",
       "      <td>2010-07-21_FiCr</td>\n",
       "      <td>05:26</td>\n",
       "      <td>5.43</td>\n",
       "      <td>2010</td>\n",
       "      <td>...</td>\n",
       "      <td>Jul</td>\n",
       "      <td>202</td>\n",
       "      <td>21</td>\n",
       "      <td>Wed</td>\n",
       "      <td>2010_Jul</td>\n",
       "      <td>1</td>\n",
       "      <td>0</td>\n",
       "      <td>0</td>\n",
       "      <td>1</td>\n",
       "      <td>0</td>\n",
       "    </tr>\n",
       "    <tr>\n",
       "      <th>13858</th>\n",
       "      <td>Fish Creek</td>\n",
       "      <td>2010-07-28</td>\n",
       "      <td>1</td>\n",
       "      <td>6:00am</td>\n",
       "      <td>1</td>\n",
       "      <td>FiCr</td>\n",
       "      <td>2010-07-28_FiCr</td>\n",
       "      <td>06:00</td>\n",
       "      <td>6.00</td>\n",
       "      <td>2010</td>\n",
       "      <td>...</td>\n",
       "      <td>Jul</td>\n",
       "      <td>209</td>\n",
       "      <td>28</td>\n",
       "      <td>Wed</td>\n",
       "      <td>2010_Jul</td>\n",
       "      <td>1</td>\n",
       "      <td>0</td>\n",
       "      <td>0</td>\n",
       "      <td>1</td>\n",
       "      <td>0</td>\n",
       "    </tr>\n",
       "    <tr>\n",
       "      <th>33442</th>\n",
       "      <td>Sprague Creek</td>\n",
       "      <td>2018-07-28</td>\n",
       "      <td>1</td>\n",
       "      <td>6:35am</td>\n",
       "      <td>1</td>\n",
       "      <td>SpCr</td>\n",
       "      <td>2018-07-28_SpCr</td>\n",
       "      <td>06:35</td>\n",
       "      <td>6.58</td>\n",
       "      <td>2018</td>\n",
       "      <td>...</td>\n",
       "      <td>Jul</td>\n",
       "      <td>209</td>\n",
       "      <td>28</td>\n",
       "      <td>Sat</td>\n",
       "      <td>2018_Jul</td>\n",
       "      <td>1</td>\n",
       "      <td>1</td>\n",
       "      <td>0</td>\n",
       "      <td>1</td>\n",
       "      <td>0</td>\n",
       "    </tr>\n",
       "    <tr>\n",
       "      <th>33577</th>\n",
       "      <td>Sprague Creek</td>\n",
       "      <td>2019-07-10</td>\n",
       "      <td>1</td>\n",
       "      <td>6:38am</td>\n",
       "      <td>1</td>\n",
       "      <td>SpCr</td>\n",
       "      <td>2019-07-10_SpCr</td>\n",
       "      <td>06:38</td>\n",
       "      <td>6.63</td>\n",
       "      <td>2019</td>\n",
       "      <td>...</td>\n",
       "      <td>Jul</td>\n",
       "      <td>191</td>\n",
       "      <td>10</td>\n",
       "      <td>Wed</td>\n",
       "      <td>2019_Jul</td>\n",
       "      <td>1</td>\n",
       "      <td>0</td>\n",
       "      <td>0</td>\n",
       "      <td>1</td>\n",
       "      <td>0</td>\n",
       "    </tr>\n",
       "    <tr>\n",
       "      <th>...</th>\n",
       "      <td>...</td>\n",
       "      <td>...</td>\n",
       "      <td>...</td>\n",
       "      <td>...</td>\n",
       "      <td>...</td>\n",
       "      <td>...</td>\n",
       "      <td>...</td>\n",
       "      <td>...</td>\n",
       "      <td>...</td>\n",
       "      <td>...</td>\n",
       "      <td>...</td>\n",
       "      <td>...</td>\n",
       "      <td>...</td>\n",
       "      <td>...</td>\n",
       "      <td>...</td>\n",
       "      <td>...</td>\n",
       "      <td>...</td>\n",
       "      <td>...</td>\n",
       "      <td>...</td>\n",
       "      <td>...</td>\n",
       "      <td>...</td>\n",
       "    </tr>\n",
       "    <tr>\n",
       "      <th>14345</th>\n",
       "      <td>Fish Creek</td>\n",
       "      <td>2013-08-25</td>\n",
       "      <td>1</td>\n",
       "      <td>11:36pm</td>\n",
       "      <td>1</td>\n",
       "      <td>FiCr</td>\n",
       "      <td>2013-08-25_FiCr</td>\n",
       "      <td>23:36</td>\n",
       "      <td>23.60</td>\n",
       "      <td>2013</td>\n",
       "      <td>...</td>\n",
       "      <td>Aug</td>\n",
       "      <td>237</td>\n",
       "      <td>25</td>\n",
       "      <td>Sun</td>\n",
       "      <td>2013_Aug</td>\n",
       "      <td>1</td>\n",
       "      <td>0</td>\n",
       "      <td>0</td>\n",
       "      <td>1</td>\n",
       "      <td>0</td>\n",
       "    </tr>\n",
       "    <tr>\n",
       "      <th>33107</th>\n",
       "      <td>Sprague Creek</td>\n",
       "      <td>2016-06-29</td>\n",
       "      <td>1</td>\n",
       "      <td>11:37pm</td>\n",
       "      <td>1</td>\n",
       "      <td>SpCr</td>\n",
       "      <td>2016-06-29_SpCr</td>\n",
       "      <td>23:37</td>\n",
       "      <td>23.62</td>\n",
       "      <td>2016</td>\n",
       "      <td>...</td>\n",
       "      <td>Jun</td>\n",
       "      <td>181</td>\n",
       "      <td>29</td>\n",
       "      <td>Wed</td>\n",
       "      <td>2016_Jun</td>\n",
       "      <td>0</td>\n",
       "      <td>0</td>\n",
       "      <td>0</td>\n",
       "      <td>1</td>\n",
       "      <td>0</td>\n",
       "    </tr>\n",
       "    <tr>\n",
       "      <th>28371</th>\n",
       "      <td>Rising Sun</td>\n",
       "      <td>2005-07-06</td>\n",
       "      <td>1</td>\n",
       "      <td>11:47pm</td>\n",
       "      <td>1</td>\n",
       "      <td>RiSu</td>\n",
       "      <td>2005-07-06_RiSu</td>\n",
       "      <td>23:47</td>\n",
       "      <td>23.78</td>\n",
       "      <td>2005</td>\n",
       "      <td>...</td>\n",
       "      <td>Jul</td>\n",
       "      <td>187</td>\n",
       "      <td>6</td>\n",
       "      <td>Wed</td>\n",
       "      <td>2005_Jul</td>\n",
       "      <td>1</td>\n",
       "      <td>0</td>\n",
       "      <td>0</td>\n",
       "      <td>1</td>\n",
       "      <td>0</td>\n",
       "    </tr>\n",
       "    <tr>\n",
       "      <th>39252</th>\n",
       "      <td>Two Medicine</td>\n",
       "      <td>2016-07-24</td>\n",
       "      <td>1</td>\n",
       "      <td>11:52pm</td>\n",
       "      <td>1</td>\n",
       "      <td>TwoM</td>\n",
       "      <td>2016-07-24_TwoM</td>\n",
       "      <td>23:52</td>\n",
       "      <td>23.87</td>\n",
       "      <td>2016</td>\n",
       "      <td>...</td>\n",
       "      <td>Jul</td>\n",
       "      <td>206</td>\n",
       "      <td>24</td>\n",
       "      <td>Sun</td>\n",
       "      <td>2016_Jul</td>\n",
       "      <td>1</td>\n",
       "      <td>0</td>\n",
       "      <td>0</td>\n",
       "      <td>1</td>\n",
       "      <td>0</td>\n",
       "    </tr>\n",
       "    <tr>\n",
       "      <th>17227</th>\n",
       "      <td>Kintla Lake</td>\n",
       "      <td>2012-07-31</td>\n",
       "      <td>1</td>\n",
       "      <td>11:59pm</td>\n",
       "      <td>1</td>\n",
       "      <td>KiLa</td>\n",
       "      <td>2012-07-31_KiLa</td>\n",
       "      <td>23:59</td>\n",
       "      <td>23.98</td>\n",
       "      <td>2012</td>\n",
       "      <td>...</td>\n",
       "      <td>Jul</td>\n",
       "      <td>213</td>\n",
       "      <td>31</td>\n",
       "      <td>Tue</td>\n",
       "      <td>2012_Jul</td>\n",
       "      <td>1</td>\n",
       "      <td>0</td>\n",
       "      <td>0</td>\n",
       "      <td>1</td>\n",
       "      <td>0</td>\n",
       "    </tr>\n",
       "  </tbody>\n",
       "</table>\n",
       "<p>8595 rows × 21 columns</p>\n",
       "</div>"
      ],
      "text/plain": [
       "             cg_name       date  did_fill fill_time  available nickname  \\\n",
       "27322   Quartz Creek 2018-07-28         1   12:49am          1     QuCr   \n",
       "13851     Fish Creek 2010-07-21         1    5:26am          1     FiCr   \n",
       "13858     Fish Creek 2010-07-28         1    6:00am          1     FiCr   \n",
       "33442  Sprague Creek 2018-07-28         1    6:35am          1     SpCr   \n",
       "33577  Sprague Creek 2019-07-10         1    6:38am          1     SpCr   \n",
       "...              ...        ...       ...       ...        ...      ...   \n",
       "14345     Fish Creek 2013-08-25         1   11:36pm          1     FiCr   \n",
       "33107  Sprague Creek 2016-06-29         1   11:37pm          1     SpCr   \n",
       "28371     Rising Sun 2005-07-06         1   11:47pm          1     RiSu   \n",
       "39252   Two Medicine 2016-07-24         1   11:52pm          1     TwoM   \n",
       "17227    Kintla Lake 2012-07-31         1   11:59pm          1     KiLa   \n",
       "\n",
       "         key_name_date time_24  hours_after_midnight  year  ...  month_text  \\\n",
       "27322  2018-07-28_QuCr   00:49                  0.82  2018  ...         Jul   \n",
       "13851  2010-07-21_FiCr   05:26                  5.43  2010  ...         Jul   \n",
       "13858  2010-07-28_FiCr   06:00                  6.00  2010  ...         Jul   \n",
       "33442  2018-07-28_SpCr   06:35                  6.58  2018  ...         Jul   \n",
       "33577  2019-07-10_SpCr   06:38                  6.63  2019  ...         Jul   \n",
       "...                ...     ...                   ...   ...  ...         ...   \n",
       "14345  2013-08-25_FiCr   23:36                 23.60  2013  ...         Aug   \n",
       "33107  2016-06-29_SpCr   23:37                 23.62  2016  ...         Jun   \n",
       "28371  2005-07-06_RiSu   23:47                 23.78  2005  ...         Jul   \n",
       "39252  2016-07-24_TwoM   23:52                 23.87  2016  ...         Jul   \n",
       "17227  2012-07-31_KiLa   23:59                 23.98  2012  ...         Jul   \n",
       "\n",
       "      day_of_year  day_of_month  weekday key_year_month high_season  weekend  \\\n",
       "27322         209            28      Sat       2018_Jul           1        1   \n",
       "13851         202            21      Wed       2010_Jul           1        0   \n",
       "13858         209            28      Wed       2010_Jul           1        0   \n",
       "33442         209            28      Sat       2018_Jul           1        1   \n",
       "33577         191            10      Wed       2019_Jul           1        0   \n",
       "...           ...           ...      ...            ...         ...      ...   \n",
       "14345         237            25      Sun       2013_Aug           1        0   \n",
       "33107         181            29      Wed       2016_Jun           0        0   \n",
       "28371         187             6      Wed       2005_Jul           1        0   \n",
       "39252         206            24      Sun       2016_Jul           1        0   \n",
       "17227         213            31      Tue       2012_Jul           1        0   \n",
       "\n",
       "       holiday  logan_pass  fire_closure  \n",
       "27322        0           1             0  \n",
       "13851        0           1             0  \n",
       "13858        0           1             0  \n",
       "33442        0           1             0  \n",
       "33577        0           1             0  \n",
       "...        ...         ...           ...  \n",
       "14345        0           1             0  \n",
       "33107        0           1             0  \n",
       "28371        0           1             0  \n",
       "39252        0           1             0  \n",
       "17227        0           1             0  \n",
       "\n",
       "[8595 rows x 21 columns]"
      ]
     },
     "execution_count": 59,
     "metadata": {},
     "output_type": "execute_result"
    }
   ],
   "source": [
    "df[df['hours_after_midnight']>0].sort_values('hours_after_midnight')"
   ]
  },
  {
   "cell_type": "markdown",
   "metadata": {},
   "source": [
    "#### Manual Corrections"
   ]
  },
  {
   "cell_type": "code",
   "execution_count": 60,
   "metadata": {
    "ExecuteTime": {
     "end_time": "2020-06-08T18:06:48.447687Z",
     "start_time": "2020-06-08T18:06:48.438668Z"
    }
   },
   "outputs": [],
   "source": [
    "df.loc[(df['key_name_date']=='2018-07-28_QuCr'),'hours_after_midnight'] = 12.82"
   ]
  },
  {
   "cell_type": "markdown",
   "metadata": {
    "ExecuteTime": {
     "end_time": "2020-05-31T16:17:48.652373Z",
     "start_time": "2020-05-31T16:17:48.648384Z"
    }
   },
   "source": [
    "## Export to CSV"
   ]
  },
  {
   "cell_type": "code",
   "execution_count": 63,
   "metadata": {
    "ExecuteTime": {
     "end_time": "2020-06-08T18:08:08.998394Z",
     "start_time": "2020-06-08T18:08:08.984425Z"
    }
   },
   "outputs": [],
   "source": [
    "df.drop(columns = ['fire_closure'],inplace= True)"
   ]
  },
  {
   "cell_type": "code",
   "execution_count": 64,
   "metadata": {
    "ExecuteTime": {
     "end_time": "2020-06-08T18:08:10.383375Z",
     "start_time": "2020-06-08T18:08:09.989967Z"
    }
   },
   "outputs": [],
   "source": [
    "df.to_csv('../data/02_filltimes_clean.csv')"
   ]
  }
 ],
 "metadata": {
  "kernelspec": {
   "display_name": "Python 3",
   "language": "python",
   "name": "python3"
  },
  "language_info": {
   "codemirror_mode": {
    "name": "ipython",
    "version": 3
   },
   "file_extension": ".py",
   "mimetype": "text/x-python",
   "name": "python",
   "nbconvert_exporter": "python",
   "pygments_lexer": "ipython3",
   "version": "3.7.6"
  }
 },
 "nbformat": 4,
 "nbformat_minor": 4
}
