{
 "cells": [
  {
   "cell_type": "markdown",
   "metadata": {},
   "source": [
    "Zach Tretter\n",
    "\n",
    "June 2020\n",
    "\n",
    "--------"
   ]
  },
  {
   "cell_type": "code",
   "execution_count": 1,
   "metadata": {
    "ExecuteTime": {
     "end_time": "2020-06-09T13:43:11.601109Z",
     "start_time": "2020-06-09T13:43:09.133403Z"
    }
   },
   "outputs": [],
   "source": [
    "import requests \n",
    "from bs4 import BeautifulSoup\n",
    "\n",
    "import os\n",
    "import pandas as pd\n",
    "import numpy as np\n",
    "import time\n",
    "\n",
    "import folium"
   ]
  },
  {
   "cell_type": "markdown",
   "metadata": {},
   "source": [
    "________\n",
    "\n",
    "# Step 03D - Campground Characteristics\n",
    "\n",
    "Scraped Attributes for each Campground from [campground status page](https://www.nps.gov/applications/glac/cgstatus/cgstatus.cfm)\n",
    "\n",
    "#### Contents\n",
    "* [Setup Scrape](#Set-up-Scrape-for-Campground-Characteristics)\n",
    "* [Execute Scrape](#Execute-the-Webscrape)\n",
    "* [Clean Dataframe](#Clean-the-Dataframe)\n",
    "* [Identify Nearest Weather Station](#Identify-Nearest-Weather-Station)\n",
    "\n"
   ]
  },
  {
   "cell_type": "markdown",
   "metadata": {},
   "source": [
    "## Set up Scrape for Campground Characteristics"
   ]
  },
  {
   "cell_type": "markdown",
   "metadata": {},
   "source": [
    "#### Read in campground names"
   ]
  },
  {
   "cell_type": "code",
   "execution_count": 3,
   "metadata": {
    "ExecuteTime": {
     "end_time": "2020-06-05T20:00:09.977498Z",
     "start_time": "2020-06-05T20:00:09.881576Z"
    }
   },
   "outputs": [],
   "source": [
    "df_names = pd.read_csv('../data/02_filltimes_clean.csv')\n",
    "cg_names = df_names['cg_name'].unique()\n",
    "\n",
    "# cg_names"
   ]
  },
  {
   "cell_type": "markdown",
   "metadata": {},
   "source": [
    "#### Make list of Campground URLs"
   ]
  },
  {
   "cell_type": "code",
   "execution_count": 4,
   "metadata": {
    "ExecuteTime": {
     "end_time": "2020-06-05T20:00:09.981345Z",
     "start_time": "2020-06-05T20:00:09.979348Z"
    }
   },
   "outputs": [],
   "source": [
    "base_url = 'https://www.nps.gov/applications/glac/cgstatus/camping_detail.cfm?cg='\n",
    "fulllink_campgroundstatus_byname = [base_url + i for i in cg_names]\n",
    "\n",
    "# fulllink_campgroundstatus_byname"
   ]
  },
  {
   "cell_type": "markdown",
   "metadata": {},
   "source": [
    "#### Function to Strip Escape Characters"
   ]
  },
  {
   "cell_type": "code",
   "execution_count": 5,
   "metadata": {
    "ExecuteTime": {
     "end_time": "2020-06-05T20:00:09.989288Z",
     "start_time": "2020-06-05T20:00:09.982306Z"
    }
   },
   "outputs": [],
   "source": [
    "def strip_escape_chars(text):\n",
    "    '''\n",
    "    getText() on an element in the 'Current and Historic Campground Fill Times' looks like this:\n",
    "    '\\n3\\n\\r\\n\\t\\t\\t\\t\\t\\t\\t11:00am\\r\\n\\t\\t\\t\\t\\t\\t\\t\\n\\n'\n",
    "    This function cleans it to: '3 11:00am'\n",
    "    A date with no fill up time will just be a number (the day of the month)\n",
    "    '''\n",
    "    return text.strip().replace(\"\\n\",\"\").replace('\\t',\"\").replace('\\r',\" \")"
   ]
  },
  {
   "cell_type": "markdown",
   "metadata": {},
   "source": [
    "## Execute the Webscrape"
   ]
  },
  {
   "cell_type": "code",
   "execution_count": 6,
   "metadata": {
    "ExecuteTime": {
     "end_time": "2020-06-05T20:00:21.433059Z",
     "start_time": "2020-06-05T20:00:09.990319Z"
    }
   },
   "outputs": [],
   "source": [
    "campground_attributes = []\n",
    "\n",
    "for input_url in fulllink_campgroundstatus_byname:\n",
    "    \n",
    "    time.sleep(0.5)\n",
    "    \n",
    "    req = requests.get(input_url)\n",
    "    soup = BeautifulSoup(req.content,'html.parser')\n",
    "\n",
    "    title = soup.find('title').getText()\n",
    "    name = title.split(\" - \")[1].replace(\" Campground Information\",\"\")\n",
    "\n",
    "    location = soup.find_all('table')[0].find_all('tr')[4].find_all('table')[0].find_all('tr')\n",
    "\n",
    "    # Identify where each attribute is in the soup\n",
    "    attributes = {\n",
    "        'fee': location[5],\n",
    "        'sites': location[6],\n",
    "        'flush_toilets': location[7],\n",
    "        'showers': location[8],\n",
    "        'disposal_station': location[9],\n",
    "        'reservations': location[10]\n",
    "    }\n",
    "\n",
    "    # Get the text, strip escape characters, and remove the row title\n",
    "    for i in attributes:\n",
    "        attributes[i] = attributes[i].getText()\n",
    "        attributes[i] = strip_escape_chars(attributes[i])\n",
    "        attributes[i] = attributes[i].replace('\\xa0',\"-\").split(\"-\")[1]\n",
    "    \n",
    "    # RV sites?\n",
    "    if attributes['sites'][-1] == \"*\":\n",
    "        attributes['rv'] = 'Yes'\n",
    "        attributes['sites'] = attributes['sites'][:-1]\n",
    "    else:\n",
    "        attributes['rv'] = 'No'\n",
    "    \n",
    "    # Add the campground name\n",
    "    attributes['cg_name'] = name\n",
    "    \n",
    "    # Clean up fee\n",
    "    attributes['fee'] = attributes['fee'].split(\" / \")[0].replace(\"$\",\"\").split(\".\")[0]\n",
    "    \n",
    "    campground_attributes.append(attributes)\n",
    "    \n",
    "df_cg_attributes = pd.DataFrame(campground_attributes)\n",
    "\n",
    "# Put the campground name first\n",
    "cols = df_cg_attributes.columns.tolist()\n",
    "cols = cols[-1:] + cols[:-1]\n",
    "df_cg_attributes = df_cg_attributes[cols]"
   ]
  },
  {
   "cell_type": "markdown",
   "metadata": {},
   "source": [
    "## Clean the Dataframe"
   ]
  },
  {
   "cell_type": "markdown",
   "metadata": {},
   "source": [
    "#### Set the Campground Name as the Index"
   ]
  },
  {
   "cell_type": "code",
   "execution_count": 7,
   "metadata": {
    "ExecuteTime": {
     "end_time": "2020-06-05T20:00:21.438773Z",
     "start_time": "2020-06-05T20:00:21.433784Z"
    }
   },
   "outputs": [],
   "source": [
    "df_cg_attributes = df_cg_attributes.set_index('cg_name')"
   ]
  },
  {
   "cell_type": "markdown",
   "metadata": {},
   "source": [
    "#### Binarize Yes/No Features"
   ]
  },
  {
   "cell_type": "code",
   "execution_count": 8,
   "metadata": {
    "ExecuteTime": {
     "end_time": "2020-06-05T20:00:21.447807Z",
     "start_time": "2020-06-05T20:00:21.441765Z"
    }
   },
   "outputs": [],
   "source": [
    "cols_to_binarize = ['flush_toilets',\n",
    "                    'showers',\n",
    "                    'disposal_station',\n",
    "                    'reservations',\n",
    "                    'rv']\n",
    "\n",
    "for i in cols_to_binarize:\n",
    "    df_cg_attributes[i] = np.where(df_cg_attributes[i] == \"Yes\", 1, 0)"
   ]
  },
  {
   "cell_type": "markdown",
   "metadata": {},
   "source": [
    "#### Convert Fee and Sites to Integer"
   ]
  },
  {
   "cell_type": "code",
   "execution_count": 9,
   "metadata": {
    "ExecuteTime": {
     "end_time": "2020-06-05T20:00:21.452769Z",
     "start_time": "2020-06-05T20:00:21.449743Z"
    }
   },
   "outputs": [],
   "source": [
    "df_cg_attributes['sites']=df_cg_attributes['sites'].astype(int)\n",
    "df_cg_attributes['fee']=df_cg_attributes['fee'].astype(int)"
   ]
  },
  {
   "cell_type": "markdown",
   "metadata": {},
   "source": [
    "#### Designate 'Primitive\""
   ]
  },
  {
   "cell_type": "code",
   "execution_count": 10,
   "metadata": {
    "ExecuteTime": {
     "end_time": "2020-06-05T20:00:21.459717Z",
     "start_time": "2020-06-05T20:00:21.453732Z"
    }
   },
   "outputs": [],
   "source": [
    "df_cg_attributes['primitive']=0\n",
    "\n",
    "df_cg_attributes.loc[['Cut Bank',\n",
    "                      'Logging Creek',\n",
    "                      'Quartz Creek']\n",
    "                      ,'primitive'] = 1"
   ]
  },
  {
   "cell_type": "markdown",
   "metadata": {
    "ExecuteTime": {
     "end_time": "2020-06-03T13:39:33.169182Z",
     "start_time": "2020-06-03T13:39:33.165193Z"
    }
   },
   "source": [
    "#### Designate 'Isolated\"\n",
    "\n"
   ]
  },
  {
   "cell_type": "code",
   "execution_count": 11,
   "metadata": {
    "ExecuteTime": {
     "end_time": "2020-06-05T20:00:21.465729Z",
     "start_time": "2020-06-05T20:00:21.460714Z"
    }
   },
   "outputs": [],
   "source": [
    "df_cg_attributes['isolated']=0\n",
    "\n",
    "df_cg_attributes.loc[['Cut Bank',\n",
    "                      'Many Glacier',\n",
    "                      'Two Medicine',\n",
    "                      'Bowman Lake',\n",
    "                      'Kintla Lake']\n",
    "                      ,'isolated'] = 1"
   ]
  },
  {
   "cell_type": "markdown",
   "metadata": {},
   "source": [
    "## Identify Nearest Weather Station"
   ]
  },
  {
   "cell_type": "markdown",
   "metadata": {},
   "source": [
    "#### Identify Campground Lat Longs"
   ]
  },
  {
   "cell_type": "code",
   "execution_count": 12,
   "metadata": {
    "ExecuteTime": {
     "end_time": "2020-06-05T20:00:21.471709Z",
     "start_time": "2020-06-05T20:00:21.466698Z"
    }
   },
   "outputs": [],
   "source": [
    "# Done via google, it's only 13 places...\n",
    "\n",
    "lat_long_list = [\n",
    "    [48.5277, -113.9932], #apgar\n",
    "    [48.6780, -113.8187], #avalanche\n",
    "    [48.8288, -114.2027], #bowman\n",
    "    [48.6019, -113.3828], #cut bank\n",
    "    [48.5478, -113.9853], #fish creek\n",
    "    [48.9358, -114.3456], #kintla\n",
    "    [48.6985, -114.1917], #logging\n",
    "    [48.7967, -113.6773], #many\n",
    "    [48.7214, -114.2245], #quartz\n",
    "    [48.6954, -113.5214], #rising\n",
    "    [48.6064, -113.8855], #sprague\n",
    "    [48.7532, -113.4414], #st\n",
    "    [48.4915, -113.3646], #two\n",
    "]\n",
    "\n",
    "lats = [i[0] for i in lat_long_list]\n",
    "longs = [i[1] for i in lat_long_list]"
   ]
  },
  {
   "cell_type": "markdown",
   "metadata": {
    "ExecuteTime": {
     "end_time": "2020-06-05T17:47:42.609868Z",
     "start_time": "2020-06-05T17:47:42.606874Z"
    }
   },
   "source": [
    "#### Create a Tuple"
   ]
  },
  {
   "cell_type": "code",
   "execution_count": 13,
   "metadata": {
    "ExecuteTime": {
     "end_time": "2020-06-05T20:00:21.477673Z",
     "start_time": "2020-06-05T20:00:21.472682Z"
    }
   },
   "outputs": [],
   "source": [
    "df_cg_lat_long = pd.DataFrame(index = df_cg_attributes.index)\n",
    "df_cg_lat_long['geocode_tuple'] = list(zip(lats,longs))"
   ]
  },
  {
   "cell_type": "markdown",
   "metadata": {},
   "source": [
    "#### Read in Weather Locations"
   ]
  },
  {
   "cell_type": "code",
   "execution_count": 14,
   "metadata": {
    "ExecuteTime": {
     "end_time": "2020-06-05T20:00:21.541663Z",
     "start_time": "2020-06-05T20:00:21.478666Z"
    }
   },
   "outputs": [],
   "source": [
    "df_wx = pd.read_csv('../data/03a_weather_clean.csv')\n",
    "df_wx['geocode_lat_long'] = list(zip(df_wx['LATITUDE'], df_wx['LONGITUDE']))"
   ]
  },
  {
   "cell_type": "code",
   "execution_count": 15,
   "metadata": {
    "ExecuteTime": {
     "end_time": "2020-06-05T20:00:21.547517Z",
     "start_time": "2020-06-05T20:00:21.542497Z"
    }
   },
   "outputs": [
    {
     "data": {
      "text/plain": [
       "array(['east_glac', 'many_glac', 'st_mary', 'west_glac'], dtype=object)"
      ]
     },
     "execution_count": 15,
     "metadata": {},
     "output_type": "execute_result"
    }
   ],
   "source": [
    "# List of Weather Stations\n",
    "df_wx['wx_station'].unique()"
   ]
  },
  {
   "cell_type": "markdown",
   "metadata": {
    "ExecuteTime": {
     "end_time": "2020-05-31T23:51:52.819553Z",
     "start_time": "2020-05-31T23:51:52.816568Z"
    }
   },
   "source": [
    "#### Visualize Nearest Weather Station"
   ]
  },
  {
   "cell_type": "code",
   "execution_count": 16,
   "metadata": {
    "ExecuteTime": {
     "end_time": "2020-06-05T20:00:21.572448Z",
     "start_time": "2020-06-05T20:00:21.548479Z"
    },
    "scrolled": false
   },
   "outputs": [
    {
     "data": {
      "text/html": [
       "<div style=\"width:100%;\"><div style=\"position:relative;width:100%;height:0;padding-bottom:60%;\"><iframe src=\"about:blank\" style=\"position:absolute;width:100%;height:100%;left:0;top:0;border:none !important;\" data-html=PCFET0NUWVBFIGh0bWw+CjxoZWFkPiAgICAKICAgIDxtZXRhIGh0dHAtZXF1aXY9ImNvbnRlbnQtdHlwZSIgY29udGVudD0idGV4dC9odG1sOyBjaGFyc2V0PVVURi04IiAvPgogICAgCiAgICAgICAgPHNjcmlwdD4KICAgICAgICAgICAgTF9OT19UT1VDSCA9IGZhbHNlOwogICAgICAgICAgICBMX0RJU0FCTEVfM0QgPSBmYWxzZTsKICAgICAgICA8L3NjcmlwdD4KICAgIAogICAgPHNjcmlwdCBzcmM9Imh0dHBzOi8vY2RuLmpzZGVsaXZyLm5ldC9ucG0vbGVhZmxldEAxLjUuMS9kaXN0L2xlYWZsZXQuanMiPjwvc2NyaXB0PgogICAgPHNjcmlwdCBzcmM9Imh0dHBzOi8vY29kZS5qcXVlcnkuY29tL2pxdWVyeS0xLjEyLjQubWluLmpzIj48L3NjcmlwdD4KICAgIDxzY3JpcHQgc3JjPSJodHRwczovL21heGNkbi5ib290c3RyYXBjZG4uY29tL2Jvb3RzdHJhcC8zLjIuMC9qcy9ib290c3RyYXAubWluLmpzIj48L3NjcmlwdD4KICAgIDxzY3JpcHQgc3JjPSJodHRwczovL2NkbmpzLmNsb3VkZmxhcmUuY29tL2FqYXgvbGlicy9MZWFmbGV0LmF3ZXNvbWUtbWFya2Vycy8yLjAuMi9sZWFmbGV0LmF3ZXNvbWUtbWFya2Vycy5qcyI+PC9zY3JpcHQ+CiAgICA8bGluayByZWw9InN0eWxlc2hlZXQiIGhyZWY9Imh0dHBzOi8vY2RuLmpzZGVsaXZyLm5ldC9ucG0vbGVhZmxldEAxLjUuMS9kaXN0L2xlYWZsZXQuY3NzIi8+CiAgICA8bGluayByZWw9InN0eWxlc2hlZXQiIGhyZWY9Imh0dHBzOi8vbWF4Y2RuLmJvb3RzdHJhcGNkbi5jb20vYm9vdHN0cmFwLzMuMi4wL2Nzcy9ib290c3RyYXAubWluLmNzcyIvPgogICAgPGxpbmsgcmVsPSJzdHlsZXNoZWV0IiBocmVmPSJodHRwczovL21heGNkbi5ib290c3RyYXBjZG4uY29tL2Jvb3RzdHJhcC8zLjIuMC9jc3MvYm9vdHN0cmFwLXRoZW1lLm1pbi5jc3MiLz4KICAgIDxsaW5rIHJlbD0ic3R5bGVzaGVldCIgaHJlZj0iaHR0cHM6Ly9tYXhjZG4uYm9vdHN0cmFwY2RuLmNvbS9mb250LWF3ZXNvbWUvNC42LjMvY3NzL2ZvbnQtYXdlc29tZS5taW4uY3NzIi8+CiAgICA8bGluayByZWw9InN0eWxlc2hlZXQiIGhyZWY9Imh0dHBzOi8vY2RuanMuY2xvdWRmbGFyZS5jb20vYWpheC9saWJzL0xlYWZsZXQuYXdlc29tZS1tYXJrZXJzLzIuMC4yL2xlYWZsZXQuYXdlc29tZS1tYXJrZXJzLmNzcyIvPgogICAgPGxpbmsgcmVsPSJzdHlsZXNoZWV0IiBocmVmPSJodHRwczovL3Jhd2Nkbi5naXRoYWNrLmNvbS9weXRob24tdmlzdWFsaXphdGlvbi9mb2xpdW0vbWFzdGVyL2ZvbGl1bS90ZW1wbGF0ZXMvbGVhZmxldC5hd2Vzb21lLnJvdGF0ZS5jc3MiLz4KICAgIDxzdHlsZT5odG1sLCBib2R5IHt3aWR0aDogMTAwJTtoZWlnaHQ6IDEwMCU7bWFyZ2luOiAwO3BhZGRpbmc6IDA7fTwvc3R5bGU+CiAgICA8c3R5bGU+I21hcCB7cG9zaXRpb246YWJzb2x1dGU7dG9wOjA7Ym90dG9tOjA7cmlnaHQ6MDtsZWZ0OjA7fTwvc3R5bGU+CiAgICAKICAgICAgICAgICAgPG1ldGEgbmFtZT0idmlld3BvcnQiIGNvbnRlbnQ9IndpZHRoPWRldmljZS13aWR0aCwKICAgICAgICAgICAgICAgIGluaXRpYWwtc2NhbGU9MS4wLCBtYXhpbXVtLXNjYWxlPTEuMCwgdXNlci1zY2FsYWJsZT1ubyIgLz4KICAgICAgICAgICAgPHN0eWxlPgogICAgICAgICAgICAgICAgI21hcF81OTkxNDY3ZjI0OTQ0YmNlOGI4YmM2ZTY3Y2Q5YmUyMSB7CiAgICAgICAgICAgICAgICAgICAgcG9zaXRpb246IHJlbGF0aXZlOwogICAgICAgICAgICAgICAgICAgIHdpZHRoOiAxMDAuMCU7CiAgICAgICAgICAgICAgICAgICAgaGVpZ2h0OiAxMDAuMCU7CiAgICAgICAgICAgICAgICAgICAgbGVmdDogMC4wJTsKICAgICAgICAgICAgICAgICAgICB0b3A6IDAuMCU7CiAgICAgICAgICAgICAgICB9CiAgICAgICAgICAgIDwvc3R5bGU+CiAgICAgICAgCjwvaGVhZD4KPGJvZHk+ICAgIAogICAgCiAgICAgICAgICAgIDxkaXYgY2xhc3M9ImZvbGl1bS1tYXAiIGlkPSJtYXBfNTk5MTQ2N2YyNDk0NGJjZThiOGJjNmU2N2NkOWJlMjEiID48L2Rpdj4KICAgICAgICAKPC9ib2R5Pgo8c2NyaXB0PiAgICAKICAgIAogICAgICAgICAgICB2YXIgbWFwXzU5OTE0NjdmMjQ5NDRiY2U4YjhiYzZlNjdjZDliZTIxID0gTC5tYXAoCiAgICAgICAgICAgICAgICAibWFwXzU5OTE0NjdmMjQ5NDRiY2U4YjhiYzZlNjdjZDliZTIxIiwKICAgICAgICAgICAgICAgIHsKICAgICAgICAgICAgICAgICAgICBjZW50ZXI6IFs0OC42OTY2LCAtMTEzLjcxODJdLAogICAgICAgICAgICAgICAgICAgIGNyczogTC5DUlMuRVBTRzM4NTcsCiAgICAgICAgICAgICAgICAgICAgem9vbTogOSwKICAgICAgICAgICAgICAgICAgICB6b29tQ29udHJvbDogdHJ1ZSwKICAgICAgICAgICAgICAgICAgICBwcmVmZXJDYW52YXM6IGZhbHNlLAogICAgICAgICAgICAgICAgfQogICAgICAgICAgICApOwoKICAgICAgICAgICAgCgogICAgICAgIAogICAgCiAgICAgICAgICAgIHZhciB0aWxlX2xheWVyXzY1NDg5ZTQ5NzBhMjQ2OGU5MmU1YzIwNTBhMjFlZmYyID0gTC50aWxlTGF5ZXIoCiAgICAgICAgICAgICAgICAiaHR0cHM6Ly9zdGFtZW4tdGlsZXMte3N9LmEuc3NsLmZhc3RseS5uZXQvdGVycmFpbi97en0ve3h9L3t5fS5qcGciLAogICAgICAgICAgICAgICAgeyJhdHRyaWJ1dGlvbiI6ICJNYXAgdGlsZXMgYnkgXHUwMDNjYSBocmVmPVwiaHR0cDovL3N0YW1lbi5jb21cIlx1MDAzZVN0YW1lbiBEZXNpZ25cdTAwM2MvYVx1MDAzZSwgdW5kZXIgXHUwMDNjYSBocmVmPVwiaHR0cDovL2NyZWF0aXZlY29tbW9ucy5vcmcvbGljZW5zZXMvYnkvMy4wXCJcdTAwM2VDQyBCWSAzLjBcdTAwM2MvYVx1MDAzZS4gRGF0YSBieSBcdTAwMjZjb3B5OyBcdTAwM2NhIGhyZWY9XCJodHRwOi8vb3BlbnN0cmVldG1hcC5vcmdcIlx1MDAzZU9wZW5TdHJlZXRNYXBcdTAwM2MvYVx1MDAzZSwgdW5kZXIgXHUwMDNjYSBocmVmPVwiaHR0cDovL2NyZWF0aXZlY29tbW9ucy5vcmcvbGljZW5zZXMvYnktc2EvMy4wXCJcdTAwM2VDQyBCWSBTQVx1MDAzYy9hXHUwMDNlLiIsICJkZXRlY3RSZXRpbmEiOiBmYWxzZSwgIm1heE5hdGl2ZVpvb20iOiAxOCwgIm1heFpvb20iOiAxOCwgIm1pblpvb20iOiAwLCAibm9XcmFwIjogZmFsc2UsICJvcGFjaXR5IjogMSwgInN1YmRvbWFpbnMiOiAiYWJjIiwgInRtcyI6IGZhbHNlfQogICAgICAgICAgICApLmFkZFRvKG1hcF81OTkxNDY3ZjI0OTQ0YmNlOGI4YmM2ZTY3Y2Q5YmUyMSk7CiAgICAgICAgCiAgICAKICAgICAgICAgICAgdmFyIGNpcmNsZV9tYXJrZXJfYTg1YzcwM2FhNzYyNDg4M2E0MjE5ZWQ5ZGE2MDA3MDkgPSBMLmNpcmNsZU1hcmtlcigKICAgICAgICAgICAgICAgIFs0OC41Mjc3LCAtMTEzLjk5MzJdLAogICAgICAgICAgICAgICAgeyJidWJibGluZ01vdXNlRXZlbnRzIjogdHJ1ZSwgImNvbG9yIjogInJlZCIsICJkYXNoQXJyYXkiOiBudWxsLCAiZGFzaE9mZnNldCI6IG51bGwsICJmaWxsIjogZmFsc2UsICJmaWxsQ29sb3IiOiAicmVkIiwgImZpbGxPcGFjaXR5IjogMC4yLCAiZmlsbFJ1bGUiOiAiZXZlbm9kZCIsICJsaW5lQ2FwIjogInJvdW5kIiwgImxpbmVKb2luIjogInJvdW5kIiwgIm9wYWNpdHkiOiAxLjAsICJyYWRpdXMiOiA1LCAic3Ryb2tlIjogdHJ1ZSwgIndlaWdodCI6IDN9CiAgICAgICAgICAgICkuYWRkVG8obWFwXzU5OTE0NjdmMjQ5NDRiY2U4YjhiYzZlNjdjZDliZTIxKTsKICAgICAgICAKICAgIAogICAgICAgICAgICB2YXIgY2lyY2xlX21hcmtlcl83NmU0ZGUyNzc4MGI0MWYxOWRlYTM3NDVmODk4MzkxNyA9IEwuY2lyY2xlTWFya2VyKAogICAgICAgICAgICAgICAgWzQ4LjY3OCwgLTExMy44MTg3XSwKICAgICAgICAgICAgICAgIHsiYnViYmxpbmdNb3VzZUV2ZW50cyI6IHRydWUsICJjb2xvciI6ICJyZWQiLCAiZGFzaEFycmF5IjogbnVsbCwgImRhc2hPZmZzZXQiOiBudWxsLCAiZmlsbCI6IGZhbHNlLCAiZmlsbENvbG9yIjogInJlZCIsICJmaWxsT3BhY2l0eSI6IDAuMiwgImZpbGxSdWxlIjogImV2ZW5vZGQiLCAibGluZUNhcCI6ICJyb3VuZCIsICJsaW5lSm9pbiI6ICJyb3VuZCIsICJvcGFjaXR5IjogMS4wLCAicmFkaXVzIjogNSwgInN0cm9rZSI6IHRydWUsICJ3ZWlnaHQiOiAzfQogICAgICAgICAgICApLmFkZFRvKG1hcF81OTkxNDY3ZjI0OTQ0YmNlOGI4YmM2ZTY3Y2Q5YmUyMSk7CiAgICAgICAgCiAgICAKICAgICAgICAgICAgdmFyIGNpcmNsZV9tYXJrZXJfNmIxMzYwZTdiNGNjNDQ3MTllNGI0Yzg4Y2ZiNzE1OTkgPSBMLmNpcmNsZU1hcmtlcigKICAgICAgICAgICAgICAgIFs0OC44Mjg4LCAtMTE0LjIwMjddLAogICAgICAgICAgICAgICAgeyJidWJibGluZ01vdXNlRXZlbnRzIjogdHJ1ZSwgImNvbG9yIjogInJlZCIsICJkYXNoQXJyYXkiOiBudWxsLCAiZGFzaE9mZnNldCI6IG51bGwsICJmaWxsIjogZmFsc2UsICJmaWxsQ29sb3IiOiAicmVkIiwgImZpbGxPcGFjaXR5IjogMC4yLCAiZmlsbFJ1bGUiOiAiZXZlbm9kZCIsICJsaW5lQ2FwIjogInJvdW5kIiwgImxpbmVKb2luIjogInJvdW5kIiwgIm9wYWNpdHkiOiAxLjAsICJyYWRpdXMiOiA1LCAic3Ryb2tlIjogdHJ1ZSwgIndlaWdodCI6IDN9CiAgICAgICAgICAgICkuYWRkVG8obWFwXzU5OTE0NjdmMjQ5NDRiY2U4YjhiYzZlNjdjZDliZTIxKTsKICAgICAgICAKICAgIAogICAgICAgICAgICB2YXIgY2lyY2xlX21hcmtlcl9kZDkzOTMyM2E5YjU0YjlhYTVjMGZhZTM4MDNlYTUyMCA9IEwuY2lyY2xlTWFya2VyKAogICAgICAgICAgICAgICAgWzQ4LjYwMTksIC0xMTMuMzgyOF0sCiAgICAgICAgICAgICAgICB7ImJ1YmJsaW5nTW91c2VFdmVudHMiOiB0cnVlLCAiY29sb3IiOiAicmVkIiwgImRhc2hBcnJheSI6IG51bGwsICJkYXNoT2Zmc2V0IjogbnVsbCwgImZpbGwiOiBmYWxzZSwgImZpbGxDb2xvciI6ICJyZWQiLCAiZmlsbE9wYWNpdHkiOiAwLjIsICJmaWxsUnVsZSI6ICJldmVub2RkIiwgImxpbmVDYXAiOiAicm91bmQiLCAibGluZUpvaW4iOiAicm91bmQiLCAib3BhY2l0eSI6IDEuMCwgInJhZGl1cyI6IDUsICJzdHJva2UiOiB0cnVlLCAid2VpZ2h0IjogM30KICAgICAgICAgICAgKS5hZGRUbyhtYXBfNTk5MTQ2N2YyNDk0NGJjZThiOGJjNmU2N2NkOWJlMjEpOwogICAgICAgIAogICAgCiAgICAgICAgICAgIHZhciBjaXJjbGVfbWFya2VyXzllODVjN2MzNDI4YzRjNDQ4YzE3MjI2MDcyOGRlZWNmID0gTC5jaXJjbGVNYXJrZXIoCiAgICAgICAgICAgICAgICBbNDguNTQ3OCwgLTExMy45ODUzXSwKICAgICAgICAgICAgICAgIHsiYnViYmxpbmdNb3VzZUV2ZW50cyI6IHRydWUsICJjb2xvciI6ICJyZWQiLCAiZGFzaEFycmF5IjogbnVsbCwgImRhc2hPZmZzZXQiOiBudWxsLCAiZmlsbCI6IGZhbHNlLCAiZmlsbENvbG9yIjogInJlZCIsICJmaWxsT3BhY2l0eSI6IDAuMiwgImZpbGxSdWxlIjogImV2ZW5vZGQiLCAibGluZUNhcCI6ICJyb3VuZCIsICJsaW5lSm9pbiI6ICJyb3VuZCIsICJvcGFjaXR5IjogMS4wLCAicmFkaXVzIjogNSwgInN0cm9rZSI6IHRydWUsICJ3ZWlnaHQiOiAzfQogICAgICAgICAgICApLmFkZFRvKG1hcF81OTkxNDY3ZjI0OTQ0YmNlOGI4YmM2ZTY3Y2Q5YmUyMSk7CiAgICAgICAgCiAgICAKICAgICAgICAgICAgdmFyIGNpcmNsZV9tYXJrZXJfNjc3MjZmZjk5ODFlNGUzZDg2YWIxZWQ0MDdmNTQ4OTAgPSBMLmNpcmNsZU1hcmtlcigKICAgICAgICAgICAgICAgIFs0OC45MzU4LCAtMTE0LjM0NTZdLAogICAgICAgICAgICAgICAgeyJidWJibGluZ01vdXNlRXZlbnRzIjogdHJ1ZSwgImNvbG9yIjogInJlZCIsICJkYXNoQXJyYXkiOiBudWxsLCAiZGFzaE9mZnNldCI6IG51bGwsICJmaWxsIjogZmFsc2UsICJmaWxsQ29sb3IiOiAicmVkIiwgImZpbGxPcGFjaXR5IjogMC4yLCAiZmlsbFJ1bGUiOiAiZXZlbm9kZCIsICJsaW5lQ2FwIjogInJvdW5kIiwgImxpbmVKb2luIjogInJvdW5kIiwgIm9wYWNpdHkiOiAxLjAsICJyYWRpdXMiOiA1LCAic3Ryb2tlIjogdHJ1ZSwgIndlaWdodCI6IDN9CiAgICAgICAgICAgICkuYWRkVG8obWFwXzU5OTE0NjdmMjQ5NDRiY2U4YjhiYzZlNjdjZDliZTIxKTsKICAgICAgICAKICAgIAogICAgICAgICAgICB2YXIgY2lyY2xlX21hcmtlcl84ZjhjMTViNjJmMTY0ZmFmOGE4ZjgxYWFiYTg0MTIxZSA9IEwuY2lyY2xlTWFya2VyKAogICAgICAgICAgICAgICAgWzQ4LjY5ODUsIC0xMTQuMTkxN10sCiAgICAgICAgICAgICAgICB7ImJ1YmJsaW5nTW91c2VFdmVudHMiOiB0cnVlLCAiY29sb3IiOiAicmVkIiwgImRhc2hBcnJheSI6IG51bGwsICJkYXNoT2Zmc2V0IjogbnVsbCwgImZpbGwiOiBmYWxzZSwgImZpbGxDb2xvciI6ICJyZWQiLCAiZmlsbE9wYWNpdHkiOiAwLjIsICJmaWxsUnVsZSI6ICJldmVub2RkIiwgImxpbmVDYXAiOiAicm91bmQiLCAibGluZUpvaW4iOiAicm91bmQiLCAib3BhY2l0eSI6IDEuMCwgInJhZGl1cyI6IDUsICJzdHJva2UiOiB0cnVlLCAid2VpZ2h0IjogM30KICAgICAgICAgICAgKS5hZGRUbyhtYXBfNTk5MTQ2N2YyNDk0NGJjZThiOGJjNmU2N2NkOWJlMjEpOwogICAgICAgIAogICAgCiAgICAgICAgICAgIHZhciBjaXJjbGVfbWFya2VyXzA1ZmU4NGJhZTIxNDQxZjBhYzNlMmM2ZGM5MjIwMTQzID0gTC5jaXJjbGVNYXJrZXIoCiAgICAgICAgICAgICAgICBbNDguNzk2NywgLTExMy42NzczXSwKICAgICAgICAgICAgICAgIHsiYnViYmxpbmdNb3VzZUV2ZW50cyI6IHRydWUsICJjb2xvciI6ICJyZWQiLCAiZGFzaEFycmF5IjogbnVsbCwgImRhc2hPZmZzZXQiOiBudWxsLCAiZmlsbCI6IGZhbHNlLCAiZmlsbENvbG9yIjogInJlZCIsICJmaWxsT3BhY2l0eSI6IDAuMiwgImZpbGxSdWxlIjogImV2ZW5vZGQiLCAibGluZUNhcCI6ICJyb3VuZCIsICJsaW5lSm9pbiI6ICJyb3VuZCIsICJvcGFjaXR5IjogMS4wLCAicmFkaXVzIjogNSwgInN0cm9rZSI6IHRydWUsICJ3ZWlnaHQiOiAzfQogICAgICAgICAgICApLmFkZFRvKG1hcF81OTkxNDY3ZjI0OTQ0YmNlOGI4YmM2ZTY3Y2Q5YmUyMSk7CiAgICAgICAgCiAgICAKICAgICAgICAgICAgdmFyIGNpcmNsZV9tYXJrZXJfOWNiYWI1YjUwZTA3NGRhNWI1MjUxMTk1MjM0ZmM1YjMgPSBMLmNpcmNsZU1hcmtlcigKICAgICAgICAgICAgICAgIFs0OC43MjE0LCAtMTE0LjIyNDVdLAogICAgICAgICAgICAgICAgeyJidWJibGluZ01vdXNlRXZlbnRzIjogdHJ1ZSwgImNvbG9yIjogInJlZCIsICJkYXNoQXJyYXkiOiBudWxsLCAiZGFzaE9mZnNldCI6IG51bGwsICJmaWxsIjogZmFsc2UsICJmaWxsQ29sb3IiOiAicmVkIiwgImZpbGxPcGFjaXR5IjogMC4yLCAiZmlsbFJ1bGUiOiAiZXZlbm9kZCIsICJsaW5lQ2FwIjogInJvdW5kIiwgImxpbmVKb2luIjogInJvdW5kIiwgIm9wYWNpdHkiOiAxLjAsICJyYWRpdXMiOiA1LCAic3Ryb2tlIjogdHJ1ZSwgIndlaWdodCI6IDN9CiAgICAgICAgICAgICkuYWRkVG8obWFwXzU5OTE0NjdmMjQ5NDRiY2U4YjhiYzZlNjdjZDliZTIxKTsKICAgICAgICAKICAgIAogICAgICAgICAgICB2YXIgY2lyY2xlX21hcmtlcl8wYmE2NWE1YTY4ZDI0NzM5YmExN2VkOTE4YmQ2MWMzYSA9IEwuY2lyY2xlTWFya2VyKAogICAgICAgICAgICAgICAgWzQ4LjY5NTQsIC0xMTMuNTIxNF0sCiAgICAgICAgICAgICAgICB7ImJ1YmJsaW5nTW91c2VFdmVudHMiOiB0cnVlLCAiY29sb3IiOiAicmVkIiwgImRhc2hBcnJheSI6IG51bGwsICJkYXNoT2Zmc2V0IjogbnVsbCwgImZpbGwiOiBmYWxzZSwgImZpbGxDb2xvciI6ICJyZWQiLCAiZmlsbE9wYWNpdHkiOiAwLjIsICJmaWxsUnVsZSI6ICJldmVub2RkIiwgImxpbmVDYXAiOiAicm91bmQiLCAibGluZUpvaW4iOiAicm91bmQiLCAib3BhY2l0eSI6IDEuMCwgInJhZGl1cyI6IDUsICJzdHJva2UiOiB0cnVlLCAid2VpZ2h0IjogM30KICAgICAgICAgICAgKS5hZGRUbyhtYXBfNTk5MTQ2N2YyNDk0NGJjZThiOGJjNmU2N2NkOWJlMjEpOwogICAgICAgIAogICAgCiAgICAgICAgICAgIHZhciBjaXJjbGVfbWFya2VyXzUwNjM1MTg3NGIwNTRkZjQ5ZTA5N2U4NTAzOTA4MGZhID0gTC5jaXJjbGVNYXJrZXIoCiAgICAgICAgICAgICAgICBbNDguNjA2NCwgLTExMy44ODU1XSwKICAgICAgICAgICAgICAgIHsiYnViYmxpbmdNb3VzZUV2ZW50cyI6IHRydWUsICJjb2xvciI6ICJyZWQiLCAiZGFzaEFycmF5IjogbnVsbCwgImRhc2hPZmZzZXQiOiBudWxsLCAiZmlsbCI6IGZhbHNlLCAiZmlsbENvbG9yIjogInJlZCIsICJmaWxsT3BhY2l0eSI6IDAuMiwgImZpbGxSdWxlIjogImV2ZW5vZGQiLCAibGluZUNhcCI6ICJyb3VuZCIsICJsaW5lSm9pbiI6ICJyb3VuZCIsICJvcGFjaXR5IjogMS4wLCAicmFkaXVzIjogNSwgInN0cm9rZSI6IHRydWUsICJ3ZWlnaHQiOiAzfQogICAgICAgICAgICApLmFkZFRvKG1hcF81OTkxNDY3ZjI0OTQ0YmNlOGI4YmM2ZTY3Y2Q5YmUyMSk7CiAgICAgICAgCiAgICAKICAgICAgICAgICAgdmFyIGNpcmNsZV9tYXJrZXJfNDczNzk0ZTJmNmU3NGMwNzhlN2YyNjVkNGM0ZDk0YzUgPSBMLmNpcmNsZU1hcmtlcigKICAgICAgICAgICAgICAgIFs0OC43NTMyLCAtMTEzLjQ0MTRdLAogICAgICAgICAgICAgICAgeyJidWJibGluZ01vdXNlRXZlbnRzIjogdHJ1ZSwgImNvbG9yIjogInJlZCIsICJkYXNoQXJyYXkiOiBudWxsLCAiZGFzaE9mZnNldCI6IG51bGwsICJmaWxsIjogZmFsc2UsICJmaWxsQ29sb3IiOiAicmVkIiwgImZpbGxPcGFjaXR5IjogMC4yLCAiZmlsbFJ1bGUiOiAiZXZlbm9kZCIsICJsaW5lQ2FwIjogInJvdW5kIiwgImxpbmVKb2luIjogInJvdW5kIiwgIm9wYWNpdHkiOiAxLjAsICJyYWRpdXMiOiA1LCAic3Ryb2tlIjogdHJ1ZSwgIndlaWdodCI6IDN9CiAgICAgICAgICAgICkuYWRkVG8obWFwXzU5OTE0NjdmMjQ5NDRiY2U4YjhiYzZlNjdjZDliZTIxKTsKICAgICAgICAKICAgIAogICAgICAgICAgICB2YXIgY2lyY2xlX21hcmtlcl81MzEzZDdjY2FhZWM0ZmFkYjk0M2I3NjIyOTlkMDVkNyA9IEwuY2lyY2xlTWFya2VyKAogICAgICAgICAgICAgICAgWzQ4LjQ5MTUsIC0xMTMuMzY0Nl0sCiAgICAgICAgICAgICAgICB7ImJ1YmJsaW5nTW91c2VFdmVudHMiOiB0cnVlLCAiY29sb3IiOiAicmVkIiwgImRhc2hBcnJheSI6IG51bGwsICJkYXNoT2Zmc2V0IjogbnVsbCwgImZpbGwiOiBmYWxzZSwgImZpbGxDb2xvciI6ICJyZWQiLCAiZmlsbE9wYWNpdHkiOiAwLjIsICJmaWxsUnVsZSI6ICJldmVub2RkIiwgImxpbmVDYXAiOiAicm91bmQiLCAibGluZUpvaW4iOiAicm91bmQiLCAib3BhY2l0eSI6IDEuMCwgInJhZGl1cyI6IDUsICJzdHJva2UiOiB0cnVlLCAid2VpZ2h0IjogM30KICAgICAgICAgICAgKS5hZGRUbyhtYXBfNTk5MTQ2N2YyNDk0NGJjZThiOGJjNmU2N2NkOWJlMjEpOwogICAgICAgIAogICAgCiAgICAgICAgICAgIHZhciBjaXJjbGVfbWFya2VyXzYxYzBkYTE3Mzg5ZTQ3NDdiOGI1NTBlMzZjYTJhOGU0ID0gTC5jaXJjbGVNYXJrZXIoCiAgICAgICAgICAgICAgICBbNDguNDQ3MiwgLTExMy4yMjM2XSwKICAgICAgICAgICAgICAgIHsiYnViYmxpbmdNb3VzZUV2ZW50cyI6IHRydWUsICJjb2xvciI6ICJibHVlIiwgImRhc2hBcnJheSI6IG51bGwsICJkYXNoT2Zmc2V0IjogbnVsbCwgImZpbGwiOiBmYWxzZSwgImZpbGxDb2xvciI6ICJibHVlIiwgImZpbGxPcGFjaXR5IjogMC4yLCAiZmlsbFJ1bGUiOiAiZXZlbm9kZCIsICJsaW5lQ2FwIjogInJvdW5kIiwgImxpbmVKb2luIjogInJvdW5kIiwgIm9wYWNpdHkiOiAxLjAsICJyYWRpdXMiOiAyMCwgInN0cm9rZSI6IHRydWUsICJ3ZWlnaHQiOiAzfQogICAgICAgICAgICApLmFkZFRvKG1hcF81OTkxNDY3ZjI0OTQ0YmNlOGI4YmM2ZTY3Y2Q5YmUyMSk7CiAgICAgICAgCiAgICAKICAgICAgICAgICAgdmFyIGNpcmNsZV9tYXJrZXJfNGU5OWZhNTdlNmZlNGNlMmEyMjNkZDJiYWI3MjAwODggPSBMLmNpcmNsZU1hcmtlcigKICAgICAgICAgICAgICAgIFs0OC44LCAtMTEzLjY3XSwKICAgICAgICAgICAgICAgIHsiYnViYmxpbmdNb3VzZUV2ZW50cyI6IHRydWUsICJjb2xvciI6ICJibHVlIiwgImRhc2hBcnJheSI6IG51bGwsICJkYXNoT2Zmc2V0IjogbnVsbCwgImZpbGwiOiBmYWxzZSwgImZpbGxDb2xvciI6ICJibHVlIiwgImZpbGxPcGFjaXR5IjogMC4yLCAiZmlsbFJ1bGUiOiAiZXZlbm9kZCIsICJsaW5lQ2FwIjogInJvdW5kIiwgImxpbmVKb2luIjogInJvdW5kIiwgIm9wYWNpdHkiOiAxLjAsICJyYWRpdXMiOiAyMCwgInN0cm9rZSI6IHRydWUsICJ3ZWlnaHQiOiAzfQogICAgICAgICAgICApLmFkZFRvKG1hcF81OTkxNDY3ZjI0OTQ0YmNlOGI4YmM2ZTY3Y2Q5YmUyMSk7CiAgICAgICAgCiAgICAKICAgICAgICAgICAgdmFyIGNpcmNsZV9tYXJrZXJfODk4NzVhMmQ4Mzg0NDY2YTg3NWQ4NTI4NTYzMzgxNDYgPSBMLmNpcmNsZU1hcmtlcigKICAgICAgICAgICAgICAgIFs0OC43Mzc1LCAtMTEzLjQzMDVdLAogICAgICAgICAgICAgICAgeyJidWJibGluZ01vdXNlRXZlbnRzIjogdHJ1ZSwgImNvbG9yIjogImJsdWUiLCAiZGFzaEFycmF5IjogbnVsbCwgImRhc2hPZmZzZXQiOiBudWxsLCAiZmlsbCI6IGZhbHNlLCAiZmlsbENvbG9yIjogImJsdWUiLCAiZmlsbE9wYWNpdHkiOiAwLjIsICJmaWxsUnVsZSI6ICJldmVub2RkIiwgImxpbmVDYXAiOiAicm91bmQiLCAibGluZUpvaW4iOiAicm91bmQiLCAib3BhY2l0eSI6IDEuMCwgInJhZGl1cyI6IDIwLCAic3Ryb2tlIjogdHJ1ZSwgIndlaWdodCI6IDN9CiAgICAgICAgICAgICkuYWRkVG8obWFwXzU5OTE0NjdmMjQ5NDRiY2U4YjhiYzZlNjdjZDliZTIxKTsKICAgICAgICAKICAgIAogICAgICAgICAgICB2YXIgY2lyY2xlX21hcmtlcl9iMGU0M2NiYzljMGY0MWJjOGM4NzBiZmI3OWFhZDU3OCA9IEwuY2lyY2xlTWFya2VyKAogICAgICAgICAgICAgICAgWzQ4LjUwMDIsIC0xMTMuOTg0N10sCiAgICAgICAgICAgICAgICB7ImJ1YmJsaW5nTW91c2VFdmVudHMiOiB0cnVlLCAiY29sb3IiOiAiYmx1ZSIsICJkYXNoQXJyYXkiOiBudWxsLCAiZGFzaE9mZnNldCI6IG51bGwsICJmaWxsIjogZmFsc2UsICJmaWxsQ29sb3IiOiAiYmx1ZSIsICJmaWxsT3BhY2l0eSI6IDAuMiwgImZpbGxSdWxlIjogImV2ZW5vZGQiLCAibGluZUNhcCI6ICJyb3VuZCIsICJsaW5lSm9pbiI6ICJyb3VuZCIsICJvcGFjaXR5IjogMS4wLCAicmFkaXVzIjogMjAsICJzdHJva2UiOiB0cnVlLCAid2VpZ2h0IjogM30KICAgICAgICAgICAgKS5hZGRUbyhtYXBfNTk5MTQ2N2YyNDk0NGJjZThiOGJjNmU2N2NkOWJlMjEpOwogICAgICAgIAo8L3NjcmlwdD4= onload=\"this.contentDocument.open();this.contentDocument.write(atob(this.getAttribute('data-html')));this.contentDocument.close();\" allowfullscreen webkitallowfullscreen mozallowfullscreen></iframe></div></div>"
      ],
      "text/plain": [
       "<folium.folium.Map at 0x1f398d9abc8>"
      ]
     },
     "execution_count": 16,
     "metadata": {},
     "output_type": "execute_result"
    }
   ],
   "source": [
    "m = folium.Map(\n",
    "    location = [48.6966, - 113.7182],\n",
    "    tiles = 'Stamen Terrain',\n",
    "    zoom_start = 9\n",
    ")\n",
    "\n",
    "# Map Campgrounds\n",
    "for campground in df_cg_lat_long['geocode_tuple']:\n",
    "    folium.CircleMarker(\n",
    "        radius = 5,\n",
    "        location = campground,\n",
    "        color = 'red').add_to(m)\n",
    "\n",
    "# Map Weather Stations    \n",
    "for wx_station in df_wx['geocode_lat_long'].unique():\n",
    "    folium.CircleMarker(\n",
    "        radius = 20,\n",
    "        location = wx_station,\n",
    "        color = 'blue').add_to(m)\n",
    "\n",
    "m"
   ]
  },
  {
   "cell_type": "markdown",
   "metadata": {},
   "source": [
    "#### Manually Map to Nearest Station"
   ]
  },
  {
   "cell_type": "code",
   "execution_count": 17,
   "metadata": {
    "ExecuteTime": {
     "end_time": "2020-06-05T20:00:21.582388Z",
     "start_time": "2020-06-05T20:00:21.573413Z"
    }
   },
   "outputs": [],
   "source": [
    "df_cg_attributes.loc[['Apgar',\n",
    "                      'Avalanche',\n",
    "                      'Bowman Lake',\n",
    "                      'Fish Creek',\n",
    "                      'Kintla Lake',\n",
    "                      'Logging Creek',\n",
    "                      'Quartz Creek',\n",
    "                      'Sprague Creek']\n",
    "                     ,'nearest_wx_station'] = 'west_glac'\n",
    "\n",
    "df_cg_attributes.loc[['Many Glacier']\n",
    "                      ,'nearest_wx_station'] = 'many_glac'\n",
    "                     \n",
    "df_cg_attributes.loc[['St. Mary',\n",
    "                      'Rising Sun']\n",
    "                      ,'nearest_wx_station'] = 'st_mary'\n",
    "\n",
    "df_cg_attributes.loc[['Cut Bank',\n",
    "                      'Two Medicine']\n",
    "                      ,'nearest_wx_station'] = 'east_glac'"
   ]
  },
  {
   "cell_type": "markdown",
   "metadata": {},
   "source": [
    "#### Some Serious Correlation Issues but we'll address these when we conduct EDA"
   ]
  },
  {
   "cell_type": "code",
   "execution_count": 18,
   "metadata": {
    "ExecuteTime": {
     "end_time": "2020-06-05T20:00:21.596398Z",
     "start_time": "2020-06-05T20:00:21.583386Z"
    },
    "scrolled": true
   },
   "outputs": [
    {
     "data": {
      "text/html": [
       "<div>\n",
       "<style scoped>\n",
       "    .dataframe tbody tr th:only-of-type {\n",
       "        vertical-align: middle;\n",
       "    }\n",
       "\n",
       "    .dataframe tbody tr th {\n",
       "        vertical-align: top;\n",
       "    }\n",
       "\n",
       "    .dataframe thead th {\n",
       "        text-align: right;\n",
       "    }\n",
       "</style>\n",
       "<table border=\"1\" class=\"dataframe\">\n",
       "  <thead>\n",
       "    <tr style=\"text-align: right;\">\n",
       "      <th></th>\n",
       "      <th>fee</th>\n",
       "      <th>sites</th>\n",
       "      <th>flush_toilets</th>\n",
       "      <th>showers</th>\n",
       "      <th>disposal_station</th>\n",
       "      <th>reservations</th>\n",
       "      <th>rv</th>\n",
       "      <th>primitive</th>\n",
       "      <th>isolated</th>\n",
       "    </tr>\n",
       "  </thead>\n",
       "  <tbody>\n",
       "    <tr>\n",
       "      <th>fee</th>\n",
       "      <td>1.000000</td>\n",
       "      <td>0.790601</td>\n",
       "      <td>0.919422</td>\n",
       "      <td>0.497379</td>\n",
       "      <td>0.744852</td>\n",
       "      <td>0.475520</td>\n",
       "      <td>0.706289</td>\n",
       "      <td>-0.863869</td>\n",
       "      <td>-0.166252</td>\n",
       "    </tr>\n",
       "    <tr>\n",
       "      <th>sites</th>\n",
       "      <td>0.790601</td>\n",
       "      <td>1.000000</td>\n",
       "      <td>0.754463</td>\n",
       "      <td>0.508649</td>\n",
       "      <td>0.842721</td>\n",
       "      <td>0.573261</td>\n",
       "      <td>0.627272</td>\n",
       "      <td>-0.592464</td>\n",
       "      <td>-0.267682</td>\n",
       "    </tr>\n",
       "    <tr>\n",
       "      <th>flush_toilets</th>\n",
       "      <td>0.919422</td>\n",
       "      <td>0.754463</td>\n",
       "      <td>1.000000</td>\n",
       "      <td>0.433013</td>\n",
       "      <td>0.731925</td>\n",
       "      <td>0.337100</td>\n",
       "      <td>0.843274</td>\n",
       "      <td>-0.692820</td>\n",
       "      <td>-0.350000</td>\n",
       "    </tr>\n",
       "    <tr>\n",
       "      <th>showers</th>\n",
       "      <td>0.497379</td>\n",
       "      <td>0.508649</td>\n",
       "      <td>0.433013</td>\n",
       "      <td>1.000000</td>\n",
       "      <td>0.591608</td>\n",
       "      <td>0.778499</td>\n",
       "      <td>0.365148</td>\n",
       "      <td>-0.300000</td>\n",
       "      <td>-0.433013</td>\n",
       "    </tr>\n",
       "    <tr>\n",
       "      <th>disposal_station</th>\n",
       "      <td>0.744852</td>\n",
       "      <td>0.842721</td>\n",
       "      <td>0.731925</td>\n",
       "      <td>0.591608</td>\n",
       "      <td>1.000000</td>\n",
       "      <td>0.460566</td>\n",
       "      <td>0.617213</td>\n",
       "      <td>-0.507093</td>\n",
       "      <td>-0.097590</td>\n",
       "    </tr>\n",
       "    <tr>\n",
       "      <th>reservations</th>\n",
       "      <td>0.475520</td>\n",
       "      <td>0.573261</td>\n",
       "      <td>0.337100</td>\n",
       "      <td>0.778499</td>\n",
       "      <td>0.460566</td>\n",
       "      <td>1.000000</td>\n",
       "      <td>0.284268</td>\n",
       "      <td>-0.233550</td>\n",
       "      <td>-0.337100</td>\n",
       "    </tr>\n",
       "    <tr>\n",
       "      <th>rv</th>\n",
       "      <td>0.706289</td>\n",
       "      <td>0.627272</td>\n",
       "      <td>0.843274</td>\n",
       "      <td>0.365148</td>\n",
       "      <td>0.617213</td>\n",
       "      <td>0.284268</td>\n",
       "      <td>1.000000</td>\n",
       "      <td>-0.426006</td>\n",
       "      <td>-0.158114</td>\n",
       "    </tr>\n",
       "    <tr>\n",
       "      <th>primitive</th>\n",
       "      <td>-0.863869</td>\n",
       "      <td>-0.592464</td>\n",
       "      <td>-0.692820</td>\n",
       "      <td>-0.300000</td>\n",
       "      <td>-0.507093</td>\n",
       "      <td>-0.233550</td>\n",
       "      <td>-0.426006</td>\n",
       "      <td>1.000000</td>\n",
       "      <td>-0.057735</td>\n",
       "    </tr>\n",
       "    <tr>\n",
       "      <th>isolated</th>\n",
       "      <td>-0.166252</td>\n",
       "      <td>-0.267682</td>\n",
       "      <td>-0.350000</td>\n",
       "      <td>-0.433013</td>\n",
       "      <td>-0.097590</td>\n",
       "      <td>-0.337100</td>\n",
       "      <td>-0.158114</td>\n",
       "      <td>-0.057735</td>\n",
       "      <td>1.000000</td>\n",
       "    </tr>\n",
       "  </tbody>\n",
       "</table>\n",
       "</div>"
      ],
      "text/plain": [
       "                       fee     sites  flush_toilets   showers  \\\n",
       "fee               1.000000  0.790601       0.919422  0.497379   \n",
       "sites             0.790601  1.000000       0.754463  0.508649   \n",
       "flush_toilets     0.919422  0.754463       1.000000  0.433013   \n",
       "showers           0.497379  0.508649       0.433013  1.000000   \n",
       "disposal_station  0.744852  0.842721       0.731925  0.591608   \n",
       "reservations      0.475520  0.573261       0.337100  0.778499   \n",
       "rv                0.706289  0.627272       0.843274  0.365148   \n",
       "primitive        -0.863869 -0.592464      -0.692820 -0.300000   \n",
       "isolated         -0.166252 -0.267682      -0.350000 -0.433013   \n",
       "\n",
       "                  disposal_station  reservations        rv  primitive  \\\n",
       "fee                       0.744852      0.475520  0.706289  -0.863869   \n",
       "sites                     0.842721      0.573261  0.627272  -0.592464   \n",
       "flush_toilets             0.731925      0.337100  0.843274  -0.692820   \n",
       "showers                   0.591608      0.778499  0.365148  -0.300000   \n",
       "disposal_station          1.000000      0.460566  0.617213  -0.507093   \n",
       "reservations              0.460566      1.000000  0.284268  -0.233550   \n",
       "rv                        0.617213      0.284268  1.000000  -0.426006   \n",
       "primitive                -0.507093     -0.233550 -0.426006   1.000000   \n",
       "isolated                 -0.097590     -0.337100 -0.158114  -0.057735   \n",
       "\n",
       "                  isolated  \n",
       "fee              -0.166252  \n",
       "sites            -0.267682  \n",
       "flush_toilets    -0.350000  \n",
       "showers          -0.433013  \n",
       "disposal_station -0.097590  \n",
       "reservations     -0.337100  \n",
       "rv               -0.158114  \n",
       "primitive        -0.057735  \n",
       "isolated          1.000000  "
      ]
     },
     "execution_count": 18,
     "metadata": {},
     "output_type": "execute_result"
    }
   ],
   "source": [
    "df_cg_attributes.corr()"
   ]
  },
  {
   "cell_type": "markdown",
   "metadata": {},
   "source": [
    "### Export to CSV\n"
   ]
  },
  {
   "cell_type": "code",
   "execution_count": 19,
   "metadata": {
    "ExecuteTime": {
     "end_time": "2020-06-05T20:00:21.603409Z",
     "start_time": "2020-06-05T20:00:21.598346Z"
    }
   },
   "outputs": [],
   "source": [
    "df_cg_attributes.to_csv('../data/03d_campground_attributes_clean.csv')"
   ]
  },
  {
   "cell_type": "code",
   "execution_count": null,
   "metadata": {},
   "outputs": [],
   "source": []
  }
 ],
 "metadata": {
  "kernelspec": {
   "display_name": "Python 3",
   "language": "python",
   "name": "python3"
  },
  "language_info": {
   "codemirror_mode": {
    "name": "ipython",
    "version": 3
   },
   "file_extension": ".py",
   "mimetype": "text/x-python",
   "name": "python",
   "nbconvert_exporter": "python",
   "pygments_lexer": "ipython3",
   "version": "3.7.6"
  }
 },
 "nbformat": 4,
 "nbformat_minor": 4
}
