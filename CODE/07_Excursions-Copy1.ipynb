{
 "cells": [
  {
   "cell_type": "markdown",
   "metadata": {},
   "source": [
    "Zach Tretter\n",
    "\n",
    "June 2020\n",
    "\n",
    "---------"
   ]
  },
  {
   "cell_type": "markdown",
   "metadata": {
    "ExecuteTime": {
     "end_time": "2020-06-03T15:24:57.463663Z",
     "start_time": "2020-06-03T15:24:57.459673Z"
    }
   },
   "source": [
    "# Step 6 - Modeling\n",
    "\n",
    "### [Data Dictionary](#Feature-Dictionary)\n",
    "\n",
    "-----------\n",
    "\n",
    "### [Classification](#Classification-Models) \n",
    "Predict if a GNP Campground fills up on a given day via\n",
    "\n",
    "* Logistic Regression\n",
    "* ADA Boost\n",
    "* Support Vector\n",
    "* Random Forest\n",
    "* Neural Network\n",
    "* [Model Comparision](#Classification-Model-Comparison)\n",
    "    \n",
    "-----------\n",
    "    \n",
    "### [Regression](#Regression-Models)\n",
    "Predict at what time of a day a GNP Campground fills up via\n",
    "* Neural Network\n",
    "* Ordinary Least Squares\n",
    "* Ridge\n",
    "* Gamma GLM\n",
    "* [Model Comparison](#Regression-Model-Comparison)\n",
    "    \n",
    "-------------\n",
    "\n",
    "### [Graphics used in Presentation](#Graphics)"
   ]
  },
  {
   "cell_type": "markdown",
   "metadata": {},
   "source": [
    "## Imports"
   ]
  },
  {
   "cell_type": "code",
   "execution_count": 48,
   "metadata": {
    "ExecuteTime": {
     "end_time": "2021-05-02T23:07:52.377321Z",
     "start_time": "2021-05-02T23:07:52.360311Z"
    }
   },
   "outputs": [],
   "source": [
    "import os\n",
    "import pandas as pd\n",
    "import numpy as np\n",
    "import matplotlib.pyplot as plt\n",
    "import matplotlib.dates as mdates\n",
    "import seaborn as sns\n",
    "import collections\n",
    "from scipy import stats\n",
    "import datetime\n",
    "\n",
    "# General\n",
    "from sklearn.model_selection import train_test_split, GridSearchCV\n",
    "from sklearn.preprocessing import StandardScaler\n",
    "from sklearn.pipeline import Pipeline\n",
    "\n",
    "# Classification\n",
    "from sklearn.metrics import f1_score, classification_report, confusion_matrix, roc_curve\n",
    "import sklearn.metrics as metric\n",
    "from sklearn.linear_model import LogisticRegression\n",
    "from sklearn.ensemble import AdaBoostClassifier, RandomForestClassifier\n",
    "from sklearn.svm import SVC\n",
    "from sklearn.naive_bayes import BernoulliNB\n",
    "\n",
    "# Regression\n",
    "from sklearn.linear_model import LinearRegression, Ridge, Lasso\n",
    "import statsmodels.api as sm\n",
    "from sklearn.svm import SVR\n",
    "from sklearn.ensemble import AdaBoostRegressor\n",
    "from sklearn.neighbors import KNeighborsRegressor\n",
    "\n",
    "\n",
    "# Neural Networks\n",
    "from tensorflow.keras.models import Sequential\n",
    "from tensorflow.keras.layers import Dense"
   ]
  },
  {
   "cell_type": "markdown",
   "metadata": {},
   "source": [
    "#### Read in the Source Data"
   ]
  },
  {
   "cell_type": "code",
   "execution_count": 49,
   "metadata": {
    "ExecuteTime": {
     "end_time": "2021-05-02T23:07:52.827230Z",
     "start_time": "2021-05-02T23:07:52.705051Z"
    }
   },
   "outputs": [],
   "source": [
    "df = pd.read_csv('../data/04_Full_DataFrame.csv',\n",
    "                index_col = 'key_name_date')"
   ]
  },
  {
   "cell_type": "markdown",
   "metadata": {},
   "source": [
    "#### Limit to Only Valid Data Points\n",
    "* 'Available' denotes if a campground was open a given date\n",
    "* All of 2003 is excluded due to the Roberts Fire that significantly impacted the park for most of the summer"
   ]
  },
  {
   "cell_type": "code",
   "execution_count": 50,
   "metadata": {
    "ExecuteTime": {
     "end_time": "2021-05-02T23:07:53.079023Z",
     "start_time": "2021-05-02T23:07:53.065029Z"
    }
   },
   "outputs": [
    {
     "data": {
      "text/plain": [
       "(29046, 37)"
      ]
     },
     "execution_count": 50,
     "metadata": {},
     "output_type": "execute_result"
    }
   ],
   "source": [
    "df = df[(df['available']==1)\n",
    "       & (df['year']!=2003)]\n",
    "df.shape"
   ]
  },
  {
   "cell_type": "code",
   "execution_count": 51,
   "metadata": {
    "ExecuteTime": {
     "end_time": "2021-05-02T23:07:53.297220Z",
     "start_time": "2021-05-02T23:07:53.266210Z"
    }
   },
   "outputs": [
    {
     "name": "stdout",
     "output_type": "stream",
     "text": [
      "<class 'pandas.core.frame.DataFrame'>\n",
      "Index: 29046 entries, 2000-05-01_Apga to 2019-09-30_StMa\n",
      "Data columns (total 37 columns):\n",
      " #   Column                Non-Null Count  Dtype  \n",
      "---  ------                --------------  -----  \n",
      " 0   cg_name               29046 non-null  object \n",
      " 1   date_x                29046 non-null  object \n",
      " 2   did_fill              29046 non-null  int64  \n",
      " 3   available             29046 non-null  int64  \n",
      " 4   time_24               29046 non-null  object \n",
      " 5   hours_after_midnight  29046 non-null  float64\n",
      " 6   year                  29046 non-null  int64  \n",
      " 7   month_num             29046 non-null  int64  \n",
      " 8   month_text            29046 non-null  object \n",
      " 9   day_of_year           29046 non-null  int64  \n",
      " 10  day_of_month          29046 non-null  int64  \n",
      " 11  weekday               29046 non-null  object \n",
      " 12  high_season           29046 non-null  int64  \n",
      " 13  weekend               29046 non-null  int64  \n",
      " 14  holiday               29046 non-null  int64  \n",
      " 15  logan_pass            29046 non-null  int64  \n",
      " 16  aqi                   29046 non-null  int64  \n",
      " 17  ozone                 29046 non-null  int64  \n",
      " 18  PM10                  29046 non-null  int64  \n",
      " 19  PM25                  29046 non-null  int64  \n",
      " 20  visits                29046 non-null  int64  \n",
      " 21  fee                   29046 non-null  int64  \n",
      " 22  sites                 29046 non-null  int64  \n",
      " 23  flush_toilets         29046 non-null  int64  \n",
      " 24  showers               29046 non-null  int64  \n",
      " 25  disposal_station      29046 non-null  int64  \n",
      " 26  reservations          29046 non-null  int64  \n",
      " 27  rv                    29046 non-null  int64  \n",
      " 28  primitive             29046 non-null  int64  \n",
      " 29  isolated              29046 non-null  int64  \n",
      " 30  cg_supply_y           29046 non-null  int64  \n",
      " 31  PRCP                  29046 non-null  float64\n",
      " 32  SNOW                  29046 non-null  float64\n",
      " 33  TMAX                  29046 non-null  float64\n",
      " 34  TMIN                  29046 non-null  float64\n",
      " 35  did_PRCP              29046 non-null  int64  \n",
      " 36  did_SNOW              29046 non-null  int64  \n",
      "dtypes: float64(5), int64(27), object(5)\n",
      "memory usage: 8.4+ MB\n"
     ]
    }
   ],
   "source": [
    "df.info()"
   ]
  },
  {
   "cell_type": "markdown",
   "metadata": {},
   "source": [
    "---------\n",
    "\n",
    "\n",
    "# Feature Dictionary\n",
    "\n",
    "\n",
    "\n",
    "|     Features     |   Grouping  | Data Type |                            Description                           | Used | Time Variation | Campground Variation |\n",
    "|:----------------:|:-----------:|:---------:|:----------------------------------------------------------------:|:----:|:--------------:|:--------------------:|\n",
    "|    high_season   |     Date    |  Boolean  |                    1 if July or August, else 0                   |   x  |     Monthly    |         None         |\n",
    "|      weekend     |     Date    |  Boolean  |                      1 if Fri or Sat, else 0                     |   x  |     Weekly     |         None         |\n",
    "|      holiday     |     Date    |  Boolean  |                       1 if holiday, else 0                       |   x  |      Daily     |         None         |\n",
    "|    logan_pass    |     Date    |  Boolean  |                  1 if Logan's pass open, else 0                  |   x  |      Daily     |         None         |\n",
    "|        aqi       | Air Quality |    Int    |                     Air Quality Index by date                    |   x  |      Daily     |         None         |\n",
    "|       ozone      | Air Quality |    Int    |                  daily avg concetration of ozone                 |   x  |      Daily     |         None         |\n",
    "|       PM10       | Air Quality |    Int    |  daily avg concentration particulate   matter smaller than 10 mm |   x  |      Daily     |         None         |\n",
    "|       PM25       | Air Quality |    Int    | daily avg concentration particulate   matter smaller than 2.5 mm |   x  |      Daily     |         None         |\n",
    "|      visits      |    Unique   |    Int    |                  Monthly visitors to GNP by year                 |   x  |     Monthly    |         None         |\n",
    "|        fee       |  Attribute  |    Int    |                          Campground fee                          |      |      None      |          Yes         |\n",
    "|       sites      |  Attribute  |    Int    |                   Number of sites at campground                  |   x  |      None      |          Yes         |\n",
    "|   flush_toilets  |  Attribute  |  Boolean  |                 1 if campground has flush toilets                |      |      None      |          Yes         |\n",
    "|      showers     |  Attribute  |  Boolean  |                    1 if campground has showers                   |   x  |      None      |          Yes         |\n",
    "| disposal_station |  Attribute  |  Boolean  |               1 if campground has disposal stations              |      |      None      |          Yes         |\n",
    "|   reservations   |  Attribute  |  Boolean  |                1 if campground takes reservations                |      |      None      |          Yes         |\n",
    "|        rv        |  Attribute  |  Boolean  |                    1 if campground allows RVs                    |      |      None      |          Yes         |\n",
    "|     primitive    |  Attribute  |  Boolean  |                   1 if campground is primitive                   |   x  |      None      |          Yes         |\n",
    "|     isolated     |  Attribute  |  Boolean  |       1 if campground is isolated (none others   close by)       |      |      None      |          Yes         |\n",
    "|     cg_supply    |    Unique   |    Int    |              Total supply of other campground sites              |   x  |      Daily     |         None         |\n",
    "|       PRCP       |   Weather   |   Float   |                   Daily precipitation (inches)                   |   x  |      Daily     |        Partial       |\n",
    "|       SNOW       |   Weather   |   Float   |                      Daily snowfall (inches)                     |   x  |      Daily     |        Partial       |\n",
    "|       TMAX       |   Weather   |    Int    |                       Daily temperature max                      |   x  |      Daily     |        Partial       |\n",
    "|       TMIN       |   Weather   |    Int    |                       Daily temperature min                      |   x  |      Daily     |        Partial       |\n",
    "|     did_PRCP     |   Weather   |  Boolean  |                        1 if rained on date                       |   x  |      Daily     |        Partial       |\n",
    "|     did_Snow     |   Weather   |  Boolean  |                        1 if snowed on date                       |   x  |      Daily     |        Partial       |"
   ]
  },
  {
   "cell_type": "markdown",
   "metadata": {},
   "source": [
    "### Review Features"
   ]
  },
  {
   "cell_type": "markdown",
   "metadata": {},
   "source": [
    "#### Date Features"
   ]
  },
  {
   "cell_type": "code",
   "execution_count": 52,
   "metadata": {
    "ExecuteTime": {
     "end_time": "2021-05-02T23:07:54.036585Z",
     "start_time": "2021-05-02T23:07:54.031620Z"
    }
   },
   "outputs": [],
   "source": [
    "date_features = ['high_season',\n",
    "                 'weekend',\n",
    "                 'holiday',\n",
    "                 'logan_pass']"
   ]
  },
  {
   "cell_type": "markdown",
   "metadata": {},
   "source": [
    "#### Air Quality Features"
   ]
  },
  {
   "cell_type": "code",
   "execution_count": 53,
   "metadata": {
    "ExecuteTime": {
     "end_time": "2021-05-02T23:07:54.473812Z",
     "start_time": "2021-05-02T23:07:54.469846Z"
    }
   },
   "outputs": [],
   "source": [
    "air_features = ['aqi',\n",
    "                'ozone',\n",
    "                'PM10',\n",
    "                'PM25']"
   ]
  },
  {
   "cell_type": "markdown",
   "metadata": {},
   "source": [
    "#### Campground Features"
   ]
  },
  {
   "cell_type": "code",
   "execution_count": 54,
   "metadata": {
    "ExecuteTime": {
     "end_time": "2021-05-02T23:07:54.893940Z",
     "start_time": "2021-05-02T23:07:54.876975Z"
    }
   },
   "outputs": [],
   "source": [
    "cg_features = ['fee',\n",
    "               'sites',\n",
    "               'flush_toilets',\n",
    "               'showers',\n",
    "               'disposal_station',\n",
    "               'reservations',\n",
    "               'rv','primitive',\n",
    "               'isolated']\n",
    "\n",
    "cg_features_keep = ['sites',\n",
    "                    'primitive',\n",
    "                    'showers']\n",
    "\n",
    "cg_features_exclude = [i for i in cg_features if i not in cg_features_keep]"
   ]
  },
  {
   "cell_type": "code",
   "execution_count": 55,
   "metadata": {
    "ExecuteTime": {
     "end_time": "2021-05-02T23:07:55.082225Z",
     "start_time": "2021-05-02T23:07:55.056231Z"
    }
   },
   "outputs": [
    {
     "data": {
      "text/html": [
       "<div>\n",
       "<style scoped>\n",
       "    .dataframe tbody tr th:only-of-type {\n",
       "        vertical-align: middle;\n",
       "    }\n",
       "\n",
       "    .dataframe tbody tr th {\n",
       "        vertical-align: top;\n",
       "    }\n",
       "\n",
       "    .dataframe thead th {\n",
       "        text-align: right;\n",
       "    }\n",
       "</style>\n",
       "<table border=\"1\" class=\"dataframe\">\n",
       "  <thead>\n",
       "    <tr style=\"text-align: right;\">\n",
       "      <th></th>\n",
       "      <th>sites</th>\n",
       "      <th>primitive</th>\n",
       "      <th>showers</th>\n",
       "    </tr>\n",
       "  </thead>\n",
       "  <tbody>\n",
       "    <tr>\n",
       "      <th>sites</th>\n",
       "      <td>1.000000</td>\n",
       "      <td>-0.559400</td>\n",
       "      <td>0.472593</td>\n",
       "    </tr>\n",
       "    <tr>\n",
       "      <th>primitive</th>\n",
       "      <td>-0.559400</td>\n",
       "      <td>1.000000</td>\n",
       "      <td>-0.271204</td>\n",
       "    </tr>\n",
       "    <tr>\n",
       "      <th>showers</th>\n",
       "      <td>0.472593</td>\n",
       "      <td>-0.271204</td>\n",
       "      <td>1.000000</td>\n",
       "    </tr>\n",
       "  </tbody>\n",
       "</table>\n",
       "</div>"
      ],
      "text/plain": [
       "              sites  primitive   showers\n",
       "sites      1.000000  -0.559400  0.472593\n",
       "primitive -0.559400   1.000000 -0.271204\n",
       "showers    0.472593  -0.271204  1.000000"
      ]
     },
     "execution_count": 55,
     "metadata": {},
     "output_type": "execute_result"
    }
   ],
   "source": [
    "df[cg_features_keep].corr()"
   ]
  },
  {
   "cell_type": "markdown",
   "metadata": {},
   "source": [
    "#### Weather Features"
   ]
  },
  {
   "cell_type": "code",
   "execution_count": 56,
   "metadata": {
    "ExecuteTime": {
     "end_time": "2021-05-02T23:07:55.524621Z",
     "start_time": "2021-05-02T23:07:55.519619Z"
    }
   },
   "outputs": [],
   "source": [
    "wx_features = ['PRCP',\n",
    "               'SNOW',\n",
    "               'TMAX',\n",
    "               'TMIN',\n",
    "               'did_PRCP',\n",
    "               'did_SNOW']"
   ]
  },
  {
   "cell_type": "markdown",
   "metadata": {},
   "source": [
    "#### Final Feature Set"
   ]
  },
  {
   "cell_type": "code",
   "execution_count": 57,
   "metadata": {
    "ExecuteTime": {
     "end_time": "2021-05-02T23:07:56.319313Z",
     "start_time": "2021-05-02T23:07:56.311355Z"
    }
   },
   "outputs": [
    {
     "data": {
      "text/plain": [
       "['high_season',\n",
       " 'weekend',\n",
       " 'holiday',\n",
       " 'logan_pass',\n",
       " 'aqi',\n",
       " 'ozone',\n",
       " 'PM10',\n",
       " 'PM25',\n",
       " 'visits',\n",
       " 'sites',\n",
       " 'showers',\n",
       " 'primitive',\n",
       " 'cg_supply_y',\n",
       " 'PRCP',\n",
       " 'SNOW',\n",
       " 'TMAX',\n",
       " 'TMIN',\n",
       " 'did_PRCP',\n",
       " 'did_SNOW']"
      ]
     },
     "execution_count": 57,
     "metadata": {},
     "output_type": "execute_result"
    }
   ],
   "source": [
    "features = df.columns[12:]\n",
    "features = [i for i in features if i not in cg_features_exclude]\n",
    "features"
   ]
  },
  {
   "cell_type": "code",
   "execution_count": 58,
   "metadata": {
    "ExecuteTime": {
     "end_time": "2021-05-02T23:07:58.788256Z",
     "start_time": "2021-05-02T23:07:57.992819Z"
    }
   },
   "outputs": [
    {
     "data": {
      "image/png": "[encoded data removed]",
      "text/plain": [
       "<Figure size 1728x1728 with 2 Axes>"
      ]
     },
     "metadata": {
      "needs_background": "light"
     },
     "output_type": "display_data"
    }
   ],
   "source": [
    "plt.figure(figsize=(24,24))\n",
    "\n",
    "corr_cont = df[['did_fill'] + features].corr()\n",
    "\n",
    "plt.title('Correlation of Features');\n",
    "\n",
    "sns.heatmap(corr_cont,\n",
    "            annot = True,\n",
    "            cmap = 'coolwarm', \n",
    "            vmin = -1,\n",
    "            vmax = 1,\n",
    "            mask=np.triu(corr_cont));"
   ]
  },
  {
   "cell_type": "markdown",
   "metadata": {
    "ExecuteTime": {
     "end_time": "2020-06-04T01:28:29.578185Z",
     "start_time": "2020-06-04T01:28:29.573199Z"
    }
   },
   "source": [
    "---------\n",
    "\n",
    "\n",
    "\n",
    "---------\n",
    "\n",
    "\n",
    "\n",
    "----------\n"
   ]
  },
  {
   "cell_type": "markdown",
   "metadata": {},
   "source": [
    "# Classification Models\n",
    "\n",
    "#### Predict if a campground fills up on a given day"
   ]
  },
  {
   "cell_type": "markdown",
   "metadata": {},
   "source": [
    "#### Function to Report Results by Category and Model for Classification Models"
   ]
  },
  {
   "cell_type": "code",
   "execution_count": 59,
   "metadata": {
    "ExecuteTime": {
     "end_time": "2021-05-02T23:08:00.612712Z",
     "start_time": "2021-05-02T23:08:00.592703Z"
    }
   },
   "outputs": [],
   "source": [
    "def Results_by_Category_Class(MODEL,\n",
    "                              dataframe,\n",
    "                              feature_list,\n",
    "                              label_name,\n",
    "                              group_on = None,\n",
    "                              sort_by='Test Acc Over Baseline'):\n",
    "    \n",
    "    X = dataframe[feature_list]\n",
    "    y = dataframe[label_name]\n",
    "    \n",
    "    model_name = str(MODEL).split('(')[0]\n",
    "    \n",
    "    # Create Empty Dictionary to record scores for each category\n",
    "    grouping_scores = {}\n",
    "\n",
    "    # Add an 'All' to reflect all data points\n",
    "    if group_on != None:\n",
    "        categories = [model_name] + list(dataframe[group_on].unique())\n",
    "    else:\n",
    "        categories = [model_name]\n",
    "    \n",
    "    for category in categories:\n",
    "        \n",
    "        # Don't know a better way to do this\n",
    "        if category == model_name:\n",
    "            subset_X, subset_y = X, y\n",
    "        else:\n",
    "            subset_X_indices = dataframe.loc[dataframe[group_on]==category].index\n",
    "            subset_X = X.loc[subset_X_indices]\n",
    "            subset_y_indices = dataframe.loc[dataframe[group_on]==category].index\n",
    "            subset_y = y.loc[subset_y_indices]\n",
    "        \n",
    "        # Train Test Split specific to this group\n",
    "        subset_X_train, subset_X_test, subset_y_train, subset_y_test = train_test_split(subset_X, subset_y,\n",
    "                                                                            random_state = 111,\n",
    "                                                                            stratify = subset_y)\n",
    "        # Standard Scale\n",
    "        sc = StandardScaler()\n",
    "        subset_X_train = sc.fit_transform(subset_X_train)\n",
    "        subset_X_test = sc.transform(subset_X_test)\n",
    "\n",
    "        # Instantiate and Fit Model\n",
    "        subset_model = MODEL\n",
    "        subset_model.fit(subset_X_train, subset_y_train)\n",
    "        \n",
    "        # Generate Predictions\n",
    "        subset_predictions_train = subset_model.predict(subset_X_train)\n",
    "        subset_predictions_test = subset_model.predict(subset_X_test)\n",
    "\n",
    "        # Confusion Matrix for Classification Metrics\n",
    "        tn, fp, fn, tp = confusion_matrix(subset_y_test, subset_predictions_test).ravel()\n",
    "\n",
    "        grouping_scores[category]={\n",
    "            \"Observations\":subset_y.shape[0],\n",
    "            \"Incidence\":subset_y.sum(),\n",
    "            \"Prevalence\":subset_y.mean(),\n",
    "            \"Majority\":max(subset_y.mean(),1-subset_y.mean()),\n",
    "            \"Train Acc\":subset_model.score(subset_X_train,subset_y_train),\n",
    "            \"Test Acc\":subset_model.score(subset_X_test,subset_y_test),\n",
    "            \"Test Acc Over Baseline\":subset_model.score(subset_X_test,subset_y_test) - max(subset_y.mean(),1-subset_y.mean()),\n",
    "#             \"Train F1\" :f1_score(subset_y_train, subset_predictions_train),\n",
    "            \"Test F1\" :f1_score(subset_y_test, subset_predictions_test),\n",
    "            \"Sensitivity\" : tp / (tp + fn),\n",
    "            \"Specificity\" : tn / (tn + fp),\n",
    "            \"PPV\" : tp / (tp + fp),\n",
    "            \"NPV\" : tn / (tn + fn)\n",
    "        }\n",
    "           \n",
    "    return np.round(pd.DataFrame(grouping_scores).T,2).sort_values([sort_by],ascending=False)"
   ]
  },
  {
   "cell_type": "markdown",
   "metadata": {},
   "source": [
    "#### Specify the Dataframe for Classification"
   ]
  },
  {
   "cell_type": "code",
   "execution_count": 60,
   "metadata": {
    "ExecuteTime": {
     "end_time": "2021-05-02T23:08:04.743543Z",
     "start_time": "2021-05-02T23:08:04.728512Z"
    }
   },
   "outputs": [],
   "source": [
    "# To reset and undo any filters\n",
    "df_class = df \n",
    "\n",
    "# class_filters = (df['month_num']!=5)\n",
    "# df_class = df_class[class_filters]"
   ]
  },
  {
   "cell_type": "markdown",
   "metadata": {
    "ExecuteTime": {
     "end_time": "2020-06-08T14:14:31.458954Z",
     "start_time": "2020-06-08T14:14:31.455005Z"
    }
   },
   "source": [
    "#### Identify X and y"
   ]
  },
  {
   "cell_type": "code",
   "execution_count": 61,
   "metadata": {
    "ExecuteTime": {
     "end_time": "2021-05-02T23:08:05.648930Z",
     "start_time": "2021-05-02T23:08:05.631892Z"
    }
   },
   "outputs": [],
   "source": [
    "X = df_class[features]\n",
    "y = df_class['did_fill']"
   ]
  },
  {
   "cell_type": "markdown",
   "metadata": {},
   "source": [
    "#### Train Test Split with Stratify"
   ]
  },
  {
   "cell_type": "code",
   "execution_count": null,
   "metadata": {
    "ExecuteTime": {
     "end_time": "2021-04-28T01:17:47.961571Z",
     "start_time": "2021-04-28T01:17:47.939571Z"
    }
   },
   "outputs": [],
   "source": [
    "X_train, X_test, y_train, y_test = train_test_split(X, y,\n",
    "                                                   random_state = 111,\n",
    "                                                   stratify = y)"
   ]
  },
  {
   "cell_type": "markdown",
   "metadata": {},
   "source": [
    "#### Standard Scaler for Non Pipeline Models"
   ]
  },
  {
   "cell_type": "code",
   "execution_count": null,
   "metadata": {
    "ExecuteTime": {
     "end_time": "2021-04-28T01:17:48.431585Z",
     "start_time": "2021-04-28T01:17:48.403581Z"
    }
   },
   "outputs": [],
   "source": [
    "sc = StandardScaler()\n",
    "X_train_sc = sc.fit_transform(X_train)\n",
    "X_test_sc = sc.transform(X_test)"
   ]
  },
  {
   "cell_type": "markdown",
   "metadata": {},
   "source": [
    "### Logistic Regression Classifier"
   ]
  },
  {
   "cell_type": "code",
   "execution_count": null,
   "metadata": {
    "ExecuteTime": {
     "end_time": "2021-04-28T01:17:48.886573Z",
     "start_time": "2021-04-28T01:17:48.789570Z"
    }
   },
   "outputs": [],
   "source": [
    "logistic_c_model = LogisticRegression(\n",
    "    penalty = 'l1',\n",
    "    solver = 'liblinear')\n",
    "\n",
    "logistic_c_model.fit(X_train_sc,y_train)\n",
    "\n",
    "logistic_c_model.score(X_test_sc,y_test)"
   ]
  },
  {
   "cell_type": "markdown",
   "metadata": {},
   "source": [
    "#### View Logistic Coefficients"
   ]
  },
  {
   "cell_type": "code",
   "execution_count": null,
   "metadata": {
    "ExecuteTime": {
     "end_time": "2021-04-28T01:17:49.680570Z",
     "start_time": "2021-04-28T01:17:49.675586Z"
    }
   },
   "outputs": [],
   "source": [
    "# pd.DataFrame(data=np.exp(logistic_c_model.coef_[0]),\n",
    "#             columns = ['Logistic Regression Coefficient'],\n",
    "#             index = features).sort_values('Logistic Regression Coefficient',\n",
    "#                                           ascending=False)"
   ]
  },
  {
   "cell_type": "markdown",
   "metadata": {},
   "source": [
    "### ADA Boost Classifier"
   ]
  },
  {
   "cell_type": "code",
   "execution_count": null,
   "metadata": {
    "ExecuteTime": {
     "end_time": "2021-04-28T01:17:52.618573Z",
     "start_time": "2021-04-28T01:17:50.419582Z"
    }
   },
   "outputs": [],
   "source": [
    "ada_c_model = AdaBoostClassifier(n_estimators = 150)\n",
    "\n",
    "ada_c_model.fit(X_train_sc, y_train)\n",
    "\n",
    "ada_c_model.score(X_test_sc,y_test)"
   ]
  },
  {
   "cell_type": "markdown",
   "metadata": {},
   "source": [
    "### Support Vector Classifier"
   ]
  },
  {
   "cell_type": "code",
   "execution_count": null,
   "metadata": {
    "ExecuteTime": {
     "end_time": "2021-04-28T01:18:02.494301Z",
     "start_time": "2021-04-28T01:17:52.619569Z"
    }
   },
   "outputs": [],
   "source": [
    "svc_c_model = SVC(C = 1.0)\n",
    "\n",
    "svc_c_model.fit(X_train_sc, y_train)\n",
    "\n",
    "svc_c_model.score(X_test_sc,y_test)"
   ]
  },
  {
   "cell_type": "markdown",
   "metadata": {},
   "source": [
    "### Random Forest Classifier"
   ]
  },
  {
   "cell_type": "code",
   "execution_count": null,
   "metadata": {
    "ExecuteTime": {
     "end_time": "2021-04-28T01:18:26.765100Z",
     "start_time": "2021-04-28T01:18:02.496264Z"
    },
    "scrolled": true
   },
   "outputs": [],
   "source": [
    "pipe = Pipeline([\n",
    "    ('ss', StandardScaler()),\n",
    "    ('rf',RandomForestClassifier())\n",
    "])\n",
    "\n",
    "params = {\n",
    "    'rf__n_estimators' : [50, 100, 150],\n",
    "    'rf__max_features': ['auto', 'log2'],\n",
    "    'rf__max_depth': [5,10,15],\n",
    "}\n",
    "\n",
    "gs_rf_c = GridSearchCV(pipe, params,\n",
    "                       cv = 5, n_jobs = 8,\n",
    "                       verbose = 1)\n",
    "\n",
    "gs_rf_c.fit(X_train, y_train)\n",
    "\n",
    "gs_rf_c.best_params_"
   ]
  },
  {
   "cell_type": "code",
   "execution_count": null,
   "metadata": {
    "ExecuteTime": {
     "end_time": "2021-04-28T01:18:26.842101Z",
     "start_time": "2021-04-28T01:18:26.767081Z"
    }
   },
   "outputs": [],
   "source": [
    "gs_rf_c.score(X_test_sc,y_test)"
   ]
  },
  {
   "cell_type": "markdown",
   "metadata": {},
   "source": [
    "## Bernoulli Naive Bayes"
   ]
  },
  {
   "cell_type": "code",
   "execution_count": null,
   "metadata": {
    "ExecuteTime": {
     "end_time": "2021-04-28T01:18:26.873066Z",
     "start_time": "2021-04-28T01:18:26.844066Z"
    }
   },
   "outputs": [],
   "source": [
    "bnb_c_model = BernoulliNB()\n",
    "\n",
    "bnb_c_model.fit(X_train_sc, y_train)\n",
    "\n",
    "bnb_c_model.score(X_test_sc,y_test)"
   ]
  },
  {
   "cell_type": "markdown",
   "metadata": {},
   "source": [
    "### Neural Network Classifier"
   ]
  },
  {
   "cell_type": "code",
   "execution_count": null,
   "metadata": {
    "ExecuteTime": {
     "end_time": "2021-04-28T01:18:30.666064Z",
     "start_time": "2021-04-28T01:18:26.875066Z"
    },
    "scrolled": false
   },
   "outputs": [],
   "source": [
    "model_NNClass = Sequential()\n",
    "\n",
    "model_NNClass.add(Dense(32, activation = 'relu',\n",
    "                        input_shape = X_train_sc[0].shape))\n",
    "\n",
    "model_NNClass.add(Dense(8, activation = 'relu'))\n",
    "\n",
    "model_NNClass.add(Dense(1, activation = 'sigmoid'))\n",
    "\n",
    "model_NNClass.compile(optimizer='adam',\n",
    "                      loss='binary_crossentropy',\n",
    "                      metrics = ['accuracy'])\n",
    "\n",
    "hist = model_NNClass.fit(X_train_sc, y_train,\n",
    "                         epochs = 50,\n",
    "                         batch_size= 512,\n",
    "                         validation_data = (X_test_sc, y_test),\n",
    "                         verbose = 0)"
   ]
  },
  {
   "cell_type": "markdown",
   "metadata": {},
   "source": [
    "#### View Neural Net Loss by Epoch"
   ]
  },
  {
   "cell_type": "code",
   "execution_count": null,
   "metadata": {
    "ExecuteTime": {
     "end_time": "2021-04-28T01:18:30.794091Z",
     "start_time": "2021-04-28T01:18:30.667066Z"
    }
   },
   "outputs": [],
   "source": [
    "plt.plot(hist.history['loss'], label = 'Train loss')\n",
    "plt.plot(hist.history['val_loss'], label = 'Test loss')\n",
    "plt.legend()"
   ]
  },
  {
   "cell_type": "markdown",
   "metadata": {},
   "source": [
    "## Classification Results by Subgroup - Campground"
   ]
  },
  {
   "cell_type": "code",
   "execution_count": 64,
   "metadata": {
    "ExecuteTime": {
     "end_time": "2021-05-02T23:08:59.242379Z",
     "start_time": "2021-05-02T23:08:52.918170Z"
    }
   },
   "outputs": [],
   "source": [
    "classification_by_campground = Results_by_Category_Class(MODEL = AdaBoostClassifier(n_estimators = 150),\n",
    "                                                         dataframe = df_class,\n",
    "                                                         feature_list = features,\n",
    "                                                         label_name = 'cg_name',\n",
    "                                                         group_on = 'high_season',\n",
    "                                                         sort_by = 'Test Acc Over Baseline')"
   ]
  },
  {
   "cell_type": "code",
   "execution_count": 65,
   "metadata": {
    "ExecuteTime": {
     "end_time": "2021-05-02T23:09:06.439100Z",
     "start_time": "2021-05-02T23:09:06.424103Z"
    }
   },
   "outputs": [
    {
     "data": {
      "text/html": [
       "<div>\n",
       "<style scoped>\n",
       "    .dataframe tbody tr th:only-of-type {\n",
       "        vertical-align: middle;\n",
       "    }\n",
       "\n",
       "    .dataframe tbody tr th {\n",
       "        vertical-align: top;\n",
       "    }\n",
       "\n",
       "    .dataframe thead th {\n",
       "        text-align: right;\n",
       "    }\n",
       "</style>\n",
       "<table border=\"1\" class=\"dataframe\">\n",
       "  <thead>\n",
       "    <tr style=\"text-align: right;\">\n",
       "      <th></th>\n",
       "      <th>Observations</th>\n",
       "      <th>Incidence</th>\n",
       "      <th>Prevalence</th>\n",
       "      <th>Majority</th>\n",
       "      <th>Train Acc</th>\n",
       "      <th>Test Acc</th>\n",
       "      <th>Test Acc Over Baseline</th>\n",
       "      <th>Test F1</th>\n",
       "      <th>Sensitivity</th>\n",
       "      <th>Specificity</th>\n",
       "      <th>PPV</th>\n",
       "      <th>NPV</th>\n",
       "    </tr>\n",
       "  </thead>\n",
       "  <tbody>\n",
       "    <tr>\n",
       "      <th>1</th>\n",
       "      <td>15186.0</td>\n",
       "      <td>7079.0</td>\n",
       "      <td>0.47</td>\n",
       "      <td>0.53</td>\n",
       "      <td>0.83</td>\n",
       "      <td>0.82</td>\n",
       "      <td>0.29</td>\n",
       "      <td>0.81</td>\n",
       "      <td>0.79</td>\n",
       "      <td>0.85</td>\n",
       "      <td>0.82</td>\n",
       "      <td>0.82</td>\n",
       "    </tr>\n",
       "    <tr>\n",
       "      <th>AdaBoostClassifier</th>\n",
       "      <td>29046.0</td>\n",
       "      <td>8444.0</td>\n",
       "      <td>0.29</td>\n",
       "      <td>0.71</td>\n",
       "      <td>0.87</td>\n",
       "      <td>0.86</td>\n",
       "      <td>0.16</td>\n",
       "      <td>0.75</td>\n",
       "      <td>0.71</td>\n",
       "      <td>0.93</td>\n",
       "      <td>0.80</td>\n",
       "      <td>0.89</td>\n",
       "    </tr>\n",
       "    <tr>\n",
       "      <th>0</th>\n",
       "      <td>13860.0</td>\n",
       "      <td>1365.0</td>\n",
       "      <td>0.10</td>\n",
       "      <td>0.90</td>\n",
       "      <td>0.93</td>\n",
       "      <td>0.93</td>\n",
       "      <td>0.02</td>\n",
       "      <td>0.54</td>\n",
       "      <td>0.44</td>\n",
       "      <td>0.98</td>\n",
       "      <td>0.69</td>\n",
       "      <td>0.94</td>\n",
       "    </tr>\n",
       "  </tbody>\n",
       "</table>\n",
       "</div>"
      ],
      "text/plain": [
       "                    Observations  Incidence  Prevalence  Majority  Train Acc  \\\n",
       "1                        15186.0     7079.0        0.47      0.53       0.83   \n",
       "AdaBoostClassifier       29046.0     8444.0        0.29      0.71       0.87   \n",
       "0                        13860.0     1365.0        0.10      0.90       0.93   \n",
       "\n",
       "                    Test Acc  Test Acc Over Baseline  Test F1  Sensitivity  \\\n",
       "1                       0.82                    0.29     0.81         0.79   \n",
       "AdaBoostClassifier      0.86                    0.16     0.75         0.71   \n",
       "0                       0.93                    0.02     0.54         0.44   \n",
       "\n",
       "                    Specificity   PPV   NPV  \n",
       "1                          0.85  0.82  0.82  \n",
       "AdaBoostClassifier         0.93  0.80  0.89  \n",
       "0                          0.98  0.69  0.94  "
      ]
     },
     "execution_count": 65,
     "metadata": {},
     "output_type": "execute_result"
    }
   ],
   "source": [
    "classification_by_campground"
   ]
  },
  {
   "cell_type": "code",
   "execution_count": null,
   "metadata": {
    "ExecuteTime": {
     "end_time": "2021-04-28T01:18:39.946010Z",
     "start_time": "2021-04-28T01:18:39.932012Z"
    }
   },
   "outputs": [],
   "source": [
    "df.columns.T"
   ]
  },
  {
   "cell_type": "code",
   "execution_count": 71,
   "metadata": {
    "ExecuteTime": {
     "end_time": "2021-05-02T23:13:25.667774Z",
     "start_time": "2021-05-02T23:13:19.555784Z"
    }
   },
   "outputs": [],
   "source": [
    "classification_by_high_season = Results_by_Category_Class(MODEL = AdaBoostClassifier(n_estimators = 150),\n",
    "                                                         dataframe = df_class,\n",
    "                                                         feature_list = features,\n",
    "                                                         label_name = 'did_fill',\n",
    "                                                         group_on = 'high_season',\n",
    "                                                         sort_by = 'Test Acc Over Baseline')"
   ]
  },
  {
   "cell_type": "code",
   "execution_count": 72,
   "metadata": {
    "ExecuteTime": {
     "end_time": "2021-05-02T23:13:25.683957Z",
     "start_time": "2021-05-02T23:13:25.669588Z"
    }
   },
   "outputs": [
    {
     "data": {
      "text/html": [
       "<div>\n",
       "<style scoped>\n",
       "    .dataframe tbody tr th:only-of-type {\n",
       "        vertical-align: middle;\n",
       "    }\n",
       "\n",
       "    .dataframe tbody tr th {\n",
       "        vertical-align: top;\n",
       "    }\n",
       "\n",
       "    .dataframe thead th {\n",
       "        text-align: right;\n",
       "    }\n",
       "</style>\n",
       "<table border=\"1\" class=\"dataframe\">\n",
       "  <thead>\n",
       "    <tr style=\"text-align: right;\">\n",
       "      <th></th>\n",
       "      <th>Observations</th>\n",
       "      <th>Incidence</th>\n",
       "      <th>Prevalence</th>\n",
       "      <th>Majority</th>\n",
       "      <th>Train Acc</th>\n",
       "      <th>Test Acc</th>\n",
       "      <th>Test Acc Over Baseline</th>\n",
       "      <th>Test F1</th>\n",
       "      <th>Sensitivity</th>\n",
       "      <th>Specificity</th>\n",
       "      <th>PPV</th>\n",
       "      <th>NPV</th>\n",
       "    </tr>\n",
       "  </thead>\n",
       "  <tbody>\n",
       "    <tr>\n",
       "      <th>High Season Months</th>\n",
       "      <td>15186.0</td>\n",
       "      <td>7079.0</td>\n",
       "      <td>0.47</td>\n",
       "      <td>0.53</td>\n",
       "      <td>0.83</td>\n",
       "      <td>0.82</td>\n",
       "      <td>0.29</td>\n",
       "      <td>0.81</td>\n",
       "      <td>0.79</td>\n",
       "      <td>0.85</td>\n",
       "      <td>0.82</td>\n",
       "      <td>0.82</td>\n",
       "    </tr>\n",
       "    <tr>\n",
       "      <th>All Months</th>\n",
       "      <td>29046.0</td>\n",
       "      <td>8444.0</td>\n",
       "      <td>0.29</td>\n",
       "      <td>0.71</td>\n",
       "      <td>0.87</td>\n",
       "      <td>0.86</td>\n",
       "      <td>0.16</td>\n",
       "      <td>0.75</td>\n",
       "      <td>0.71</td>\n",
       "      <td>0.93</td>\n",
       "      <td>0.80</td>\n",
       "      <td>0.89</td>\n",
       "    </tr>\n",
       "    <tr>\n",
       "      <th>Low Season Months</th>\n",
       "      <td>13860.0</td>\n",
       "      <td>1365.0</td>\n",
       "      <td>0.10</td>\n",
       "      <td>0.90</td>\n",
       "      <td>0.93</td>\n",
       "      <td>0.93</td>\n",
       "      <td>0.02</td>\n",
       "      <td>0.54</td>\n",
       "      <td>0.44</td>\n",
       "      <td>0.98</td>\n",
       "      <td>0.69</td>\n",
       "      <td>0.94</td>\n",
       "    </tr>\n",
       "  </tbody>\n",
       "</table>\n",
       "</div>"
      ],
      "text/plain": [
       "                    Observations  Incidence  Prevalence  Majority  Train Acc  \\\n",
       "High Season Months       15186.0     7079.0        0.47      0.53       0.83   \n",
       "All Months               29046.0     8444.0        0.29      0.71       0.87   \n",
       "Low Season Months        13860.0     1365.0        0.10      0.90       0.93   \n",
       "\n",
       "                    Test Acc  Test Acc Over Baseline  Test F1  Sensitivity  \\\n",
       "High Season Months      0.82                    0.29     0.81         0.79   \n",
       "All Months              0.86                    0.16     0.75         0.71   \n",
       "Low Season Months       0.93                    0.02     0.54         0.44   \n",
       "\n",
       "                    Specificity   PPV   NPV  \n",
       "High Season Months         0.85  0.82  0.82  \n",
       "All Months                 0.93  0.80  0.89  \n",
       "Low Season Months          0.98  0.69  0.94  "
      ]
     },
     "execution_count": 72,
     "metadata": {},
     "output_type": "execute_result"
    }
   ],
   "source": [
    "classification_by_high_season.rename(\n",
    "    index={1:\"High Season Months\",\n",
    "           0:\"Low Season Months\",\n",
    "          \"AdaBoostClassifier\":\"All Months\"})"
   ]
  },
  {
   "cell_type": "code",
   "execution_count": 76,
   "metadata": {
    "ExecuteTime": {
     "end_time": "2021-05-02T23:15:28.852688Z",
     "start_time": "2021-05-02T23:15:19.248484Z"
    }
   },
   "outputs": [],
   "source": [
    "classification_by_year = Results_by_Category_Class(MODEL = AdaBoostClassifier(n_estimators = 150),\n",
    "                                                         dataframe = df_class,\n",
    "                                                         feature_list = features,\n",
    "                                                         label_name = 'did_fill',\n",
    "                                                         group_on = 'year',\n",
    "                                                         sort_by = 'Test Acc Over Baseline')"
   ]
  },
  {
   "cell_type": "code",
   "execution_count": 87,
   "metadata": {
    "ExecuteTime": {
     "end_time": "2021-05-02T23:17:55.349011Z",
     "start_time": "2021-05-02T23:17:55.321013Z"
    }
   },
   "outputs": [
    {
     "data": {
      "text/html": [
       "<div>\n",
       "<style scoped>\n",
       "    .dataframe tbody tr th:only-of-type {\n",
       "        vertical-align: middle;\n",
       "    }\n",
       "\n",
       "    .dataframe tbody tr th {\n",
       "        vertical-align: top;\n",
       "    }\n",
       "\n",
       "    .dataframe thead th {\n",
       "        text-align: right;\n",
       "    }\n",
       "</style>\n",
       "<table border=\"1\" class=\"dataframe\">\n",
       "  <thead>\n",
       "    <tr style=\"text-align: right;\">\n",
       "      <th></th>\n",
       "      <th>Observations</th>\n",
       "      <th>Incidence</th>\n",
       "      <th>Prevalence</th>\n",
       "      <th>Majority</th>\n",
       "      <th>Train Acc</th>\n",
       "      <th>Test Acc</th>\n",
       "      <th>Test Acc Over Baseline</th>\n",
       "      <th>Test F1</th>\n",
       "      <th>Sensitivity</th>\n",
       "      <th>Specificity</th>\n",
       "      <th>PPV</th>\n",
       "      <th>NPV</th>\n",
       "    </tr>\n",
       "  </thead>\n",
       "  <tbody>\n",
       "    <tr>\n",
       "      <th>2016</th>\n",
       "      <td>1545.0</td>\n",
       "      <td>773.0</td>\n",
       "      <td>0.50</td>\n",
       "      <td>0.50</td>\n",
       "      <td>0.88</td>\n",
       "      <td>0.88</td>\n",
       "      <td>0.38</td>\n",
       "      <td>0.88</td>\n",
       "      <td>0.87</td>\n",
       "      <td>0.90</td>\n",
       "      <td>0.89</td>\n",
       "      <td>0.87</td>\n",
       "    </tr>\n",
       "    <tr>\n",
       "      <th>2018</th>\n",
       "      <td>1391.0</td>\n",
       "      <td>668.0</td>\n",
       "      <td>0.48</td>\n",
       "      <td>0.52</td>\n",
       "      <td>0.91</td>\n",
       "      <td>0.89</td>\n",
       "      <td>0.37</td>\n",
       "      <td>0.88</td>\n",
       "      <td>0.86</td>\n",
       "      <td>0.92</td>\n",
       "      <td>0.91</td>\n",
       "      <td>0.87</td>\n",
       "    </tr>\n",
       "    <tr>\n",
       "      <th>2017</th>\n",
       "      <td>1467.0</td>\n",
       "      <td>796.0</td>\n",
       "      <td>0.54</td>\n",
       "      <td>0.54</td>\n",
       "      <td>0.93</td>\n",
       "      <td>0.89</td>\n",
       "      <td>0.35</td>\n",
       "      <td>0.90</td>\n",
       "      <td>0.92</td>\n",
       "      <td>0.85</td>\n",
       "      <td>0.88</td>\n",
       "      <td>0.90</td>\n",
       "    </tr>\n",
       "    <tr>\n",
       "      <th>2019</th>\n",
       "      <td>1544.0</td>\n",
       "      <td>711.0</td>\n",
       "      <td>0.46</td>\n",
       "      <td>0.54</td>\n",
       "      <td>0.87</td>\n",
       "      <td>0.86</td>\n",
       "      <td>0.32</td>\n",
       "      <td>0.85</td>\n",
       "      <td>0.83</td>\n",
       "      <td>0.89</td>\n",
       "      <td>0.87</td>\n",
       "      <td>0.86</td>\n",
       "    </tr>\n",
       "    <tr>\n",
       "      <th>2014</th>\n",
       "      <td>1544.0</td>\n",
       "      <td>637.0</td>\n",
       "      <td>0.41</td>\n",
       "      <td>0.59</td>\n",
       "      <td>0.92</td>\n",
       "      <td>0.90</td>\n",
       "      <td>0.31</td>\n",
       "      <td>0.88</td>\n",
       "      <td>0.89</td>\n",
       "      <td>0.90</td>\n",
       "      <td>0.86</td>\n",
       "      <td>0.92</td>\n",
       "    </tr>\n",
       "    <tr>\n",
       "      <th>2015</th>\n",
       "      <td>1479.0</td>\n",
       "      <td>559.0</td>\n",
       "      <td>0.38</td>\n",
       "      <td>0.62</td>\n",
       "      <td>0.91</td>\n",
       "      <td>0.87</td>\n",
       "      <td>0.25</td>\n",
       "      <td>0.83</td>\n",
       "      <td>0.84</td>\n",
       "      <td>0.88</td>\n",
       "      <td>0.81</td>\n",
       "      <td>0.90</td>\n",
       "    </tr>\n",
       "    <tr>\n",
       "      <th>2013</th>\n",
       "      <td>1544.0</td>\n",
       "      <td>563.0</td>\n",
       "      <td>0.36</td>\n",
       "      <td>0.64</td>\n",
       "      <td>0.90</td>\n",
       "      <td>0.88</td>\n",
       "      <td>0.24</td>\n",
       "      <td>0.83</td>\n",
       "      <td>0.86</td>\n",
       "      <td>0.89</td>\n",
       "      <td>0.81</td>\n",
       "      <td>0.92</td>\n",
       "    </tr>\n",
       "    <tr>\n",
       "      <th>2012</th>\n",
       "      <td>1545.0</td>\n",
       "      <td>535.0</td>\n",
       "      <td>0.35</td>\n",
       "      <td>0.65</td>\n",
       "      <td>0.92</td>\n",
       "      <td>0.88</td>\n",
       "      <td>0.23</td>\n",
       "      <td>0.84</td>\n",
       "      <td>0.86</td>\n",
       "      <td>0.90</td>\n",
       "      <td>0.82</td>\n",
       "      <td>0.92</td>\n",
       "    </tr>\n",
       "    <tr>\n",
       "      <th>2010</th>\n",
       "      <td>1544.0</td>\n",
       "      <td>509.0</td>\n",
       "      <td>0.33</td>\n",
       "      <td>0.67</td>\n",
       "      <td>0.92</td>\n",
       "      <td>0.90</td>\n",
       "      <td>0.23</td>\n",
       "      <td>0.85</td>\n",
       "      <td>0.83</td>\n",
       "      <td>0.93</td>\n",
       "      <td>0.86</td>\n",
       "      <td>0.92</td>\n",
       "    </tr>\n",
       "    <tr>\n",
       "      <th>2011</th>\n",
       "      <td>1544.0</td>\n",
       "      <td>443.0</td>\n",
       "      <td>0.29</td>\n",
       "      <td>0.71</td>\n",
       "      <td>0.92</td>\n",
       "      <td>0.89</td>\n",
       "      <td>0.18</td>\n",
       "      <td>0.80</td>\n",
       "      <td>0.77</td>\n",
       "      <td>0.94</td>\n",
       "      <td>0.84</td>\n",
       "      <td>0.91</td>\n",
       "    </tr>\n",
       "    <tr>\n",
       "      <th>2009</th>\n",
       "      <td>1544.0</td>\n",
       "      <td>406.0</td>\n",
       "      <td>0.26</td>\n",
       "      <td>0.74</td>\n",
       "      <td>0.93</td>\n",
       "      <td>0.90</td>\n",
       "      <td>0.16</td>\n",
       "      <td>0.81</td>\n",
       "      <td>0.80</td>\n",
       "      <td>0.94</td>\n",
       "      <td>0.82</td>\n",
       "      <td>0.93</td>\n",
       "    </tr>\n",
       "    <tr>\n",
       "      <th>All Years</th>\n",
       "      <td>29046.0</td>\n",
       "      <td>8444.0</td>\n",
       "      <td>0.29</td>\n",
       "      <td>0.71</td>\n",
       "      <td>0.87</td>\n",
       "      <td>0.86</td>\n",
       "      <td>0.16</td>\n",
       "      <td>0.75</td>\n",
       "      <td>0.71</td>\n",
       "      <td>0.93</td>\n",
       "      <td>0.80</td>\n",
       "      <td>0.89</td>\n",
       "    </tr>\n",
       "    <tr>\n",
       "      <th>2008</th>\n",
       "      <td>1545.0</td>\n",
       "      <td>242.0</td>\n",
       "      <td>0.16</td>\n",
       "      <td>0.84</td>\n",
       "      <td>0.95</td>\n",
       "      <td>0.93</td>\n",
       "      <td>0.09</td>\n",
       "      <td>0.75</td>\n",
       "      <td>0.66</td>\n",
       "      <td>0.98</td>\n",
       "      <td>0.89</td>\n",
       "      <td>0.94</td>\n",
       "    </tr>\n",
       "    <tr>\n",
       "      <th>2006</th>\n",
       "      <td>1544.0</td>\n",
       "      <td>252.0</td>\n",
       "      <td>0.16</td>\n",
       "      <td>0.84</td>\n",
       "      <td>0.93</td>\n",
       "      <td>0.92</td>\n",
       "      <td>0.08</td>\n",
       "      <td>0.71</td>\n",
       "      <td>0.62</td>\n",
       "      <td>0.98</td>\n",
       "      <td>0.83</td>\n",
       "      <td>0.93</td>\n",
       "    </tr>\n",
       "    <tr>\n",
       "      <th>2002</th>\n",
       "      <td>1544.0</td>\n",
       "      <td>279.0</td>\n",
       "      <td>0.18</td>\n",
       "      <td>0.82</td>\n",
       "      <td>0.94</td>\n",
       "      <td>0.90</td>\n",
       "      <td>0.08</td>\n",
       "      <td>0.70</td>\n",
       "      <td>0.66</td>\n",
       "      <td>0.95</td>\n",
       "      <td>0.75</td>\n",
       "      <td>0.93</td>\n",
       "    </tr>\n",
       "    <tr>\n",
       "      <th>2000</th>\n",
       "      <td>1545.0</td>\n",
       "      <td>198.0</td>\n",
       "      <td>0.13</td>\n",
       "      <td>0.87</td>\n",
       "      <td>0.95</td>\n",
       "      <td>0.93</td>\n",
       "      <td>0.06</td>\n",
       "      <td>0.70</td>\n",
       "      <td>0.62</td>\n",
       "      <td>0.98</td>\n",
       "      <td>0.82</td>\n",
       "      <td>0.95</td>\n",
       "    </tr>\n",
       "    <tr>\n",
       "      <th>2005</th>\n",
       "      <td>1544.0</td>\n",
       "      <td>263.0</td>\n",
       "      <td>0.17</td>\n",
       "      <td>0.83</td>\n",
       "      <td>0.93</td>\n",
       "      <td>0.89</td>\n",
       "      <td>0.06</td>\n",
       "      <td>0.63</td>\n",
       "      <td>0.56</td>\n",
       "      <td>0.96</td>\n",
       "      <td>0.73</td>\n",
       "      <td>0.91</td>\n",
       "    </tr>\n",
       "    <tr>\n",
       "      <th>2001</th>\n",
       "      <td>1544.0</td>\n",
       "      <td>233.0</td>\n",
       "      <td>0.15</td>\n",
       "      <td>0.85</td>\n",
       "      <td>0.94</td>\n",
       "      <td>0.91</td>\n",
       "      <td>0.06</td>\n",
       "      <td>0.65</td>\n",
       "      <td>0.53</td>\n",
       "      <td>0.98</td>\n",
       "      <td>0.82</td>\n",
       "      <td>0.92</td>\n",
       "    </tr>\n",
       "    <tr>\n",
       "      <th>2007</th>\n",
       "      <td>1544.0</td>\n",
       "      <td>185.0</td>\n",
       "      <td>0.12</td>\n",
       "      <td>0.88</td>\n",
       "      <td>0.95</td>\n",
       "      <td>0.91</td>\n",
       "      <td>0.03</td>\n",
       "      <td>0.63</td>\n",
       "      <td>0.61</td>\n",
       "      <td>0.96</td>\n",
       "      <td>0.65</td>\n",
       "      <td>0.95</td>\n",
       "    </tr>\n",
       "    <tr>\n",
       "      <th>2004</th>\n",
       "      <td>1545.0</td>\n",
       "      <td>192.0</td>\n",
       "      <td>0.12</td>\n",
       "      <td>0.88</td>\n",
       "      <td>0.94</td>\n",
       "      <td>0.90</td>\n",
       "      <td>0.02</td>\n",
       "      <td>0.58</td>\n",
       "      <td>0.56</td>\n",
       "      <td>0.95</td>\n",
       "      <td>0.60</td>\n",
       "      <td>0.94</td>\n",
       "    </tr>\n",
       "  </tbody>\n",
       "</table>\n",
       "</div>"
      ],
      "text/plain": [
       "           Observations  Incidence  Prevalence  Majority  Train Acc  Test Acc  \\\n",
       "2016             1545.0      773.0        0.50      0.50       0.88      0.88   \n",
       "2018             1391.0      668.0        0.48      0.52       0.91      0.89   \n",
       "2017             1467.0      796.0        0.54      0.54       0.93      0.89   \n",
       "2019             1544.0      711.0        0.46      0.54       0.87      0.86   \n",
       "2014             1544.0      637.0        0.41      0.59       0.92      0.90   \n",
       "2015             1479.0      559.0        0.38      0.62       0.91      0.87   \n",
       "2013             1544.0      563.0        0.36      0.64       0.90      0.88   \n",
       "2012             1545.0      535.0        0.35      0.65       0.92      0.88   \n",
       "2010             1544.0      509.0        0.33      0.67       0.92      0.90   \n",
       "2011             1544.0      443.0        0.29      0.71       0.92      0.89   \n",
       "2009             1544.0      406.0        0.26      0.74       0.93      0.90   \n",
       "All Years       29046.0     8444.0        0.29      0.71       0.87      0.86   \n",
       "2008             1545.0      242.0        0.16      0.84       0.95      0.93   \n",
       "2006             1544.0      252.0        0.16      0.84       0.93      0.92   \n",
       "2002             1544.0      279.0        0.18      0.82       0.94      0.90   \n",
       "2000             1545.0      198.0        0.13      0.87       0.95      0.93   \n",
       "2005             1544.0      263.0        0.17      0.83       0.93      0.89   \n",
       "2001             1544.0      233.0        0.15      0.85       0.94      0.91   \n",
       "2007             1544.0      185.0        0.12      0.88       0.95      0.91   \n",
       "2004             1545.0      192.0        0.12      0.88       0.94      0.90   \n",
       "\n",
       "           Test Acc Over Baseline  Test F1  Sensitivity  Specificity   PPV  \\\n",
       "2016                         0.38     0.88         0.87         0.90  0.89   \n",
       "2018                         0.37     0.88         0.86         0.92  0.91   \n",
       "2017                         0.35     0.90         0.92         0.85  0.88   \n",
       "2019                         0.32     0.85         0.83         0.89  0.87   \n",
       "2014                         0.31     0.88         0.89         0.90  0.86   \n",
       "2015                         0.25     0.83         0.84         0.88  0.81   \n",
       "2013                         0.24     0.83         0.86         0.89  0.81   \n",
       "2012                         0.23     0.84         0.86         0.90  0.82   \n",
       "2010                         0.23     0.85         0.83         0.93  0.86   \n",
       "2011                         0.18     0.80         0.77         0.94  0.84   \n",
       "2009                         0.16     0.81         0.80         0.94  0.82   \n",
       "All Years                    0.16     0.75         0.71         0.93  0.80   \n",
       "2008                         0.09     0.75         0.66         0.98  0.89   \n",
       "2006                         0.08     0.71         0.62         0.98  0.83   \n",
       "2002                         0.08     0.70         0.66         0.95  0.75   \n",
       "2000                         0.06     0.70         0.62         0.98  0.82   \n",
       "2005                         0.06     0.63         0.56         0.96  0.73   \n",
       "2001                         0.06     0.65         0.53         0.98  0.82   \n",
       "2007                         0.03     0.63         0.61         0.96  0.65   \n",
       "2004                         0.02     0.58         0.56         0.95  0.60   \n",
       "\n",
       "            NPV  \n",
       "2016       0.87  \n",
       "2018       0.87  \n",
       "2017       0.90  \n",
       "2019       0.86  \n",
       "2014       0.92  \n",
       "2015       0.90  \n",
       "2013       0.92  \n",
       "2012       0.92  \n",
       "2010       0.92  \n",
       "2011       0.91  \n",
       "2009       0.93  \n",
       "All Years  0.89  \n",
       "2008       0.94  \n",
       "2006       0.93  \n",
       "2002       0.93  \n",
       "2000       0.95  \n",
       "2005       0.91  \n",
       "2001       0.92  \n",
       "2007       0.95  \n",
       "2004       0.94  "
      ]
     },
     "execution_count": 87,
     "metadata": {},
     "output_type": "execute_result"
    }
   ],
   "source": [
    "classification_by_year.rename(\n",
    "    index={\"AdaBoostClassifier\":\"All Years\"})"
   ]
  },
  {
   "cell_type": "markdown",
   "metadata": {},
   "source": [
    "## Classification Model Comparison"
   ]
  },
  {
   "cell_type": "markdown",
   "metadata": {},
   "source": [
    "#### Non Neural Network Models"
   ]
  },
  {
   "cell_type": "code",
   "execution_count": null,
   "metadata": {
    "ExecuteTime": {
     "end_time": "2021-04-28T01:19:15.987869Z",
     "start_time": "2021-04-28T01:18:46.755849Z"
    }
   },
   "outputs": [],
   "source": [
    "# List out the classification models\n",
    "classification_model_set = [logistic_c_model,\n",
    "                           ada_c_model,\n",
    "                           svc_c_model,\n",
    "                           gs_rf_c.best_estimator_,\n",
    "                           bnb_c_model]\n",
    "\n",
    "# Create an emtpy dataframe\n",
    "model_class_summary = pd.DataFrame()\n",
    "\n",
    "# For each model in our list record its performance and add it to the dataframe\n",
    "for i in classification_model_set:\n",
    "    model_class_summary = pd.concat([model_class_summary\n",
    "                                     ,Results_by_Category_Class(MODEL = i,\n",
    "                                                                dataframe = df_class,\n",
    "                                                                feature_list = features,\n",
    "                                                                label_name = 'did_fill',\n",
    "                                                                group_on = None,\n",
    "                                                                sort_by = 'Test Acc Over Baseline') ]) \n",
    "# Return the dataframe\n",
    "model_class_summary"
   ]
  },
  {
   "cell_type": "markdown",
   "metadata": {},
   "source": [
    "#### Clean up Resultant Dataframe"
   ]
  },
  {
   "cell_type": "code",
   "execution_count": null,
   "metadata": {
    "ExecuteTime": {
     "end_time": "2021-04-16T19:43:07.640267Z",
     "start_time": "2021-04-16T19:43:07.633266Z"
    }
   },
   "outputs": [],
   "source": [
    "classification_summary = model_class_summary[\n",
    "    ['Observations','Prevalence','Majority','Train Acc','Test Acc','Test Acc Over Baseline','Test F1']\n",
    "].rename(index={'Pipeline':'RandomForest'})"
   ]
  },
  {
   "cell_type": "code",
   "execution_count": null,
   "metadata": {
    "ExecuteTime": {
     "end_time": "2021-04-28T01:19:36.637873Z",
     "start_time": "2021-04-28T01:19:36.629835Z"
    }
   },
   "outputs": [],
   "source": [
    "classification_summary = model_class_summary[\n",
    "    ['Observations','Prevalence','Majority','Train Acc','Test Acc','Test Acc Over Baseline','Test F1','PPV','NPV']\n",
    "].rename(index={'Pipeline':'RandomForest'})"
   ]
  },
  {
   "cell_type": "code",
   "execution_count": null,
   "metadata": {
    "ExecuteTime": {
     "end_time": "2021-04-28T01:20:18.284861Z",
     "start_time": "2021-04-28T01:20:18.267857Z"
    }
   },
   "outputs": [],
   "source": [
    "classification_summary"
   ]
  },
  {
   "cell_type": "markdown",
   "metadata": {},
   "source": [
    "#### Create Results for Neural Net Model (.predict vs .predict_classes)"
   ]
  },
  {
   "cell_type": "code",
   "execution_count": null,
   "metadata": {
    "ExecuteTime": {
     "end_time": "2021-04-28T01:22:39.067865Z",
     "start_time": "2021-04-28T01:22:38.906874Z"
    }
   },
   "outputs": [],
   "source": [
    "tn, fp, fn, tp = confusion_matrix(y_test, model_NNClass.predict_classes(X_test_sc)).ravel()"
   ]
  },
  {
   "cell_type": "code",
   "execution_count": null,
   "metadata": {
    "ExecuteTime": {
     "end_time": "2021-04-28T01:22:17.305889Z",
     "start_time": "2021-04-28T01:22:17.155880Z"
    }
   },
   "outputs": [],
   "source": []
  },
  {
   "cell_type": "code",
   "execution_count": null,
   "metadata": {
    "ExecuteTime": {
     "end_time": "2021-04-28T01:23:09.756643Z",
     "start_time": "2021-04-28T01:23:09.138490Z"
    }
   },
   "outputs": [],
   "source": [
    "tn, fp, fn, tp = confusion_matrix(y_test, model_NNClass.predict_classes(X_test_sc)).ravel()\n",
    "\n",
    "NNClass_Results = {\n",
    "    \"Observations\":y.shape[0],\n",
    "    \"Prevalence\":y.mean(),\n",
    "    \"Majority\":max(y.mean(),1-y.mean()),\n",
    "    'Train Acc':metric.accuracy_score(y_train,model_NNClass.predict_classes(X_train_sc)),\n",
    "    'Test Acc':metric.accuracy_score(y_test,model_NNClass.predict_classes(X_test_sc)),\n",
    "    'Test Acc Over Baseline':metric.accuracy_score(y_test,model_NNClass.predict_classes(X_test_sc)) - max(y.mean(),1-y.mean()),\n",
    "    'Test F1':f1_score(y_test,model_NNClass.predict_classes(X_test_sc)),\n",
    "    \"PPV\" : tp / (tp + fp),\n",
    "    \"NPV\" : tn / (tn + fn)\n",
    "}\n",
    "\n",
    "nnc_dict = pd.DataFrame(NNClass_Results,index=['Neural Net Classifer'])"
   ]
  },
  {
   "cell_type": "markdown",
   "metadata": {},
   "source": [
    "#### Add Neural Networks to Dataframe"
   ]
  },
  {
   "cell_type": "code",
   "execution_count": null,
   "metadata": {
    "ExecuteTime": {
     "end_time": "2021-04-28T01:23:11.404311Z",
     "start_time": "2021-04-28T01:23:11.388265Z"
    }
   },
   "outputs": [],
   "source": [
    "results_df_classification = np.round(classification_summary.append(nnc_dict),2).sort_values('Test Acc Over Baseline',ascending=False)"
   ]
  },
  {
   "cell_type": "code",
   "execution_count": null,
   "metadata": {
    "ExecuteTime": {
     "end_time": "2021-04-28T01:23:30.901262Z",
     "start_time": "2021-04-28T01:23:30.884303Z"
    }
   },
   "outputs": [],
   "source": [
    "results_df_classification.to_clipboard()"
   ]
  },
  {
   "cell_type": "markdown",
   "metadata": {},
   "source": [
    "## Export Tables to CSV to Format"
   ]
  },
  {
   "cell_type": "code",
   "execution_count": null,
   "metadata": {
    "ExecuteTime": {
     "end_time": "2020-06-10T19:58:38.819404Z",
     "start_time": "2020-06-10T19:58:38.809431Z"
    }
   },
   "outputs": [],
   "source": [
    "results_df_classification.to_csv(\"../presentation_graphics/classification_table.csv\")\n",
    "\n",
    "classification_by_campground.to_csv(\"../presentation_graphics/classification_table_campgroundnames.csv\")"
   ]
  },
  {
   "cell_type": "markdown",
   "metadata": {},
   "source": [
    "---------\n",
    "\n",
    "---------\n",
    "\n",
    "----------\n"
   ]
  },
  {
   "cell_type": "markdown",
   "metadata": {},
   "source": [
    "# Regression Models\n",
    "\n",
    "#### Predict at what time of day a campground fills up"
   ]
  },
  {
   "cell_type": "markdown",
   "metadata": {},
   "source": [
    "#### Function to Report Results by Category and Model for Regression Models"
   ]
  },
  {
   "cell_type": "code",
   "execution_count": null,
   "metadata": {
    "ExecuteTime": {
     "end_time": "2021-04-30T20:03:48.490808Z",
     "start_time": "2021-04-30T20:03:48.469814Z"
    }
   },
   "outputs": [],
   "source": [
    "def Results_by_Category_Reg(MODEL, dataframe, feature_list, label_name, group_on,sort_by):\n",
    "    \n",
    "    X = dataframe[feature_list]\n",
    "    y = dataframe[label_name]\n",
    "    \n",
    "    model_name = str(MODEL).split('(')[0]\n",
    "    \n",
    "    # Create Empty Dictionary to record scores for each category\n",
    "    grouping_scores = {}\n",
    "\n",
    "    # Add an 'All' to reflect all data points\n",
    "    if group_on != None:\n",
    "        categories = [model_name] + list(dataframe[group_on].unique())\n",
    "    else:\n",
    "        categories = [model_name]\n",
    "    \n",
    "    for category in categories:\n",
    "        \n",
    "        # Don't know a better way to do this\n",
    "        if category == model_name:\n",
    "            subset_X, subset_y = X, y\n",
    "        else:\n",
    "            subset_X_indices = dataframe.loc[dataframe[group_on]==category].index\n",
    "            subset_X = X.loc[subset_X_indices]\n",
    "            subset_y_indices = dataframe.loc[dataframe[group_on]==category].index\n",
    "            subset_y = y.loc[subset_y_indices]\n",
    "        \n",
    "        # Train Test Split specific to this group\n",
    "        subset_X_train, subset_X_test, subset_y_train, subset_y_test = train_test_split(subset_X, subset_y,\n",
    "                                                                            random_state = 111)\n",
    "        # Standard Scale\n",
    "        sc = StandardScaler()\n",
    "        subset_X_train = sc.fit_transform(subset_X_train)\n",
    "        subset_X_test = sc.transform(subset_X_test)\n",
    "\n",
    "        # Instantiate and Fit Model\n",
    "        subset_model = MODEL\n",
    "        subset_model.fit(subset_X_train, subset_y_train)\n",
    "        \n",
    "        # Generate Predictions\n",
    "        subset_predictions_train = subset_model.predict(subset_X_train)\n",
    "        subset_predictions_test = subset_model.predict(subset_X_test)\n",
    "\n",
    "        grouping_scores[category]={\n",
    "            \"Observations\":subset_y.shape[0],\n",
    "            \"Y_Bar\":subset_y.mean(),\n",
    "            \"StdDev\":subset_y.std(),\n",
    "            \"Train R2\":metric.r2_score(subset_y_train,subset_predictions_train),\n",
    "            \"Test R2\":metric.r2_score(subset_y_test,subset_predictions_test),\n",
    "            \"Train RMSE\":metric.mean_squared_error(subset_y_train,subset_predictions_train,squared=False),\n",
    "            \"Test RMSE\":metric.mean_squared_error(subset_y_test,subset_predictions_test,squared=False),\n",
    "            \"Train MAE\":metric.mean_absolute_error(subset_y_train,subset_predictions_train),\n",
    "            \"Test MAE\":metric.mean_absolute_error(subset_y_test,subset_predictions_test)\n",
    "        }\n",
    "         \n",
    "    return np.round(pd.DataFrame(grouping_scores).T,2).sort_values([sort_by],ascending=False)"
   ]
  },
  {
   "cell_type": "markdown",
   "metadata": {},
   "source": [
    "### Function to Plot Residuals"
   ]
  },
  {
   "cell_type": "code",
   "execution_count": null,
   "metadata": {
    "ExecuteTime": {
     "end_time": "2021-04-30T20:03:49.195724Z",
     "start_time": "2021-04-30T20:03:49.189514Z"
    }
   },
   "outputs": [],
   "source": [
    "def plot_residuals(true_values, predicted_values, model_text = 'model'):\n",
    "    if true_values.shape != predicted_values.shape:\n",
    "        predicted_values = predicted_values.reshape(true_values.shape)\n",
    "    errors = np.array(true_values) - np.array(predicted_values)\n",
    "    plt.figure(figsize=(9,9))    \n",
    "    plt.scatter(predicted_values, errors, s = 5)\n",
    "    plt.axhline(0, color = 'red')\n",
    "    plt.xlabel(\"Predictions\", fontsize = 20)\n",
    "    plt.ylabel(\"Residuals (Actual - Predicted)\", fontsize = 20)\n",
    "    plt.title(f'Residual Plot for {model_text}', fontsize = 24);\n",
    "    "
   ]
  },
  {
   "cell_type": "markdown",
   "metadata": {},
   "source": [
    "#### Define the dataframe of interest for Regression"
   ]
  },
  {
   "cell_type": "code",
   "execution_count": null,
   "metadata": {
    "ExecuteTime": {
     "end_time": "2021-04-30T20:03:49.697847Z",
     "start_time": "2021-04-30T20:03:49.675568Z"
    }
   },
   "outputs": [],
   "source": [
    "# To reset and undo any filters\n",
    "df_regress = df[df['did_fill']==1]\n",
    "\n",
    "# regress_filters = (df_regress['month_num']!=5)\n",
    "\n",
    "# df_regress = df_regress[regress_filters]"
   ]
  },
  {
   "cell_type": "markdown",
   "metadata": {},
   "source": [
    "#### Define X and Y for Regression with suffix 'r' to denote Regression"
   ]
  },
  {
   "cell_type": "code",
   "execution_count": null,
   "metadata": {
    "ExecuteTime": {
     "end_time": "2021-04-30T20:03:50.169181Z",
     "start_time": "2021-04-30T20:03:50.155642Z"
    }
   },
   "outputs": [],
   "source": [
    "Xr = df_regress[features]\n",
    "yr = df_regress['hours_after_midnight']"
   ]
  },
  {
   "cell_type": "markdown",
   "metadata": {},
   "source": [
    "#### Train Test Split of same"
   ]
  },
  {
   "cell_type": "code",
   "execution_count": null,
   "metadata": {
    "ExecuteTime": {
     "end_time": "2021-04-30T20:03:50.638096Z",
     "start_time": "2021-04-30T20:03:50.621776Z"
    }
   },
   "outputs": [],
   "source": [
    "Xr_train, Xr_test, yr_train, yr_test = train_test_split(Xr, yr,\n",
    "                                                   random_state = 111)"
   ]
  },
  {
   "cell_type": "markdown",
   "metadata": {},
   "source": [
    "#### Standard Scaler"
   ]
  },
  {
   "cell_type": "code",
   "execution_count": null,
   "metadata": {
    "ExecuteTime": {
     "end_time": "2021-04-30T20:03:51.232840Z",
     "start_time": "2021-04-30T20:03:51.220913Z"
    }
   },
   "outputs": [],
   "source": [
    "sc_reg = StandardScaler()\n",
    "Xr_train_sc = sc_reg.fit_transform(Xr_train)\n",
    "Xr_test_sc = sc_reg.transform(Xr_test)"
   ]
  },
  {
   "cell_type": "markdown",
   "metadata": {},
   "source": [
    "### Neural Network Regression"
   ]
  },
  {
   "cell_type": "code",
   "execution_count": null,
   "metadata": {
    "ExecuteTime": {
     "end_time": "2021-04-30T20:03:55.583717Z",
     "start_time": "2021-04-30T20:03:52.268276Z"
    }
   },
   "outputs": [],
   "source": [
    "model_NNReg = Sequential()\n",
    "\n",
    "model_NNReg.add(Dense(32, activation = 'relu',\n",
    "                      input_shape = Xr_train_sc[0].shape))\n",
    "\n",
    "model_NNReg.add(Dense(8, activation = 'relu'))\n",
    "\n",
    "model_NNReg.add(Dense(1, activation = None))\n",
    "\n",
    "model_NNReg.compile(loss = 'mean_squared_error',\n",
    "                    optimizer = 'adam')\n",
    "\n",
    "hist = model_NNReg.fit(Xr_train_sc, yr_train,\n",
    "                       epochs = 50,\n",
    "                       batch_size= 512,\n",
    "                       validation_data = (Xr_test_sc, yr_test),\n",
    "                       verbose = 0)\n",
    "\n",
    "print(f'train score {metric.r2_score(yr_train,model_NNReg.predict(Xr_train_sc))}, \\ntest score {metric.r2_score(yr_test,model_NNReg.predict(Xr_test_sc))}')"
   ]
  },
  {
   "cell_type": "markdown",
   "metadata": {
    "ExecuteTime": {
     "end_time": "2020-06-07T16:46:35.620426Z",
     "start_time": "2020-06-07T16:46:35.617434Z"
    }
   },
   "source": [
    "### Linear Regression via Sklearn"
   ]
  },
  {
   "cell_type": "code",
   "execution_count": null,
   "metadata": {
    "ExecuteTime": {
     "end_time": "2021-04-30T20:03:55.694882Z",
     "start_time": "2021-04-30T20:03:55.584715Z"
    }
   },
   "outputs": [],
   "source": [
    "linear = LinearRegression()\n",
    "linear.fit(Xr_train_sc,yr_train)\n",
    "print(f'train score {linear.score(Xr_train_sc,yr_train)}')\n",
    "print(f'test score {linear.score(Xr_test_sc,yr_test)}')"
   ]
  },
  {
   "cell_type": "markdown",
   "metadata": {},
   "source": [
    "### Ridge Regression via Sklearn"
   ]
  },
  {
   "cell_type": "code",
   "execution_count": null,
   "metadata": {
    "ExecuteTime": {
     "end_time": "2021-04-30T20:03:56.388443Z",
     "start_time": "2021-04-30T20:03:56.366445Z"
    }
   },
   "outputs": [],
   "source": [
    "ridge_model = Ridge()\n",
    "ridge_model.fit(Xr_train_sc,yr_train)\n",
    "print(f'train score {ridge_model.score(Xr_train_sc,yr_train)}')\n",
    "print(f'test score {ridge_model.score(Xr_test_sc,yr_test)}')"
   ]
  },
  {
   "cell_type": "markdown",
   "metadata": {},
   "source": [
    "### Statsmodel - Ordinary Least Squares"
   ]
  },
  {
   "cell_type": "code",
   "execution_count": null,
   "metadata": {
    "ExecuteTime": {
     "end_time": "2021-04-30T20:03:57.005620Z",
     "start_time": "2021-04-30T20:03:56.749610Z"
    },
    "scrolled": false
   },
   "outputs": [],
   "source": [
    "model_X = Xr_train\n",
    "model_X = sm.add_constant(model_X)\n",
    "model_y = yr_train\n",
    "model_OLS = sm.OLS(model_y, model_X).fit()\n",
    "\n",
    "\n",
    "plot_residuals(yr_test,\n",
    "               model_OLS.predict(sm.add_constant(Xr_test)),\n",
    "              'Stats Model OLS')\n",
    "\n",
    "model_OLS.summary()"
   ]
  },
  {
   "cell_type": "markdown",
   "metadata": {},
   "source": [
    "## Statsmodels - Gamma Regression"
   ]
  },
  {
   "cell_type": "code",
   "execution_count": null,
   "metadata": {
    "ExecuteTime": {
     "end_time": "2021-04-30T20:03:57.888643Z",
     "start_time": "2021-04-30T20:03:57.615077Z"
    },
    "scrolled": false
   },
   "outputs": [],
   "source": [
    "sm_X = Xr_train\n",
    "sm_X = sm.add_constant(sm_X)\n",
    "sm_y = yr_train\n",
    "gamma_model = sm.GLM(sm_y, sm_X, family = sm.families.Gamma(link = sm.families.links.log)).fit()\n",
    "\n",
    "gamma_train_preds = gamma_model.predict(sm.add_constant(Xr_train))\n",
    "gamma_test_preds = gamma_model.predict(sm.add_constant(Xr_test))\n",
    "\n",
    "plot_residuals(yr_test,\n",
    "               gamma_test_preds,\n",
    "              'Gamma Regression')\n",
    "\n",
    "gamma_model.summary()"
   ]
  },
  {
   "cell_type": "markdown",
   "metadata": {},
   "source": [
    "## Regression Results by Subgroup - Campground Name"
   ]
  },
  {
   "cell_type": "code",
   "execution_count": null,
   "metadata": {
    "ExecuteTime": {
     "end_time": "2021-04-30T20:04:01.234688Z",
     "start_time": "2021-04-30T20:03:58.021097Z"
    }
   },
   "outputs": [],
   "source": [
    "regression_by_campground = Results_by_Category_Reg(MODEL = SVR(),\n",
    "                                                    dataframe = df_regress,\n",
    "                                                    feature_list = features,\n",
    "                                                    label_name = 'hours_after_midnight',\n",
    "                                                    group_on = 'cg_name',\n",
    "                                                    sort_by = 'Test R2')\n",
    "\n",
    "regression_by_campground"
   ]
  },
  {
   "cell_type": "markdown",
   "metadata": {},
   "source": [
    "## Regression Model Comparison"
   ]
  },
  {
   "cell_type": "code",
   "execution_count": null,
   "metadata": {
    "ExecuteTime": {
     "end_time": "2021-04-30T20:04:05.350068Z",
     "start_time": "2021-04-30T20:04:01.235596Z"
    }
   },
   "outputs": [],
   "source": [
    "regression_model_set = [LinearRegression(),\n",
    "                        Ridge(alpha = 1.0),\n",
    "                        SVR(),\n",
    "                        AdaBoostRegressor(n_estimators = 100),\n",
    "                        KNeighborsRegressor(),\n",
    "                        model_NNReg]\n",
    "\n",
    "model_comparison = pd.DataFrame()\n",
    "\n",
    "for i in regression_model_set:\n",
    "    model_comparison = pd.concat([model_comparison,\n",
    "                              Results_by_Category_Reg(MODEL = i,\n",
    "                                dataframe = df_regress,\n",
    "                                feature_list = features,\n",
    "                                label_name = 'hours_after_midnight',\n",
    "                                group_on = None,\n",
    "                                sort_by = 'Test R2') ])\n"
   ]
  },
  {
   "cell_type": "markdown",
   "metadata": {},
   "source": [
    "#### Create same Metrics for Gamma GLM (Statsmodel instead of Sklearn)"
   ]
  },
  {
   "cell_type": "code",
   "execution_count": null,
   "metadata": {
    "ExecuteTime": {
     "end_time": "2021-04-30T20:04:13.073077Z",
     "start_time": "2021-04-30T20:04:13.055044Z"
    }
   },
   "outputs": [],
   "source": [
    "gamma_report = {\n",
    "    \"Observations\":yr.shape[0],\n",
    "    \"Y_Bar\":yr.mean(),\n",
    "    \"StdDev\":yr.std(),\n",
    "    \"Train R2\":metric.r2_score(yr_train,gamma_train_preds),\n",
    "    \"Test R2\":metric.r2_score(yr_test,gamma_test_preds),\n",
    "    \"Train RMSE\":metric.mean_squared_error(yr_train,gamma_train_preds,squared=False),\n",
    "    \"Test RMSE\":metric.mean_squared_error(yr_test,gamma_test_preds,squared=False),\n",
    "    \"Train MAE\":metric.mean_absolute_error(yr_train,gamma_train_preds),\n",
    "    \"Test MAE\":metric.mean_absolute_error(yr_test,gamma_test_preds)\n",
    "}\n",
    "\n",
    "gamma_report_df = np.round(pd.DataFrame(gamma_report,index=['Gamma GLM']),2)"
   ]
  },
  {
   "cell_type": "markdown",
   "metadata": {
    "ExecuteTime": {
     "end_time": "2020-06-08T14:00:03.513022Z",
     "start_time": "2020-06-08T14:00:03.510047Z"
    }
   },
   "source": [
    "#### Add Gamma to Summary Report"
   ]
  },
  {
   "cell_type": "code",
   "execution_count": null,
   "metadata": {
    "ExecuteTime": {
     "end_time": "2021-04-30T20:04:13.436369Z",
     "start_time": "2021-04-30T20:04:13.415372Z"
    }
   },
   "outputs": [],
   "source": [
    "regression_summary = model_comparison.append(\n",
    "    gamma_report_df).sort_values(\n",
    "    'Test R2',ascending=False)"
   ]
  },
  {
   "cell_type": "code",
   "execution_count": null,
   "metadata": {
    "ExecuteTime": {
     "end_time": "2021-04-30T20:04:13.668901Z",
     "start_time": "2021-04-30T20:04:13.654562Z"
    }
   },
   "outputs": [],
   "source": [
    "regression_summary = regression_summary.rename(\n",
    "    index={[i for i in list(regression_summary.index) if 'tensor' in i][0]:\"Neural Net Regressor\"}\n",
    ")[list(gamma_report.keys())]"
   ]
  },
  {
   "cell_type": "code",
   "execution_count": null,
   "metadata": {
    "ExecuteTime": {
     "end_time": "2021-04-30T20:04:14.034008Z",
     "start_time": "2021-04-30T20:04:14.016018Z"
    }
   },
   "outputs": [],
   "source": [
    "regression_summary"
   ]
  },
  {
   "cell_type": "markdown",
   "metadata": {},
   "source": [
    "## Export Tables to CSV to Format"
   ]
  },
  {
   "cell_type": "code",
   "execution_count": null,
   "metadata": {
    "ExecuteTime": {
     "end_time": "2021-04-30T20:04:17.236013Z",
     "start_time": "2021-04-30T20:04:17.232016Z"
    }
   },
   "outputs": [],
   "source": [
    "# regression_summary.to_csv(\"../presentation_graphics/regression_table.csv\")\n",
    "\n",
    "# regression_by_campground.to_csv(\"../presentation_graphics/regression_table_campgroundnames.csv\")"
   ]
  },
  {
   "cell_type": "markdown",
   "metadata": {},
   "source": [
    "------------\n",
    "\n",
    "-----------\n",
    "\n",
    "----------"
   ]
  },
  {
   "cell_type": "markdown",
   "metadata": {},
   "source": [
    "# SVR Deep Dive"
   ]
  },
  {
   "cell_type": "code",
   "execution_count": 30,
   "metadata": {
    "ExecuteTime": {
     "end_time": "2021-05-02T23:00:55.065920Z",
     "start_time": "2021-05-02T23:00:55.055949Z"
    }
   },
   "outputs": [],
   "source": [
    "df_regress = df[df['did_fill']==1]\n",
    "cg_select = 'Sprague Creek'\n",
    "subgroup = (df_regress['cg_name'] == cg_select) & (df_regress['year']>=2010)"
   ]
  },
  {
   "cell_type": "code",
   "execution_count": 37,
   "metadata": {
    "ExecuteTime": {
     "end_time": "2021-05-02T23:02:20.288687Z",
     "start_time": "2021-05-02T23:02:20.267688Z"
    }
   },
   "outputs": [],
   "source": [
    "def generate_svr_preds(df_regress, feature_subset, subgroup):\n",
    "\n",
    "    # Create X and Y specific to that subgroup and train-test-split\n",
    "    X = df_regress.loc[subgroup, feature_subset]\n",
    "    y = df_regress.loc[subgroup, 'hours_after_midnight']\n",
    "    X_train, X_test, y_train, y_test = train_test_split(X,y,random_state=111)\n",
    "\n",
    "    # Standard Scaler\n",
    "    sc = StandardScaler()\n",
    "    X_train_sc = sc.fit_transform(X_train)\n",
    "    X_test_sc = sc.transform(X_test)\n",
    "    X_sc = sc.transform(X)\n",
    "\n",
    "    # Instantiate SVR\n",
    "    svr = SVR()\n",
    "    svr.fit(X_train_sc, y_train)\n",
    "    preds_svr = svr.predict(X_sc)\n",
    "\n",
    "#     print(f'train score {svr.score(X_train_sc,y_train)}')\n",
    "#     print(f'test score {svr.score(X_test_sc,y_test)}')\n",
    "    \n",
    "    return preds_svr"
   ]
  },
  {
   "cell_type": "code",
   "execution_count": 42,
   "metadata": {
    "ExecuteTime": {
     "end_time": "2021-05-02T23:03:35.748987Z",
     "start_time": "2021-05-02T23:03:35.673278Z"
    }
   },
   "outputs": [],
   "source": [
    "df_svr_dive = df_regress.loc[subgroup,:].copy()\n",
    "df_svr_dive['svr_date_features'] = generate_svr_preds(df_regress, date_features, subgroup)\n",
    "df_svr_dive['svr_full_features'] = generate_svr_preds(df_regress, features, subgroup)\n",
    "\n",
    "df_svr_dive['actual_fill_time'] = df_svr_dive['hours_after_midnight']\n",
    "df_svr_dive['date_x'] = pd.to_datetime(df_svr_dive['date_x'])\n",
    "df_svr_dive.set_index('date_x', inplace=True)"
   ]
  },
  {
   "cell_type": "code",
   "execution_count": 47,
   "metadata": {
    "ExecuteTime": {
     "end_time": "2021-05-02T23:06:11.063817Z",
     "start_time": "2021-05-02T23:06:10.805769Z"
    }
   },
   "outputs": [
    {
     "data": {
      "image/png": "[encoded data removed]",
      "text/plain": [
       "<Figure size 1080x648 with 1 Axes>"
      ]
     },
     "metadata": {
      "needs_background": "light"
     },
     "output_type": "display_data"
    }
   ],
   "source": [
    "year_filter = 2016\n",
    "cg_filter = cg_select\n",
    "\n",
    "df_to_plot = df_svr_dive.loc[(df_svr_dive['year']==year_filter) & (df_svr_dive['high_season']==1)\n",
    "    ,['actual_fill_time', 'svr_date_features', 'svr_full_features']]\n",
    "\n",
    "plt.figure(figsize=(15,9))\n",
    "\n",
    "plt.title(f'{cg_filter} Campground: July & August {year_filter} \\nActual and Predicted Fill Times',\n",
    "          fontsize = 16)\n",
    "\n",
    "plt.yticks(range(6,19))\n",
    "plt.ylim(6,18)\n",
    "plt.ylabel('Time of Day (Hours after Midnight)',\n",
    "           fontsize = 14)\n",
    "\n",
    "plt.bar(x = df_to_plot.index, height = df_to_plot['actual_fill_time'],\n",
    "       label = 'Actual Fill Time',\n",
    "       color = 'skyblue')\n",
    "\n",
    "plt.plot(df_to_plot['svr_date_features'],\n",
    "         label = 'SVR - Date Features',\n",
    "         color = 'orange')\n",
    "\n",
    "plt.plot(df_to_plot['svr_full_features'],\n",
    "        label = 'SVR - Full Features',\n",
    "        color = 'black')\n",
    "\n",
    "plt.axhline(df_to_plot['actual_fill_time'].mean(), ls='--',\n",
    "           label = 'Average Fill Time across Dates Shown',\n",
    "           color = 'deepskyblue')\n",
    "plt.legend(fontsize = 12);\n",
    "\n",
    "# plt.plot(df_to_plot['actual_fill_time'],\n",
    "#          label = 'Actual Fill Time',\n",
    "#          color = 'skyblue')"
   ]
  },
  {
   "cell_type": "code",
   "execution_count": 43,
   "metadata": {
    "ExecuteTime": {
     "end_time": "2021-05-02T23:03:39.272957Z",
     "start_time": "2021-05-02T23:03:39.224986Z"
    }
   },
   "outputs": [
    {
     "data": {
      "text/html": [
       "<div>\n",
       "<style scoped>\n",
       "    .dataframe tbody tr th:only-of-type {\n",
       "        vertical-align: middle;\n",
       "    }\n",
       "\n",
       "    .dataframe tbody tr th {\n",
       "        vertical-align: top;\n",
       "    }\n",
       "\n",
       "    .dataframe thead th {\n",
       "        text-align: right;\n",
       "    }\n",
       "</style>\n",
       "<table border=\"1\" class=\"dataframe\">\n",
       "  <thead>\n",
       "    <tr style=\"text-align: right;\">\n",
       "      <th></th>\n",
       "      <th>cg_name</th>\n",
       "      <th>did_fill</th>\n",
       "      <th>available</th>\n",
       "      <th>time_24</th>\n",
       "      <th>hours_after_midnight</th>\n",
       "      <th>year</th>\n",
       "      <th>month_num</th>\n",
       "      <th>month_text</th>\n",
       "      <th>day_of_year</th>\n",
       "      <th>day_of_month</th>\n",
       "      <th>...</th>\n",
       "      <th>cg_supply_y</th>\n",
       "      <th>PRCP</th>\n",
       "      <th>SNOW</th>\n",
       "      <th>TMAX</th>\n",
       "      <th>TMIN</th>\n",
       "      <th>did_PRCP</th>\n",
       "      <th>did_SNOW</th>\n",
       "      <th>svr_date_features</th>\n",
       "      <th>svr_full_features</th>\n",
       "      <th>actual_fill_time</th>\n",
       "    </tr>\n",
       "    <tr>\n",
       "      <th>date_x</th>\n",
       "      <th></th>\n",
       "      <th></th>\n",
       "      <th></th>\n",
       "      <th></th>\n",
       "      <th></th>\n",
       "      <th></th>\n",
       "      <th></th>\n",
       "      <th></th>\n",
       "      <th></th>\n",
       "      <th></th>\n",
       "      <th></th>\n",
       "      <th></th>\n",
       "      <th></th>\n",
       "      <th></th>\n",
       "      <th></th>\n",
       "      <th></th>\n",
       "      <th></th>\n",
       "      <th></th>\n",
       "      <th></th>\n",
       "      <th></th>\n",
       "      <th></th>\n",
       "    </tr>\n",
       "  </thead>\n",
       "  <tbody>\n",
       "    <tr>\n",
       "      <th>2010-06-12</th>\n",
       "      <td>Sprague Creek</td>\n",
       "      <td>1</td>\n",
       "      <td>1</td>\n",
       "      <td>19:37</td>\n",
       "      <td>19.62</td>\n",
       "      <td>2010</td>\n",
       "      <td>6</td>\n",
       "      <td>Jun</td>\n",
       "      <td>163</td>\n",
       "      <td>12</td>\n",
       "      <td>...</td>\n",
       "      <td>886</td>\n",
       "      <td>0.00</td>\n",
       "      <td>0.0</td>\n",
       "      <td>70.0</td>\n",
       "      <td>35.0</td>\n",
       "      <td>0</td>\n",
       "      <td>0</td>\n",
       "      <td>16.449636</td>\n",
       "      <td>17.228329</td>\n",
       "      <td>19.62</td>\n",
       "    </tr>\n",
       "    <tr>\n",
       "      <th>2010-06-22</th>\n",
       "      <td>Sprague Creek</td>\n",
       "      <td>1</td>\n",
       "      <td>1</td>\n",
       "      <td>17:40</td>\n",
       "      <td>17.67</td>\n",
       "      <td>2010</td>\n",
       "      <td>6</td>\n",
       "      <td>Jun</td>\n",
       "      <td>173</td>\n",
       "      <td>22</td>\n",
       "      <td>...</td>\n",
       "      <td>973</td>\n",
       "      <td>0.10</td>\n",
       "      <td>0.0</td>\n",
       "      <td>62.0</td>\n",
       "      <td>49.0</td>\n",
       "      <td>1</td>\n",
       "      <td>0</td>\n",
       "      <td>17.120188</td>\n",
       "      <td>18.499317</td>\n",
       "      <td>17.67</td>\n",
       "    </tr>\n",
       "    <tr>\n",
       "      <th>2010-06-23</th>\n",
       "      <td>Sprague Creek</td>\n",
       "      <td>1</td>\n",
       "      <td>1</td>\n",
       "      <td>19:15</td>\n",
       "      <td>19.25</td>\n",
       "      <td>2010</td>\n",
       "      <td>6</td>\n",
       "      <td>Jun</td>\n",
       "      <td>174</td>\n",
       "      <td>23</td>\n",
       "      <td>...</td>\n",
       "      <td>973</td>\n",
       "      <td>0.00</td>\n",
       "      <td>0.0</td>\n",
       "      <td>74.0</td>\n",
       "      <td>43.0</td>\n",
       "      <td>0</td>\n",
       "      <td>0</td>\n",
       "      <td>17.120188</td>\n",
       "      <td>18.168661</td>\n",
       "      <td>19.25</td>\n",
       "    </tr>\n",
       "    <tr>\n",
       "      <th>2010-06-24</th>\n",
       "      <td>Sprague Creek</td>\n",
       "      <td>1</td>\n",
       "      <td>1</td>\n",
       "      <td>18:46</td>\n",
       "      <td>18.77</td>\n",
       "      <td>2010</td>\n",
       "      <td>6</td>\n",
       "      <td>Jun</td>\n",
       "      <td>175</td>\n",
       "      <td>24</td>\n",
       "      <td>...</td>\n",
       "      <td>973</td>\n",
       "      <td>0.00</td>\n",
       "      <td>0.0</td>\n",
       "      <td>78.0</td>\n",
       "      <td>47.0</td>\n",
       "      <td>0</td>\n",
       "      <td>0</td>\n",
       "      <td>15.820033</td>\n",
       "      <td>16.596137</td>\n",
       "      <td>18.77</td>\n",
       "    </tr>\n",
       "    <tr>\n",
       "      <th>2010-06-28</th>\n",
       "      <td>Sprague Creek</td>\n",
       "      <td>1</td>\n",
       "      <td>1</td>\n",
       "      <td>17:21</td>\n",
       "      <td>17.35</td>\n",
       "      <td>2010</td>\n",
       "      <td>6</td>\n",
       "      <td>Jun</td>\n",
       "      <td>179</td>\n",
       "      <td>28</td>\n",
       "      <td>...</td>\n",
       "      <td>973</td>\n",
       "      <td>0.00</td>\n",
       "      <td>0.0</td>\n",
       "      <td>82.0</td>\n",
       "      <td>47.0</td>\n",
       "      <td>0</td>\n",
       "      <td>0</td>\n",
       "      <td>15.820033</td>\n",
       "      <td>15.699851</td>\n",
       "      <td>17.35</td>\n",
       "    </tr>\n",
       "    <tr>\n",
       "      <th>...</th>\n",
       "      <td>...</td>\n",
       "      <td>...</td>\n",
       "      <td>...</td>\n",
       "      <td>...</td>\n",
       "      <td>...</td>\n",
       "      <td>...</td>\n",
       "      <td>...</td>\n",
       "      <td>...</td>\n",
       "      <td>...</td>\n",
       "      <td>...</td>\n",
       "      <td>...</td>\n",
       "      <td>...</td>\n",
       "      <td>...</td>\n",
       "      <td>...</td>\n",
       "      <td>...</td>\n",
       "      <td>...</td>\n",
       "      <td>...</td>\n",
       "      <td>...</td>\n",
       "      <td>...</td>\n",
       "      <td>...</td>\n",
       "      <td>...</td>\n",
       "    </tr>\n",
       "    <tr>\n",
       "      <th>2019-09-08</th>\n",
       "      <td>Sprague Creek</td>\n",
       "      <td>1</td>\n",
       "      <td>1</td>\n",
       "      <td>11:08</td>\n",
       "      <td>11.13</td>\n",
       "      <td>2019</td>\n",
       "      <td>9</td>\n",
       "      <td>Sep</td>\n",
       "      <td>251</td>\n",
       "      <td>8</td>\n",
       "      <td>...</td>\n",
       "      <td>809</td>\n",
       "      <td>0.00</td>\n",
       "      <td>0.0</td>\n",
       "      <td>73.0</td>\n",
       "      <td>49.0</td>\n",
       "      <td>0</td>\n",
       "      <td>0</td>\n",
       "      <td>15.820033</td>\n",
       "      <td>15.111751</td>\n",
       "      <td>11.13</td>\n",
       "    </tr>\n",
       "    <tr>\n",
       "      <th>2019-09-10</th>\n",
       "      <td>Sprague Creek</td>\n",
       "      <td>1</td>\n",
       "      <td>1</td>\n",
       "      <td>15:43</td>\n",
       "      <td>15.72</td>\n",
       "      <td>2019</td>\n",
       "      <td>9</td>\n",
       "      <td>Sep</td>\n",
       "      <td>253</td>\n",
       "      <td>10</td>\n",
       "      <td>...</td>\n",
       "      <td>809</td>\n",
       "      <td>0.11</td>\n",
       "      <td>0.0</td>\n",
       "      <td>59.0</td>\n",
       "      <td>47.0</td>\n",
       "      <td>1</td>\n",
       "      <td>0</td>\n",
       "      <td>15.820033</td>\n",
       "      <td>17.476557</td>\n",
       "      <td>15.72</td>\n",
       "    </tr>\n",
       "    <tr>\n",
       "      <th>2019-09-11</th>\n",
       "      <td>Sprague Creek</td>\n",
       "      <td>1</td>\n",
       "      <td>1</td>\n",
       "      <td>12:15</td>\n",
       "      <td>12.25</td>\n",
       "      <td>2019</td>\n",
       "      <td>9</td>\n",
       "      <td>Sep</td>\n",
       "      <td>254</td>\n",
       "      <td>11</td>\n",
       "      <td>...</td>\n",
       "      <td>809</td>\n",
       "      <td>0.00</td>\n",
       "      <td>0.0</td>\n",
       "      <td>64.0</td>\n",
       "      <td>46.0</td>\n",
       "      <td>0</td>\n",
       "      <td>0</td>\n",
       "      <td>15.820033</td>\n",
       "      <td>15.433598</td>\n",
       "      <td>12.25</td>\n",
       "    </tr>\n",
       "    <tr>\n",
       "      <th>2019-09-12</th>\n",
       "      <td>Sprague Creek</td>\n",
       "      <td>1</td>\n",
       "      <td>1</td>\n",
       "      <td>11:41</td>\n",
       "      <td>11.68</td>\n",
       "      <td>2019</td>\n",
       "      <td>9</td>\n",
       "      <td>Sep</td>\n",
       "      <td>255</td>\n",
       "      <td>12</td>\n",
       "      <td>...</td>\n",
       "      <td>809</td>\n",
       "      <td>0.00</td>\n",
       "      <td>0.0</td>\n",
       "      <td>64.0</td>\n",
       "      <td>42.0</td>\n",
       "      <td>0</td>\n",
       "      <td>0</td>\n",
       "      <td>15.820033</td>\n",
       "      <td>16.114453</td>\n",
       "      <td>11.68</td>\n",
       "    </tr>\n",
       "    <tr>\n",
       "      <th>2019-09-13</th>\n",
       "      <td>Sprague Creek</td>\n",
       "      <td>1</td>\n",
       "      <td>1</td>\n",
       "      <td>11:45</td>\n",
       "      <td>11.75</td>\n",
       "      <td>2019</td>\n",
       "      <td>9</td>\n",
       "      <td>Sep</td>\n",
       "      <td>256</td>\n",
       "      <td>13</td>\n",
       "      <td>...</td>\n",
       "      <td>809</td>\n",
       "      <td>0.01</td>\n",
       "      <td>0.0</td>\n",
       "      <td>68.0</td>\n",
       "      <td>44.0</td>\n",
       "      <td>1</td>\n",
       "      <td>0</td>\n",
       "      <td>14.813187</td>\n",
       "      <td>15.510449</td>\n",
       "      <td>11.75</td>\n",
       "    </tr>\n",
       "  </tbody>\n",
       "</table>\n",
       "<p>819 rows × 39 columns</p>\n",
       "</div>"
      ],
      "text/plain": [
       "                  cg_name  did_fill  available time_24  hours_after_midnight  \\\n",
       "date_x                                                                         \n",
       "2010-06-12  Sprague Creek         1          1   19:37                 19.62   \n",
       "2010-06-22  Sprague Creek         1          1   17:40                 17.67   \n",
       "2010-06-23  Sprague Creek         1          1   19:15                 19.25   \n",
       "2010-06-24  Sprague Creek         1          1   18:46                 18.77   \n",
       "2010-06-28  Sprague Creek         1          1   17:21                 17.35   \n",
       "...                   ...       ...        ...     ...                   ...   \n",
       "2019-09-08  Sprague Creek         1          1   11:08                 11.13   \n",
       "2019-09-10  Sprague Creek         1          1   15:43                 15.72   \n",
       "2019-09-11  Sprague Creek         1          1   12:15                 12.25   \n",
       "2019-09-12  Sprague Creek         1          1   11:41                 11.68   \n",
       "2019-09-13  Sprague Creek         1          1   11:45                 11.75   \n",
       "\n",
       "            year  month_num month_text  day_of_year  day_of_month  ...  \\\n",
       "date_x                                                             ...   \n",
       "2010-06-12  2010          6        Jun          163            12  ...   \n",
       "2010-06-22  2010          6        Jun          173            22  ...   \n",
       "2010-06-23  2010          6        Jun          174            23  ...   \n",
       "2010-06-24  2010          6        Jun          175            24  ...   \n",
       "2010-06-28  2010          6        Jun          179            28  ...   \n",
       "...          ...        ...        ...          ...           ...  ...   \n",
       "2019-09-08  2019          9        Sep          251             8  ...   \n",
       "2019-09-10  2019          9        Sep          253            10  ...   \n",
       "2019-09-11  2019          9        Sep          254            11  ...   \n",
       "2019-09-12  2019          9        Sep          255            12  ...   \n",
       "2019-09-13  2019          9        Sep          256            13  ...   \n",
       "\n",
       "           cg_supply_y  PRCP  SNOW  TMAX  TMIN  did_PRCP  did_SNOW  \\\n",
       "date_x                                                               \n",
       "2010-06-12         886  0.00   0.0  70.0  35.0         0         0   \n",
       "2010-06-22         973  0.10   0.0  62.0  49.0         1         0   \n",
       "2010-06-23         973  0.00   0.0  74.0  43.0         0         0   \n",
       "2010-06-24         973  0.00   0.0  78.0  47.0         0         0   \n",
       "2010-06-28         973  0.00   0.0  82.0  47.0         0         0   \n",
       "...                ...   ...   ...   ...   ...       ...       ...   \n",
       "2019-09-08         809  0.00   0.0  73.0  49.0         0         0   \n",
       "2019-09-10         809  0.11   0.0  59.0  47.0         1         0   \n",
       "2019-09-11         809  0.00   0.0  64.0  46.0         0         0   \n",
       "2019-09-12         809  0.00   0.0  64.0  42.0         0         0   \n",
       "2019-09-13         809  0.01   0.0  68.0  44.0         1         0   \n",
       "\n",
       "            svr_date_features  svr_full_features  actual_fill_time  \n",
       "date_x                                                              \n",
       "2010-06-12          16.449636          17.228329             19.62  \n",
       "2010-06-22          17.120188          18.499317             17.67  \n",
       "2010-06-23          17.120188          18.168661             19.25  \n",
       "2010-06-24          15.820033          16.596137             18.77  \n",
       "2010-06-28          15.820033          15.699851             17.35  \n",
       "...                       ...                ...               ...  \n",
       "2019-09-08          15.820033          15.111751             11.13  \n",
       "2019-09-10          15.820033          17.476557             15.72  \n",
       "2019-09-11          15.820033          15.433598             12.25  \n",
       "2019-09-12          15.820033          16.114453             11.68  \n",
       "2019-09-13          14.813187          15.510449             11.75  \n",
       "\n",
       "[819 rows x 39 columns]"
      ]
     },
     "execution_count": 43,
     "metadata": {},
     "output_type": "execute_result"
    }
   ],
   "source": [
    "df_svr_dive"
   ]
  },
  {
   "cell_type": "markdown",
   "metadata": {},
   "source": [
    "-------------\n",
    "\n",
    "# Graphics\n",
    "\n",
    "--------"
   ]
  },
  {
   "cell_type": "code",
   "execution_count": null,
   "metadata": {
    "ExecuteTime": {
     "end_time": "2021-04-30T20:04:18.348828Z",
     "start_time": "2021-04-30T20:04:18.307829Z"
    }
   },
   "outputs": [],
   "source": [
    "df.loc[df['high_season']==1,:].groupby('cg_name').sum()"
   ]
  },
  {
   "cell_type": "code",
   "execution_count": null,
   "metadata": {
    "ExecuteTime": {
     "end_time": "2021-04-30T20:13:38.226210Z",
     "start_time": "2021-04-30T20:13:38.221211Z"
    }
   },
   "outputs": [],
   "source": [
    "cg_select = 'Sprague Creek'\n",
    "subgroup = (df_regress['cg_name'] == cg_select)\n",
    "\n"
   ]
  },
  {
   "cell_type": "code",
   "execution_count": null,
   "metadata": {},
   "outputs": [],
   "source": []
  },
  {
   "cell_type": "markdown",
   "metadata": {},
   "source": [
    "#### Identify the subgroup of interest"
   ]
  },
  {
   "cell_type": "code",
   "execution_count": 90,
   "metadata": {
    "ExecuteTime": {
     "end_time": "2021-05-02T23:19:42.547479Z",
     "start_time": "2021-05-02T23:19:42.532480Z"
    }
   },
   "outputs": [],
   "source": [
    "cg_select = 'Sprague Creek'\n",
    "\n",
    "subgroup = (df_regress['cg_name'] == cg_select) #& (df_regress['year']==2016)\n",
    "\n",
    "# Create X and Y specific to that subgroup and train-test-split\n",
    "X = df_regress.loc[subgroup, features]\n",
    "y = df_regress.loc[subgroup, 'hours_after_midnight']\n",
    "X_train, X_test, y_train, y_test = train_test_split(X,y,random_state=111)\n",
    "\n",
    "# Standard Scaler\n",
    "sc = StandardScaler()\n",
    "X_train_sc = sc.fit_transform(X_train)\n",
    "X_test_sc = sc.transform(X_test)\n",
    "X_sc = sc.transform(X)"
   ]
  },
  {
   "cell_type": "code",
   "execution_count": 89,
   "metadata": {
    "ExecuteTime": {
     "end_time": "2021-05-02T23:19:26.830121Z",
     "start_time": "2021-05-02T23:19:26.739395Z"
    }
   },
   "outputs": [
    {
     "name": "stdout",
     "output_type": "stream",
     "text": [
      "train score 0.21141461775816994\n",
      "test score 0.2289210386617332\n"
     ]
    }
   ],
   "source": [
    "feature_subset = date_features\n",
    "\n",
    "# Create X and Y specific to that subgroupd and train-test-split\n",
    "X = df_regress.loc[subgroup, feature_subset]\n",
    "y = df_regress.loc[subgroup, 'hours_after_midnight']\n",
    "X_train, X_test, y_train, y_test = train_test_split(X,y,random_state=111)\n",
    "\n",
    "# Standard Scaler\n",
    "sc = StandardScaler()\n",
    "X_train_sc = sc.fit_transform(X_train)\n",
    "X_test_sc = sc.transform(X_test)\n",
    "X_sc = sc.transform(X)\n",
    "\n",
    "# Instantiate SVR\n",
    "svr_date = SVR()\n",
    "svr_date.fit(X_train_sc, y_train)\n",
    "preds_svr_date = svr_date.predict(X_sc)\n",
    "\n",
    "print(f'train score {svr_date.score(X_train_sc,y_train)}')\n",
    "print(f'test score {svr_date.score(X_test_sc,y_test)}')"
   ]
  },
  {
   "cell_type": "code",
   "execution_count": 91,
   "metadata": {
    "ExecuteTime": {
     "end_time": "2021-05-02T23:19:43.918627Z",
     "start_time": "2021-05-02T23:19:43.774473Z"
    }
   },
   "outputs": [
    {
     "name": "stdout",
     "output_type": "stream",
     "text": [
      "train score 0.5309767142210391\n",
      "test score 0.5017960381004137\n"
     ]
    }
   ],
   "source": [
    "svr = SVR()\n",
    "svr.fit(X_train_sc, y_train)\n",
    "preds_svr = svr.predict(X_sc)\n",
    "\n",
    "print(f'train score {svr.score(X_train_sc,y_train)}')\n",
    "print(f'test score {svr.score(X_test_sc,y_test)}')"
   ]
  },
  {
   "cell_type": "markdown",
   "metadata": {},
   "source": [
    "#### Support Vector Regression"
   ]
  },
  {
   "cell_type": "markdown",
   "metadata": {},
   "source": [
    "#### Vanilla Linear"
   ]
  },
  {
   "cell_type": "code",
   "execution_count": 92,
   "metadata": {
    "ExecuteTime": {
     "end_time": "2021-05-02T23:19:46.292836Z",
     "start_time": "2021-05-02T23:19:46.253839Z"
    }
   },
   "outputs": [
    {
     "name": "stdout",
     "output_type": "stream",
     "text": [
      "train score 0.48736619299081185\n",
      "test score 0.4799775131068842\n"
     ]
    }
   ],
   "source": [
    "lin_x = X_train\n",
    "lin_x = sm.add_constant(lin_x)\n",
    "lin_y = y_train\n",
    "\n",
    "lin_model = sm.OLS(lin_y, lin_x).fit()\n",
    "\n",
    "lin_train_preds = lin_model.predict(sm.add_constant(X_train))\n",
    "lin_test_preds = lin_model.predict(sm.add_constant(X_test))\n",
    "preds_lin = lin_model.predict(sm.add_constant(X))\n",
    "\n",
    "print(f'train score {metric.r2_score(y_train, lin_train_preds)}')\n",
    "print(f'test score {metric.r2_score(y_test, lin_test_preds)}')"
   ]
  },
  {
   "cell_type": "code",
   "execution_count": 93,
   "metadata": {
    "ExecuteTime": {
     "end_time": "2021-05-02T23:19:46.577248Z",
     "start_time": "2021-05-02T23:19:46.544238Z"
    }
   },
   "outputs": [
    {
     "name": "stderr",
     "output_type": "stream",
     "text": [
      "C:\\Users\\zacha\\anaconda3\\lib\\site-packages\\statsmodels\\regression\\linear_model.py:1827: RuntimeWarning: divide by zero encountered in double_scalars\n",
      "  return np.sqrt(eigvals[0]/eigvals[-1])\n",
      "C:\\Users\\zacha\\anaconda3\\lib\\site-packages\\statsmodels\\base\\model.py:1362: RuntimeWarning: invalid value encountered in true_divide\n",
      "  return self.params / self.bse\n",
      "C:\\Users\\zacha\\anaconda3\\lib\\site-packages\\scipy\\stats\\_distn_infrastructure.py:903: RuntimeWarning: invalid value encountered in greater\n",
      "  return (a < x) & (x < b)\n",
      "C:\\Users\\zacha\\anaconda3\\lib\\site-packages\\scipy\\stats\\_distn_infrastructure.py:903: RuntimeWarning: invalid value encountered in less\n",
      "  return (a < x) & (x < b)\n",
      "C:\\Users\\zacha\\anaconda3\\lib\\site-packages\\scipy\\stats\\_distn_infrastructure.py:1912: RuntimeWarning: invalid value encountered in less_equal\n",
      "  cond2 = cond0 & (x <= _a)\n"
     ]
    },
    {
     "data": {
      "text/html": [
       "<table class=\"simpletable\">\n",
       "<caption>OLS Regression Results</caption>\n",
       "<tr>\n",
       "  <th>Dep. Variable:</th>    <td>hours_after_midnight</td> <th>  R-squared:         </th> <td>   0.487</td> \n",
       "</tr>\n",
       "<tr>\n",
       "  <th>Model:</th>                     <td>OLS</td>         <th>  Adj. R-squared:    </th> <td>   0.481</td> \n",
       "</tr>\n",
       "<tr>\n",
       "  <th>Method:</th>               <td>Least Squares</td>    <th>  F-statistic:       </th> <td>   73.48</td> \n",
       "</tr>\n",
       "<tr>\n",
       "  <th>Date:</th>               <td>Sun, 02 May 2021</td>   <th>  Prob (F-statistic):</th> <td>4.97e-146</td>\n",
       "</tr>\n",
       "<tr>\n",
       "  <th>Time:</th>                   <td>17:19:46</td>       <th>  Log-Likelihood:    </th> <td> -2530.0</td> \n",
       "</tr>\n",
       "<tr>\n",
       "  <th>No. Observations:</th>        <td>  1097</td>        <th>  AIC:               </th> <td>   5090.</td> \n",
       "</tr>\n",
       "<tr>\n",
       "  <th>Df Residuals:</th>            <td>  1082</td>        <th>  BIC:               </th> <td>   5165.</td> \n",
       "</tr>\n",
       "<tr>\n",
       "  <th>Df Model:</th>                <td>    14</td>        <th>                     </th>     <td> </td>    \n",
       "</tr>\n",
       "<tr>\n",
       "  <th>Covariance Type:</th>        <td>nonrobust</td>      <th>                     </th>     <td> </td>    \n",
       "</tr>\n",
       "</table>\n",
       "<table class=\"simpletable\">\n",
       "<tr>\n",
       "       <td></td>          <th>coef</th>     <th>std err</th>      <th>t</th>      <th>P>|t|</th>  <th>[0.025</th>    <th>0.975]</th>  \n",
       "</tr>\n",
       "<tr>\n",
       "  <th>high_season</th> <td>    0.3105</td> <td>    0.268</td> <td>    1.157</td> <td> 0.247</td> <td>   -0.216</td> <td>    0.837</td>\n",
       "</tr>\n",
       "<tr>\n",
       "  <th>weekend</th>     <td>   -0.6236</td> <td>    0.161</td> <td>   -3.874</td> <td> 0.000</td> <td>   -0.939</td> <td>   -0.308</td>\n",
       "</tr>\n",
       "<tr>\n",
       "  <th>holiday</th>     <td>    1.0919</td> <td>    0.425</td> <td>    2.568</td> <td> 0.010</td> <td>    0.257</td> <td>    1.926</td>\n",
       "</tr>\n",
       "<tr>\n",
       "  <th>logan_pass</th>  <td>   -0.8500</td> <td>    0.291</td> <td>   -2.918</td> <td> 0.004</td> <td>   -1.422</td> <td>   -0.278</td>\n",
       "</tr>\n",
       "<tr>\n",
       "  <th>aqi</th>         <td>   -0.0163</td> <td>    0.011</td> <td>   -1.528</td> <td> 0.127</td> <td>   -0.037</td> <td>    0.005</td>\n",
       "</tr>\n",
       "<tr>\n",
       "  <th>ozone</th>       <td>    0.0114</td> <td>    0.014</td> <td>    0.793</td> <td> 0.428</td> <td>   -0.017</td> <td>    0.040</td>\n",
       "</tr>\n",
       "<tr>\n",
       "  <th>PM10</th>        <td>    0.0027</td> <td>    0.010</td> <td>    0.257</td> <td> 0.797</td> <td>   -0.018</td> <td>    0.023</td>\n",
       "</tr>\n",
       "<tr>\n",
       "  <th>PM25</th>        <td>    0.0210</td> <td>    0.008</td> <td>    2.633</td> <td> 0.009</td> <td>    0.005</td> <td>    0.037</td>\n",
       "</tr>\n",
       "<tr>\n",
       "  <th>visits</th>      <td>-1.281e-05</td> <td> 5.98e-07</td> <td>  -21.419</td> <td> 0.000</td> <td> -1.4e-05</td> <td>-1.16e-05</td>\n",
       "</tr>\n",
       "<tr>\n",
       "  <th>sites</th>       <td>    0.9053</td> <td>    0.044</td> <td>   20.472</td> <td> 0.000</td> <td>    0.819</td> <td>    0.992</td>\n",
       "</tr>\n",
       "<tr>\n",
       "  <th>showers</th>     <td>  6.62e-16</td> <td> 2.46e-16</td> <td>    2.689</td> <td> 0.007</td> <td> 1.79e-16</td> <td> 1.15e-15</td>\n",
       "</tr>\n",
       "<tr>\n",
       "  <th>primitive</th>   <td>-5.973e-17</td> <td> 3.87e-17</td> <td>   -1.543</td> <td> 0.123</td> <td>-1.36e-16</td> <td> 1.62e-17</td>\n",
       "</tr>\n",
       "<tr>\n",
       "  <th>cg_supply_y</th> <td>    0.0048</td> <td>    0.001</td> <td>    4.813</td> <td> 0.000</td> <td>    0.003</td> <td>    0.007</td>\n",
       "</tr>\n",
       "<tr>\n",
       "  <th>PRCP</th>        <td>    0.7037</td> <td>    0.729</td> <td>    0.965</td> <td> 0.335</td> <td>   -0.727</td> <td>    2.135</td>\n",
       "</tr>\n",
       "<tr>\n",
       "  <th>SNOW</th>        <td> 1.213e-16</td> <td> 1.64e-16</td> <td>    0.738</td> <td> 0.460</td> <td>-2.01e-16</td> <td> 4.43e-16</td>\n",
       "</tr>\n",
       "<tr>\n",
       "  <th>TMAX</th>        <td>   -0.0615</td> <td>    0.014</td> <td>   -4.405</td> <td> 0.000</td> <td>   -0.089</td> <td>   -0.034</td>\n",
       "</tr>\n",
       "<tr>\n",
       "  <th>TMIN</th>        <td>   -0.0202</td> <td>    0.015</td> <td>   -1.378</td> <td> 0.168</td> <td>   -0.049</td> <td>    0.009</td>\n",
       "</tr>\n",
       "<tr>\n",
       "  <th>did_PRCP</th>    <td>    0.3951</td> <td>    0.225</td> <td>    1.757</td> <td> 0.079</td> <td>   -0.046</td> <td>    0.836</td>\n",
       "</tr>\n",
       "<tr>\n",
       "  <th>did_SNOW</th>    <td>         0</td> <td>        0</td> <td>      nan</td> <td>   nan</td> <td>        0</td> <td>        0</td>\n",
       "</tr>\n",
       "</table>\n",
       "<table class=\"simpletable\">\n",
       "<tr>\n",
       "  <th>Omnibus:</th>       <td>36.393</td> <th>  Durbin-Watson:     </th> <td>   2.005</td>\n",
       "</tr>\n",
       "<tr>\n",
       "  <th>Prob(Omnibus):</th> <td> 0.000</td> <th>  Jarque-Bera (JB):  </th> <td>  39.195</td>\n",
       "</tr>\n",
       "<tr>\n",
       "  <th>Skew:</th>          <td> 0.457</td> <th>  Prob(JB):          </th> <td>3.08e-09</td>\n",
       "</tr>\n",
       "<tr>\n",
       "  <th>Kurtosis:</th>      <td> 3.145</td> <th>  Cond. No.          </th> <td>     inf</td>\n",
       "</tr>\n",
       "</table><br/><br/>Warnings:<br/>[1] Standard Errors assume that the covariance matrix of the errors is correctly specified.<br/>[2] The smallest eigenvalue is      0. This might indicate that there are<br/>strong multicollinearity problems or that the design matrix is singular."
      ],
      "text/plain": [
       "<class 'statsmodels.iolib.summary.Summary'>\n",
       "\"\"\"\n",
       "                             OLS Regression Results                             \n",
       "================================================================================\n",
       "Dep. Variable:     hours_after_midnight   R-squared:                       0.487\n",
       "Model:                              OLS   Adj. R-squared:                  0.481\n",
       "Method:                   Least Squares   F-statistic:                     73.48\n",
       "Date:                  Sun, 02 May 2021   Prob (F-statistic):          4.97e-146\n",
       "Time:                          17:19:46   Log-Likelihood:                -2530.0\n",
       "No. Observations:                  1097   AIC:                             5090.\n",
       "Df Residuals:                      1082   BIC:                             5165.\n",
       "Df Model:                            14                                         \n",
       "Covariance Type:              nonrobust                                         \n",
       "===============================================================================\n",
       "                  coef    std err          t      P>|t|      [0.025      0.975]\n",
       "-------------------------------------------------------------------------------\n",
       "high_season     0.3105      0.268      1.157      0.247      -0.216       0.837\n",
       "weekend        -0.6236      0.161     -3.874      0.000      -0.939      -0.308\n",
       "holiday         1.0919      0.425      2.568      0.010       0.257       1.926\n",
       "logan_pass     -0.8500      0.291     -2.918      0.004      -1.422      -0.278\n",
       "aqi            -0.0163      0.011     -1.528      0.127      -0.037       0.005\n",
       "ozone           0.0114      0.014      0.793      0.428      -0.017       0.040\n",
       "PM10            0.0027      0.010      0.257      0.797      -0.018       0.023\n",
       "PM25            0.0210      0.008      2.633      0.009       0.005       0.037\n",
       "visits      -1.281e-05   5.98e-07    -21.419      0.000    -1.4e-05   -1.16e-05\n",
       "sites           0.9053      0.044     20.472      0.000       0.819       0.992\n",
       "showers       6.62e-16   2.46e-16      2.689      0.007    1.79e-16    1.15e-15\n",
       "primitive   -5.973e-17   3.87e-17     -1.543      0.123   -1.36e-16    1.62e-17\n",
       "cg_supply_y     0.0048      0.001      4.813      0.000       0.003       0.007\n",
       "PRCP            0.7037      0.729      0.965      0.335      -0.727       2.135\n",
       "SNOW         1.213e-16   1.64e-16      0.738      0.460   -2.01e-16    4.43e-16\n",
       "TMAX           -0.0615      0.014     -4.405      0.000      -0.089      -0.034\n",
       "TMIN           -0.0202      0.015     -1.378      0.168      -0.049       0.009\n",
       "did_PRCP        0.3951      0.225      1.757      0.079      -0.046       0.836\n",
       "did_SNOW             0          0        nan        nan           0           0\n",
       "==============================================================================\n",
       "Omnibus:                       36.393   Durbin-Watson:                   2.005\n",
       "Prob(Omnibus):                  0.000   Jarque-Bera (JB):               39.195\n",
       "Skew:                           0.457   Prob(JB):                     3.08e-09\n",
       "Kurtosis:                       3.145   Cond. No.                          inf\n",
       "==============================================================================\n",
       "\n",
       "Warnings:\n",
       "[1] Standard Errors assume that the covariance matrix of the errors is correctly specified.\n",
       "[2] The smallest eigenvalue is      0. This might indicate that there are\n",
       "strong multicollinearity problems or that the design matrix is singular.\n",
       "\"\"\""
      ]
     },
     "execution_count": 93,
     "metadata": {},
     "output_type": "execute_result"
    }
   ],
   "source": [
    "lin_model.summary()"
   ]
  },
  {
   "cell_type": "markdown",
   "metadata": {},
   "source": [
    "#### Gamma Regression"
   ]
  },
  {
   "cell_type": "code",
   "execution_count": 94,
   "metadata": {
    "ExecuteTime": {
     "end_time": "2021-05-02T23:19:48.014188Z",
     "start_time": "2021-05-02T23:19:47.949007Z"
    }
   },
   "outputs": [
    {
     "name": "stdout",
     "output_type": "stream",
     "text": [
      "train score 0.4664163514442141\n",
      "test score 0.45322745996496494\n"
     ]
    },
    {
     "name": "stderr",
     "output_type": "stream",
     "text": [
      "C:\\Users\\zacha\\anaconda3\\lib\\site-packages\\ipykernel_launcher.py:4: DeprecationWarning: Calling Family(..) with a link class as argument is deprecated.\n",
      "Use an instance of a link class instead.\n",
      "  after removing the cwd from sys.path.\n"
     ]
    }
   ],
   "source": [
    "sm_X = X_train\n",
    "sm_X = sm.add_constant(sm_X)\n",
    "sm_y = y_train\n",
    "gamma_model = sm.GLM(sm_y, sm_X, family = sm.families.Gamma(link = sm.families.links.log)).fit()\n",
    "\n",
    "gamma_train_preds = gamma_model.predict(sm.add_constant(X_train))\n",
    "gamma_test_preds = gamma_model.predict(sm.add_constant(X_test))\n",
    "preds_gamma = gamma_model.predict(sm.add_constant(X))\n",
    "\n",
    "print(f'train score {metric.r2_score(y_train,gamma_train_preds)}')\n",
    "print(f'test score {metric.r2_score(y_test,gamma_test_preds)}')"
   ]
  },
  {
   "cell_type": "code",
   "execution_count": 95,
   "metadata": {
    "ExecuteTime": {
     "end_time": "2021-05-02T23:19:48.621364Z",
     "start_time": "2021-05-02T23:19:48.613402Z"
    }
   },
   "outputs": [],
   "source": [
    "# gamma_model.summary()"
   ]
  },
  {
   "cell_type": "markdown",
   "metadata": {},
   "source": [
    "#### Create Dataframe to view these Predictions"
   ]
  },
  {
   "cell_type": "code",
   "execution_count": 96,
   "metadata": {
    "ExecuteTime": {
     "end_time": "2021-05-02T23:19:54.025072Z",
     "start_time": "2021-05-02T23:19:54.007041Z"
    }
   },
   "outputs": [],
   "source": [
    "df_subgroup = df_regress.loc[subgroup,:].copy()\n",
    "df_subgroup['svr_predictions'] = preds_svr\n",
    "# df_subgroup['gamma_predictions'] = preds_gamma\n",
    "# df_subgroup['OLS_predictions'] = preds_lin\n",
    "df_subgroup['actual_fill_time'] = df_subgroup['hours_after_midnight']\n",
    "\n",
    "df_subgroup['date_x'] = pd.to_datetime(df_subgroup['date_x'])\n",
    "df_subgroup.set_index('date_x', inplace=True)"
   ]
  },
  {
   "cell_type": "markdown",
   "metadata": {
    "ExecuteTime": {
     "end_time": "2020-07-12T15:26:37.318514Z",
     "start_time": "2020-07-12T15:26:37.316520Z"
    }
   },
   "source": [
    "#### The Plot"
   ]
  },
  {
   "cell_type": "code",
   "execution_count": 97,
   "metadata": {
    "ExecuteTime": {
     "end_time": "2021-05-02T23:19:55.124221Z",
     "start_time": "2021-05-02T23:19:55.086223Z"
    }
   },
   "outputs": [
    {
     "ename": "KeyError",
     "evalue": "'Passing list-likes to .loc or [] with any missing labels is no longer supported, see https://pandas.pydata.org/pandas-docs/stable/user_guide/indexing.html#deprecate-loc-reindex-listlike'",
     "output_type": "error",
     "traceback": [
      "\u001b[1;31m---------------------------------------------------------------------------\u001b[0m",
      "\u001b[1;31mKeyError\u001b[0m                                  Traceback (most recent call last)",
      "\u001b[1;32m<ipython-input-97-ebcab80b5384>\u001b[0m in \u001b[0;36m<module>\u001b[1;34m\u001b[0m\n\u001b[0;32m      3\u001b[0m \u001b[1;33m\u001b[0m\u001b[0m\n\u001b[0;32m      4\u001b[0m df_to_plot = df_subgroup.loc[(df_subgroup['year']==year_filter) & (df_subgroup['high_season']==1)\n\u001b[1;32m----> 5\u001b[1;33m     ,['actual_fill_time', 'svr_predictions', 'gamma_predictions']]\n\u001b[0m\u001b[0;32m      6\u001b[0m \u001b[1;33m\u001b[0m\u001b[0m\n\u001b[0;32m      7\u001b[0m \u001b[0mplt\u001b[0m\u001b[1;33m.\u001b[0m\u001b[0mfigure\u001b[0m\u001b[1;33m(\u001b[0m\u001b[0mfigsize\u001b[0m\u001b[1;33m=\u001b[0m\u001b[1;33m(\u001b[0m\u001b[1;36m15\u001b[0m\u001b[1;33m,\u001b[0m\u001b[1;36m9\u001b[0m\u001b[1;33m)\u001b[0m\u001b[1;33m)\u001b[0m\u001b[1;33m\u001b[0m\u001b[1;33m\u001b[0m\u001b[0m\n",
      "\u001b[1;32m~\\anaconda3\\lib\\site-packages\\pandas\\core\\indexing.py\u001b[0m in \u001b[0;36m__getitem__\u001b[1;34m(self, key)\u001b[0m\n\u001b[0;32m   1760\u001b[0m                 \u001b[1;32mexcept\u001b[0m \u001b[1;33m(\u001b[0m\u001b[0mKeyError\u001b[0m\u001b[1;33m,\u001b[0m \u001b[0mIndexError\u001b[0m\u001b[1;33m,\u001b[0m \u001b[0mAttributeError\u001b[0m\u001b[1;33m)\u001b[0m\u001b[1;33m:\u001b[0m\u001b[1;33m\u001b[0m\u001b[1;33m\u001b[0m\u001b[0m\n\u001b[0;32m   1761\u001b[0m                     \u001b[1;32mpass\u001b[0m\u001b[1;33m\u001b[0m\u001b[1;33m\u001b[0m\u001b[0m\n\u001b[1;32m-> 1762\u001b[1;33m             \u001b[1;32mreturn\u001b[0m \u001b[0mself\u001b[0m\u001b[1;33m.\u001b[0m\u001b[0m_getitem_tuple\u001b[0m\u001b[1;33m(\u001b[0m\u001b[0mkey\u001b[0m\u001b[1;33m)\u001b[0m\u001b[1;33m\u001b[0m\u001b[1;33m\u001b[0m\u001b[0m\n\u001b[0m\u001b[0;32m   1763\u001b[0m         \u001b[1;32melse\u001b[0m\u001b[1;33m:\u001b[0m\u001b[1;33m\u001b[0m\u001b[1;33m\u001b[0m\u001b[0m\n\u001b[0;32m   1764\u001b[0m             \u001b[1;31m# we by definition only have the 0th axis\u001b[0m\u001b[1;33m\u001b[0m\u001b[1;33m\u001b[0m\u001b[1;33m\u001b[0m\u001b[0m\n",
      "\u001b[1;32m~\\anaconda3\\lib\\site-packages\\pandas\\core\\indexing.py\u001b[0m in \u001b[0;36m_getitem_tuple\u001b[1;34m(self, tup)\u001b[0m\n\u001b[0;32m   1287\u001b[0m                 \u001b[1;32mcontinue\u001b[0m\u001b[1;33m\u001b[0m\u001b[1;33m\u001b[0m\u001b[0m\n\u001b[0;32m   1288\u001b[0m \u001b[1;33m\u001b[0m\u001b[0m\n\u001b[1;32m-> 1289\u001b[1;33m             \u001b[0mretval\u001b[0m \u001b[1;33m=\u001b[0m \u001b[0mgetattr\u001b[0m\u001b[1;33m(\u001b[0m\u001b[0mretval\u001b[0m\u001b[1;33m,\u001b[0m \u001b[0mself\u001b[0m\u001b[1;33m.\u001b[0m\u001b[0mname\u001b[0m\u001b[1;33m)\u001b[0m\u001b[1;33m.\u001b[0m\u001b[0m_getitem_axis\u001b[0m\u001b[1;33m(\u001b[0m\u001b[0mkey\u001b[0m\u001b[1;33m,\u001b[0m \u001b[0maxis\u001b[0m\u001b[1;33m=\u001b[0m\u001b[0mi\u001b[0m\u001b[1;33m)\u001b[0m\u001b[1;33m\u001b[0m\u001b[1;33m\u001b[0m\u001b[0m\n\u001b[0m\u001b[0;32m   1290\u001b[0m \u001b[1;33m\u001b[0m\u001b[0m\n\u001b[0;32m   1291\u001b[0m         \u001b[1;32mreturn\u001b[0m \u001b[0mretval\u001b[0m\u001b[1;33m\u001b[0m\u001b[1;33m\u001b[0m\u001b[0m\n",
      "\u001b[1;32m~\\anaconda3\\lib\\site-packages\\pandas\\core\\indexing.py\u001b[0m in \u001b[0;36m_getitem_axis\u001b[1;34m(self, key, axis)\u001b[0m\n\u001b[0;32m   1952\u001b[0m                     \u001b[1;32mraise\u001b[0m \u001b[0mValueError\u001b[0m\u001b[1;33m(\u001b[0m\u001b[1;34m\"Cannot index with multidimensional key\"\u001b[0m\u001b[1;33m)\u001b[0m\u001b[1;33m\u001b[0m\u001b[1;33m\u001b[0m\u001b[0m\n\u001b[0;32m   1953\u001b[0m \u001b[1;33m\u001b[0m\u001b[0m\n\u001b[1;32m-> 1954\u001b[1;33m                 \u001b[1;32mreturn\u001b[0m \u001b[0mself\u001b[0m\u001b[1;33m.\u001b[0m\u001b[0m_getitem_iterable\u001b[0m\u001b[1;33m(\u001b[0m\u001b[0mkey\u001b[0m\u001b[1;33m,\u001b[0m \u001b[0maxis\u001b[0m\u001b[1;33m=\u001b[0m\u001b[0maxis\u001b[0m\u001b[1;33m)\u001b[0m\u001b[1;33m\u001b[0m\u001b[1;33m\u001b[0m\u001b[0m\n\u001b[0m\u001b[0;32m   1955\u001b[0m \u001b[1;33m\u001b[0m\u001b[0m\n\u001b[0;32m   1956\u001b[0m             \u001b[1;31m# nested tuple slicing\u001b[0m\u001b[1;33m\u001b[0m\u001b[1;33m\u001b[0m\u001b[1;33m\u001b[0m\u001b[0m\n",
      "\u001b[1;32m~\\anaconda3\\lib\\site-packages\\pandas\\core\\indexing.py\u001b[0m in \u001b[0;36m_getitem_iterable\u001b[1;34m(self, key, axis)\u001b[0m\n\u001b[0;32m   1593\u001b[0m         \u001b[1;32melse\u001b[0m\u001b[1;33m:\u001b[0m\u001b[1;33m\u001b[0m\u001b[1;33m\u001b[0m\u001b[0m\n\u001b[0;32m   1594\u001b[0m             \u001b[1;31m# A collection of keys\u001b[0m\u001b[1;33m\u001b[0m\u001b[1;33m\u001b[0m\u001b[1;33m\u001b[0m\u001b[0m\n\u001b[1;32m-> 1595\u001b[1;33m             \u001b[0mkeyarr\u001b[0m\u001b[1;33m,\u001b[0m \u001b[0mindexer\u001b[0m \u001b[1;33m=\u001b[0m \u001b[0mself\u001b[0m\u001b[1;33m.\u001b[0m\u001b[0m_get_listlike_indexer\u001b[0m\u001b[1;33m(\u001b[0m\u001b[0mkey\u001b[0m\u001b[1;33m,\u001b[0m \u001b[0maxis\u001b[0m\u001b[1;33m,\u001b[0m \u001b[0mraise_missing\u001b[0m\u001b[1;33m=\u001b[0m\u001b[1;32mFalse\u001b[0m\u001b[1;33m)\u001b[0m\u001b[1;33m\u001b[0m\u001b[1;33m\u001b[0m\u001b[0m\n\u001b[0m\u001b[0;32m   1596\u001b[0m             return self.obj._reindex_with_indexers(\n\u001b[0;32m   1597\u001b[0m                 \u001b[1;33m{\u001b[0m\u001b[0maxis\u001b[0m\u001b[1;33m:\u001b[0m \u001b[1;33m[\u001b[0m\u001b[0mkeyarr\u001b[0m\u001b[1;33m,\u001b[0m \u001b[0mindexer\u001b[0m\u001b[1;33m]\u001b[0m\u001b[1;33m}\u001b[0m\u001b[1;33m,\u001b[0m \u001b[0mcopy\u001b[0m\u001b[1;33m=\u001b[0m\u001b[1;32mTrue\u001b[0m\u001b[1;33m,\u001b[0m \u001b[0mallow_dups\u001b[0m\u001b[1;33m=\u001b[0m\u001b[1;32mTrue\u001b[0m\u001b[1;33m\u001b[0m\u001b[1;33m\u001b[0m\u001b[0m\n",
      "\u001b[1;32m~\\anaconda3\\lib\\site-packages\\pandas\\core\\indexing.py\u001b[0m in \u001b[0;36m_get_listlike_indexer\u001b[1;34m(self, key, axis, raise_missing)\u001b[0m\n\u001b[0;32m   1551\u001b[0m \u001b[1;33m\u001b[0m\u001b[0m\n\u001b[0;32m   1552\u001b[0m         self._validate_read_indexer(\n\u001b[1;32m-> 1553\u001b[1;33m             \u001b[0mkeyarr\u001b[0m\u001b[1;33m,\u001b[0m \u001b[0mindexer\u001b[0m\u001b[1;33m,\u001b[0m \u001b[0mo\u001b[0m\u001b[1;33m.\u001b[0m\u001b[0m_get_axis_number\u001b[0m\u001b[1;33m(\u001b[0m\u001b[0maxis\u001b[0m\u001b[1;33m)\u001b[0m\u001b[1;33m,\u001b[0m \u001b[0mraise_missing\u001b[0m\u001b[1;33m=\u001b[0m\u001b[0mraise_missing\u001b[0m\u001b[1;33m\u001b[0m\u001b[1;33m\u001b[0m\u001b[0m\n\u001b[0m\u001b[0;32m   1554\u001b[0m         )\n\u001b[0;32m   1555\u001b[0m         \u001b[1;32mreturn\u001b[0m \u001b[0mkeyarr\u001b[0m\u001b[1;33m,\u001b[0m \u001b[0mindexer\u001b[0m\u001b[1;33m\u001b[0m\u001b[1;33m\u001b[0m\u001b[0m\n",
      "\u001b[1;32m~\\anaconda3\\lib\\site-packages\\pandas\\core\\indexing.py\u001b[0m in \u001b[0;36m_validate_read_indexer\u001b[1;34m(self, key, indexer, axis, raise_missing)\u001b[0m\n\u001b[0;32m   1653\u001b[0m             \u001b[1;32mif\u001b[0m \u001b[1;32mnot\u001b[0m \u001b[1;33m(\u001b[0m\u001b[0max\u001b[0m\u001b[1;33m.\u001b[0m\u001b[0mis_categorical\u001b[0m\u001b[1;33m(\u001b[0m\u001b[1;33m)\u001b[0m \u001b[1;32mor\u001b[0m \u001b[0max\u001b[0m\u001b[1;33m.\u001b[0m\u001b[0mis_interval\u001b[0m\u001b[1;33m(\u001b[0m\u001b[1;33m)\u001b[0m\u001b[1;33m)\u001b[0m\u001b[1;33m:\u001b[0m\u001b[1;33m\u001b[0m\u001b[1;33m\u001b[0m\u001b[0m\n\u001b[0;32m   1654\u001b[0m                 raise KeyError(\n\u001b[1;32m-> 1655\u001b[1;33m                     \u001b[1;34m\"Passing list-likes to .loc or [] with any missing labels \"\u001b[0m\u001b[1;33m\u001b[0m\u001b[1;33m\u001b[0m\u001b[0m\n\u001b[0m\u001b[0;32m   1656\u001b[0m                     \u001b[1;34m\"is no longer supported, see \"\u001b[0m\u001b[1;33m\u001b[0m\u001b[1;33m\u001b[0m\u001b[0m\n\u001b[0;32m   1657\u001b[0m                     \u001b[1;34m\"https://pandas.pydata.org/pandas-docs/stable/user_guide/indexing.html#deprecate-loc-reindex-listlike\"\u001b[0m  \u001b[1;31m# noqa:E501\u001b[0m\u001b[1;33m\u001b[0m\u001b[1;33m\u001b[0m\u001b[0m\n",
      "\u001b[1;31mKeyError\u001b[0m: 'Passing list-likes to .loc or [] with any missing labels is no longer supported, see https://pandas.pydata.org/pandas-docs/stable/user_guide/indexing.html#deprecate-loc-reindex-listlike'"
     ]
    }
   ],
   "source": [
    "year_filter = 2016\n",
    "cg_filter = cg_select\n",
    "\n",
    "df_to_plot = df_subgroup.loc[(df_subgroup['year']==year_filter) & (df_subgroup['high_season']==1)\n",
    "    ,['actual_fill_time', 'svr_predictions', 'gamma_predictions']]\n",
    "\n",
    "plt.figure(figsize=(15,9))\n",
    "\n",
    "plt.title(f'{cg_filter} Campground: July & August {year_filter} \\nActual and Predicted Fill Times',\n",
    "          fontsize = 16)\n",
    "\n",
    "plt.yticks(range(6,19))\n",
    "plt.ylim(6,18)\n",
    "plt.ylabel('Time of Day (Hours after Midnight)',\n",
    "           fontsize = 14)\n",
    "\n",
    "plt.bar(x = df_to_plot.index, height = df_to_plot['actual_fill_time'],\n",
    "       label = 'Actual Fill Time',\n",
    "       color = 'skyblue')\n",
    "\n",
    "plt.plot(df_to_plot['svr_predictions'],\n",
    "         label = 'Support Vector Regression',\n",
    "         color = 'black')\n",
    "\n",
    "plt.plot(df_to_plot['gamma_predictions'],\n",
    "        label = 'Gamma General Linear Model',\n",
    "        color = 'orange')\n",
    "\n",
    "plt.axhline(df_to_plot['actual_fill_time'].mean(), ls='--',\n",
    "           label = 'Average Fill Time across Dates Shown',\n",
    "           color = 'deepskyblue')\n",
    "plt.legend(fontsize = 12);\n",
    "\n",
    "# plt.plot(df_to_plot['actual_fill_time'],\n",
    "#          label = 'Actual Fill Time',\n",
    "#          color = 'skyblue')"
   ]
  },
  {
   "cell_type": "code",
   "execution_count": 98,
   "metadata": {
    "ExecuteTime": {
     "end_time": "2021-05-02T23:20:01.480549Z",
     "start_time": "2021-05-02T23:20:01.454585Z"
    },
    "scrolled": false
   },
   "outputs": [
    {
     "ename": "KeyError",
     "evalue": "'Passing list-likes to .loc or [] with any missing labels is no longer supported, see https://pandas.pydata.org/pandas-docs/stable/user_guide/indexing.html#deprecate-loc-reindex-listlike'",
     "output_type": "error",
     "traceback": [
      "\u001b[1;31m---------------------------------------------------------------------------\u001b[0m",
      "\u001b[1;31mKeyError\u001b[0m                                  Traceback (most recent call last)",
      "\u001b[1;32m<ipython-input-98-ef013545646f>\u001b[0m in \u001b[0;36m<module>\u001b[1;34m\u001b[0m\n\u001b[0;32m      7\u001b[0m     ,['actual_fill_time',\n\u001b[0;32m      8\u001b[0m       \u001b[1;34m'svr_predictions'\u001b[0m\u001b[1;33m,\u001b[0m\u001b[1;33m\u001b[0m\u001b[1;33m\u001b[0m\u001b[0m\n\u001b[1;32m----> 9\u001b[1;33m       'gamma_predictions']]\n\u001b[0m\u001b[0;32m     10\u001b[0m \u001b[1;33m\u001b[0m\u001b[0m\n\u001b[0;32m     11\u001b[0m \u001b[0mplt\u001b[0m\u001b[1;33m.\u001b[0m\u001b[0mfigure\u001b[0m\u001b[1;33m(\u001b[0m\u001b[0mfigsize\u001b[0m\u001b[1;33m=\u001b[0m\u001b[1;33m(\u001b[0m\u001b[1;36m15\u001b[0m\u001b[1;33m,\u001b[0m\u001b[1;36m9\u001b[0m\u001b[1;33m)\u001b[0m\u001b[1;33m)\u001b[0m\u001b[1;33m\u001b[0m\u001b[1;33m\u001b[0m\u001b[0m\n",
      "\u001b[1;32m~\\anaconda3\\lib\\site-packages\\pandas\\core\\indexing.py\u001b[0m in \u001b[0;36m__getitem__\u001b[1;34m(self, key)\u001b[0m\n\u001b[0;32m   1760\u001b[0m                 \u001b[1;32mexcept\u001b[0m \u001b[1;33m(\u001b[0m\u001b[0mKeyError\u001b[0m\u001b[1;33m,\u001b[0m \u001b[0mIndexError\u001b[0m\u001b[1;33m,\u001b[0m \u001b[0mAttributeError\u001b[0m\u001b[1;33m)\u001b[0m\u001b[1;33m:\u001b[0m\u001b[1;33m\u001b[0m\u001b[1;33m\u001b[0m\u001b[0m\n\u001b[0;32m   1761\u001b[0m                     \u001b[1;32mpass\u001b[0m\u001b[1;33m\u001b[0m\u001b[1;33m\u001b[0m\u001b[0m\n\u001b[1;32m-> 1762\u001b[1;33m             \u001b[1;32mreturn\u001b[0m \u001b[0mself\u001b[0m\u001b[1;33m.\u001b[0m\u001b[0m_getitem_tuple\u001b[0m\u001b[1;33m(\u001b[0m\u001b[0mkey\u001b[0m\u001b[1;33m)\u001b[0m\u001b[1;33m\u001b[0m\u001b[1;33m\u001b[0m\u001b[0m\n\u001b[0m\u001b[0;32m   1763\u001b[0m         \u001b[1;32melse\u001b[0m\u001b[1;33m:\u001b[0m\u001b[1;33m\u001b[0m\u001b[1;33m\u001b[0m\u001b[0m\n\u001b[0;32m   1764\u001b[0m             \u001b[1;31m# we by definition only have the 0th axis\u001b[0m\u001b[1;33m\u001b[0m\u001b[1;33m\u001b[0m\u001b[1;33m\u001b[0m\u001b[0m\n",
      "\u001b[1;32m~\\anaconda3\\lib\\site-packages\\pandas\\core\\indexing.py\u001b[0m in \u001b[0;36m_getitem_tuple\u001b[1;34m(self, tup)\u001b[0m\n\u001b[0;32m   1287\u001b[0m                 \u001b[1;32mcontinue\u001b[0m\u001b[1;33m\u001b[0m\u001b[1;33m\u001b[0m\u001b[0m\n\u001b[0;32m   1288\u001b[0m \u001b[1;33m\u001b[0m\u001b[0m\n\u001b[1;32m-> 1289\u001b[1;33m             \u001b[0mretval\u001b[0m \u001b[1;33m=\u001b[0m \u001b[0mgetattr\u001b[0m\u001b[1;33m(\u001b[0m\u001b[0mretval\u001b[0m\u001b[1;33m,\u001b[0m \u001b[0mself\u001b[0m\u001b[1;33m.\u001b[0m\u001b[0mname\u001b[0m\u001b[1;33m)\u001b[0m\u001b[1;33m.\u001b[0m\u001b[0m_getitem_axis\u001b[0m\u001b[1;33m(\u001b[0m\u001b[0mkey\u001b[0m\u001b[1;33m,\u001b[0m \u001b[0maxis\u001b[0m\u001b[1;33m=\u001b[0m\u001b[0mi\u001b[0m\u001b[1;33m)\u001b[0m\u001b[1;33m\u001b[0m\u001b[1;33m\u001b[0m\u001b[0m\n\u001b[0m\u001b[0;32m   1290\u001b[0m \u001b[1;33m\u001b[0m\u001b[0m\n\u001b[0;32m   1291\u001b[0m         \u001b[1;32mreturn\u001b[0m \u001b[0mretval\u001b[0m\u001b[1;33m\u001b[0m\u001b[1;33m\u001b[0m\u001b[0m\n",
      "\u001b[1;32m~\\anaconda3\\lib\\site-packages\\pandas\\core\\indexing.py\u001b[0m in \u001b[0;36m_getitem_axis\u001b[1;34m(self, key, axis)\u001b[0m\n\u001b[0;32m   1952\u001b[0m                     \u001b[1;32mraise\u001b[0m \u001b[0mValueError\u001b[0m\u001b[1;33m(\u001b[0m\u001b[1;34m\"Cannot index with multidimensional key\"\u001b[0m\u001b[1;33m)\u001b[0m\u001b[1;33m\u001b[0m\u001b[1;33m\u001b[0m\u001b[0m\n\u001b[0;32m   1953\u001b[0m \u001b[1;33m\u001b[0m\u001b[0m\n\u001b[1;32m-> 1954\u001b[1;33m                 \u001b[1;32mreturn\u001b[0m \u001b[0mself\u001b[0m\u001b[1;33m.\u001b[0m\u001b[0m_getitem_iterable\u001b[0m\u001b[1;33m(\u001b[0m\u001b[0mkey\u001b[0m\u001b[1;33m,\u001b[0m \u001b[0maxis\u001b[0m\u001b[1;33m=\u001b[0m\u001b[0maxis\u001b[0m\u001b[1;33m)\u001b[0m\u001b[1;33m\u001b[0m\u001b[1;33m\u001b[0m\u001b[0m\n\u001b[0m\u001b[0;32m   1955\u001b[0m \u001b[1;33m\u001b[0m\u001b[0m\n\u001b[0;32m   1956\u001b[0m             \u001b[1;31m# nested tuple slicing\u001b[0m\u001b[1;33m\u001b[0m\u001b[1;33m\u001b[0m\u001b[1;33m\u001b[0m\u001b[0m\n",
      "\u001b[1;32m~\\anaconda3\\lib\\site-packages\\pandas\\core\\indexing.py\u001b[0m in \u001b[0;36m_getitem_iterable\u001b[1;34m(self, key, axis)\u001b[0m\n\u001b[0;32m   1593\u001b[0m         \u001b[1;32melse\u001b[0m\u001b[1;33m:\u001b[0m\u001b[1;33m\u001b[0m\u001b[1;33m\u001b[0m\u001b[0m\n\u001b[0;32m   1594\u001b[0m             \u001b[1;31m# A collection of keys\u001b[0m\u001b[1;33m\u001b[0m\u001b[1;33m\u001b[0m\u001b[1;33m\u001b[0m\u001b[0m\n\u001b[1;32m-> 1595\u001b[1;33m             \u001b[0mkeyarr\u001b[0m\u001b[1;33m,\u001b[0m \u001b[0mindexer\u001b[0m \u001b[1;33m=\u001b[0m \u001b[0mself\u001b[0m\u001b[1;33m.\u001b[0m\u001b[0m_get_listlike_indexer\u001b[0m\u001b[1;33m(\u001b[0m\u001b[0mkey\u001b[0m\u001b[1;33m,\u001b[0m \u001b[0maxis\u001b[0m\u001b[1;33m,\u001b[0m \u001b[0mraise_missing\u001b[0m\u001b[1;33m=\u001b[0m\u001b[1;32mFalse\u001b[0m\u001b[1;33m)\u001b[0m\u001b[1;33m\u001b[0m\u001b[1;33m\u001b[0m\u001b[0m\n\u001b[0m\u001b[0;32m   1596\u001b[0m             return self.obj._reindex_with_indexers(\n\u001b[0;32m   1597\u001b[0m                 \u001b[1;33m{\u001b[0m\u001b[0maxis\u001b[0m\u001b[1;33m:\u001b[0m \u001b[1;33m[\u001b[0m\u001b[0mkeyarr\u001b[0m\u001b[1;33m,\u001b[0m \u001b[0mindexer\u001b[0m\u001b[1;33m]\u001b[0m\u001b[1;33m}\u001b[0m\u001b[1;33m,\u001b[0m \u001b[0mcopy\u001b[0m\u001b[1;33m=\u001b[0m\u001b[1;32mTrue\u001b[0m\u001b[1;33m,\u001b[0m \u001b[0mallow_dups\u001b[0m\u001b[1;33m=\u001b[0m\u001b[1;32mTrue\u001b[0m\u001b[1;33m\u001b[0m\u001b[1;33m\u001b[0m\u001b[0m\n",
      "\u001b[1;32m~\\anaconda3\\lib\\site-packages\\pandas\\core\\indexing.py\u001b[0m in \u001b[0;36m_get_listlike_indexer\u001b[1;34m(self, key, axis, raise_missing)\u001b[0m\n\u001b[0;32m   1551\u001b[0m \u001b[1;33m\u001b[0m\u001b[0m\n\u001b[0;32m   1552\u001b[0m         self._validate_read_indexer(\n\u001b[1;32m-> 1553\u001b[1;33m             \u001b[0mkeyarr\u001b[0m\u001b[1;33m,\u001b[0m \u001b[0mindexer\u001b[0m\u001b[1;33m,\u001b[0m \u001b[0mo\u001b[0m\u001b[1;33m.\u001b[0m\u001b[0m_get_axis_number\u001b[0m\u001b[1;33m(\u001b[0m\u001b[0maxis\u001b[0m\u001b[1;33m)\u001b[0m\u001b[1;33m,\u001b[0m \u001b[0mraise_missing\u001b[0m\u001b[1;33m=\u001b[0m\u001b[0mraise_missing\u001b[0m\u001b[1;33m\u001b[0m\u001b[1;33m\u001b[0m\u001b[0m\n\u001b[0m\u001b[0;32m   1554\u001b[0m         )\n\u001b[0;32m   1555\u001b[0m         \u001b[1;32mreturn\u001b[0m \u001b[0mkeyarr\u001b[0m\u001b[1;33m,\u001b[0m \u001b[0mindexer\u001b[0m\u001b[1;33m\u001b[0m\u001b[1;33m\u001b[0m\u001b[0m\n",
      "\u001b[1;32m~\\anaconda3\\lib\\site-packages\\pandas\\core\\indexing.py\u001b[0m in \u001b[0;36m_validate_read_indexer\u001b[1;34m(self, key, indexer, axis, raise_missing)\u001b[0m\n\u001b[0;32m   1653\u001b[0m             \u001b[1;32mif\u001b[0m \u001b[1;32mnot\u001b[0m \u001b[1;33m(\u001b[0m\u001b[0max\u001b[0m\u001b[1;33m.\u001b[0m\u001b[0mis_categorical\u001b[0m\u001b[1;33m(\u001b[0m\u001b[1;33m)\u001b[0m \u001b[1;32mor\u001b[0m \u001b[0max\u001b[0m\u001b[1;33m.\u001b[0m\u001b[0mis_interval\u001b[0m\u001b[1;33m(\u001b[0m\u001b[1;33m)\u001b[0m\u001b[1;33m)\u001b[0m\u001b[1;33m:\u001b[0m\u001b[1;33m\u001b[0m\u001b[1;33m\u001b[0m\u001b[0m\n\u001b[0;32m   1654\u001b[0m                 raise KeyError(\n\u001b[1;32m-> 1655\u001b[1;33m                     \u001b[1;34m\"Passing list-likes to .loc or [] with any missing labels \"\u001b[0m\u001b[1;33m\u001b[0m\u001b[1;33m\u001b[0m\u001b[0m\n\u001b[0m\u001b[0;32m   1656\u001b[0m                     \u001b[1;34m\"is no longer supported, see \"\u001b[0m\u001b[1;33m\u001b[0m\u001b[1;33m\u001b[0m\u001b[0m\n\u001b[0;32m   1657\u001b[0m                     \u001b[1;34m\"https://pandas.pydata.org/pandas-docs/stable/user_guide/indexing.html#deprecate-loc-reindex-listlike\"\u001b[0m  \u001b[1;31m# noqa:E501\u001b[0m\u001b[1;33m\u001b[0m\u001b[1;33m\u001b[0m\u001b[0m\n",
      "\u001b[1;31mKeyError\u001b[0m: 'Passing list-likes to .loc or [] with any missing labels is no longer supported, see https://pandas.pydata.org/pandas-docs/stable/user_guide/indexing.html#deprecate-loc-reindex-listlike'"
     ]
    }
   ],
   "source": [
    "year_filter = 2016\n",
    "cg_filter = cg_select\n",
    "\n",
    "df_to_plot = df_subgroup.loc[\n",
    "    (df_subgroup['year']==year_filter)\n",
    "    & (df_subgroup['high_season']==1)\n",
    "    ,['actual_fill_time',\n",
    "      'svr_predictions',\n",
    "      'gamma_predictions']]\n",
    "\n",
    "plt.figure(figsize=(15,9))\n",
    "\n",
    "plt.title(f'{cg_filter} Campground: July & August {year_filter} \\nActual and Predicted Fill Times',\n",
    "          fontsize = 16)\n",
    "\n",
    "plt.yticks(range(6,19))\n",
    "plt.ylim(6,18)\n",
    "plt.ylabel('Time of Day (Hours after Midnight)',\n",
    "           fontsize = 14)\n",
    "\n",
    "plt.bar(x = df_to_plot.index, height = df_to_plot['actual_fill_time'],\n",
    "       label = 'Actual Fill Time',\n",
    "       color = 'skyblue')\n",
    "\n",
    "plt.plot(df_to_plot['svr_predictions'],\n",
    "         label = 'Support Vector Regression',\n",
    "         color = 'black')\n",
    "\n",
    "plt.plot(df_to_plot['gamma_predictions'],\n",
    "        label = 'Gamma General Linear Model',\n",
    "        color = 'orange')\n",
    "\n",
    "plt.axhline(df_to_plot['actual_fill_time'].mean(), ls='--',\n",
    "           label = 'Average Fill Time across Dates Shown',\n",
    "           color = 'deepskyblue')\n",
    "plt.legend(fontsize = 12);\n",
    "\n",
    "# plt.plot(df_to_plot['actual_fill_time'],\n",
    "#          label = 'Actual Fill Time',\n",
    "#          color = 'skyblue')"
   ]
  },
  {
   "cell_type": "code",
   "execution_count": null,
   "metadata": {
    "ExecuteTime": {
     "end_time": "2021-04-28T01:07:30.391161Z",
     "start_time": "2021-04-28T01:07:30.342113Z"
    }
   },
   "outputs": [],
   "source": [
    "df_subgroup"
   ]
  },
  {
   "cell_type": "markdown",
   "metadata": {},
   "source": [
    "### Graphic for AQI at Many Glacier September 2017"
   ]
  },
  {
   "cell_type": "code",
   "execution_count": 99,
   "metadata": {
    "ExecuteTime": {
     "end_time": "2021-05-02T23:20:05.939132Z",
     "start_time": "2021-05-02T23:20:05.799135Z"
    }
   },
   "outputs": [
    {
     "data": {
      "image/png": "[encoded data removed]",
      "text/plain": [
       "<Figure size 864x576 with 1 Axes>"
      ]
     },
     "metadata": {
      "needs_background": "light"
     },
     "output_type": "display_data"
    }
   ],
   "source": [
    "extract_to_plot = df.loc[(df['cg_name']=='Many Glacier')\n",
    "                         & (df['month_num']==9)\n",
    "                         & (df['year']==2017)\n",
    "                         & (df['day_of_month']<15)].set_index('day_of_month')['aqi']\n",
    "plt.figure(figsize=(12,8))\n",
    "\n",
    "\n",
    "plt.plot(extract_to_plot,\n",
    "        color = 'black',\n",
    "        lw = 4)\n",
    "\n",
    "plt.xlabel('Day of Month in September 2017',fontsize=16)\n",
    "plt.ylabel('Daily Air Quality Level',fontsize=16)\n",
    "plt.title('Air Quality Index Levels in Flathead County',fontsize=20)\n",
    "\n",
    "plt.axhspan(0,50,color='green',)\n",
    "plt.axhspan(50,100,color='yellow')\n",
    "plt.axhspan(100,150,color='orange')\n",
    "plt.axhspan(150,200,color='red')\n",
    "plt.axhspan(200,300,color='purple')\n",
    "\n",
    "plt.xticks(np.arange(1,15,1))\n",
    "plt.yticks(np.arange(0,325,25));\n"
   ]
  },
  {
   "cell_type": "markdown",
   "metadata": {},
   "source": [
    "### Graphic for Annual Visitors vs Fill Days"
   ]
  },
  {
   "cell_type": "code",
   "execution_count": 100,
   "metadata": {
    "ExecuteTime": {
     "end_time": "2021-05-02T23:20:07.040229Z",
     "start_time": "2021-05-02T23:20:06.815232Z"
    }
   },
   "outputs": [
    {
     "data": {
      "image/png": "[encoded data removed]",
      "text/plain": [
       "<Figure size 1080x648 with 2 Axes>"
      ]
     },
     "metadata": {
      "needs_background": "light"
     },
     "output_type": "display_data"
    }
   ],
   "source": [
    "yearly_visits = df.loc[(df['cg_name']=='Apgar') & (df['day_of_month']==1)].groupby('year')['visits'].sum()\n",
    "yearly_fills = df.groupby('year')['did_fill'].mean()\n",
    "the_corr = np.round(np.corrcoef(yearly_visits,yearly_fills)[0][1],2)\n",
    "\n",
    "fig_dims = (15,9)\n",
    "fig, ax1 = plt.subplots(figsize = fig_dims)\n",
    "\n",
    "ax2 = ax1.twinx()\n",
    "ax2.plot(yearly_visits,color = 'red')\n",
    "ax1.plot(yearly_fills)\n",
    "\n",
    "ax2.set_yticks(range(0,3_000_001,300_000))\n",
    "ax1.set_yticks(np.round([0.1*i for i in range(0,11)],2))\n",
    "\n",
    "ax2.set_ylabel('Total GNP Annual Visitors (Millions)',fontsize = 14,color = 'red')\n",
    "ax1.set_ylabel('Total GNP Campground Fills / Total GNP Available Campground Days',fontsize = 14,color='blue')\n",
    "ax1.set_xticks(range(2000,2020))\n",
    "\n",
    "plt.grid()\n",
    "ax1.set_facecolor(color = 'whitesmoke')\n",
    "\n",
    "plt.title(f'Campground Demand vs Visitors in Glacier National Park \\n Correlation of {the_corr} from 2000 to 2019',fontsize = 24);\n"
   ]
  },
  {
   "cell_type": "markdown",
   "metadata": {
    "ExecuteTime": {
     "end_time": "2020-06-07T15:55:07.554004Z",
     "start_time": "2020-06-07T15:55:07.551043Z"
    }
   },
   "source": [
    "### Graphic for Fill Time Distribution"
   ]
  },
  {
   "cell_type": "code",
   "execution_count": 113,
   "metadata": {
    "ExecuteTime": {
     "end_time": "2021-05-02T23:22:46.112774Z",
     "start_time": "2021-05-02T23:22:45.833419Z"
    }
   },
   "outputs": [
    {
     "data": {
      "image/png": "[encoded data removed]",
      "text/plain": [
       "<Figure size 1080x648 with 2 Axes>"
      ]
     },
     "metadata": {
      "needs_background": "light"
     },
     "output_type": "display_data"
    }
   ],
   "source": [
    "series_to_plot = df_regress['hours_after_midnight']\n",
    "\n",
    "fig_dims = (15,9)\n",
    "\n",
    "\n",
    "fig,ax = plt.subplots(1,2,\n",
    "                     figsize = fig_dims)\n",
    "\n",
    "fig.suptitle(\"Distribution of Fill Times\",fontsize = 25)\n",
    "\n",
    "sns.distplot(series_to_plot, ax = ax[0])\n",
    "sns.distplot(np.log(series_to_plot), ax = ax[1])\n",
    "\n",
    "ax[0].set_ylabel('Unit Space',fontsize = 16)\n",
    "ax[1].set_ylabel('Log Space',fontsize = 16)\n",
    "ax[0].set_xlabel('Hours after Midnight')\n",
    "ax[1].set_xlabel('Log of Hours after Midnight');"
   ]
  },
  {
   "cell_type": "markdown",
   "metadata": {},
   "source": [
    "### Air Quality Plot to Identify Prominent Fires"
   ]
  },
  {
   "cell_type": "code",
   "execution_count": null,
   "metadata": {
    "ExecuteTime": {
     "end_time": "2021-05-01T23:25:06.530466Z",
     "start_time": "2021-05-01T23:25:06.511431Z"
    }
   },
   "outputs": [],
   "source": [
    "daily_air_quality"
   ]
  },
  {
   "cell_type": "code",
   "execution_count": null,
   "metadata": {
    "ExecuteTime": {
     "end_time": "2021-05-01T23:35:42.377878Z",
     "start_time": "2021-05-01T23:35:42.363844Z"
    }
   },
   "outputs": [],
   "source": [
    "daily_air_quality.index.year"
   ]
  },
  {
   "cell_type": "code",
   "execution_count": null,
   "metadata": {
    "ExecuteTime": {
     "end_time": "2021-05-01T23:43:30.873848Z",
     "start_time": "2021-05-01T23:43:30.864850Z"
    }
   },
   "outputs": [],
   "source": [
    "daily_air_quality"
   ]
  },
  {
   "cell_type": "code",
   "execution_count": null,
   "metadata": {
    "ExecuteTime": {
     "end_time": "2021-05-01T23:43:51.118297Z",
     "start_time": "2021-05-01T23:43:51.092299Z"
    }
   },
   "outputs": [],
   "source": [
    "daily_air_quality.resample('W').max()"
   ]
  },
  {
   "cell_type": "code",
   "execution_count": null,
   "metadata": {
    "ExecuteTime": {
     "end_time": "2021-05-01T23:42:59.573868Z",
     "start_time": "2021-05-01T23:42:59.422892Z"
    }
   },
   "outputs": [],
   "source": [
    "daily_air_quality = df.loc[(df['cg_name']=='Apgar') & (df['year']==2017),['date_x','aqi']]\n",
    "\n",
    "daily_air_quality['date_x']=pd.to_datetime(daily_air_quality['date_x'])\n",
    "\n",
    "daily_air_quality.set_index('date_x',inplace=True)\n",
    "\n",
    "plt.figure(figsize=(16,12))\n",
    "\n",
    "plt.axhspan(0,50,color='green',)\n",
    "plt.axhspan(50,100,color='yellow')\n",
    "plt.axhspan(100,150,color='orange')\n",
    "plt.axhspan(150,200,color='red')\n",
    "plt.axhspan(200,300,color='purple')\n",
    "\n",
    "\n",
    "\n",
    "# daily_air_quality.set_index('Month',inplace=True)\n",
    "\n",
    "# plt.xticks(np.arange(2000,2020))\n",
    "\n",
    "plt.plot(daily_air_quality.resample('W').max());"
   ]
  },
  {
   "cell_type": "code",
   "execution_count": null,
   "metadata": {},
   "outputs": [],
   "source": []
  }
 ],
 "metadata": {
  "kernelspec": {
   "display_name": "Python 3",
   "language": "python",
   "name": "python3"
  },
  "language_info": {
   "codemirror_mode": {
    "name": "ipython",
    "version": 3
   },
   "file_extension": ".py",
   "mimetype": "text/x-python",
   "name": "python",
   "nbconvert_exporter": "python",
   "pygments_lexer": "ipython3",
   "version": "3.7.6"
  },
  "toc": {
   "base_numbering": 1,
   "nav_menu": {},
   "number_sections": true,
   "sideBar": true,
   "skip_h1_title": false,
   "title_cell": "Table of Contents",
   "title_sidebar": "Contents",
   "toc_cell": false,
   "toc_position": {},
   "toc_section_display": true,
   "toc_window_display": false
  }
 },
 "nbformat": 4,
 "nbformat_minor": 4
}
